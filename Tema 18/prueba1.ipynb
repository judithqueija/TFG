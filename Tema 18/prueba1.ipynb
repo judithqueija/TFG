{
 "cells": [
  {
   "cell_type": "code",
   "execution_count": 1,
   "metadata": {},
   "outputs": [],
   "source": [
    "from ipywidgets import widgets, interactive\n",
    "from math import pi, log10\n",
    "from ipynb.fs.full.abaco_de_moody import abaco_de_moody"
   ]
  },
  {
   "cell_type": "code",
   "execution_count": 2,
   "metadata": {},
   "outputs": [],
   "source": [
    "def Q(Q):\n",
    "    return Q\n",
    "def L(L):\n",
    "    return L\n",
    "def D(D):\n",
    "    return D\n",
    "def s(s):\n",
    "    return s"
   ]
  },
  {
   "cell_type": "code",
   "execution_count": 3,
   "metadata": {},
   "outputs": [
    {
     "name": "stdout",
     "output_type": "stream",
     "text": [
      "Ingresa el caudal que circula por la tubería [m3/s]: \n"
     ]
    },
    {
     "data": {
      "application/vnd.jupyter.widget-view+json": {
       "model_id": "2fb1f4bb0656406298d52434f968ebe6",
       "version_major": 2,
       "version_minor": 0
      },
      "text/plain": [
       "interactive(children=(FloatText(value=0.0, description='Q', step=0.01), Output()), _dom_classes=('widget-inter…"
      ]
     },
     "metadata": {},
     "output_type": "display_data"
    },
    {
     "name": "stdout",
     "output_type": "stream",
     "text": [
      "Ingresa la longitud de la tubería [m]: \n"
     ]
    },
    {
     "data": {
      "application/vnd.jupyter.widget-view+json": {
       "model_id": "7e1891c620204be6af35850cac045eac",
       "version_major": 2,
       "version_minor": 0
      },
      "text/plain": [
       "interactive(children=(FloatText(value=0.0, description='L', step=1.0), Output()), _dom_classes=('widget-intera…"
      ]
     },
     "metadata": {},
     "output_type": "display_data"
    },
    {
     "name": "stdout",
     "output_type": "stream",
     "text": [
      "Ingresa el diámetro de la tubería [m]: \n"
     ]
    },
    {
     "data": {
      "application/vnd.jupyter.widget-view+json": {
       "model_id": "800e938b2f1841378a437a634491a2dc",
       "version_major": 2,
       "version_minor": 0
      },
      "text/plain": [
       "interactive(children=(FloatText(value=0.0, description='D', step=0.01), Output()), _dom_classes=('widget-inter…"
      ]
     },
     "metadata": {},
     "output_type": "display_data"
    },
    {
     "name": "stdout",
     "output_type": "stream",
     "text": [
      "Ingresa el peso específico relativo del fluido: \n"
     ]
    },
    {
     "data": {
      "application/vnd.jupyter.widget-view+json": {
       "model_id": "84f79ef01bf74415b3f2bd2445d3006f",
       "version_major": 2,
       "version_minor": 0
      },
      "text/plain": [
       "interactive(children=(FloatText(value=0.0, description='s', step=0.001), Output()), _dom_classes=('widget-inte…"
      ]
     },
     "metadata": {},
     "output_type": "display_data"
    }
   ],
   "source": [
    "#Pedimos al usuario que ingrese los datos del problema\n",
    "\n",
    "print(\"Ingresa el caudal que circula por la tubería [m3/s]: \")\n",
    "Q= interactive(Q, Q=widgets.FloatText(min=-10, max=100, step=0.01, value=0));\n",
    "display(Q)\n",
    "\n",
    "print(\"Ingresa la longitud de la tubería [m]: \")\n",
    "L= interactive(L, L=widgets.FloatText(min=-10, max=100, step=1, value=0));\n",
    "display(L)\n",
    "\n",
    "print(\"Ingresa el diámetro de la tubería [m]: \")\n",
    "D= interactive(D, D=widgets.FloatText(min=-10, max=100, step=0.01, value=0));\n",
    "display(D)\n",
    "\n",
    "print(\"Ingresa el peso específico relativo del fluido: \")\n",
    "s= interactive(s, s=widgets.FloatText(min=-10, max=100, step=0.001, value=0));\n",
    "display(s)\n",
    "\n",
    "#Constantes\n",
    "\n",
    "g=9.8"
   ]
  },
  {
   "cell_type": "code",
   "execution_count": 4,
   "metadata": {},
   "outputs": [
    {
     "name": "stdout",
     "output_type": "stream",
     "text": [
      "Caudal:  0.012 [m3/s]\n",
      "Longitud:  100.0 [m]\n",
      "Diametro:  0.1 [m]\n",
      "Peso específico:  1.547\n"
     ]
    }
   ],
   "source": [
    "print(\"Caudal: \", Q.result ,\"[m3/s]\")\n",
    "print(\"Longitud: \", L.result ,\"[m]\")\n",
    "print(\"Diametro: \", D.result ,\"[m]\")\n",
    "print(\"Peso específico: \", s.result)"
   ]
  },
  {
   "cell_type": "code",
   "execution_count": 5,
   "metadata": {},
   "outputs": [
    {
     "name": "stdout",
     "output_type": "stream",
     "text": [
      "El área es 0.007853981633974483 m2\n",
      "La velocidad es 1.5278874536821951 m/s\n"
     ]
    }
   ],
   "source": [
    "#Calculamos la velocidad en la tubería horizontal\n",
    "\n",
    "A= pi * (D.result**2 /4)\n",
    "v= Q.result/A  \n",
    "print(\"El área es\", A ,\"m2\")\n",
    "print(\"La velocidad es\", v , \"m/s\")"
   ]
  },
  {
   "cell_type": "code",
   "execution_count": 25,
   "metadata": {},
   "outputs": [
    {
     "name": "stdout",
     "output_type": "stream",
     "text": [
      "Ingresa la viscosidad cinemática característica del fluido [m2/s]: 0.00019\n",
      "Ingresa la rugosidad de la tubería [cm]: 0.00015\n",
      "\n",
      "Se obtiene una rugosidad relativa de 1.4999999999999999e-05\n",
      "Sustituyendo en la expresión se calcula el Reynolds, Re= 1005.189114264602\n",
      "\n",
      "Como Re<2000 es un flujo laminar y no depende de la rugosidad de la tubería.\n",
      "Según la expresión de Hagen-Poiseuille se obtiene f= 0.06366961111275315\n"
     ]
    }
   ],
   "source": [
    "#Pedimos al usuario que ingrese la viscosidad cinemática del fluido y la rugosidad de la tubería.\n",
    "\n",
    "viscosidad_cinematica= float(input(\"Ingresa la viscosidad cinemática característica del fluido [m2/s]: \"))\n",
    "rugosidad= float(input(\"Ingresa la rugosidad de la tubería [cm]: \"))\n",
    "print()\n",
    "\n",
    "#Una vez el usuario ingrese la rugosidad, se calcula la rugosidad relativa que servirá para obtener el coeficiente de fricción f.\n",
    "\n",
    "rugosidad_relativa= rugosidad/(D.result*100)\n",
    "print(\"Se obtiene una rugosidad relativa de\",rugosidad_relativa)\n",
    "\n",
    "#Se calcula Reynolds\n",
    "\n",
    "Re= (v*D.result)/viscosidad_cinematica\n",
    "print(\"Sustituyendo en la expresión se calcula el Reynolds, Re=\",Re)\n",
    "print()\n",
    "\n",
    "#Ábaco de Moody. Se obtiene el coeficiente de fricción f. \n",
    "\n",
    "f= abaco_de_moody(Re, rugosidad_relativa)"
   ]
  },
  {
   "cell_type": "code",
   "execution_count": 17,
   "metadata": {},
   "outputs": [
    {
     "name": "stdout",
     "output_type": "stream",
     "text": [
      "Las pérdidas de carga son de 4.739569244075381 mcl\n",
      "La potencia consumida es de 862.2565617807506 W\n"
     ]
    }
   ],
   "source": [
    "hf= f*(L.result/D.result)*((v**2)/(2*g))\n",
    "print(\"Las pérdidas de carga son de\", hf, \"mcl\")\n",
    "\n",
    "pot= hf*Q.result*s.result*9800\n",
    "print(\"La potencia consumida es de\",pot, \"W\")"
   ]
  },
  {
   "cell_type": "code",
   "execution_count": 18,
   "metadata": {},
   "outputs": [
    {
     "name": "stdout",
     "output_type": "stream",
     "text": [
      "RESULTADO: 862.2565617807506 W\n"
     ]
    }
   ],
   "source": [
    "print(\"RESULTADO:\", pot, \"W\")"
   ]
  },
  {
   "cell_type": "code",
   "execution_count": 19,
   "metadata": {},
   "outputs": [],
   "source": [
    "# importar el módulo pyplot\n",
    "\n",
    "import matplotlib.pyplot as plt"
   ]
  },
  {
   "cell_type": "code",
   "execution_count": 21,
   "metadata": {},
   "outputs": [
    {
     "name": "stdout",
     "output_type": "stream",
     "text": [
      "Potencia consumida: [862.2565617807506, 1580.8036965980425, 2299.3508314153346, 3017.897966232627, 3736.4451010499197, 4454.992235867211, 5173.539370684505]\n",
      "\n",
      "Caudal que circula por la tubería: [0.012, 0.022, 0.032, 0.042, 0.052000000000000005, 0.062000000000000006, 0.07200000000000001]\n"
     ]
    }
   ],
   "source": [
    "#Declaración de una lista vacía\n",
    "q= Q.result\n",
    "pot= [pot]\n",
    "caudal=[q]\n",
    "\n",
    "#Bucle For para rellenar una lista con un determinado número de elementos\n",
    "for elemento in range(6):\n",
    "\n",
    "    q= q + 0.01\n",
    "    caudal_valor= q\n",
    "    potencia= hf*q*s.result*9800\n",
    "    \n",
    "    pot.append(potencia)\n",
    "    \n",
    "    caudal.append(caudal_valor)\n",
    "\n",
    "print(\"Potencia consumida:\", pot)\n",
    "print()\n",
    "print(\"Caudal que circula por la tubería:\", caudal)"
   ]
  },
  {
   "cell_type": "code",
   "execution_count": 22,
   "metadata": {},
   "outputs": [
    {
     "data": {
      "image/png": "[encoded data removed]",
      "text/plain": [
       "<Figure size 1080x720 with 1 Axes>"
      ]
     },
     "metadata": {
      "needs_background": "light"
     },
     "output_type": "display_data"
    }
   ],
   "source": [
    "plt.plot(caudal, pot, 'o-') #pinta 10 puntos como o y los une con una linea continua \n",
    "\n",
    "#Personalización del gráfico\n",
    "plt.xlabel(\"Caudal, Q(m3/s)\") #etiqueta horizontal, del eje x\n",
    "plt.ylabel(\"Potencia, W\") #etiqueta vertical, del eje y \n",
    "plt.title(\"Potencia consumida en pérdidas de carga\") #Título del gráfico\n",
    "plt.rcParams['figure.figsize'] = [15, 10]  #tamaño del grafico en pulgadas, [width, height]\n",
    "\n",
    "\n",
    "plt.show() #muestra el gráfico"
   ]
  },
  {
   "cell_type": "code",
   "execution_count": null,
   "metadata": {},
   "outputs": [],
   "source": []
  }
 ],
 "metadata": {
  "kernelspec": {
   "display_name": "Python 3",
   "language": "python",
   "name": "python3"
  },
  "language_info": {
   "codemirror_mode": {
    "name": "ipython",
    "version": 3
   },
   "file_extension": ".py",
   "mimetype": "text/x-python",
   "name": "python",
   "nbconvert_exporter": "python",
   "pygments_lexer": "ipython3",
   "version": "3.8.3"
  }
 },
 "nbformat": 4,
 "nbformat_minor": 4
}

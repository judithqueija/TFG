{
 "cells": [
  {
   "cell_type": "markdown",
   "metadata": {},
   "source": [
    "<div style=\"background-color:#282423; text-align:center; vertical-align: middle; padding:10px 40px;\">\n",
    "    <div align=\"left\" style=\"font-size:1em; color:#8c8c8c;font-family:didot;\">Pérdidas de carga en flujos internos</div>\n",
    "<!-- 1em son 16px -->\n",
    "    <div align=\"right\" style=\"font-size:1em; color:#8c8c8c;font-family:didot;\" >Bloque 5</div>\n",
    "    <br/>\n",
    "    <br/>\n",
    "    <br/>\n",
    "    <h1 style=\"margin: 10px;color:white;font-family:didot;\">UTILIZACIÓN DEL ÁBACO DE MOODY</h1>\n",
    "    <hr>\n",
    "    <h1 style=\"margin: 10px;color:white;font-family:didot;\">TIPOS DE PROBLEMAS</h1>\n",
    "    <h1 style=\"margin: 10px;color:#BFAE5F;font-family:didot;\"><em>~ Tipo I, Tipo II-A y Tipo II-B ~</em></h1>\n",
    "    <br/>\n",
    "\n",
    "</div>\n",
    "<br/>\n",
    "<div style=\"background-color:#EAEAE9;padding:10px 40px;text-align:center; vertical-align: middle;font-family:didot;\">\n",
    "    <h1><b style=\"font-size: 17px;\">Ejercicio 5 del 22 de Mayo de 2017</b></h1>\n",
    "    <hr>\n",
    "<p style=\"font-size: 15px;text-align: justify;\">La instalación de la figura, formada por tuberías de hierro galvanizado, se emplea para rociar sobre cultivos un fertilizante agrícola (s=1,32) de viscosidad cinemática 1,52∙10-6 m2/s, mediante los dos chorros de la figura. Las presiones de succión y descarga de la bomba son $P_{_{3}}$=1,2 kg/cm2 y $P_{_{4}}$=7,3 kg/cm2 respectivamente, mientras que su potencia bruta es de 3,28 kW y su eficiencia del 84%. Las pérdidas menores son despreciables excepto aquellas producidas por la válvula (k=1,2) y el codo (k=0,75) situadas en la tubería 4, y las producidas en las boquillas (k=0,25) de 12 mm de diámetro instaladas en las tuberías 5 y 6. Las cotas indicadas en la figura vienen dadas en m. Teniendo en cuenta la información de la figura y los datos proporcionados, se pide, mediante Darcy-Weisbach:</p>\n",
    "    \n",
    "<p style=\"font-size: 15px;\"> a) Calcular la altura manométrica de la bomba (m.c.l.) y el caudal circulante Q3 (l/s) en la tubería 3. <br>\n",
    "b) Calcular el Bernoulli en el nudo N1 (m.c.l.).  <br>\n",
    "c) Calcular el caudal circulante $Q_{_{5}}$ (l/s) en la tubería 5. <br> \n",
    "d) Calcular el caudal circulante $Q_{_{6}}$ (l/s) en la tubería 6 y su longitud $L_{_{6}}$ (m).  <br>\n",
    "e) Si el Bernoulli del nudo N2 es de 13 m.c.l., calcular los caudales $Q_{_{1}}$ y $Q_{_{2}}$ correspondientes a las tuberías 1 y 2.  </p><br>\n",
    "\n",
    "<table>\n",
    "  <tr>\n",
    "    <th></th>\n",
    "    <th style=\"text-align:center;\">Tubería 1</th>\n",
    "    <th style=\"text-align:center;\">Tubería 2</th>\n",
    "    <th style=\"text-align:center;\">Tubería 3</th>\n",
    "    <th style=\"text-align:center;\">Tubería 4</th>\n",
    "    <th style=\"text-align:center;\">Tubería 5</th>\n",
    "    <th style=\"text-align:center;\">Tubería 6</th>\n",
    "  </tr>\n",
    "  <tr>\n",
    "    <th style=\"text-align:center;\">L(m)</th>\n",
    "    <td style=\"text-align:center;\">?</td>\n",
    "    <td style=\"text-align:center;\">50</td>\n",
    "    <td style=\"text-align:center;\">?</td>\n",
    "    <td style=\"text-align:center;\">15</td>\n",
    "    <td style=\"text-align:center;\">0.75</td>\n",
    "    <td style=\"text-align:center;\">?</td>\n",
    "  </tr>\n",
    "  <tr>\n",
    "    <th style=\"text-align:center;\">D(mm)</th>\n",
    "    <td style=\"text-align:center;\">60</td>\n",
    "    <td style=\"text-align:center;\">60</td>\n",
    "    <td style=\"text-align:center;\">40</td>\n",
    "    <td style=\"text-align:center;\">40</td>\n",
    "    <td style=\"text-align:center;\">40</td>\n",
    "    <td style=\"text-align:center;\">20</td>\n",
    "  </tr>\n",
    "</table>\n",
    "<br>\n",
    "<img src=\"../img/mayo_2017.png\" style=\"height:300px\">\n",
    "<br>\n",
    "</div>"
   ]
  },
  {
   "cell_type": "markdown",
   "metadata": {},
   "source": [
    "<div style=\"background-color:#EAEAE9;padding:10px 40px;text-align:center; vertical-align: middle;font-family:didot;\">\n",
    "    <h1><b style=\"font-size: 18px;\">Resolución del problema</b></h1>\n",
    "<br>\n",
    "<hr>  \n",
    "<p style=\"font-size: 15px;text-align: justify;\"><b>a) Calcular la altura manométrica de la bomba (m.c.l.) y el caudal circulante $Q_{_{3}}$ (l/s) en la tubería 3.</b></p>\n",
    "\n",
    "<p style=\"font-size: 15px;text-align: justify;\">Conocemos la presión de entrada y de salida de la bomba. Aplicamos Bernoulli entre la entrada y salida.</p>\n",
    "    \n",
    "<p style=\"font-size: 15px;text-align: justify;\">\n",
    "\\begin{equation}\n",
    "    B_{_{3}} - H_{m} = B_{_{4}} \\rightarrow H_{m}= B_{_{4}} - B_{_{3}}\\\\\n",
    "    H_{m}= \\left( \\frac{P_{_{4}}}{\\gamma} + z_{_{4}} + \\frac{{v_{_4}}{^{^2}}}{2 \\cdot g} \\right) - \\left( \\frac{P_{_{3}}}{\\gamma} + z_{_{3}} + \\frac{{v_{_3}}{^{^2}}}{2 \\cdot g} \\right)\n",
    "\\end{equation}</p>\n",
    "    \n",
    "<p style=\"font-size: 15px;text-align: justify;\">El diámetro y el caudal de las tuberías 3 y 4 son iguales, por lo tanto las velocidades 3 y 4 son iguales. </p>\n",
    "    \n",
    "</div>"
   ]
  },
  {
   "cell_type": "code",
   "execution_count": null,
   "metadata": {},
   "outputs": [],
   "source": [
    "pip install -r requirements.txt"
   ]
  },
  {
   "cell_type": "code",
   "execution_count": 1,
   "metadata": {},
   "outputs": [],
   "source": [
    "#Antes que nada, se deben importar los módulos necesarios para usarlos al resolver los problemas. \n",
    "#Son unos ficheros que guardan definiciones y declaraciones de Python.\n",
    "\n",
    "from math import pi, log10, sqrt\n",
    "from ipynb.fs.full.abaco_de_moody import abaco_de_moody\n",
    "from ipywidgets import widgets, interactive\n",
    "from ipynb.fs.full.funciones_variables import s, z_A, B_N2, p_4, z_4, p_3, z_3, z_5, z_6, Pot_bruta, Eficiencia, K_codo, K_valvula, K_boquilla, rugosidad, D_1, D_2, D_3, D_4, D_5, D_6, D_boquilla, L_2, L_4, L_5 \n",
    "\n",
    "#Crea una lista de los módulos instalados --> help(\"modules\")\n",
    "#Esta función crea una lista de las funciones o variables del módulo --> dir(math)"
   ]
  },
  {
   "cell_type": "code",
   "execution_count": 2,
   "metadata": {
    "scrolled": false
   },
   "outputs": [
    {
     "name": "stdout",
     "output_type": "stream",
     "text": [
      "Ingresa la densidad relativa del fluido: \n"
     ]
    },
    {
     "data": {
      "application/vnd.jupyter.widget-view+json": {
       "model_id": "43ecea201b1845eeafa8de9209276c1b",
       "version_major": 2,
       "version_minor": 0
      },
      "text/plain": [
       "interactive(children=(FloatText(value=0.0, description='s', step=0.01), Output()), _dom_classes=('widget-inter…"
      ]
     },
     "metadata": {},
     "output_type": "display_data"
    },
    {
     "name": "stdout",
     "output_type": "stream",
     "text": [
      "Ingresa la cota del depósito A: \n"
     ]
    },
    {
     "data": {
      "application/vnd.jupyter.widget-view+json": {
       "model_id": "48a21d37041e4b538d490771c9ea9d85",
       "version_major": 2,
       "version_minor": 0
      },
      "text/plain": [
       "interactive(children=(FloatText(value=0.0, description='z_A', step=0.1), Output()), _dom_classes=('widget-inte…"
      ]
     },
     "metadata": {},
     "output_type": "display_data"
    },
    {
     "name": "stdout",
     "output_type": "stream",
     "text": [
      "Ingresa el Bernoulli en el nudo N2 [m.c.l.]: \n"
     ]
    },
    {
     "data": {
      "application/vnd.jupyter.widget-view+json": {
       "model_id": "96c995760e1c4c588944a873293e5a62",
       "version_major": 2,
       "version_minor": 0
      },
      "text/plain": [
       "interactive(children=(FloatText(value=0.0, description='B_N2', step=0.1), Output()), _dom_classes=('widget-int…"
      ]
     },
     "metadata": {},
     "output_type": "display_data"
    },
    {
     "name": "stdout",
     "output_type": "stream",
     "text": [
      "Ingresa la presión en la entrada de la bomba [kg/cm2]: \n"
     ]
    },
    {
     "data": {
      "application/vnd.jupyter.widget-view+json": {
       "model_id": "8e65d1f54b284482b68e0e6c7e9811cf",
       "version_major": 2,
       "version_minor": 0
      },
      "text/plain": [
       "interactive(children=(FloatText(value=0.0, description='p_4', step=0.1), Output()), _dom_classes=('widget-inte…"
      ]
     },
     "metadata": {},
     "output_type": "display_data"
    },
    {
     "name": "stdout",
     "output_type": "stream",
     "text": [
      "Ingresa la cota de la entrada de la bomba: \n"
     ]
    },
    {
     "data": {
      "application/vnd.jupyter.widget-view+json": {
       "model_id": "854711aa1bcd4ed3ac04553a9e1d92ce",
       "version_major": 2,
       "version_minor": 0
      },
      "text/plain": [
       "interactive(children=(FloatText(value=0.0, description='z_4', step=1.0), Output()), _dom_classes=('widget-inte…"
      ]
     },
     "metadata": {},
     "output_type": "display_data"
    },
    {
     "name": "stdout",
     "output_type": "stream",
     "text": [
      "Ingresa la presión en la salida de la bomba [kg/cm2]: \n"
     ]
    },
    {
     "data": {
      "application/vnd.jupyter.widget-view+json": {
       "model_id": "966894dbbea04689b28563f188be455b",
       "version_major": 2,
       "version_minor": 0
      },
      "text/plain": [
       "interactive(children=(FloatText(value=0.0, description='p_3', step=0.1), Output()), _dom_classes=('widget-inte…"
      ]
     },
     "metadata": {},
     "output_type": "display_data"
    },
    {
     "name": "stdout",
     "output_type": "stream",
     "text": [
      "Ingresa la cota de la salida de la bomba: \n"
     ]
    },
    {
     "data": {
      "application/vnd.jupyter.widget-view+json": {
       "model_id": "914e88f4db6b4b0fb359388a3950459c",
       "version_major": 2,
       "version_minor": 0
      },
      "text/plain": [
       "interactive(children=(FloatText(value=0.0, description='z_3', step=1.0), Output()), _dom_classes=('widget-inte…"
      ]
     },
     "metadata": {},
     "output_type": "display_data"
    },
    {
     "name": "stdout",
     "output_type": "stream",
     "text": [
      "Ingresa la cota de 5: \n"
     ]
    },
    {
     "data": {
      "application/vnd.jupyter.widget-view+json": {
       "model_id": "1a2ba3a747904557b099fbda308eb704",
       "version_major": 2,
       "version_minor": 0
      },
      "text/plain": [
       "interactive(children=(FloatText(value=0.0, description='z_5', step=1.0), Output()), _dom_classes=('widget-inte…"
      ]
     },
     "metadata": {},
     "output_type": "display_data"
    },
    {
     "name": "stdout",
     "output_type": "stream",
     "text": [
      "Ingresa la cota de 6: \n"
     ]
    },
    {
     "data": {
      "application/vnd.jupyter.widget-view+json": {
       "model_id": "7d56a1ba0e9846d9a9f3f14149718f16",
       "version_major": 2,
       "version_minor": 0
      },
      "text/plain": [
       "interactive(children=(FloatText(value=0.0, description='z_6', step=1.0), Output()), _dom_classes=('widget-inte…"
      ]
     },
     "metadata": {},
     "output_type": "display_data"
    },
    {
     "name": "stdout",
     "output_type": "stream",
     "text": [
      "Ingresa la potencia bruta de la bomba [kW]: \n"
     ]
    },
    {
     "data": {
      "application/vnd.jupyter.widget-view+json": {
       "model_id": "bae3228132a846608ed9c7df6a3209b4",
       "version_major": 2,
       "version_minor": 0
      },
      "text/plain": [
       "interactive(children=(FloatText(value=0.0, description='Pot_bruta', step=0.01), Output()), _dom_classes=('widg…"
      ]
     },
     "metadata": {},
     "output_type": "display_data"
    },
    {
     "name": "stdout",
     "output_type": "stream",
     "text": [
      "Ingresa la eficiencia de la bomba [%]: \n"
     ]
    },
    {
     "data": {
      "application/vnd.jupyter.widget-view+json": {
       "model_id": "0fdd2621c8944de1b862d1e877bb2682",
       "version_major": 2,
       "version_minor": 0
      },
      "text/plain": [
       "interactive(children=(FloatText(value=0.0, description='Eficiencia', step=0.1), Output()), _dom_classes=('widg…"
      ]
     },
     "metadata": {},
     "output_type": "display_data"
    },
    {
     "name": "stdout",
     "output_type": "stream",
     "text": [
      "Ingresa el factor de paso del codo: \n"
     ]
    },
    {
     "data": {
      "application/vnd.jupyter.widget-view+json": {
       "model_id": "801e4f1176544b6daf488d71e76b2f5e",
       "version_major": 2,
       "version_minor": 0
      },
      "text/plain": [
       "interactive(children=(FloatText(value=0.0, description='K_codo', step=0.01), Output()), _dom_classes=('widget-…"
      ]
     },
     "metadata": {},
     "output_type": "display_data"
    },
    {
     "name": "stdout",
     "output_type": "stream",
     "text": [
      "Ingresa el factor de paso de la válvula: \n"
     ]
    },
    {
     "data": {
      "application/vnd.jupyter.widget-view+json": {
       "model_id": "4223a5c7c2f04a5292aa76546b502a66",
       "version_major": 2,
       "version_minor": 0
      },
      "text/plain": [
       "interactive(children=(FloatText(value=0.0, description='K_valvula', step=0.1), Output()), _dom_classes=('widge…"
      ]
     },
     "metadata": {},
     "output_type": "display_data"
    },
    {
     "name": "stdout",
     "output_type": "stream",
     "text": [
      "Ingresa el factor de paso de la boquilla: \n"
     ]
    },
    {
     "data": {
      "application/vnd.jupyter.widget-view+json": {
       "model_id": "246a134f92a54e64ad08f56723a0ac58",
       "version_major": 2,
       "version_minor": 0
      },
      "text/plain": [
       "interactive(children=(FloatText(value=0.0, description='K_boquilla', step=0.01), Output()), _dom_classes=('wid…"
      ]
     },
     "metadata": {},
     "output_type": "display_data"
    },
    {
     "name": "stdout",
     "output_type": "stream",
     "text": [
      "Ingresa la rugosidad de la tubería [cm]: \n"
     ]
    },
    {
     "data": {
      "application/vnd.jupyter.widget-view+json": {
       "model_id": "af9f6faca6444850ba2df671bbea0ac2",
       "version_major": 2,
       "version_minor": 0
      },
      "text/plain": [
       "interactive(children=(Dropdown(description='Tubería:', options=(('Acero roblonado', 0.18), ('Hormigón', 0.12),…"
      ]
     },
     "metadata": {},
     "output_type": "display_data"
    }
   ],
   "source": [
    "#Pedimos al usuario que ingrese los datos del problema\n",
    "\n",
    "print(\"Ingresa la densidad relativa del fluido: \")\n",
    "s= interactive(s, s=widgets.FloatText(min=-10, max=100, step=0.01, value=0));\n",
    "display(s)\n",
    "\n",
    "print(\"Ingresa la cota del depósito A: \")\n",
    "z_A= interactive(z_A, z_A=widgets.FloatText(min=-50, max=1000, step=0.1, value=0));\n",
    "display(z_A)\n",
    "\n",
    "print(\"Ingresa el Bernoulli en el nudo N2 [m.c.l.]: \")\n",
    "B_N2= interactive(B_N2, B_N2=widgets.FloatText(min=-10, max=1000, step=0.1, value=0));\n",
    "display(B_N2)\n",
    "\n",
    "print(\"Ingresa la presión en la entrada de la bomba [kg/cm2]: \")\n",
    "p_4= interactive(p_4, p_4=widgets.FloatText(min=-50, max=1000, step=0.1, value=0));\n",
    "display(p_4)\n",
    "\n",
    "print(\"Ingresa la cota de la entrada de la bomba: \")\n",
    "z_4= interactive(z_4, z_4=widgets.FloatText(min=-50, max=1000, step=1, value=0));\n",
    "display(z_4)\n",
    "\n",
    "print(\"Ingresa la presión en la salida de la bomba [kg/cm2]: \")\n",
    "p_3= interactive(p_3, p_3=widgets.FloatText(min=-50, max=1000, step=0.1, value=0));\n",
    "display(p_3)\n",
    "\n",
    "print(\"Ingresa la cota de la salida de la bomba: \")\n",
    "z_3= interactive(z_3, z_3=widgets.FloatText(min=-50, max=1000, step=1, value=0));\n",
    "display(z_3)\n",
    "\n",
    "print(\"Ingresa la cota de 5: \")\n",
    "z_5= interactive(z_5, z_5=widgets.FloatText(min=-50, max=1000, step=1, value=0));\n",
    "display(z_5)\n",
    "\n",
    "print(\"Ingresa la cota de 6: \")\n",
    "z_6= interactive(z_6, z_6=widgets.FloatText(min=-50, max=1000, step=1, value=0));\n",
    "display(z_6)\n",
    "\n",
    "print(\"Ingresa la potencia bruta de la bomba [kW]: \")\n",
    "Pot_bruta= interactive(Pot_bruta, Pot_bruta=widgets.FloatText(min=-10, max=1000, step=0.01, value=0));\n",
    "display(Pot_bruta)\n",
    "\n",
    "print(\"Ingresa la eficiencia de la bomba [%]: \")\n",
    "Eficiencia= interactive(Eficiencia, Eficiencia=widgets.FloatText(min=-10, max=100, step=0.1, value=0));\n",
    "display(Eficiencia)\n",
    "\n",
    "print(\"Ingresa el factor de paso del codo: \")\n",
    "K_codo= interactive(K_codo, K_codo=widgets.FloatText(min=-10, max=100, step=0.01, value=0));\n",
    "display(K_codo)\n",
    "\n",
    "print(\"Ingresa el factor de paso de la válvula: \")\n",
    "K_valvula= interactive(K_valvula, K_valvula=widgets.FloatText(min=-10, max=1000, step=0.1, value=0));\n",
    "display(K_valvula)\n",
    "\n",
    "print(\"Ingresa el factor de paso de la boquilla: \")\n",
    "K_boquilla= interactive(K_boquilla, K_boquilla=widgets.FloatText(min=-10, max=1000, step=0.01, value=0));\n",
    "display(K_boquilla)\n",
    "\n",
    "print(\"Ingresa la rugosidad de la tubería [cm]: \")\n",
    "\n",
    "rugosidad= interactive(rugosidad, rugosidad=widgets.Dropdown(\n",
    "    options=[('Acero roblonado', 0.18), \n",
    "             ('Hormigón', 0.12), \n",
    "             ('Hierro fundido (Fundición)', 0.026), \n",
    "             ('Madera', 0.06), \n",
    "             ('Hierro galvanizado', 0.015), \n",
    "             ('Fundición asfaltada', 0.012), \n",
    "             ('Acero comercial y soldado', 0.006), \n",
    "             ('Hierro forjado', 0.006), \n",
    "             ('Tubo estirado', 0.00024), \n",
    "             ('Latón y cobre', 0.00015), \n",
    "             ('Fibrocemento', 0.01), \n",
    "             ('PVC y PE', 0.0007)],\n",
    "    description='Tubería:',\n",
    "));\n",
    "display(rugosidad)\n",
    "\n",
    "#Constantes\n",
    "\n",
    "g=9.8"
   ]
  },
  {
   "cell_type": "code",
   "execution_count": 3,
   "metadata": {},
   "outputs": [],
   "source": [
    "P_4= (p_4.result * 10)*(1/s.result)\n",
    "P_3= (p_3.result * 10)*(1/s.result)"
   ]
  },
  {
   "cell_type": "code",
   "execution_count": 4,
   "metadata": {},
   "outputs": [
    {
     "name": "stdout",
     "output_type": "stream",
     "text": [
      "Ingresa el diámetro de la tubería 1 [m]: \n"
     ]
    },
    {
     "data": {
      "application/vnd.jupyter.widget-view+json": {
       "model_id": "acdd6cdb74d74c01815632a225918096",
       "version_major": 2,
       "version_minor": 0
      },
      "text/plain": [
       "interactive(children=(FloatText(value=0.0, description='D_1', step=0.01), Output()), _dom_classes=('widget-int…"
      ]
     },
     "metadata": {},
     "output_type": "display_data"
    },
    {
     "name": "stdout",
     "output_type": "stream",
     "text": [
      "Ingresa el diámetro de la tubería 2 [m]: \n"
     ]
    },
    {
     "data": {
      "application/vnd.jupyter.widget-view+json": {
       "model_id": "99e6641eb9c24429a4d57a3a51ba1557",
       "version_major": 2,
       "version_minor": 0
      },
      "text/plain": [
       "interactive(children=(FloatText(value=0.0, description='D_2', step=0.01), Output()), _dom_classes=('widget-int…"
      ]
     },
     "metadata": {},
     "output_type": "display_data"
    },
    {
     "name": "stdout",
     "output_type": "stream",
     "text": [
      "Ingresa el diámetro de la tubería 3 [m]: \n"
     ]
    },
    {
     "data": {
      "application/vnd.jupyter.widget-view+json": {
       "model_id": "eeb44d4cc7644848acc6f63111ea67c6",
       "version_major": 2,
       "version_minor": 0
      },
      "text/plain": [
       "interactive(children=(FloatText(value=0.0, description='D_3', step=0.01), Output()), _dom_classes=('widget-int…"
      ]
     },
     "metadata": {},
     "output_type": "display_data"
    },
    {
     "name": "stdout",
     "output_type": "stream",
     "text": [
      "Ingresa el diámetro de la tubería 4 [m]: \n"
     ]
    },
    {
     "data": {
      "application/vnd.jupyter.widget-view+json": {
       "model_id": "72987849c9cc485aa9cda48a9bcc9a08",
       "version_major": 2,
       "version_minor": 0
      },
      "text/plain": [
       "interactive(children=(FloatText(value=0.0, description='D_4', step=0.01), Output()), _dom_classes=('widget-int…"
      ]
     },
     "metadata": {},
     "output_type": "display_data"
    },
    {
     "name": "stdout",
     "output_type": "stream",
     "text": [
      "Ingresa el diámetro de la tubería 5 [m]: \n"
     ]
    },
    {
     "data": {
      "application/vnd.jupyter.widget-view+json": {
       "model_id": "e33b6c07243a4d97908646e70e83239b",
       "version_major": 2,
       "version_minor": 0
      },
      "text/plain": [
       "interactive(children=(FloatText(value=0.0, description='D_5', step=0.01), Output()), _dom_classes=('widget-int…"
      ]
     },
     "metadata": {},
     "output_type": "display_data"
    },
    {
     "name": "stdout",
     "output_type": "stream",
     "text": [
      "Ingresa el diámetro de la tubería 6 [m]: \n"
     ]
    },
    {
     "data": {
      "application/vnd.jupyter.widget-view+json": {
       "model_id": "0835c307d7ca4426af8eef1f888cb76f",
       "version_major": 2,
       "version_minor": 0
      },
      "text/plain": [
       "interactive(children=(FloatText(value=0.0, description='D_6', step=0.01), Output()), _dom_classes=('widget-int…"
      ]
     },
     "metadata": {},
     "output_type": "display_data"
    },
    {
     "name": "stdout",
     "output_type": "stream",
     "text": [
      "Ingresa el diámetro de la boquilla [m]: \n"
     ]
    },
    {
     "data": {
      "application/vnd.jupyter.widget-view+json": {
       "model_id": "73be2bae958a489d81b271557651e0d6",
       "version_major": 2,
       "version_minor": 0
      },
      "text/plain": [
       "interactive(children=(FloatText(value=0.0, description='D_boquilla', step=0.001), Output()), _dom_classes=('wi…"
      ]
     },
     "metadata": {},
     "output_type": "display_data"
    },
    {
     "name": "stdout",
     "output_type": "stream",
     "text": [
      "Ingresa la longitud de la tubería 2 [m]: \n"
     ]
    },
    {
     "data": {
      "application/vnd.jupyter.widget-view+json": {
       "model_id": "62d2439c2c324e0f97ae18d8ea1d7a8a",
       "version_major": 2,
       "version_minor": 0
      },
      "text/plain": [
       "interactive(children=(FloatText(value=0.0, description='L_2', step=1.0), Output()), _dom_classes=('widget-inte…"
      ]
     },
     "metadata": {},
     "output_type": "display_data"
    },
    {
     "name": "stdout",
     "output_type": "stream",
     "text": [
      "Ingresa la longitud de la tubería 4 [m]: \n"
     ]
    },
    {
     "data": {
      "application/vnd.jupyter.widget-view+json": {
       "model_id": "3f65ad42f5ff4d4e942fe4e1d8ab5455",
       "version_major": 2,
       "version_minor": 0
      },
      "text/plain": [
       "interactive(children=(FloatText(value=0.0, description='L_4', step=1.0), Output()), _dom_classes=('widget-inte…"
      ]
     },
     "metadata": {},
     "output_type": "display_data"
    },
    {
     "name": "stdout",
     "output_type": "stream",
     "text": [
      "Ingresa la longitud de la tubería 5 [m]: \n"
     ]
    },
    {
     "data": {
      "application/vnd.jupyter.widget-view+json": {
       "model_id": "3efaa3aa62a2416590b600c2fe9f069c",
       "version_major": 2,
       "version_minor": 0
      },
      "text/plain": [
       "interactive(children=(FloatText(value=0.0, description='L_5', step=0.01), Output()), _dom_classes=('widget-int…"
      ]
     },
     "metadata": {},
     "output_type": "display_data"
    }
   ],
   "source": [
    "#Pedimos al usuario que ingrese los datos del problema\n",
    "\n",
    "print(\"Ingresa el diámetro de la tubería 1 [m]: \")\n",
    "D_1= interactive(D_1, D_1=widgets.FloatText(min=-10, max=100, step=0.01, value=0));\n",
    "display(D_1)\n",
    "\n",
    "print(\"Ingresa el diámetro de la tubería 2 [m]: \")\n",
    "D_2= interactive(D_2, D_2=widgets.FloatText(min=-10, max=100, step=0.01, value=0));\n",
    "display(D_2)\n",
    "\n",
    "print(\"Ingresa el diámetro de la tubería 3 [m]: \")\n",
    "D_3= interactive(D_3, D_3=widgets.FloatText(min=-10, max=100, step=0.01, value=0));\n",
    "display(D_3)\n",
    "\n",
    "print(\"Ingresa el diámetro de la tubería 4 [m]: \")\n",
    "D_4= interactive(D_4, D_4=widgets.FloatText(min=-10, max=100, step=0.01, value=0));\n",
    "display(D_4)\n",
    "\n",
    "print(\"Ingresa el diámetro de la tubería 5 [m]: \")\n",
    "D_5= interactive(D_5, D_5=widgets.FloatText(min=-10, max=100, step=0.01, value=0));\n",
    "display(D_5)\n",
    "\n",
    "print(\"Ingresa el diámetro de la tubería 6 [m]: \")\n",
    "D_6= interactive(D_6, D_6=widgets.FloatText(min=-10, max=100, step=0.01, value=0));\n",
    "display(D_6)\n",
    "\n",
    "print(\"Ingresa el diámetro de la boquilla [m]: \")\n",
    "D_boquilla= interactive(D_boquilla, D_boquilla=widgets.FloatText(min=-10, max=100, step=0.001, value=0));\n",
    "display(D_boquilla)\n",
    "\n",
    "print(\"Ingresa la longitud de la tubería 2 [m]: \")\n",
    "L_2= interactive(L_2, L_2=widgets.FloatText(min=-10, max=1000, step=1, value=0));\n",
    "display(L_2)\n",
    "\n",
    "print(\"Ingresa la longitud de la tubería 4 [m]: \")\n",
    "L_4= interactive(L_4, L_4=widgets.FloatText(min=-10, max=1000, step=1, value=0));\n",
    "display(L_4)\n",
    "\n",
    "print(\"Ingresa la longitud de la tubería 5 [m]: \")\n",
    "L_5= interactive(L_5, L_5=widgets.FloatText(min=-10, max=1000, step=0.01, value=0));\n",
    "display(L_5)\n"
   ]
  },
  {
   "cell_type": "code",
   "execution_count": 5,
   "metadata": {},
   "outputs": [
    {
     "name": "stdout",
     "output_type": "stream",
     "text": [
      "La altura manométrica de la bomba es 46.21212121212122 m.c.l.\n"
     ]
    }
   ],
   "source": [
    "#Calculamos la áltura manomética de la bomba\n",
    "\n",
    "H_m= P_4 + z_4.result - P_3 - z_3.result\n",
    "\n",
    "print(\"La altura manométrica de la bomba es\", H_m, \"m.c.l.\")"
   ]
  },
  {
   "cell_type": "markdown",
   "metadata": {},
   "source": [
    "<div style=\"background-color:#EAEAE9;padding:10px 40px;text-align:center; vertical-align: middle;font-family:didot;\">\n",
    "\n",
    "<p style=\"font-size: 15px;text-align: justify;\">Con el rendimiento y la potencia bruta proporcionados por el enunciado podemos despejar la potencia útil de la siguiente expresión:</p>\n",
    "    \n",
    "<p style=\"font-size: 15px;text-align: justify;\">\n",
    "\\begin{equation}\n",
    "    \\eta _b = \\frac{Pot. útil}{Pot. bruta} \\rightarrow {Pot. útil}= {Pot. bruta} \\cdot \\eta _b\n",
    "\\end{equation}</p>\n",
    "    \n",
    "<p style=\"font-size: 15px;text-align: justify;\">Sabemos que:</p>\n",
    "    \n",
    "<p style=\"font-size: 15px;text-align: justify;\">\n",
    "\\begin{equation}\n",
    "    Potencia ~ útil = h_b \\cdot \\gamma \\cdot Q \n",
    "\\end{equation}</p>\n",
    "    \n",
    "<p style=\"font-size: 15px;text-align: justify;\">Podemos despejar el caudal.</p>\n",
    "    \n",
    "</div>"
   ]
  },
  {
   "cell_type": "code",
   "execution_count": 6,
   "metadata": {},
   "outputs": [
    {
     "name": "stdout",
     "output_type": "stream",
     "text": [
      "El caudal circulante en la tubería 3 es 0.004608899297423886 m3/s\n"
     ]
    }
   ],
   "source": [
    "#Calculamos la potencia útil\n",
    "\n",
    "Pot_util= (Pot_bruta.result * 1000) * (Eficiencia.result /100)\n",
    "\n",
    "#Con la potencia calculada en el paso anterior, calculamos el caudal\n",
    "\n",
    "Q_3= Pot_util/(H_m*9800*s.result)\n",
    "\n",
    "print(\"El caudal circulante en la tubería 3 es\", Q_3, \"m3/s\")"
   ]
  },
  {
   "cell_type": "code",
   "execution_count": 7,
   "metadata": {},
   "outputs": [
    {
     "name": "stdout",
     "output_type": "stream",
     "text": [
      "RESULTADO: 46.21212121212122 m.c.l y 4.6088992974238865 l/s\n"
     ]
    }
   ],
   "source": [
    "print(\"RESULTADO:\", H_m, \"m.c.l\", \"y\", Q_3*1000, \"l/s\")"
   ]
  },
  {
   "cell_type": "markdown",
   "metadata": {},
   "source": [
    "<div style=\"background-color:#EAEAE9;padding:10px 40px;text-align:center; vertical-align: middle;font-family:didot;\">\n",
    "    \n",
    "<p style=\"font-size: 15px;text-align: justify;\"><b>b) Calcular el Bernoulli en el nudo N1 (m.c.l.). </b></p>\n",
    "\n",
    "<p style=\"font-size: 15px;text-align: justify;\">Con los caudales obtenidos en el apartado anterior podemos calcular la velocidad en el punto 4.</p>\n",
    "    \n",
    "<p style=\"font-size: 15px;text-align: justify;\">Aplicamos Bernoulli entre la salida de la bomba y el nudo N1.</p>\n",
    "    \n",
    "<p style=\"font-size: 15px;text-align: justify;\">\n",
    "\\begin{equation}\n",
    "    B_{_{4}} - h_{f_{4}} - h_{f_{codo}} - h_{f_{válvula}}= B_{_{N1}} \\\\\n",
    "    \\frac{P_{_{4}}}{\\gamma} + z_{_{4}} + \\frac{{v_{_4}}{^{^2}}}{2 \\cdot g} - f_{_{4}} \\cdot \\frac{L_{_{4}}}{D_{_{4}}} \\cdot \\frac{{v_{_4}}^{^2}}{2 \\cdot g} - k_{_{codo}} \\cdot \\frac{{v_{_1}}^{^2}}{2 \\cdot g} - k_{_{válvula}} \\cdot \\frac{{v_{_1}}^{^2}}{2 \\cdot g} = B_{_{N1}} ~ ~ ~ ~ ~(1)\n",
    "\\end{equation}</p>    \n",
    "\n",
    "<br>\n",
    "</div>"
   ]
  },
  {
   "cell_type": "code",
   "execution_count": 8,
   "metadata": {},
   "outputs": [
    {
     "name": "stdout",
     "output_type": "stream",
     "text": [
      "La velocidad en 4 es 3.6676455269888755 m/s\n",
      "El Bernoulli en 4 es 55.98933763525691 m.c.l.\n",
      "Las pérdidas de carga en el codo son de 0.5147304991699556 m.c.l.\n",
      "Las pérdidas de carga en la válvula son de 0.8235687986719289 m.c.l.\n"
     ]
    }
   ],
   "source": [
    "#Calculamos la velocidad en 4\n",
    "\n",
    "Q_4= Q_3\n",
    "v_4= (4*Q_4)/(pi*D_4.result**2)\n",
    "\n",
    "print(\"La velocidad en 4 es\", v_4, \"m/s\")\n",
    "\n",
    "#Calculamos Bernoulli en 4\n",
    "\n",
    "B_4= P_4 + z_4.result + (v_4**2)/(2*g)\n",
    "\n",
    "print(\"El Bernoulli en 4 es\", B_4, \"m.c.l.\")\n",
    "\n",
    "#Calculamos las pérdidas en el codo\n",
    "\n",
    "hf_codo= K_codo.result * ((v_4**2)/(2*g))\n",
    "\n",
    "print(\"Las pérdidas de carga en el codo son de\", hf_codo, \"m.c.l.\")\n",
    "\n",
    "#Calculamos las pérdidas en la válvula\n",
    "\n",
    "hf_valvula= K_valvula.result * ((v_4**2)/(2*g))\n",
    "\n",
    "print(\"Las pérdidas de carga en la válvula son de\", hf_valvula, \"m.c.l.\")\n"
   ]
  },
  {
   "cell_type": "markdown",
   "metadata": {},
   "source": [
    "<div style=\"background-color:#EAEAE9;padding:10px 40px;text-align:center; vertical-align: middle;font-family:didot;\">\n",
    "\n",
    "<p style=\"font-size: 15px;text-align: justify;\">Para calcular las pérdidas de carga de la tubería aplicamos la ecuación de Darcy-Weisbach.</p>\n",
    "    \n",
    "<p style=\"font-size: 15px;text-align: justify;\">\n",
    "\\begin{equation}\n",
    "    h_{f_{4}} = f_{_{4}} \\cdot \\frac{L_{_{4}}}{D_{_{4}}} \\cdot \\frac{{v_{_4}}^{^2}}{2 \\cdot g}\n",
    "\\end{equation}</p>\n",
    "    \n",
    "<br>\n",
    "    \n",
    "<p style=\"font-size: 15px;text-align: justify;\">Estamos ante un problema de Tipo I.</p>\n",
    "</div>"
   ]
  },
  {
   "cell_type": "code",
   "execution_count": 9,
   "metadata": {},
   "outputs": [
    {
     "name": "stdout",
     "output_type": "stream",
     "text": [
      "Ingresa la viscosidad cinemática característica del fluido [m2/s]: 0.00000152\n",
      "\n",
      "Se obtiene una rugosidad relativa de 0.00375\n",
      "Sustituyendo en la expresión se calcula el Reynolds, Re= 96516.98755233882\n",
      "\n",
      "Como Re>=4000 es un flujo turbulento y depende de la rugosidad de la tubería. Se trata de una tubería semirrugosa.\n",
      "Según la expresión aproximada de PSAK se obtiene f= 0.02929104849630506\n",
      "\n",
      "Las pérdidas de carga de la tubería son de 7.538498006857241 m.c.l.\n"
     ]
    }
   ],
   "source": [
    "#Pedimos al usuario que ingrese la viscosidad cinemática del fluido.\n",
    "\n",
    "viscosidad_cinematica= float(input(\"Ingresa la viscosidad cinemática característica del fluido [m2/s]: \"))\n",
    "print()\n",
    "\n",
    "#Una vez el usuario ingrese la rugosidad, se calcula la rugosidad relativa que servirá para obtener el coeficiente de fricción f.\n",
    "\n",
    "rugosidad_relativa_4= rugosidad.result/(D_4.result*100)\n",
    "print(\"Se obtiene una rugosidad relativa de\",rugosidad_relativa_4)\n",
    "\n",
    "#Se calcula Reynolds\n",
    "\n",
    "Re_4= (v_4*D_4.result)/viscosidad_cinematica\n",
    "print(\"Sustituyendo en la expresión se calcula el Reynolds, Re=\",Re_4)\n",
    "print()\n",
    "\n",
    "#Ábaco de Moody. Se obtiene el coeficiente de fricción f. \n",
    "\n",
    "f_4= abaco_de_moody(Re_4, rugosidad_relativa_4)\n",
    "\n",
    "#Calculamos las pérdidas de carga de la tubería\n",
    "\n",
    "hf_4= f_4 * (L_4.result/D_4.result) * ((v_4)**2/(2*g))\n",
    "\n",
    "print()\n",
    "print(\"Las pérdidas de carga de la tubería son de\", hf_4, \"m.c.l.\")"
   ]
  },
  {
   "cell_type": "code",
   "execution_count": 10,
   "metadata": {},
   "outputs": [
    {
     "name": "stdout",
     "output_type": "stream",
     "text": [
      "Se obtiene un Bernoulli en N1 de 47.112540330557785 m.c.l.\n"
     ]
    }
   ],
   "source": [
    "#Sustituyendo en la ecuación 1 obtenemos Bernoulli en N1\n",
    "\n",
    "B_N1= B_4 - hf_4 - hf_codo - hf_valvula\n",
    "\n",
    "print(\"Se obtiene un Bernoulli en N1 de\", B_N1, \"m.c.l.\")"
   ]
  },
  {
   "cell_type": "code",
   "execution_count": 11,
   "metadata": {},
   "outputs": [
    {
     "name": "stdout",
     "output_type": "stream",
     "text": [
      "RESULTADO: 47.112540330557785 m.c.l\n"
     ]
    }
   ],
   "source": [
    "print(\"RESULTADO:\", B_N1, \"m.c.l\")"
   ]
  },
  {
   "cell_type": "markdown",
   "metadata": {},
   "source": [
    "<div style=\"background-color:#EAEAE9;padding:10px 40px;text-align:center; vertical-align: middle;font-family:didot;\">\n",
    "  \n",
    "<p style=\"font-size: 15px;text-align: justify;\"><b>c) Calcular el caudal circulante $Q_{_{5}}$ (l/s) en la tubería 5.  </b></p>\n",
    "\n",
    "<p style=\"font-size: 15px;text-align: justify;\">Aplicamos Bernoulli entre la boquilla de la tubería 5 y el nudo N1.</p>\n",
    "    \n",
    "<p style=\"font-size: 15px;text-align: justify;\">\n",
    "\\begin{equation}\n",
    "    B_{_{N1}} - h_{f_{5}} - h_{f_{boquilla}} = B_{_{boquilla}} \\\\\n",
    "    B_{_{N1}} - f_{_{5}} \\cdot \\frac{L_{_{5}}}{D_{_{5}}} \\cdot \\frac{{v_{_5}}^{^2}}{2 \\cdot g} - k_{_{boquilla}} \\cdot \\frac{{v_{_{boquilla}}}^{^2}}{2 \\cdot g} = \\frac{{v_{_{boquilla}}}^{^2}}{2 \\cdot g} + z\n",
    "\\end{equation}</p>    \n",
    "\n",
    "<p style=\"font-size: 15px;text-align: justify;\">Para relacionar las velocidades $v_{_{5}}$ y $v_{_{boquilla}}$ aplicamos la ecuación de continuidad:</p> \n",
    "    \n",
    "<p style=\"font-size: 15px;text-align: justify;\">El caudal es el mismo en la tubería y en la boquilla por lo tanto:</p>\n",
    "    \n",
    "<p style=\"font-size: 15px;text-align: justify;\">\n",
    "\\begin{equation}\n",
    "    Q_{_{5}}= v_{_{5}} \\cdot \\frac{\\pi \\cdot {D_{_{5}}}^{^2}}{4} = v_{_{boquilla}} \\cdot \\frac{\\pi \\cdot {d_{_{boquilla}}}^{^2}}{4} \\\\\n",
    "    v_{_{boquilla}} = v_{_{5}} \\cdot {\\left( \\frac{D_{_{5}}}{d_{_{boquilla}}} \\right)}^{^2}\n",
    "\\end{equation}</p> \n",
    "    \n",
    "<p style=\"font-size: 15px;text-align: justify;\">Por lo tanto el Bernoulli queda así:</p> \n",
    "    \n",
    "<p style=\"font-size: 15px;text-align: justify;\">\n",
    "\\begin{equation}\n",
    "    B_{_{N1}} - f_{_{5}} \\cdot \\frac{L_{_{5}}}{D_{_{5}}} \\cdot \\frac{{v_{_5}}^{^2}}{2 \\cdot g} - k_{_{boquilla}} \\cdot \\frac{{{v_{_{5}}}^{^2} \\cdot {\\left( \\frac{D_{_{5}}}{d_{_{boquilla}}} \\right)}^{^4}}}{2 \\cdot g} = \\frac{{{v_{_{5}}}^{^2} \\cdot {\\left( \\frac{D_{_{5}}}{d_{_{boquilla}}} \\right)}^{^4}}}{2 \\cdot g} + z\n",
    "\\end{equation}</p> \n",
    "    \n",
    "<br>\n",
    "</div>"
   ]
  },
  {
   "cell_type": "code",
   "execution_count": 12,
   "metadata": {},
   "outputs": [
    {
     "name": "stdout",
     "output_type": "stream",
     "text": [
      "\n",
      "Procedemos a iterar:\n",
      "\n",
      "Ingresa el valor de f5: 0.02\n",
      "\n",
      "Con un valor de f5 de 0.02 se obtiene un valor de v5 de 2.109209100147515 m/s\n",
      "\n",
      "Como Re>=4000 es un flujo turbulento y depende de la rugosidad de la tubería. Se trata de una tubería semirrugosa.\n",
      "Según la expresión aproximada de PSAK se obtiene f= 0.030146681232836908\n",
      "\n",
      "╒══════╤═════════╤═════════╤═════════╤════════════╤════════╕\n",
      "│  f5  │   v5    │   Re    │   ε/D   │  Moody f'  │  f=f'  │\n",
      "╞══════╪═════════╪═════════╪═════════╪════════════╪════════╡\n",
      "│ 0.02 │ 2.10921 │ 55505.5 │ 0.00375 │ 0.0301467  │   NO   │\n",
      "╘══════╧═════════╧═════════╧═════════╧════════════╧════════╛\n",
      "\n",
      "Error: 50.73340616418454 % > 0.00001%\n",
      "Se han realizado 1 iteraciones\n",
      "\n",
      "\n",
      "-------\n",
      "\n",
      "Con un valor de f5 de 0.030146681232836908 se obtiene un valor de v5 de 2.107913307464243 m/s\n",
      "\n",
      "Como Re>=4000 es un flujo turbulento y depende de la rugosidad de la tubería. Se trata de una tubería semirrugosa.\n",
      "Según la expresión aproximada de PSAK se obtiene f= 0.030147857022140033\n",
      "\n",
      "╒═══════════╤═════════╤═════════╤═════════╤════════════╤════════╕\n",
      "│    f5     │   v5    │   Re    │   ε/D   │  Moody f'  │  f=f'  │\n",
      "╞═══════════╪═════════╪═════════╪═════════╪════════════╪════════╡\n",
      "│ 0.0301467 │ 2.10791 │ 55471.4 │ 0.00375 │ 0.0301479  │   NO   │\n",
      "╘═══════════╧═════════╧═════════╧═════════╧════════════╧════════╛\n",
      "\n",
      "Error: 0.0039002280020286606 % > 0.00001%\n",
      "Se han realizado 2 iteraciones\n",
      "\n",
      "\n",
      "-------\n",
      "\n",
      "Con un valor de f5 de 0.030147857022140033 se obtiene un valor de v5 de 2.1079131574471828 m/s\n",
      "\n",
      "Como Re>=4000 es un flujo turbulento y depende de la rugosidad de la tubería. Se trata de una tubería semirrugosa.\n",
      "Según la expresión aproximada de PSAK se obtiene f= 0.03014785715833869\n",
      "\n",
      "╒═══════════╤═════════╤═════════╤═════════╤════════════╤════════╕\n",
      "│    f5     │   v5    │   Re    │   ε/D   │  Moody f'  │  f=f'  │\n",
      "╞═══════════╪═════════╪═════════╪═════════╪════════════╪════════╡\n",
      "│ 0.0301479 │ 2.10791 │ 55471.4 │ 0.00375 │ 0.0301479  │   SI   │\n",
      "╘═══════════╧═════════╧═════════╧═════════╧════════════╧════════╛\n",
      "\n",
      "Error: 4.5176894802032177e-07 % < 0.00001%\n",
      "Se han realizado 3 iteraciones\n",
      "\n",
      "\n"
     ]
    }
   ],
   "source": [
    "#El módulo tiene sólo una función, tabulate()\n",
    "#imprime tablas a partir de los datos de entrada de su primer argumento\n",
    "from tabulate import tabulate\n",
    "\n",
    "#Iteración\n",
    "\n",
    "print(\"\\n\"+\"Procedemos a iterar:\"+\"\\n\")\n",
    "\n",
    "#Una vez el usuario ingrese la rugosidad, se calcula la rugosidad relativa que servirá para obtener el coeficiente de fricción f.\n",
    "\n",
    "rugosidad_relativa_5= rugosidad.result/(D_5.result*100)\n",
    "\n",
    "i=0\n",
    "f_5= float(input(\"Ingresa el valor de f5: \"))\n",
    "print()\n",
    "\n",
    "#abs()--> valor absoluto\n",
    "#tablefmt='fancy_grid'--> formato de la tabla, cuadriculada\n",
    "#stralign='center' --> alineación en el centro\n",
    "\n",
    "while i<9: \n",
    "    \n",
    "    v_5= sqrt(((B_N1-z_5.result)*(2*g))/((f_5*(L_5.result/D_5.result))+(K_boquilla.result*(D_5.result/D_boquilla.result)**4)+(D_5.result/D_boquilla.result)**4))\n",
    "\n",
    "    print(\"Con un valor de f5 de\", f_5,\"se obtiene un valor de v5 de\", v_5, \"m/s\")\n",
    "    print()\n",
    "    \n",
    "    #Se calcula Reynolds\n",
    "    \n",
    "    Re_5= (v_5*D_5.result)/viscosidad_cinematica\n",
    "    \n",
    "    #Ábaco de Moody. Se obtiene el coeficiente de fricción f.\n",
    "    \n",
    "    moody_f= abaco_de_moody(Re_5, rugosidad_relativa_5)\n",
    "    \n",
    "    #error en %\n",
    "    error= abs(((f_5-moody_f)*100)/f_5)\n",
    "    \n",
    "    #Dependiendo del error se finaliza la iteración\n",
    "    if error>0.00001:\n",
    "        iguales=(\"NO\")\n",
    "        \n",
    "        #Formato de la tabla\n",
    "        iteracion= [['f5', 'v5', 'Re','ε/D', \"Moody f'\", \"f=f'\"],\n",
    "                    [f_5, v_5, Re_5, rugosidad_relativa_5, moody_f, iguales]]\n",
    "        i=i+1\n",
    "        f_5=moody_f\n",
    "        \n",
    "        print()\n",
    "        #Se imprime la tabla\n",
    "        print(tabulate(iteracion, headers='firstrow', tablefmt='fancy_grid',stralign='center',numalign='center')) \n",
    "        print()\n",
    "        print(\"Error:\", error, '% > 0.00001%')\n",
    "        print(\"Se han realizado\",i, \"iteraciones\"+'\\n')\n",
    "        print()\n",
    "        print(\"-------\")\n",
    "        print()\n",
    "    else: \n",
    "        iguales=(\"SI\")\n",
    "        \n",
    "        #Formato de la tabla\n",
    "        iteracion= [['f5', 'v5', 'Re','ε/D', \"Moody f'\", \"f=f'\"],\n",
    "                    [f_5, v_5, Re_5, rugosidad_relativa_5, moody_f, iguales]]\n",
    "        f_5=moody_f\n",
    "        i=i+1\n",
    "        \n",
    "        print()\n",
    "        #Se imprime la tabla\n",
    "        print(tabulate(iteracion, headers='firstrow', tablefmt='fancy_grid',stralign='center',numalign='center'))\n",
    "        print()\n",
    "        print(\"Error:\", error, '% < 0.00001%')\n",
    "        print(\"Se han realizado\",i, \"iteraciones\"+'\\n')\n",
    "        print()\n",
    "        break\n",
    "        \n",
    "if (i==9) and (error>0.00001):\n",
    "    \n",
    "    v_5= sqrt(((B_N1-z_5.result)*(2*g))/((f_5*(L_5.result/D_5.result))+(K_boquilla.result*(D_5.result/D_boquilla.result)**4)+(D_5.result/D_boquilla.result)**4))\n",
    "\n",
    "    print(\"Con un valor de f5 de\", f_5,\"se obtiene un valor de v5 de\", v_5, \"m/s\")\n",
    "    print()\n",
    "    \n",
    "    Re_5= (v_5*D_5.result)/viscosidad_cinematica\n",
    "    \n",
    "    moody_f= abaco_de_moody(Re_5, rugosidad_relativa_5)\n",
    "                \n",
    "    iguales=(\"SI\")\n",
    "    \n",
    "    #Formato de la tabla\n",
    "    iteracion= [['f5', 'v5', 'Re','ε/D', \"Moody f'\", \"f=f'\"],\n",
    "                [f_5, v_5, Re_5, rugosidad_relativa_5, moody_f, iguales]]\n",
    "    error= abs(((f_5-moody_f)*100)/f_5)\n",
    "    f_5=moody_f\n",
    "    i=i+1\n",
    "    \n",
    "    print()\n",
    "    #Se imprime la tabla\n",
    "    print(tabulate(iteracion, headers='firstrow', tablefmt='fancy_grid',stralign='center',numalign='center'))\n",
    "    print()\n",
    "    print(\"Error:\", error, '% > 0.00001%')\n",
    "    print(\"Se han realizado\",i, \"iteraciones\"+'\\n')\n",
    "    print()"
   ]
  },
  {
   "cell_type": "code",
   "execution_count": 13,
   "metadata": {},
   "outputs": [
    {
     "name": "stdout",
     "output_type": "stream",
     "text": [
      "El caudal circulante en la tubería 5 es 0.0026488817959365338 m3/s\n"
     ]
    }
   ],
   "source": [
    "#Calculamos el caudal\n",
    "\n",
    "Q_5= v_5 * ((pi*D_5.result**2)/4)\n",
    "\n",
    "print(\"El caudal circulante en la tubería 5 es\", Q_5, \"m3/s\")"
   ]
  },
  {
   "cell_type": "code",
   "execution_count": 14,
   "metadata": {},
   "outputs": [
    {
     "name": "stdout",
     "output_type": "stream",
     "text": [
      "RESULTADO: 2.648881795936534 l/s\n"
     ]
    }
   ],
   "source": [
    "print(\"RESULTADO:\", Q_5 * 1000, \"l/s\")"
   ]
  },
  {
   "cell_type": "markdown",
   "metadata": {},
   "source": [
    "<div style=\"background-color:#EAEAE9;padding:10px 40px;text-align:center; vertical-align: middle;font-family:didot;\">\n",
    "  \n",
    "<p style=\"font-size: 15px;text-align: justify;\"><b>d) Calcular el caudal circulante $Q_{_{6}}$ (l/s) en la tubería 6 y su longitud $L_{_{6}}$ (m).</b></p>\n",
    "\n",
    "<p style=\"font-size: 15px;text-align: justify;\">Aplicamos la Ecuación de Continuidad en el nudo N1</p>\n",
    "        \n",
    "<p style=\"font-size: 15px;text-align: justify;\">\n",
    "\\begin{equation}\n",
    "    Q_{_{4}} = Q_{_{5}} + Q_{_{6}}\n",
    "\\end{equation}</p>   \n",
    "<br>\n",
    "</div>"
   ]
  },
  {
   "cell_type": "code",
   "execution_count": 15,
   "metadata": {},
   "outputs": [
    {
     "name": "stdout",
     "output_type": "stream",
     "text": [
      "El caudal circulante en la tubería 6 es 0.0019600175014873526 m3/s\n"
     ]
    }
   ],
   "source": [
    "#Aplicamos la ecuación de la continuidad y calculamos Q6\n",
    "\n",
    "Q_6= Q_4 - Q_5\n",
    "\n",
    "print(\"El caudal circulante en la tubería 6 es\", Q_6, \"m3/s\")"
   ]
  },
  {
   "cell_type": "markdown",
   "metadata": {},
   "source": [
    "<div style=\"background-color:#EAEAE9;padding:10px 40px;text-align:center; vertical-align: middle;font-family:didot;\">\n",
    "\n",
    "<p style=\"font-size: 15px;text-align: justify;\">Aplicamos Bernoulli entre la boquilla de la tubería 6 y el nudo N1. </p>\n",
    "        \n",
    "<p style=\"font-size: 15px;text-align: justify;\">\n",
    "\\begin{equation}\n",
    "    B_{_{N1}} - h_{f_{6}} - h_{f_{boquilla}} = B_{_{boquilla}} \\\\\n",
    "    B_{_{N1}} - f_{_{6}} \\cdot \\frac{L_{_{6}}}{D_{_{6}}} \\cdot \\frac{{v_{_6}}^{^2}}{2 \\cdot g} - k_{_{boquilla}} \\cdot \\frac{{v_{_{boquilla}}}^{^2}}{2 \\cdot g} = \\frac{{v_{_{boquilla}}}^{^2}}{2 \\cdot g} + z\n",
    "\\end{equation}</p>    \n",
    "<br>\n",
    "    \n",
    "<p style=\"font-size: 15px;text-align: justify;\">Como los diámetros son diferentes, hay dos velocidades. Calculamos esos valores con el caudal obtenido.</p>\n",
    " \n",
    "<p style=\"font-size: 15px;text-align: justify;\">\n",
    "\\begin{equation}\n",
    "    v_{_{boquilla}} =  \\frac{\\pi \\cdot {d_{boquilla}}^{^2}}{4} = \\frac{4 \\cdot Q_{_{6}}}{\\pi \\cdot {D_{_{boquilla}}}}^{^2} \\\\\n",
    "    v_{_{6}} =  \\frac{\\pi \\cdot {D_{6}}^{^2}}{4} = \\frac{4 \\cdot Q_{_{6}}}{\\pi \\cdot {D_{_{6}}}^{^2}}\n",
    "\\end{equation}</p>  \n",
    "<br>    \n",
    "</div>"
   ]
  },
  {
   "cell_type": "code",
   "execution_count": 16,
   "metadata": {},
   "outputs": [
    {
     "name": "stdout",
     "output_type": "stream",
     "text": [
      "La velocidad en la tubería 6 es respectivamente 6.23892947816677 m/s y en la boquilla de la tubería 6 es 17.330359661574363 m/s\n"
     ]
    }
   ],
   "source": [
    "#Calculamos las velocidades\n",
    "\n",
    "v_boquilla_6= (4*Q_6)/(pi*D_boquilla.result**2)\n",
    "v_6= (4*Q_6)/(pi*D_6.result**2)\n",
    "\n",
    "print(\"La velocidad en la tubería 6 es respectivamente\",v_6, \"m/s y en la boquilla de la tubería 6 es\", v_boquilla_6, \"m/s\")"
   ]
  },
  {
   "cell_type": "code",
   "execution_count": 17,
   "metadata": {},
   "outputs": [
    {
     "name": "stdout",
     "output_type": "stream",
     "text": [
      "Las pérdidas de carga en la tubería 6 son 11.958116478547339 m.c.l.\n"
     ]
    }
   ],
   "source": [
    "#Calculamos las pérdidas de carga en la tubería 6\n",
    "\n",
    "hf_6= B_N1 - K_boquilla.result*(v_boquilla_6**2/(2*g)) - ((v_boquilla_6**2/(2*g)) + z_6.result)\n",
    "\n",
    "print(\"Las pérdidas de carga en la tubería 6 son\", hf_6, \"m.c.l.\")"
   ]
  },
  {
   "cell_type": "markdown",
   "metadata": {},
   "source": [
    "<div style=\"background-color:#EAEAE9;padding:10px 40px;text-align:center; vertical-align: middle;font-family:didot;\">\n",
    "\n",
    "<p style=\"font-size: 15px;text-align: justify;\">Expresión de Darcy-Weisbach:</p>\n",
    "        \n",
    "<p style=\"font-size: 15px;text-align: justify;\">\n",
    "\\begin{equation}\n",
    "    h_{f_{6}} = f_{_{6}} \\cdot \\frac{L_{_{6}}}{D_{_{6}}} \\cdot \\frac{{v_{_6}}^{^2}}{2 \\cdot g} \\rightarrow L_{_{6}}= \\frac{h_{f_{6}} \\cdot D_{_{6}} \\cdot 2 \\cdot g}{f_{_{6}} \\cdot {v_{_6}}^{^2}}\n",
    "\\end{equation}</p>    \n",
    "\n",
    "<p style=\"font-size: 15px;text-align: justify;\">Tenemos como incógnita el coeficiente de fricción. Estamos ante un problema de Tipo I.</p>  \n",
    "<br>\n",
    "</div>"
   ]
  },
  {
   "cell_type": "code",
   "execution_count": 18,
   "metadata": {},
   "outputs": [
    {
     "name": "stdout",
     "output_type": "stream",
     "text": [
      "Se obtiene una rugosidad relativa de 0.0075\n",
      "Sustituyendo en la expresión se calcula el Reynolds, Re= 82091.1773442996\n",
      "\n",
      "Como Re>=4000 es un flujo turbulento y depende de la rugosidad de la tubería. Se trata de una tubería rugosa.\n",
      "Según la expresión de Karman-Prandtl se obtiene f= 0.03443848433612682\n"
     ]
    }
   ],
   "source": [
    "#Una vez el usuario ingrese la rugosidad, se calcula la rugosidad relativa que servirá para obtener el coeficiente de fricción f.\n",
    "\n",
    "rugosidad_relativa_6= rugosidad.result/(D_6.result*100)\n",
    "print(\"Se obtiene una rugosidad relativa de\",rugosidad_relativa_6)\n",
    "\n",
    "#Se calcula Reynolds\n",
    "\n",
    "Re_6= (v_6*D_6.result)/viscosidad_cinematica\n",
    "print(\"Sustituyendo en la expresión se calcula el Reynolds, Re=\",Re_6)\n",
    "print()\n",
    "\n",
    "#Ábaco de Moody. Se obtiene el coeficiente de fricción f. \n",
    "\n",
    "f_6= abaco_de_moody(Re_6, rugosidad_relativa_6) "
   ]
  },
  {
   "cell_type": "code",
   "execution_count": 19,
   "metadata": {},
   "outputs": [
    {
     "name": "stdout",
     "output_type": "stream",
     "text": [
      "Se obtiene una longitud de tubería 6 de 3.4969116796087314 m\n"
     ]
    }
   ],
   "source": [
    "#Calculamos la longitud de la tubería 6\n",
    "\n",
    "L_6= (hf_6 * D_6.result * 2 * g)/(f_6 * v_6**2)\n",
    "\n",
    "print(\"Se obtiene una longitud de tubería 6 de\", L_6, \"m\")"
   ]
  },
  {
   "cell_type": "markdown",
   "metadata": {},
   "source": [
    "<div style=\"background-color:#EAEAE9;padding:10px 40px;text-align:center; vertical-align: middle;font-family:didot;\">\n",
    "  \n",
    "<p style=\"font-size: 15px;text-align: justify;\"><b>e) Si el Bernoulli del nudo N2 es de 13 m.c.l., calcular los caudales $Q_{_{1}}$ y $Q_{_{2}}$ correspondientes a las tuberías 1 y 2.</b></p>\n",
    "\n",
    "<p style=\"font-size: 15px;text-align: justify;\">Nos centramos en la tubería 2 ya que conocemos la cota de A:</p>\n",
    "    \n",
    "<p style=\"font-size: 15px;text-align: justify;\">\n",
    "\\begin{equation}\n",
    "    B_{_{A}} - h_{f_{2}} = B_{_{N2}} \\rightarrow h_{f_{2}}= B_{_{A}} - B_{_{N2}}\n",
    "\\end{equation}</p>     \n",
    "<br>\n",
    "</div>"
   ]
  },
  {
   "cell_type": "code",
   "execution_count": 20,
   "metadata": {},
   "outputs": [
    {
     "name": "stdout",
     "output_type": "stream",
     "text": [
      "Sustituyendo en la ecuación de Bernoulli, hf2: 1.5 m.c.l.\n"
     ]
    }
   ],
   "source": [
    "#Calculamos las pérdidas de carga en la tubería\n",
    "\n",
    "B_A= z_A.result\n",
    "\n",
    "hf_2= B_A - B_N2.result\n",
    "\n",
    "print(\"Sustituyendo en la ecuación de Bernoulli, hf2:\", hf_2, \"m.c.l.\")"
   ]
  },
  {
   "cell_type": "markdown",
   "metadata": {},
   "source": [
    "<div style=\"background-color:#EAEAE9;padding:10px 40px;text-align:center; vertical-align: middle;font-family:didot;\">\n",
    "\n",
    "<p style=\"font-size: 15px;text-align: justify;\">Como hf es un valor constante, se puede resolver directamente sin necesidad de iterar, calculando ${f_{_{2}}}^{\\frac{1}{2}} \\cdot Re$. Estamos ante un problema Tipo II-A</p>\n",
    "\n",
    "<p style=\"font-size: 15px;text-align: justify;\">\n",
    "\\begin{equation}\n",
    "    h_{f_{2}} = f_{_{2}} \\cdot \\frac{L_{_{2}}}{D_{_{2}}} \\cdot \\frac{{v_{_{2}}}^{^2}}{2 \\cdot g} \\rightarrow \n",
    "    f_{_{2}}= h_{f_{2}} \\cdot \\frac{L_{_{2}}}{D_{_{2}}} \\cdot \\frac{2 \\cdot g}{{v_{_{2}}}^{^2}} \\rightarrow\n",
    "    {f_{_{2}}}^{\\frac{1}{2}} = \\frac{1}{v^{^{2}}} \\cdot \\left(h_{f_{2}} \\cdot D_{_{2}} \\cdot \\frac{2 \\cdot g}{L_{_{2}}} \\right)^{\\frac{1}{2}}\n",
    "\\end{equation}\n",
    "</p>\n",
    "    \n",
    "<br>\n",
    "    \n",
    "<p style=\"font-size: 15px;text-align: justify;\">Con ${f_{_{2}}}^{\\frac{1}{2}} \\cdot Re$ y $\\frac{\\varepsilon}{D}$ se puede obtener f utilizando el ábaco de Moody.</p>\n",
    "    \n",
    "</div>"
   ]
  },
  {
   "cell_type": "code",
   "execution_count": 21,
   "metadata": {},
   "outputs": [
    {
     "name": "stdout",
     "output_type": "stream",
     "text": [
      "Realizando el producto de los dos se simplifica la velocidad f^1/2*Re: 7414.330662236144\n"
     ]
    }
   ],
   "source": [
    "#Calculamos f^1/2 (sin la v ya que al multiplicar con Re se simplifica)\n",
    "\n",
    "f_1_2= (hf_2*D_2.result*((2*g)/L_2.result))**(1/2)\n",
    "\n",
    "#Calculamos Re (sin la v ya que se simplifica al multiplicar con f^1/2)\n",
    "\n",
    "Re_2= D_2.result / viscosidad_cinematica\n",
    "\n",
    "print(\"Realizando el producto de los dos se simplifica la velocidad f^1/2*Re:\",Re_2*f_1_2)"
   ]
  },
  {
   "cell_type": "code",
   "execution_count": 22,
   "metadata": {},
   "outputs": [],
   "source": [
    "#Calculamos la rugosidad relativa, así con este valor y f^1/2*Re se puede obtener f en el ábaco de Moody.\n",
    "\n",
    "rugosidad_relativa_2= rugosidad.result/(D_2.result*100)"
   ]
  },
  {
   "cell_type": "markdown",
   "metadata": {},
   "source": [
    "<div style=\"background-color:#EAEAE9;padding:10px 40px;text-align:center; vertical-align: middle;font-family:didot;\">\n",
    "\n",
    "<p style=\"font-size: 15px;text-align: justify;\">Utilizando el Ábaco de Moody se observa el comportamiento de la tubería y se obtiene el coeficiente f.</p>\n",
    "    \n",
    "<p style=\"font-size: 15px;text-align: justify;\">Puede utilizarse también la expresión de Colebrook-White:</p>\n",
    "    \n",
    "<p style=\"font-size: 15px;text-align: justify;\">\n",
    "\\begin{equation}  \n",
    "    \\frac{1}{f^{\\frac{1}{2}}} = -2 \\cdot \\log_{10} \\left( \\left(\\frac{\\frac{\\varepsilon}{D}}{3.71} \\right)+\\left(\\frac{2.51}{f^{\\frac{1}{2}}} \\cdot Re \\right)\\right)\n",
    "\\end{equation}</p>    \n",
    "    \n",
    "</div>"
   ]
  },
  {
   "cell_type": "code",
   "execution_count": 23,
   "metadata": {},
   "outputs": [
    {
     "name": "stdout",
     "output_type": "stream",
     "text": [
      "Sustituyendo todos los valores y operando se obtiene el valor exacto de f:  0.0278770617677243\n"
     ]
    }
   ],
   "source": [
    "import sympy\n",
    "from sympy.solvers import nsolve\n",
    "from sympy import Symbol\n",
    "x = Symbol('x')\n",
    "\n",
    "#Expresión Colebrook-White para calcular f.\n",
    "\n",
    "f_2=nsolve(((-2) * (sympy.log(((rugosidad_relativa_2)/3.71)+(2.51/(Re_2*f_1_2)),10)) * sympy.sqrt(x)) - 1,x,0.01)\n",
    "\n",
    "print(\"Sustituyendo todos los valores y operando se obtiene el valor exacto de f: \", f_2)"
   ]
  },
  {
   "cell_type": "code",
   "execution_count": 24,
   "metadata": {},
   "outputs": [
    {
     "name": "stdout",
     "output_type": "stream",
     "text": [
      "El caudal circulante en la tubería 2 es 0.00357827703536082 m3/s\n"
     ]
    }
   ],
   "source": [
    "#Calculamos la velocidad en la tubería 2\n",
    "\n",
    "v_2= (hf_2 * D_2.result * 2 * g)/(f_2 * L_2.result)\n",
    "\n",
    "#Calcula el caudal de la tubería 2\n",
    "\n",
    "Q_2= v_2 * ((pi*D_2.result**2)/4)\n",
    "\n",
    "print(\"El caudal circulante en la tubería 2 es\", Q_2, \"m3/s\")"
   ]
  },
  {
   "cell_type": "markdown",
   "metadata": {},
   "source": [
    "<div style=\"background-color:#EAEAE9;padding:10px 40px;text-align:center; vertical-align: middle;font-family:didot;\">\n",
    "\n",
    "<p style=\"font-size: 15px;text-align: justify;\">Aplicamos la Ecuación de Continuidad en el nudo N2</p>\n",
    "        \n",
    "<p style=\"font-size: 15px;text-align: justify;\">\n",
    "\\begin{equation}\n",
    "    Q_{_{3}} = Q_{_{1}} + Q_{_{2}}\n",
    "\\end{equation}</p>   \n",
    "<br>\n",
    "</div>"
   ]
  },
  {
   "cell_type": "code",
   "execution_count": 25,
   "metadata": {},
   "outputs": [
    {
     "name": "stdout",
     "output_type": "stream",
     "text": [
      "El caudal circulante en la tubería 1 es 0.00103062226206306 m3/s\n"
     ]
    }
   ],
   "source": [
    "#Aplicamos la ecuación de la continuidad y calculamos Q1\n",
    "\n",
    "Q_1= Q_3 - Q_2\n",
    "\n",
    "print(\"El caudal circulante en la tubería 1 es\", Q_1, \"m3/s\")"
   ]
  },
  {
   "cell_type": "code",
   "execution_count": 26,
   "metadata": {},
   "outputs": [
    {
     "name": "stdout",
     "output_type": "stream",
     "text": [
      "RESULTADO: 1.03062226206306 l/s y 3.57827703536082 l/s\n"
     ]
    }
   ],
   "source": [
    "print(\"RESULTADO:\", Q_1*1000, \"l/s\", \"y\", Q_2*1000, \"l/s\")"
   ]
  },
  {
   "cell_type": "code",
   "execution_count": null,
   "metadata": {},
   "outputs": [],
   "source": []
  }
 ],
 "metadata": {
  "kernelspec": {
   "display_name": "Python 3",
   "language": "python",
   "name": "python3"
  },
  "language_info": {
   "codemirror_mode": {
    "name": "ipython",
    "version": 3
   },
   "file_extension": ".py",
   "mimetype": "text/x-python",
   "name": "python",
   "nbconvert_exporter": "python",
   "pygments_lexer": "ipython3",
   "version": "3.8.3"
  }
 },
 "nbformat": 4,
 "nbformat_minor": 4
}

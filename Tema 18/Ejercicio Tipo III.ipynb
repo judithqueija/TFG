{
 "cells": [
  {
   "cell_type": "markdown",
   "metadata": {},
   "source": [
    "<div style=\"background-color:#282423; text-align:center; vertical-align: middle; padding:10px 40px;\">\n",
    "    <div align=\"left\" style=\"font-size:1em; color:#8c8c8c;font-family:didot;\">Pérdidas de carga en flujos internos</div>\n",
    "<!-- 1em son 16px -->\n",
    "    <div align=\"right\" style=\"font-size:1em; color:#8c8c8c;font-family:didot;\" >Bloque 5</div>\n",
    "    <br/>\n",
    "    <br/>\n",
    "    <br/>\n",
    "    <h1 style=\"margin: 10px;color:white;font-family:didot;\">UTILIZACIÓN DEL ÁBACO DE MOODY</h1>\n",
    "    <hr>\n",
    "    <h1 style=\"margin: 10px;color:white;font-family:didot;\">TIPOS DE PROBLEMAS</h1>\n",
    "    <h1 style=\"margin: 10px;color:#BFAE5F;font-family:didot;\"><em>~ Tipo III ~</em></h1>\n",
    "    <br/>\n",
    "    <div style=\"padding:10px 15px;\">\n",
    "<p style=\"font-size: 20px;color:white;font-family:didot;\">\n",
    "<b>Datos:</b> Q, L, $\\upsilon$, $\\varepsilon$, $h_f$   <br/>\n",
    "    <br/>\n",
    "<b>Incógnita:</b> D $\\rightarrow$ Proceso de iteración $D = f(f)$</p> \n",
    "        </div>\n",
    "</div>\n",
    "<br/>\n",
    "<div style=\"background-color:#EAEAE9;padding:10px 40px;text-align:center; vertical-align: middle;font-family:didot;\">\n",
    "    <h1><b style=\"font-size: 17px;\">Ejercicio 2 del 21 de Mayo de 2015</b></h1>\n",
    "    <hr>\n",
    "<p style=\"font-size: 15px;text-align: justify;\">El sistema del esquema se emplea para suministrar mediante el depósito presurizado inferior, un edulcorante líquido (jarabe de glucosa, s= 1,3) a 20ºC a través de tuberías de acero comercial en una instalación industrial de preparación de refrescos embotellados. Para que el funcionamiento sea correcto, el sistema debe ser capaz de suministrar al menos 4500 l/min en cada surtidor. En la configuración de la figura el surtidor B proporciona el caudal mínimo para un funcionamiento correcto. Se pide, mediante Darcy-Weisbach:</p>\n",
    "    \n",
    "<p style=\"font-size: 15px;\"> a) Demostrar razonadamente por qué el surtidor A no funcionará correctamente.  <br>\n",
    "b) Deducir el diámetro exacto de la tubería del tramo 3 que proporciona el caudal mínimo.<br>\n",
    "c) Elegir el diámetro comercial entre los de la lista proporcionada para instalar en el tramo 3. </p>\n",
    "\n",
    "\n",
    "<p style=\"font-size: 15px;\"> <b>Datos: </b><br>\n",
    "- Las pérdidas en las piezas de unión de tuberías son despreciables.<br>\n",
    "- $k_{valv}=2,77$<br>\n",
    "- Diámetros comerciales de tubería (mm): 70, 80, 100, 125, 150, 175, 200, 250, 300, 350, 400.<br>\n",
    "- Viscosidad cinemática del fluido: $3 \\cdot 10^{-5} ~\\frac{m^2}{s}$ </p><br>\n",
    "   \n",
    "<img src=\"../img/mayo_2015.png\" style=\"height:300px\">\n",
    "<br>\n",
    "    \n",
    "<p style=\"font-size: 15px;\"> <b>Nota:</b> El depósito puede considerarse de grandes dimensiones.</p>\n",
    "<br>\n",
    "</div>"
   ]
  },
  {
   "cell_type": "markdown",
   "metadata": {},
   "source": [
    "<div style=\"background-color:#EAEAE9;padding:10px 40px;text-align:center; vertical-align: middle;font-family:didot;\">\n",
    "    <h1><b style=\"font-size: 18px;\">Resolución del problema</b></h1>\n",
    "<br>\n",
    "<hr>  \n",
    "<p style=\"font-size: 15px;text-align: justify;\"><b>a) Demostrar razonadamente por qué el surtidor A no funcionará correctamente.</b></p>\n",
    "\n",
    "<p style=\"font-size: 15px;text-align: justify;\">Para ello, con los datos suministrados de la tubería 2 se obtiene el valor de Bernoulli en N. Una vez calculado ese valor, se aplica Bernoulli entre el surtidor B y el nudo N.</p>\n",
    "\n",
    "<p style=\"font-size: 15px;text-align: justify;\">\n",
    "\\begin{equation}\n",
    "    v_{_{B}}=v_{_{2}}  \\\\\n",
    "    B_{_{N}} - h_{f_{2}} - h_{f_{v}} = B_{_{B}} \\rightarrow \n",
    "    B_{_{N}} - f_{_{2}} \\cdot \\frac{L_{_{2}}}{D_{_{2}}} \\cdot \\frac{{v_{_2}}^{^2}}{2 \\cdot g} - k_{_{v}} \\cdot \\frac{{v_{_2}}^{^2}}{2 \\cdot g} = \\frac{P_{_{B}}}{\\gamma} + z_{_{B}} + \\frac{{v_{_B}}{^{^2}}}{2 \\cdot g} ~ ~ ~ ~ ~(1)\n",
    "\\end{equation}</p>\n",
    "</div>"
   ]
  },
  {
   "cell_type": "code",
   "execution_count": null,
   "metadata": {},
   "outputs": [],
   "source": [
    "pip install -r requirements.txt"
   ]
  },
  {
   "cell_type": "code",
   "execution_count": 1,
   "metadata": {},
   "outputs": [],
   "source": [
    "#Antes que nada, se deben importar los módulos necesarios para usarlos al resolver los problemas. \n",
    "#Son unos ficheros que guardan definiciones y declaraciones de Python.\n",
    "\n",
    "from math import pi, log10, sqrt\n",
    "from ipynb.fs.full.abaco_de_moody import abaco_de_moody\n",
    "from ipywidgets import widgets, interactive\n",
    "from ipynb.fs.full.funciones_variables import P_A, P_B, P_C, L_1, L_2, L_3, D_1, D_2, z_a, z_b, z_c, z_n, Q, s, K_v, rugosidad\n",
    "\n",
    "#Crea una lista de los módulos instalados --> help(\"modules\")\n",
    "#Esta función crea una lista de las funciones o variables del módulo --> dir(math)"
   ]
  },
  {
   "cell_type": "code",
   "execution_count": 2,
   "metadata": {},
   "outputs": [
    {
     "name": "stdout",
     "output_type": "stream",
     "text": [
      "Ingresa la presión de A [m.c.l.]: \n"
     ]
    },
    {
     "data": {
      "application/vnd.jupyter.widget-view+json": {
       "model_id": "0f03f32efc31436c8883b7380e544ff3",
       "version_major": 2,
       "version_minor": 0
      },
      "text/plain": [
       "interactive(children=(FloatText(value=0.0, description='P_A', step=0.1), Output()), _dom_classes=('widget-inte…"
      ]
     },
     "metadata": {},
     "output_type": "display_data"
    },
    {
     "name": "stdout",
     "output_type": "stream",
     "text": [
      "Ingresa la presión de B [m.c.l.]: \n"
     ]
    },
    {
     "data": {
      "application/vnd.jupyter.widget-view+json": {
       "model_id": "d23ff37500fc49018106693ee59d67de",
       "version_major": 2,
       "version_minor": 0
      },
      "text/plain": [
       "interactive(children=(FloatText(value=0.0, description='P_B', step=0.1), Output()), _dom_classes=('widget-inte…"
      ]
     },
     "metadata": {},
     "output_type": "display_data"
    },
    {
     "name": "stdout",
     "output_type": "stream",
     "text": [
      "Ingresa la presión de C [m.c.l.]: \n"
     ]
    },
    {
     "data": {
      "application/vnd.jupyter.widget-view+json": {
       "model_id": "3e69fc05c6284b0ba2593cf780205d9d",
       "version_major": 2,
       "version_minor": 0
      },
      "text/plain": [
       "interactive(children=(FloatText(value=0.0, description='P_C', step=0.1), Output()), _dom_classes=('widget-inte…"
      ]
     },
     "metadata": {},
     "output_type": "display_data"
    },
    {
     "name": "stdout",
     "output_type": "stream",
     "text": [
      "Ingresa la longitud de la tubería 1 [m]: \n"
     ]
    },
    {
     "data": {
      "application/vnd.jupyter.widget-view+json": {
       "model_id": "0d0f106a9ff04e16ae50633b7531baad",
       "version_major": 2,
       "version_minor": 0
      },
      "text/plain": [
       "interactive(children=(FloatText(value=0.0, description='L_1', step=0.01), Output()), _dom_classes=('widget-int…"
      ]
     },
     "metadata": {},
     "output_type": "display_data"
    },
    {
     "name": "stdout",
     "output_type": "stream",
     "text": [
      "Ingresa la longitud de la tubería 2 [m]: \n"
     ]
    },
    {
     "data": {
      "application/vnd.jupyter.widget-view+json": {
       "model_id": "2476231294104bd3952d72eff6028dc3",
       "version_major": 2,
       "version_minor": 0
      },
      "text/plain": [
       "interactive(children=(FloatText(value=0.0, description='L_2', step=0.01), Output()), _dom_classes=('widget-int…"
      ]
     },
     "metadata": {},
     "output_type": "display_data"
    },
    {
     "name": "stdout",
     "output_type": "stream",
     "text": [
      "Ingresa la longitud de la tubería 3 [m]: \n"
     ]
    },
    {
     "data": {
      "application/vnd.jupyter.widget-view+json": {
       "model_id": "068320a715e644dcb4e223fee4c6a36e",
       "version_major": 2,
       "version_minor": 0
      },
      "text/plain": [
       "interactive(children=(FloatText(value=0.0, description='L_3', step=0.01), Output()), _dom_classes=('widget-int…"
      ]
     },
     "metadata": {},
     "output_type": "display_data"
    },
    {
     "name": "stdout",
     "output_type": "stream",
     "text": [
      "Ingresa el diámetro de la tubería 1 [m]: \n"
     ]
    },
    {
     "data": {
      "application/vnd.jupyter.widget-view+json": {
       "model_id": "c7a409067980498aa370eb08dd0154c8",
       "version_major": 2,
       "version_minor": 0
      },
      "text/plain": [
       "interactive(children=(FloatText(value=0.0, description='D_1', step=0.01), Output()), _dom_classes=('widget-int…"
      ]
     },
     "metadata": {},
     "output_type": "display_data"
    },
    {
     "name": "stdout",
     "output_type": "stream",
     "text": [
      "Ingresa el diámetro de la tubería 2 [m]: \n"
     ]
    },
    {
     "data": {
      "application/vnd.jupyter.widget-view+json": {
       "model_id": "988c7e7d6874466aaddc95f4affdb012",
       "version_major": 2,
       "version_minor": 0
      },
      "text/plain": [
       "interactive(children=(FloatText(value=0.0, description='D_2', step=0.01), Output()), _dom_classes=('widget-int…"
      ]
     },
     "metadata": {},
     "output_type": "display_data"
    },
    {
     "name": "stdout",
     "output_type": "stream",
     "text": [
      "Ingresa la cota de A: \n"
     ]
    },
    {
     "data": {
      "application/vnd.jupyter.widget-view+json": {
       "model_id": "bc1f755a0d0f4f5eb14754a52a746d2f",
       "version_major": 2,
       "version_minor": 0
      },
      "text/plain": [
       "interactive(children=(FloatText(value=0.0, description='z_a', step=1.0), Output()), _dom_classes=('widget-inte…"
      ]
     },
     "metadata": {},
     "output_type": "display_data"
    },
    {
     "name": "stdout",
     "output_type": "stream",
     "text": [
      "Ingresa la cota de B: \n"
     ]
    },
    {
     "data": {
      "application/vnd.jupyter.widget-view+json": {
       "model_id": "d729eb64b9634472b5849335601bdcfa",
       "version_major": 2,
       "version_minor": 0
      },
      "text/plain": [
       "interactive(children=(FloatText(value=0.0, description='z_b', step=1.0), Output()), _dom_classes=('widget-inte…"
      ]
     },
     "metadata": {},
     "output_type": "display_data"
    },
    {
     "name": "stdout",
     "output_type": "stream",
     "text": [
      "Ingresa la cota de C: \n"
     ]
    },
    {
     "data": {
      "application/vnd.jupyter.widget-view+json": {
       "model_id": "9449ca0533424b7097a6934f36ef23fc",
       "version_major": 2,
       "version_minor": 0
      },
      "text/plain": [
       "interactive(children=(FloatText(value=0.0, description='z_c', step=1.0), Output()), _dom_classes=('widget-inte…"
      ]
     },
     "metadata": {},
     "output_type": "display_data"
    },
    {
     "name": "stdout",
     "output_type": "stream",
     "text": [
      "Ingresa la cota de N: \n"
     ]
    },
    {
     "data": {
      "application/vnd.jupyter.widget-view+json": {
       "model_id": "89912615aa3b4938a60c491fd37b59b4",
       "version_major": 2,
       "version_minor": 0
      },
      "text/plain": [
       "interactive(children=(FloatText(value=0.0, description='z_n', step=1.0), Output()), _dom_classes=('widget-inte…"
      ]
     },
     "metadata": {},
     "output_type": "display_data"
    },
    {
     "name": "stdout",
     "output_type": "stream",
     "text": [
      "Ingresa el caudal mínimo [m3/s]: \n"
     ]
    },
    {
     "data": {
      "application/vnd.jupyter.widget-view+json": {
       "model_id": "abc862f7219a44cd953259cd66c5b5e7",
       "version_major": 2,
       "version_minor": 0
      },
      "text/plain": [
       "interactive(children=(FloatText(value=0.0, description='Q', step=0.001), Output()), _dom_classes=('widget-inte…"
      ]
     },
     "metadata": {},
     "output_type": "display_data"
    },
    {
     "name": "stdout",
     "output_type": "stream",
     "text": [
      "Ingresa la densidad relativa del fluido: \n"
     ]
    },
    {
     "data": {
      "application/vnd.jupyter.widget-view+json": {
       "model_id": "dcc73a831fa74567aedf873a6f08105e",
       "version_major": 2,
       "version_minor": 0
      },
      "text/plain": [
       "interactive(children=(FloatText(value=0.0, description='s', step=0.01), Output()), _dom_classes=('widget-inter…"
      ]
     },
     "metadata": {},
     "output_type": "display_data"
    },
    {
     "name": "stdout",
     "output_type": "stream",
     "text": [
      "Ingresa el factor de paso adimensional de la válvula: \n"
     ]
    },
    {
     "data": {
      "application/vnd.jupyter.widget-view+json": {
       "model_id": "36d8a0ede04b441c9f3d9dc915b962e3",
       "version_major": 2,
       "version_minor": 0
      },
      "text/plain": [
       "interactive(children=(FloatText(value=0.0, description='K_v', step=0.01), Output()), _dom_classes=('widget-int…"
      ]
     },
     "metadata": {},
     "output_type": "display_data"
    },
    {
     "name": "stdout",
     "output_type": "stream",
     "text": [
      "Ingresa la rugosidad de la tubería [cm]: \n"
     ]
    },
    {
     "data": {
      "application/vnd.jupyter.widget-view+json": {
       "model_id": "c1c1e8282912456b9b008315ab6f5b57",
       "version_major": 2,
       "version_minor": 0
      },
      "text/plain": [
       "interactive(children=(Dropdown(description='Tubería:', options=(('Acero roblonado', 0.18), ('Hormigón', 0.12),…"
      ]
     },
     "metadata": {},
     "output_type": "display_data"
    }
   ],
   "source": [
    "#Pedimos al usuario que ingrese los datos del problema, datos de entrada\n",
    "\n",
    "print(\"Ingresa la presión de A [m.c.l.]: \")\n",
    "P_A= interactive(P_A, P_A=widgets.FloatText(min=-50, max=1000, step=0.1, value=0));\n",
    "display(P_A)\n",
    "\n",
    "print(\"Ingresa la presión de B [m.c.l.]: \")\n",
    "P_B= interactive(P_B, P_B=widgets.FloatText(min=-50, max=1000, step=0.1, value=0));\n",
    "display(P_B)\n",
    "\n",
    "print(\"Ingresa la presión de C [m.c.l.]: \")\n",
    "P_C= interactive(P_C, P_C=widgets.FloatText(min=-50, max=1000, step=0.1, value=0));\n",
    "display(P_C)\n",
    "\n",
    "print(\"Ingresa la longitud de la tubería 1 [m]: \")\n",
    "L_1= interactive(L_1, L_1=widgets.FloatText(min=-10, max=1000, step=0.01, value=0));\n",
    "display(L_1)\n",
    "\n",
    "print(\"Ingresa la longitud de la tubería 2 [m]: \")\n",
    "L_2= interactive(L_2, L_2=widgets.FloatText(min=-10, max=1000, step=0.01, value=0));\n",
    "display(L_2)\n",
    "\n",
    "print(\"Ingresa la longitud de la tubería 3 [m]: \")\n",
    "L_3= interactive(L_3, L_3=widgets.FloatText(min=-10, max=1000, step=0.01, value=0));\n",
    "display(L_3)\n",
    "\n",
    "print(\"Ingresa el diámetro de la tubería 1 [m]: \")\n",
    "D_1= interactive(D_1, D_1=widgets.FloatText(min=-10, max=1000, step=0.01, value=0));\n",
    "display(D_1)\n",
    "\n",
    "print(\"Ingresa el diámetro de la tubería 2 [m]: \")\n",
    "D_2= interactive(D_2, D_2=widgets.FloatText(min=-10, max=1000, step=0.01, value=0));\n",
    "display(D_2)\n",
    "\n",
    "print(\"Ingresa la cota de A: \")\n",
    "z_a= interactive(z_a, z_a=widgets.FloatText(min=-50, max=1000, step=1, value=0));\n",
    "display(z_a)\n",
    "\n",
    "print(\"Ingresa la cota de B: \")\n",
    "z_b= interactive(z_b, z_b=widgets.FloatText(min=-50, max=1000, step=1, value=0));\n",
    "display(z_b)\n",
    "\n",
    "print(\"Ingresa la cota de C: \")\n",
    "z_c= interactive(z_c, z_c=widgets.FloatText(min=-50, max=1000, step=1, value=0));\n",
    "display(z_c)\n",
    "\n",
    "print(\"Ingresa la cota de N: \")\n",
    "z_n= interactive(z_n, z_n=widgets.FloatText(min=-50, max=1000, step=1, value=0));\n",
    "display(z_n)\n",
    "\n",
    "print(\"Ingresa el caudal mínimo [m3/s]: \")\n",
    "Q= interactive(Q, Q=widgets.FloatText(min=-10, max=100, step=0.001, value=0));\n",
    "display(Q)\n",
    "\n",
    "print(\"Ingresa la densidad relativa del fluido: \")\n",
    "s= interactive(s, s=widgets.FloatText(min=-10, max=100, step=0.01, value=0));\n",
    "display(s)\n",
    "\n",
    "print(\"Ingresa el factor de paso adimensional de la válvula: \")\n",
    "K_v= interactive(K_v, K_v=widgets.FloatText(min=-10, max=100, step=0.01, value=0));\n",
    "display(K_v)\n",
    "\n",
    "print(\"Ingresa la rugosidad de la tubería [cm]: \")\n",
    "\n",
    "rugosidad= interactive(rugosidad, rugosidad=widgets.Dropdown(\n",
    "    options=[('Acero roblonado', 0.18), \n",
    "             ('Hormigón', 0.12), \n",
    "             ('Hierro fundido (Fundición)', 0.026), \n",
    "             ('Madera', 0.06), \n",
    "             ('Hierro galvanizado', 0.015), \n",
    "             ('Fundición asfaltada', 0.012), \n",
    "             ('Acero comercial y soldado', 0.006), \n",
    "             ('Hierro forjado', 0.006), \n",
    "             ('Tubo estirado', 0.00024), \n",
    "             ('Latón y cobre', 0.00015), \n",
    "             ('Fibrocemento', 0.01), \n",
    "             ('PVC y PE', 0.0007)],\n",
    "    description='Tubería:',\n",
    "));\n",
    "display(rugosidad)\n",
    "\n",
    "#Constantes\n",
    "g=9.8"
   ]
  },
  {
   "cell_type": "code",
   "execution_count": 3,
   "metadata": {},
   "outputs": [],
   "source": [
    "Q_3= Q.result"
   ]
  },
  {
   "cell_type": "code",
   "execution_count": 4,
   "metadata": {},
   "outputs": [
    {
     "name": "stdout",
     "output_type": "stream",
     "text": [
      "El área en la tubería 2 es 0.04908738521234052 m2\n",
      "La velocidad en la tubería 2 es 1.5278874536821951 m/s\n"
     ]
    }
   ],
   "source": [
    "#Calculamos la velocidad en la tubería 2\n",
    "\n",
    "A_2= pi * ((D_2.result)**2) /4\n",
    "v_2= Q.result/A_2\n",
    "\n",
    "print(\"El área en la tubería 2 es\", A_2 ,\"m2\")\n",
    "print(\"La velocidad en la tubería 2 es\", v_2 , \"m/s\")"
   ]
  },
  {
   "cell_type": "code",
   "execution_count": 5,
   "metadata": {},
   "outputs": [
    {
     "name": "stdout",
     "output_type": "stream",
     "text": [
      "Ingresa la viscosidad cinemática característica del fluido [m2/s]: 0.00003\n",
      "\n",
      "Se obtiene una rugosidad relativa de 0.00024\n",
      "Sustituyendo en la expresión se calcula el Reynolds, Re= 12732.395447351626\n",
      "\n",
      "Como Re>=4000 es un flujo turbulento y depende de la rugosidad de la tubería. Se trata de una tubería lisa.\n",
      "Según la expresión de Blasius se obtiene f= 0.029748121935344186\n"
     ]
    }
   ],
   "source": [
    "#Pedimos al usuario que ingrese la viscosidad cinemática del fluido.\n",
    "\n",
    "viscosidad_cinematica= float(input(\"Ingresa la viscosidad cinemática característica del fluido [m2/s]: \"))\n",
    "print()\n",
    "\n",
    "#Una vez el usuario ingrese la rugosidad, se calcula la rugosidad relativa que servirá para obtener el coeficiente de fricción f.\n",
    "\n",
    "rugosidad_relativa_2= rugosidad.result/(D_2.result*100)\n",
    "print(\"Se obtiene una rugosidad relativa de\",rugosidad_relativa_2)\n",
    "    \n",
    "#Se calcula Reynolds\n",
    "\n",
    "Re_2= (v_2*D_2.result)/viscosidad_cinematica\n",
    "\n",
    "print(\"Sustituyendo en la expresión se calcula el Reynolds, Re=\",Re_2)\n",
    "print()\n",
    "\n",
    "#Ábaco de Moody. Se obtiene el coeficiente de fricción f.\n",
    "f_2= abaco_de_moody(Re_2, rugosidad_relativa_2)\n"
   ]
  },
  {
   "cell_type": "code",
   "execution_count": 6,
   "metadata": {},
   "outputs": [
    {
     "name": "stdout",
     "output_type": "stream",
     "text": [
      "Tras calcular f, sustituimos los datos del problema en la ecuación 1 y obtenemos Bernoulli en el nudo N: 15.604919806894012\n"
     ]
    }
   ],
   "source": [
    "#Sustituir los datos en la expresión (1)\n",
    "\n",
    "B_N= P_B.result + ((v_2**2)/(2*g)) + z_b.result + (K_v.result*((v_2**2)/(2*g))) + (f_2*(L_2.result/D_2.result)*((v_2**2)/(2*g)))\n",
    "print(\"Tras calcular f, sustituimos los datos del problema en la ecuación 1 y obtenemos Bernoulli en el nudo N:\", B_N)"
   ]
  },
  {
   "cell_type": "markdown",
   "metadata": {},
   "source": [
    "<div style=\"background-color:#EAEAE9;padding:10px 40px;text-align:center; vertical-align: middle;font-family:didot;\">\n",
    "\n",
    "<p style=\"font-size: 15px;text-align: justify;\">A continuación, se aplica la ecuación de Bernoulli entre el surtidor A y el nudo N.</p>\n",
    "\n",
    "<p style=\"font-size: 15px;text-align: justify;\">\n",
    "\\begin{equation}\n",
    "    v_{_{A}}=v_{_{1}}  \\\\\n",
    "    B_{_{N}} - h_{f_{1}} - h_{f_v} = B_{_{A}} \\rightarrow \n",
    "    B_{_{N}} - f_{_{1}} \\cdot \\frac{L_{_{1}}}{D_{_{1}}} \\cdot \\frac{{v_{_1}}^{^2}}{2 \\cdot g} - k_{_{v}} \\cdot \\frac{{v_{_1}}^{^2}}{2 \\cdot g} = \\frac{P_{_{A}}}{\\gamma} + z_{_{A}} + \\frac{{v_{_A}}{^{^2}}}{2 \\cdot g}\n",
    "\\end{equation} \n",
    "<br>\n",
    "\n",
    "</p>\n",
    "</div>"
   ]
  },
  {
   "cell_type": "code",
   "execution_count": 7,
   "metadata": {
    "scrolled": false
   },
   "outputs": [
    {
     "name": "stdout",
     "output_type": "stream",
     "text": [
      "\n",
      "Procedemos a iterar:\n",
      "\n",
      "Ingresa el valor de f1: 0.03\n",
      "\n",
      "Con un valor de f1 de 0.03 se obtiene un valor de v1 de 1.1297154835392846 m/s\n",
      "\n",
      "Como Re>=4000 es un flujo turbulento y depende de la rugosidad de la tubería. Se trata de una tubería lisa.\n",
      "Según la expresión de Blasius se obtiene f= 0.03392092034893879\n",
      "\n",
      "╒══════╤═════════╤═════════╤════════╤════════════╤══════════╕\n",
      "│  f1  │   v1    │   Re    │  ε/D1  │  Moody f'  │  f1=f1'  │\n",
      "╞══════╪═════════╪═════════╪════════╪════════════╪══════════╡\n",
      "│ 0.03 │ 1.12972 │ 7531.44 │ 0.0003 │ 0.0339209  │    NO    │\n",
      "╘══════╧═════════╧═════════╧════════╧════════════╧══════════╛\n",
      "\n",
      "Error: 13.06973449646263 % > 0.00001%\n",
      "Se han realizado 1 iteraciones\n",
      "\n",
      "\n",
      "-------\n",
      "\n",
      "Con un valor de f1 de 0.03392092034893879 se obtiene un valor de v1 de 1.0882494616067584 m/s\n",
      "\n",
      "Como Re>=4000 es un flujo turbulento y depende de la rugosidad de la tubería. Se trata de una tubería lisa.\n",
      "Según la expresión de Blasius se obtiene f= 0.03423952902064047\n",
      "\n",
      "╒═══════════╤═════════╤══════╤════════╤════════════╤══════════╕\n",
      "│    f1     │   v1    │  Re  │  ε/D1  │  Moody f'  │  f1=f1'  │\n",
      "╞═══════════╪═════════╪══════╪════════╪════════════╪══════════╡\n",
      "│ 0.0339209 │ 1.08825 │ 7255 │ 0.0003 │ 0.0342395  │    NO    │\n",
      "╘═══════════╧═════════╧══════╧════════╧════════════╧══════════╛\n",
      "\n",
      "Error: 0.9392689479654787 % > 0.00001%\n",
      "Se han realizado 2 iteraciones\n",
      "\n",
      "\n",
      "-------\n",
      "\n",
      "Con un valor de f1 de 0.03423952902064047 se obtiene un valor de v1 de 1.0850771582996612 m/s\n",
      "\n",
      "Como Re>=4000 es un flujo turbulento y depende de la rugosidad de la tubería. Se trata de una tubería lisa.\n",
      "Según la expresión de Blasius se obtiene f= 0.0342645270796548\n",
      "\n",
      "╒═══════════╤═════════╤═════════╤════════╤════════════╤══════════╕\n",
      "│    f1     │   v1    │   Re    │  ε/D1  │  Moody f'  │  f1=f1'  │\n",
      "╞═══════════╪═════════╪═════════╪════════╪════════════╪══════════╡\n",
      "│ 0.0342395 │ 1.08508 │ 7233.85 │ 0.0003 │ 0.0342645  │    NO    │\n",
      "╘═══════════╧═════════╧═════════╧════════╧════════════╧══════════╛\n",
      "\n",
      "Error: 0.07300935418608408 % > 0.00001%\n",
      "Se han realizado 3 iteraciones\n",
      "\n",
      "\n",
      "-------\n",
      "\n",
      "Con un valor de f1 de 0.0342645270796548 se obtiene un valor de v1 de 1.0848294312913622 m/s\n",
      "\n",
      "Como Re>=4000 es un flujo turbulento y depende de la rugosidad de la tubería. Se trata de una tubería lisa.\n",
      "Según la expresión de Blasius se obtiene f= 0.03426648303737466\n",
      "\n",
      "╒═══════════╤═════════╤════════╤════════╤════════════╤══════════╕\n",
      "│    f1     │   v1    │   Re   │  ε/D1  │  Moody f'  │  f1=f1'  │\n",
      "╞═══════════╪═════════╪════════╪════════╪════════════╪══════════╡\n",
      "│ 0.0342645 │ 1.08483 │ 7232.2 │ 0.0003 │ 0.0342665  │    NO    │\n",
      "╘═══════════╧═════════╧════════╧════════╧════════════╧══════════╛\n",
      "\n",
      "Error: 0.005708404249422915 % > 0.00001%\n",
      "Se han realizado 4 iteraciones\n",
      "\n",
      "\n",
      "-------\n",
      "\n",
      "Con un valor de f1 de 0.03426648303737466 se obtiene un valor de v1 de 1.0848100552008038 m/s\n",
      "\n",
      "Como Re>=4000 es un flujo turbulento y depende de la rugosidad de la tubería. Se trata de una tubería lisa.\n",
      "Según la expresión de Blasius se obtiene f= 0.03426663604711774\n",
      "\n",
      "╒═══════════╤═════════╤═════════╤════════╤════════════╤══════════╕\n",
      "│    f1     │   v1    │   Re    │  ε/D1  │  Moody f'  │  f1=f1'  │\n",
      "╞═══════════╪═════════╪═════════╪════════╪════════════╪══════════╡\n",
      "│ 0.0342665 │ 1.08481 │ 7232.07 │ 0.0003 │ 0.0342666  │    NO    │\n",
      "╘═══════════╧═════════╧═════════╧════════╧════════════╧══════════╛\n",
      "\n",
      "Error: 0.00044652888047246443 % > 0.00001%\n",
      "Se han realizado 5 iteraciones\n",
      "\n",
      "\n",
      "-------\n",
      "\n",
      "Con un valor de f1 de 0.03426663604711774 se obtiene un valor de v1 de 1.084808539500865 m/s\n",
      "\n",
      "Como Re>=4000 es un flujo turbulento y depende de la rugosidad de la tubería. Se trata de una tubería lisa.\n",
      "Según la expresión de Blasius se obtiene f= 0.034266648016490465\n",
      "\n",
      "╒═══════════╤═════════╤═════════╤════════╤════════════╤══════════╕\n",
      "│    f1     │   v1    │   Re    │  ε/D1  │  Moody f'  │  f1=f1'  │\n",
      "╞═══════════╪═════════╪═════════╪════════╪════════════╪══════════╡\n",
      "│ 0.0342666 │ 1.08481 │ 7232.06 │ 0.0003 │ 0.0342666  │    NO    │\n",
      "╘═══════════╧═════════╧═════════╧════════╧════════════╧══════════╛\n",
      "\n",
      "Error: 3.4930107249726006e-05 % > 0.00001%\n",
      "Se han realizado 6 iteraciones\n",
      "\n",
      "\n",
      "-------\n",
      "\n",
      "Con un valor de f1 de 0.034266648016490465 se obtiene un valor de v1 de 1.084808420933667 m/s\n",
      "\n",
      "Como Re>=4000 es un flujo turbulento y depende de la rugosidad de la tubería. Se trata de una tubería lisa.\n",
      "Según la expresión de Blasius se obtiene f= 0.03426664895280793\n",
      "\n",
      "╒═══════════╤═════════╤═════════╤════════╤════════════╤══════════╕\n",
      "│    f1     │   v1    │   Re    │  ε/D1  │  Moody f'  │  f1=f1'  │\n",
      "╞═══════════╪═════════╪═════════╪════════╪════════════╪══════════╡\n",
      "│ 0.0342666 │ 1.08481 │ 7232.06 │ 0.0003 │ 0.0342666  │    SI    │\n",
      "╘═══════════╧═════════╧═════════╧════════╧════════════╧══════════╛\n",
      "\n",
      "Error: 2.7324454396992092e-06 % < 0.00001%\n",
      "Se han realizado 7 iteraciones\n",
      "\n",
      "\n"
     ]
    }
   ],
   "source": [
    "#El módulo tiene sólo una función, tabulate()\n",
    "#imprime tablas a partir de los datos de entrada de su primer argumento\n",
    "from tabulate import tabulate\n",
    "\n",
    "#Iteración\n",
    "\n",
    "print(\"\\n\"+\"Procedemos a iterar:\"+\"\\n\")\n",
    "\n",
    "#Se calcula la rugosidad relativa que servirá para obtener el coeficiente de fricción f1.\n",
    "rugosidad_relativa_1= rugosidad.result/(D_1.result*100)\n",
    "\n",
    "i=0\n",
    "f_1= float(input(\"Ingresa el valor de f1: \"))\n",
    "print()\n",
    "\n",
    "#abs()--> valor absoluto\n",
    "#tablefmt='fancy_grid'--> formato de la tabla, cuadriculada\n",
    "#stralign='center' --> alineación en el centro\n",
    "\n",
    "while i<9: \n",
    "    \n",
    "    v_1= sqrt((B_N - P_A.result - z_a.result)/((1/(2*g))+(f_1*(L_1.result/(D_1.result*2*g))+(K_v.result/(2*g)))))\n",
    "\n",
    "    print(\"Con un valor de f1 de\", f_1,\"se obtiene un valor de v1 de\", v_1, \"m/s\")\n",
    "    print()\n",
    "    \n",
    "    #Se calcula Reynolds\n",
    "    \n",
    "    Re_1= (v_1*D_1.result)/viscosidad_cinematica\n",
    "    \n",
    "    #Ábaco de Moody. Se obtiene el coeficiente de fricción f1.\n",
    "    \n",
    "    moody_f= abaco_de_moody(Re_1, rugosidad_relativa_1)\n",
    "    \n",
    "    #error en %\n",
    "    error= abs(((f_1-moody_f)*100)/f_1)\n",
    "    \n",
    "    #Dependiendo del error se finaliza la iteración\n",
    "    if error>0.00001:\n",
    "        iguales=(\"NO\")\n",
    "        \n",
    "        #Formato de la tabla\n",
    "        iteracion= [['f1', 'v1','Re', 'ε/D1', \"Moody f'\", \"f1=f1'\"],\n",
    "                    [f_1, v_1, Re_1, rugosidad_relativa_1, moody_f, iguales]]\n",
    "        i=i+1\n",
    "        f_1=moody_f\n",
    "        \n",
    "        print()\n",
    "        #Se imprime la tabla\n",
    "        print(tabulate(iteracion, headers='firstrow', tablefmt='fancy_grid',stralign='center',numalign='center'))\n",
    "        print()\n",
    "        print(\"Error:\", error, '% > 0.00001%')\n",
    "        print(\"Se han realizado\",i, \"iteraciones\"+'\\n')\n",
    "        print()\n",
    "        print(\"-------\")\n",
    "        print()\n",
    "    else: \n",
    "        iguales=(\"SI\")\n",
    "        \n",
    "        #Formato de la tabla\n",
    "        iteracion= [['f1', 'v1','Re', 'ε/D1', \"Moody f'\", \"f1=f1'\"],\n",
    "                    [f_1, v_1, Re_1, rugosidad_relativa_1, moody_f, iguales]]\n",
    "        f_1=moody_f\n",
    "        i=i+1\n",
    "        \n",
    "        print()\n",
    "        #Se imprime la tabla\n",
    "        print(tabulate(iteracion, headers='firstrow', tablefmt='fancy_grid',stralign='center',numalign='center'))\n",
    "        print()\n",
    "        print(\"Error:\", error, '% < 0.00001%')\n",
    "        print(\"Se han realizado\",i, \"iteraciones\"+'\\n')\n",
    "        print()\n",
    "        break\n",
    "        \n",
    "if (i==9) and (error>0.00001):\n",
    "    \n",
    "    v_1= sqrt((B_N - P_A.result - z_a.result)/(1/(2*g))+(f_1*(L_1.result/(D_1.result*2*g))+(K_v.result/(2*g))))\n",
    "\n",
    "    print(\"Con un valor de f1 de\", f_1,\"se obtiene un valor de v1 de\", v_1, \"m/s\")\n",
    "    print()\n",
    "    \n",
    "    Re_1= (v_1*D_1.result)/viscosidad_cinematica\n",
    "    \n",
    "    moody_f= abaco_de_moody(Re_1, rugosidad_relativa_1)\n",
    "                \n",
    "    iguales=(\"SI\")\n",
    "    \n",
    "    #Formato de la tabla\n",
    "    iteracion= [['f1', 'v1','Re', 'ε/D1', \"Moody f'\", \"f1=f1'\"],\n",
    "                    [f_1, v_1, Re_1, rugosidad_relativa_1, moody_f, iguales]]\n",
    "    error= abs(((f_1-moody_f)*100)/f_1)\n",
    "    f_1=moody_f\n",
    "    i=i+1\n",
    "    \n",
    "    print()\n",
    "    #Se imprime la tabla\n",
    "    print(tabulate(iteracion, headers='firstrow', tablefmt='fancy_grid',stralign='center',numalign='center'))\n",
    "    print()\n",
    "    print(\"Error:\", error, '% > 0.00001%')\n",
    "    print(\"Se han realizado\",i, \"iteraciones\"+'\\n')\n",
    "    print()"
   ]
  },
  {
   "cell_type": "code",
   "execution_count": 8,
   "metadata": {},
   "outputs": [
    {
     "name": "stdout",
     "output_type": "stream",
     "text": [
      "El surtidor A no funcionará correctamente, ya que no alcanza el caudal mínimo que debe suministrar, 0.03408026165757552 m3/s < 0.075 m3/s\n"
     ]
    }
   ],
   "source": [
    "#Calculamos el caudal para comprobar si alcanza el caudal mínimo necesario\n",
    "\n",
    "A_1= (pi*(D_1.result**2))/4\n",
    "Q_1= A_1*v_1\n",
    "\n",
    "#Comprobación\n",
    "if Q_1 < Q.result:\n",
    "    print(\"El surtidor A no funcionará correctamente, ya que no alcanza el caudal mínimo que debe suministrar,\", Q_1, \"m3/s <\",Q.result, \"m3/s\")\n",
    "else:\n",
    "    print(\"El surtidor A funcionará correctamente, ya que supera el caudal mínimo que debe suministrar,\", Q_1, \"m3/s >\",Q.result, \"m3/s\")"
   ]
  },
  {
   "cell_type": "markdown",
   "metadata": {},
   "source": [
    "<div style=\"background-color:#EAEAE9;padding:10px 40px;text-align:center; vertical-align: middle;font-family:didot;\">\n",
    "\n",
    "<p style=\"font-size: 15px;text-align: justify;\"><b>b) Deducir el diámetro exacto de la tubería del tramo 3 que proporciona el caudal mínimo. </b></p>\n",
    "\n",
    "<p style=\"font-size: 15px;text-align: justify;\">Se aplica la ecuación de Bernoulli entre el surtidor C y el nudo N.</p>\n",
    "    \n",
    "<p style=\"font-size: 15px;text-align: justify;\">\n",
    "\\begin{equation}\n",
    "    v_{_{C}}=v_{_{3}}  \\\\\n",
    "    B_{_{N}} - h_{f_{3}} - h_{f_v} = B_{_{C}} \\rightarrow \n",
    "    B_{_{N}} - f_{_{3}} \\cdot \\frac{L_{_{3}}}{D_{_{3}}} \\cdot \\frac{{v_{_3}}^{^2}}{2 \\cdot g} - k_{v} \\cdot \\frac{{v_{_3}}^{^2}}{2 \\cdot g} = \\frac{P_{_{C}}}{\\gamma} + z_{_{C}} + \\frac{{v_{_C}}{^{^2}}}{2 \\cdot g}\n",
    "\\end{equation} </p>\n",
    "    \n",
    "<p style=\"font-size: 15px;text-align: justify;\">Se obtiene una ecuación con dos incógnitas: D y f3, donde no se tiene datos para entrar en el Ábaco de Moody o las expresiones para conocer f y calcular D.</p>\n",
    "    \n",
    "</div>"
   ]
  },
  {
   "cell_type": "code",
   "execution_count": 9,
   "metadata": {},
   "outputs": [
    {
     "name": "stdout",
     "output_type": "stream",
     "text": [
      "\n",
      "Procedemos a iterar:\n",
      "\n",
      "Ingresa el valor de f3: 0.03\n",
      "\n",
      "Con un valor de f3 de 0.03 se obtiene un diámetro D3 de 0.259042777477652 m y un valor de v3 de 1.42307702131265 m/s\n",
      "\n",
      "Como Re>=4000 es un flujo turbulento y depende de la rugosidad de la tubería. Se trata de una tubería lisa.\n",
      "Según la expresión de Blasius se obtiene f= 0.0300135538708030\n",
      "\n",
      "╒══════╤══════════╤═════════╤═════════╤═════════════╤════════════╤══════════╕\n",
      "│  f3  │    D3    │   v3    │   Re    │    ε/D3     │  Moody f'  │  f3=f3'  │\n",
      "╞══════╪══════════╪═════════╪═════════╪═════════════╪════════════╪══════════╡\n",
      "│ 0.03 │ 0.259043 │ 1.42308 │ 12287.9 │ 0.000231622 │ 0.0300136  │    NO    │\n",
      "╘══════╧══════════╧═════════╧═════════╧═════════════╧════════════╧══════════╛\n",
      "\n",
      "Error: 0.0451795693432363 % > 0.00001%\n",
      "Se han realizado 1 iteraciones\n",
      "\n",
      "\n",
      "-------\n",
      "\n",
      "Con un valor de f3 de 0.0300135538708030 se obtiene un diámetro D3 de 0.259052342983674 m y un valor de v3 de 1.42297192903407 m/s\n",
      "\n",
      "Como Re>=4000 es un flujo turbulento y depende de la rugosidad de la tubería. Se trata de una tubería lisa.\n",
      "Según la expresión de Blasius se obtiene f= 0.0300138309397659\n",
      "\n",
      "╒═══════════╤══════════╤═════════╤═════════╤═════════════╤════════════╤══════════╕\n",
      "│    f3     │    D3    │   v3    │   Re    │    ε/D3     │  Moody f'  │  f3=f3'  │\n",
      "╞═══════════╪══════════╪═════════╪═════════╪═════════════╪════════════╪══════════╡\n",
      "│ 0.0300136 │ 0.259052 │ 1.42297 │ 12287.5 │ 0.000231613 │ 0.0300138  │    NO    │\n",
      "╘═══════════╧══════════╧═════════╧═════════╧═════════════╧════════════╧══════════╛\n",
      "\n",
      "Error: 0.000923146136418686 % > 0.00001%\n",
      "Se han realizado 2 iteraciones\n",
      "\n",
      "\n",
      "-------\n",
      "\n",
      "Con un valor de f3 de 0.0300138309397659 se obtiene un diámetro D3 de 0.259052538505355 m y un valor de v3 de 1.42296978103923 m/s\n",
      "\n",
      "Como Re>=4000 es un flujo turbulento y depende de la rugosidad de la tubería. Se trata de una tubería lisa.\n",
      "Según la expresión de Blasius se obtiene f= 0.0300138366030548\n",
      "\n",
      "╒═══════════╤══════════╤═════════╤═════════╤═════════════╤════════════╤══════════╕\n",
      "│    f3     │    D3    │   v3    │   Re    │    ε/D3     │  Moody f'  │  f3=f3'  │\n",
      "╞═══════════╪══════════╪═════════╪═════════╪═════════════╪════════════╪══════════╡\n",
      "│ 0.0300138 │ 0.259053 │ 1.42297 │ 12287.5 │ 0.000231613 │ 0.0300138  │    NO    │\n",
      "╘═══════════╧══════════╧═════════╧═════════╧═════════════╧════════════╧══════════╛\n",
      "\n",
      "Error: 1.88689303957155e-5 % > 0.00001%\n",
      "Se han realizado 3 iteraciones\n",
      "\n",
      "\n",
      "-------\n",
      "\n",
      "Con un valor de f3 de 0.0300138366030548 se obtiene un diámetro D3 de 0.259052542501810 m y un valor de v3 de 1.42296973713435 m/s\n",
      "\n",
      "Como Re>=4000 es un flujo turbulento y depende de la rugosidad de la tubería. Se trata de una tubería lisa.\n",
      "Según la expresión de Blasius se obtiene f= 0.0300138367188122\n",
      "\n",
      "╒═══════════╤══════════╤═════════╤═════════╤═════════════╤════════════╤══════════╕\n",
      "│    f3     │    D3    │   v3    │   Re    │    ε/D3     │  Moody f'  │  f3=f3'  │\n",
      "╞═══════════╪══════════╪═════════╪═════════╪═════════════╪════════════╪══════════╡\n",
      "│ 0.0300138 │ 0.259053 │ 1.42297 │ 12287.5 │ 0.000231613 │ 0.0300138  │    SI    │\n",
      "╘═══════════╧══════════╧═════════╧═════════╧═════════════╧════════════╧══════════╛\n",
      "\n",
      "Error: 3.85680024744779e-7 % < 0.00001%\n",
      "Se han realizado 4 iteraciones\n",
      "\n",
      "\n"
     ]
    }
   ],
   "source": [
    "from sympy.solvers import nsolve\n",
    "from sympy import Symbol\n",
    "x = Symbol('x')\n",
    "\n",
    "#Iteración\n",
    "\n",
    "print(\"\\n\"+\"Procedemos a iterar:\"+\"\\n\")\n",
    "\n",
    "i=0\n",
    "f_3= float(input(\"Ingresa el valor de f3: \"))\n",
    "print()\n",
    "\n",
    "#abs()--> valor absoluto\n",
    "#tablefmt='fancy_grid'--> formato de la tabla, cuadriculada\n",
    "#stralign='center' --> alineación en el centro\n",
    "\n",
    "while i<9: \n",
    "    \n",
    "    #Calculamos el diámetro de la tubería.\n",
    "    \n",
    "    D_3=nsolve(B_N-(f_3*(L_3.result/x)*((((Q_3*4)/(pi*x**2))**2)/(2*g)))-(K_v.result*((((Q_3*4)/(pi*x**2))**2)/(2*g)))-z_c.result-P_C.result-((((Q_3*4)/(pi*x**2))**2)/(2*g)),x,0.1)\n",
    "    \n",
    "    #Se calcula la rugosidad relativa que servirá para obtener el coeficiente de fricción f1.\n",
    "    \n",
    "    rugosidad_relativa_3= rugosidad.result/(D_3*100)\n",
    "\n",
    "    #Con el diámetro calculado anteriormente, calculamos la velocidad en la tubería.\n",
    "    \n",
    "    v_3= (Q_3*4)/(pi*D_3**2)\n",
    "\n",
    "    print(\"Con un valor de f3 de\", f_3,\"se obtiene un diámetro D3 de\", D_3, \"m y un valor de v3 de\", v_3, \"m/s\")\n",
    "    print()\n",
    "    \n",
    "    #Se calcula Reynolds\n",
    "    \n",
    "    Re_3= (v_3*D_3)/viscosidad_cinematica\n",
    "    \n",
    "    #Ábaco de Moody. Se obtiene el coeficiente de fricción f1.\n",
    "    \n",
    "    moody_f= abaco_de_moody(Re_3, rugosidad_relativa_3)\n",
    "    \n",
    "    #error en %\n",
    "    error= abs(((f_3-moody_f)*100)/f_3)\n",
    "    \n",
    "    #Dependiendo del error se finaliza la iteración\n",
    "    if error>0.00001:\n",
    "        iguales=(\"NO\")\n",
    "        \n",
    "        #Formato de la tabla\n",
    "        iteracion= [['f3','D3', 'v3','Re', 'ε/D3', \"Moody f'\", \"f3=f3'\"],\n",
    "                    [f_3, D_3, v_3, Re_3, rugosidad_relativa_3, moody_f, iguales]]\n",
    "        i=i+1\n",
    "        f_3=moody_f\n",
    "        \n",
    "        print()\n",
    "        #Se imprime la tabla\n",
    "        print(tabulate(iteracion, headers='firstrow', tablefmt='fancy_grid',stralign='center',numalign='center'))\n",
    "        print()\n",
    "        print(\"Error:\", error, '% > 0.00001%')\n",
    "        print(\"Se han realizado\",i, \"iteraciones\"+'\\n')\n",
    "        print()\n",
    "        print(\"-------\")\n",
    "        print()\n",
    "    else: \n",
    "        iguales=(\"SI\")\n",
    "        \n",
    "        #Formato de la tabla\n",
    "        iteracion= [['f3','D3', 'v3','Re', 'ε/D3', \"Moody f'\", \"f3=f3'\"],\n",
    "                    [f_3, D_3, v_3, Re_3, rugosidad_relativa_3, moody_f, iguales]]\n",
    "        f_3=moody_f\n",
    "        i=i+1\n",
    "        \n",
    "        print()\n",
    "        #Se imprime la tabla\n",
    "        print(tabulate(iteracion, headers='firstrow', tablefmt='fancy_grid',stralign='center',numalign='center'))\n",
    "        print()\n",
    "        print(\"Error:\", error, '% < 0.00001%')\n",
    "        print(\"Se han realizado\",i, \"iteraciones\"+'\\n')\n",
    "        print()\n",
    "        break\n",
    "        \n",
    "if (i==9) and (error>0.00001):\n",
    "    \n",
    "    #Calculamos el diámetro de la tubería.\n",
    "    \n",
    "    D_3=nsolve(B_N-(f_3*(L_3.result/x)*((((Q_3*4)/(pi*x**2))**2)/(2*g)))-(K_v.result*((((Q_3*4)/(pi*x**2))**2)/(2*g)))-z_c.result-P_C.result-((((Q_3*4)/(pi*x**2))**2)/(2*g)),x,0.1)\n",
    "    \n",
    "    #Se calcula la rugosidad relativa que servirá para obtener el coeficiente de fricción f1.\n",
    "    \n",
    "    rugosidad_relativa_3= rugosidad.result/(D_3*100)\n",
    "\n",
    "    #Con el diámetro calculado anteriormente, calculamos la velocidad en la tubería.\n",
    "    \n",
    "    v_3= (Q_3*4)/(pi*D_3**2)\n",
    "\n",
    "    print(\"Con un valor de f3 de\", f_3,\"se obtiene un diámetro D3 de\", D_3, \"m y un valor de v3 de\", v_3, \"m/s\")\n",
    "    print()\n",
    "    \n",
    "    #Se calcula Reynolds\n",
    "    \n",
    "    Re_3= (v_3*D_3)/viscosidad_cinematica\n",
    "    \n",
    "    #Ábaco de Moody. Se obtiene el coeficiente de fricción f1.\n",
    "    \n",
    "    moody_f= abaco_de_moody(Re_3, rugosidad_relativa_3)\n",
    "                \n",
    "    iguales=(\"SI\")\n",
    "    \n",
    "    #Formato de la tabla\n",
    "    iteracion= [['f3','D3', 'v3','Re', 'ε/D3', \"Moody f'\", \"f3=f3'\"],\n",
    "                [f_3, D_3, v_3, Re_3, rugosidad_relativa_3, moody_f, iguales]]\n",
    "    error= abs(((f_3-moody_f)*100)/f_3)\n",
    "    f_3=moody_f\n",
    "    i=i+1\n",
    "    \n",
    "    print()\n",
    "    #Se imprime la tabla\n",
    "    print(tabulate(iteracion, headers='firstrow', tablefmt='fancy_grid',stralign='center',numalign='center'))\n",
    "    print()\n",
    "    print(\"Error:\", error, '% > 0.00001%')\n",
    "    print(\"Se han realizado\",i, \"iteraciones\"+'\\n')\n",
    "    print()"
   ]
  },
  {
   "cell_type": "code",
   "execution_count": 10,
   "metadata": {},
   "outputs": [
    {
     "name": "stdout",
     "output_type": "stream",
     "text": [
      "RESULTADO: 259.052542501810 mm\n"
     ]
    }
   ],
   "source": [
    "print(\"RESULTADO:\", D_3 *1000, \"mm\")"
   ]
  },
  {
   "cell_type": "markdown",
   "metadata": {},
   "source": [
    "<div style=\"background-color:#EAEAE9;padding:10px 40px;text-align:center; vertical-align: middle;font-family:didot;\">\n",
    "\n",
    "<p style=\"font-size: 15px;text-align: justify;\"><b>c) Elegir el diámetro comercial entre los de la lista proporcionada para instalar en el tramo 3. </b></p>\n",
    "\n",
    "<p style=\"font-size: 15px;text-align: justify;\">Para ello debemos escoger el diámetro comercial que más se aproxime. </p>\n",
    "\n",
    "</div>"
   ]
  },
  {
   "cell_type": "code",
   "execution_count": 11,
   "metadata": {},
   "outputs": [
    {
     "name": "stdout",
     "output_type": "stream",
     "text": [
      "RESULTADO: 300 mm\n"
     ]
    }
   ],
   "source": [
    "D3=D_3*1000\n",
    "\n",
    "if D3 <=70:\n",
    "    D_comercial= 70\n",
    "if 70 < D3 <= 80:\n",
    "    D_comercial= 80\n",
    "if 80 < D3 <= 100:\n",
    "    D_comercial= 100\n",
    "if 100 < D3 <= 125:\n",
    "    D_comercial= 125\n",
    "if 125 < D3 <= 150:\n",
    "    D_comercial= 150\n",
    "if 150 < D3 <= 175:\n",
    "    D_comercial= 175\n",
    "if 175 < D3 <= 200:\n",
    "    D_comercial= 200\n",
    "if 200 < D3 <= 250:\n",
    "    D_comercial= 250\n",
    "if 250 < D3 <= 300:\n",
    "    D_comercial= 300\n",
    "if 300 < D3 <= 350:\n",
    "    D_comercial= 350\n",
    "if 350 < D3 <= 400:\n",
    "    D_comercial= 400\n",
    "    \n",
    "print(\"RESULTADO:\", D_comercial, \"mm\")"
   ]
  },
  {
   "cell_type": "code",
   "execution_count": null,
   "metadata": {},
   "outputs": [],
   "source": []
  }
 ],
 "metadata": {
  "kernelspec": {
   "display_name": "Python 3",
   "language": "python",
   "name": "python3"
  },
  "language_info": {
   "codemirror_mode": {
    "name": "ipython",
    "version": 3
   },
   "file_extension": ".py",
   "mimetype": "text/x-python",
   "name": "python",
   "nbconvert_exporter": "python",
   "pygments_lexer": "ipython3",
   "version": "3.8.3"
  }
 },
 "nbformat": 4,
 "nbformat_minor": 4
}

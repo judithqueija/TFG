{
 "cells": [
  {
   "cell_type": "markdown",
   "metadata": {},
   "source": [
    "<div style=\"background-color:#282423; text-align:center; vertical-align: middle; padding:10px 40px;\">\n",
    "    <div align=\"left\" style=\"font-size:1em; color:#8c8c8c;font-family:didot;\">Pérdidas de carga en flujos internos</div>\n",
    "<!-- 1em son 16px -->\n",
    "    <div align=\"right\" style=\"font-size:1em; color:#8c8c8c;font-family:didot;\" >Bloque 5</div>\n",
    "    <br/>\n",
    "    <br/>\n",
    "    <br/>\n",
    "    <h1 style=\"margin: 10px;color:white;font-family:didot;\">UTILIZACIÓN DEL ÁBACO DE MOODY</h1>\n",
    "    <hr>\n",
    "    <h1 style=\"margin: 10px;color:white;font-family:didot;\">TIPOS DE PROBLEMAS</h1>\n",
    "    <h1 style=\"margin: 10px;color:#BFAE5F;font-family:didot;\"><em>~ Tipo II-B ~</em></h1>\n",
    "    <br/>\n",
    "    <div style=\"padding:10px 15px;\">\n",
    "<p style=\"font-size: 20px;color:white;font-family:didot;\">\n",
    "<b>Datos:</b> L, D, $\\upsilon$, $\\varepsilon$  <br/>\n",
    "    <br/>\n",
    "<b>Incógnita:</b> Q, $h_f$ $\\rightarrow$ Proceso de iteración $v = f(f)$</p> \n",
    "        </div>\n",
    "</div>\n",
    "<br/>\n",
    "<div style=\"background-color:#EAEAE9;padding:10px 40px;text-align:center; vertical-align: middle;font-family:didot;\">\n",
    "    <h1><b style=\"font-size: 17px;\">Ejercicio 6.21 de la colección de problemas</b></h1>\n",
    "    <hr>\n",
    "<p style=\"font-size: 15px;text-align: justify;\">Se tiene una instalación de llenado de camiones de reparto de keroseno a partir de un depósito de almacenamiento, mediante el sistema de tuberías indicado en la figura. Se pide el caudal circulante en la posición de la figura. Despreciar las pérdidas menores.</p>\n",
    "    <p style=\"font-size: 15px;\"> <b>Datos: </b><br>\n",
    "- Temperatura del keroseno= 20ºC  <br>        \n",
    "- Peso específico relativo del keroseno= 0,77<br>\n",
    "- Longitud de la tubería= 25 m <br>\n",
    "- Diámetro= 100 mm <br>\n",
    "- Tubería de acero comercial.</p>\n",
    "    \n",
    "<img src=\"../img/ejercicio_6.21.png\" style=\"height:200px\">\n",
    "    \n",
    "<br>\n",
    "</div>"
   ]
  },
  {
   "cell_type": "markdown",
   "metadata": {},
   "source": [
    "<div style=\"background-color:#EAEAE9;padding:10px 40px;text-align:center; vertical-align: middle;font-family:didot;\">\n",
    "    <h1><b style=\"font-size: 18px;\">Resolución del problema</b></h1>\n",
    "<br>\n",
    "<hr>  \n",
    "\n",
    "<p style=\"font-size: 15px;text-align: justify;\">\n",
    "Del ábaco nº5 se obtiene la viscosidad cinemática característica del fluido.\n",
    "<br>\n",
    "Del cuadro de rugosidades nº20 se obtiene la rugosidad de la tubería.\n",
    "</p>\n",
    "</div>"
   ]
  },
  {
   "cell_type": "code",
   "execution_count": null,
   "metadata": {},
   "outputs": [],
   "source": [
    "pip install -r requirements.txt"
   ]
  },
  {
   "cell_type": "code",
   "execution_count": 1,
   "metadata": {},
   "outputs": [],
   "source": [
    "#Antes que nada, se deben importar los módulos necesarios para usarlos al resolver los problemas. \n",
    "#Son unos ficheros que guardan definiciones y declaraciones de Python.\n",
    "\n",
    "from math import pi, sqrt, log10\n",
    "from ipynb.fs.full.abaco_de_moody import abaco_de_moody, abaco_de_moody_sin_texto\n",
    "from ipywidgets import widgets, interactive\n",
    "from ipynb.fs.full.funciones_variables import D,L,z_a,z_b,P_A,P_B,s,v_a,rugosidad\n",
    "\n",
    "#Crea una lista de los módulos instalados --> help(\"modules\")\n",
    "#Esta función crea una lista de las funciones o variables del módulo --> dir(math)"
   ]
  },
  {
   "cell_type": "code",
   "execution_count": 2,
   "metadata": {
    "scrolled": false
   },
   "outputs": [
    {
     "name": "stdout",
     "output_type": "stream",
     "text": [
      "Ingresa el diámetro de la tubería [m]: \n"
     ]
    },
    {
     "data": {
      "application/vnd.jupyter.widget-view+json": {
       "model_id": "c934dd669aa745a5a6476b2c6071f556",
       "version_major": 2,
       "version_minor": 0
      },
      "text/plain": [
       "interactive(children=(FloatText(value=0.0, description='D', step=0.01), Output()), _dom_classes=('widget-inter…"
      ]
     },
     "metadata": {},
     "output_type": "display_data"
    },
    {
     "name": "stdout",
     "output_type": "stream",
     "text": [
      "Ingresa la longitud de la tubería [m]: \n"
     ]
    },
    {
     "data": {
      "application/vnd.jupyter.widget-view+json": {
       "model_id": "72ce4c8be4fa4f3682a2db59c0aee60f",
       "version_major": 2,
       "version_minor": 0
      },
      "text/plain": [
       "interactive(children=(FloatText(value=0.0, description='L', step=1.0), Output()), _dom_classes=('widget-intera…"
      ]
     },
     "metadata": {},
     "output_type": "display_data"
    },
    {
     "name": "stdout",
     "output_type": "stream",
     "text": [
      "Ingresa la cota de A: \n"
     ]
    },
    {
     "data": {
      "application/vnd.jupyter.widget-view+json": {
       "model_id": "78e31e3a6bbc420eb908ed250f1cd38c",
       "version_major": 2,
       "version_minor": 0
      },
      "text/plain": [
       "interactive(children=(FloatText(value=0.0, description='z_a', step=1.0), Output()), _dom_classes=('widget-inte…"
      ]
     },
     "metadata": {},
     "output_type": "display_data"
    },
    {
     "name": "stdout",
     "output_type": "stream",
     "text": [
      "Ingresa la cota de B: \n"
     ]
    },
    {
     "data": {
      "application/vnd.jupyter.widget-view+json": {
       "model_id": "0796b95ee97941a08ee598a122e273ee",
       "version_major": 2,
       "version_minor": 0
      },
      "text/plain": [
       "interactive(children=(FloatText(value=0.0, description='z_b', step=1.0), Output()), _dom_classes=('widget-inte…"
      ]
     },
     "metadata": {},
     "output_type": "display_data"
    },
    {
     "name": "stdout",
     "output_type": "stream",
     "text": [
      "Ingresa la presión de A [m.c.l.]: \n"
     ]
    },
    {
     "data": {
      "application/vnd.jupyter.widget-view+json": {
       "model_id": "2a426b9d202e4368884dd060ab0da8a7",
       "version_major": 2,
       "version_minor": 0
      },
      "text/plain": [
       "interactive(children=(FloatText(value=0.0, description='P_A', step=0.1), Output()), _dom_classes=('widget-inte…"
      ]
     },
     "metadata": {},
     "output_type": "display_data"
    },
    {
     "name": "stdout",
     "output_type": "stream",
     "text": [
      "Ingresa la presión de B [m.c.l.]: \n"
     ]
    },
    {
     "data": {
      "application/vnd.jupyter.widget-view+json": {
       "model_id": "a0ad9f91dc9446bcad1e28ee311286b8",
       "version_major": 2,
       "version_minor": 0
      },
      "text/plain": [
       "interactive(children=(FloatText(value=0.0, description='P_B', step=0.1), Output()), _dom_classes=('widget-inte…"
      ]
     },
     "metadata": {},
     "output_type": "display_data"
    },
    {
     "name": "stdout",
     "output_type": "stream",
     "text": [
      "Ingresa la densidad relativa del fluido: \n"
     ]
    },
    {
     "data": {
      "application/vnd.jupyter.widget-view+json": {
       "model_id": "243ae151f26446a8b2983bc65ebd8750",
       "version_major": 2,
       "version_minor": 0
      },
      "text/plain": [
       "interactive(children=(FloatText(value=0.0, description='s', step=0.001), Output()), _dom_classes=('widget-inte…"
      ]
     },
     "metadata": {},
     "output_type": "display_data"
    },
    {
     "name": "stdout",
     "output_type": "stream",
     "text": [
      "Ingresa la velocidad A [m/s]: \n"
     ]
    },
    {
     "data": {
      "application/vnd.jupyter.widget-view+json": {
       "model_id": "5e2e0d2901e0447689522aa60ded06be",
       "version_major": 2,
       "version_minor": 0
      },
      "text/plain": [
       "interactive(children=(FloatText(value=0.0, description='v_a', step=0.01), Output()), _dom_classes=('widget-int…"
      ]
     },
     "metadata": {},
     "output_type": "display_data"
    },
    {
     "name": "stdout",
     "output_type": "stream",
     "text": [
      "Ingresa la rugosidad de la tubería [cm]: \n"
     ]
    },
    {
     "data": {
      "application/vnd.jupyter.widget-view+json": {
       "model_id": "91db193fe5664225ae8f0f05fc847463",
       "version_major": 2,
       "version_minor": 0
      },
      "text/plain": [
       "interactive(children=(Dropdown(description='Tubería:', options=(('Acero roblonado', 0.18), ('Hormigón', 0.12),…"
      ]
     },
     "metadata": {},
     "output_type": "display_data"
    }
   ],
   "source": [
    "#Solicitar al usuario los datos de entrada\n",
    "\n",
    "print(\"Ingresa el diámetro de la tubería [m]: \")\n",
    "D= interactive(D, D=widgets.FloatText(min=-10, max=100, step=0.01, value=0));\n",
    "display(D)\n",
    "\n",
    "print(\"Ingresa la longitud de la tubería [m]: \")\n",
    "L= interactive(L, L=widgets.FloatText(min=-10, max=1000, step=1, value=0));\n",
    "display(L)\n",
    "\n",
    "print(\"Ingresa la cota de A: \")\n",
    "z_a= interactive(z_a, z_a=widgets.FloatText(min=-50, max=1000, step=1, value=0));\n",
    "display(z_a)\n",
    "\n",
    "print(\"Ingresa la cota de B: \")\n",
    "z_b= interactive(z_b, z_b=widgets.FloatText(min=-50, max=1000, step=1, value=0));\n",
    "display(z_b)\n",
    "\n",
    "print(\"Ingresa la presión de A [m.c.l.]: \")\n",
    "P_A= interactive(P_A, P_A=widgets.FloatText(min=-50, max=1000, step=0.1, value=0));\n",
    "display(P_A)\n",
    "\n",
    "print(\"Ingresa la presión de B [m.c.l.]: \")\n",
    "P_B= interactive(P_B, P_B=widgets.FloatText(min=-50, max=1000, step=0.1, value=0));\n",
    "display(P_B)\n",
    "\n",
    "print(\"Ingresa la densidad relativa del fluido: \")\n",
    "s= interactive(s, s=widgets.FloatText(min=-10, max=100, step=0.001, value=0));\n",
    "display(s)\n",
    "\n",
    "print(\"Ingresa la velocidad A [m/s]: \")\n",
    "v_a= interactive(v_a, v_a=widgets.FloatText(min=-50, max=1000, step=0.01, value=0));\n",
    "display(v_a)\n",
    "\n",
    "print(\"Ingresa la rugosidad de la tubería [cm]: \")\n",
    "\n",
    "rugosidad= interactive(rugosidad, rugosidad=widgets.Dropdown(\n",
    "    options=[('Acero roblonado', 0.18), \n",
    "             ('Hormigón', 0.12), \n",
    "             ('Hierro fundido (Fundición)', 0.026), \n",
    "             ('Madera', 0.06), \n",
    "             ('Hierro galvanizado', 0.015), \n",
    "             ('Fundición asfaltada', 0.012), \n",
    "             ('Acero comercial y soldado', 0.006), \n",
    "             ('Hierro forjado', 0.006), \n",
    "             ('Tubo estirado', 0.00024), \n",
    "             ('Latón y cobre', 0.00015), \n",
    "             ('Fibrocemento', 0.01), \n",
    "             ('PVC y PE', 0.0007)],\n",
    "    description='Tubería:',\n",
    "));\n",
    "display(rugosidad)\n",
    "\n",
    "#Constantes\n",
    "\n",
    "g=9.8"
   ]
  },
  {
   "cell_type": "markdown",
   "metadata": {},
   "source": [
    "<div style=\"background-color:#EAEAE9;padding:10px 40px;text-align:center; vertical-align: middle;font-family:didot;\">\n",
    "\n",
    "<p style=\"font-size: 15px;text-align: justify;\">Se aplica la ecuación de Bernoulli entre A y B: </p>\n",
    "\n",
    "<p style=\"font-size: 15px;text-align: justify;\">\n",
    "\\begin{equation}\n",
    "v_{_{B}}=v  \\\\\n",
    "    B_{_{A}} - h_{f_{tubería}} = B_{_{B}} \\rightarrow \\frac{P_{_{A}}}{\\gamma} + z_{_{A}} + \\frac{{v_{_A}}^{^2}}{2 \\cdot g} - f \\cdot \\frac{L}{D} \\cdot \\frac{{v}^{^2}}{2 \\cdot g} = \\frac{P_{_{B}}}{\\gamma} + z_{_{B}} + \\frac{{v_{_{B}}}^{^2}}{2 \\cdot g}\n",
    "\\end{equation}   \n",
    "<br>\n",
    "</p>\n",
    "    \n",
    "<p style=\"font-size: 15px;text-align: justify;\">Sustituyendo los datos se obtiene una ecuación con dos incógnitas: v y f, donde no se tiene datos para entrar en el ábaco de Moody o las expresiones para conocer f y calcular v. Por ello, hay que recurrir a la iteración. </p>\n",
    "</div>"
   ]
  },
  {
   "cell_type": "code",
   "execution_count": 3,
   "metadata": {},
   "outputs": [],
   "source": [
    "#Instalar una libreria no disponible en conda usando otro gestor de libreria, pip.\n",
    "#Anaconda ya incluye pip, por lo que no es necesario instalarlo antes de usarlo\n",
    "#pip install tabulate --> Esta librería es para la realización de tablas"
   ]
  },
  {
   "cell_type": "code",
   "execution_count": 3,
   "metadata": {
    "scrolled": false
   },
   "outputs": [
    {
     "name": "stdout",
     "output_type": "stream",
     "text": [
      "Ingresa la viscosidad cinemática característica del fluido [m2/s]: 0.0000022\n",
      "\n",
      "Procedemos a iterar:\n",
      "\n",
      "Ingresa el valor de f: 0.3\n",
      "\n",
      "Con un valor de f de 0.3 se obtiene un valor de v de 1.0156667501540164 m/s\n",
      "\n",
      "Como Re>=4000 es un flujo turbulento y depende de la rugosidad de la tubería. Se trata de una tubería semirrugosa.\n",
      "Según la expresión aproximada de PSAK se obtiene f= 0.02324757363936047\n",
      "\n",
      "╒═════╤═════════╤═════════╤════════╤════════════╤════════╕\n",
      "│  f  │    v    │   Re    │  ε/D   │  Moody f'  │  f=f'  │\n",
      "╞═════╪═════════╪═════════╪════════╪════════════╪════════╡\n",
      "│ 0.3 │ 1.01567 │ 46166.7 │ 0.0006 │ 0.0232476  │   NO   │\n",
      "╘═════╧═════════╧═════════╧════════╧════════════╧════════╛\n",
      "\n",
      "Error: 92.25080878687984 % > 0.00001%\n",
      "Se han realizado 1 iteraciones\n",
      "\n",
      "\n",
      "-------\n",
      "\n",
      "Con un valor de f de 0.02324757363936047 se obtiene un valor de v de 3.3925332239923103 m/s\n",
      "\n",
      "Como Re>=4000 es un flujo turbulento y depende de la rugosidad de la tubería. Se trata de una tubería semirrugosa.\n",
      "Según la expresión aproximada de PSAK se obtiene f= 0.01988550961547504\n",
      "\n",
      "╒═══════════╤═════════╤════════╤════════╤════════════╤════════╕\n",
      "│     f     │    v    │   Re   │  ε/D   │  Moody f'  │  f=f'  │\n",
      "╞═══════════╪═════════╪════════╪════════╪════════════╪════════╡\n",
      "│ 0.0232476 │ 3.39253 │ 154206 │ 0.0006 │ 0.0198855  │   NO   │\n",
      "╘═══════════╧═════════╧════════╧════════╧════════════╧════════╛\n",
      "\n",
      "Error: 14.461999673777218 % > 0.00001%\n",
      "Se han realizado 2 iteraciones\n",
      "\n",
      "\n",
      "-------\n",
      "\n",
      "Con un valor de f de 0.01988550961547504 se obtiene un valor de v de 3.6234374707301624 m/s\n",
      "\n",
      "Como Re>=4000 es un flujo turbulento y depende de la rugosidad de la tubería. Se trata de una tubería semirrugosa.\n",
      "Según la expresión aproximada de PSAK se obtiene f= 0.019763502828007977\n",
      "\n",
      "╒═══════════╤═════════╤════════╤════════╤════════════╤════════╕\n",
      "│     f     │    v    │   Re   │  ε/D   │  Moody f'  │  f=f'  │\n",
      "╞═══════════╪═════════╪════════╪════════╪════════════╪════════╡\n",
      "│ 0.0198855 │ 3.62344 │ 164702 │ 0.0006 │ 0.0197635  │   NO   │\n",
      "╘═══════════╧═════════╧════════╧════════╧════════════╧════════╛\n",
      "\n",
      "Error: 0.6135461943209046 % > 0.00001%\n",
      "Se han realizado 3 iteraciones\n",
      "\n",
      "\n",
      "-------\n",
      "\n",
      "Con un valor de f de 0.019763502828007977 se obtiene un valor de v de 3.6327273044458726 m/s\n",
      "\n",
      "Como Re>=4000 es un flujo turbulento y depende de la rugosidad de la tubería. Se trata de una tubería semirrugosa.\n",
      "Según la expresión aproximada de PSAK se obtiene f= 0.01975886457964273\n",
      "\n",
      "╒═══════════╤═════════╤════════╤════════╤════════════╤════════╕\n",
      "│     f     │    v    │   Re   │  ε/D   │  Moody f'  │  f=f'  │\n",
      "╞═══════════╪═════════╪════════╪════════╪════════════╪════════╡\n",
      "│ 0.0197635 │ 3.63273 │ 165124 │ 0.0006 │ 0.0197589  │   NO   │\n",
      "╘═══════════╧═════════╧════════╧════════╧════════════╧════════╛\n",
      "\n",
      "Error: 0.02346875655399085 % > 0.00001%\n",
      "Se han realizado 4 iteraciones\n",
      "\n",
      "\n",
      "-------\n",
      "\n",
      "Con un valor de f de 0.01975886457964273 se obtiene un valor de v de 3.633081880927379 m/s\n",
      "\n",
      "Como Re>=4000 es un flujo turbulento y depende de la rugosidad de la tubería. Se trata de una tubería semirrugosa.\n",
      "Según la expresión aproximada de PSAK se obtiene f= 0.019758687936563192\n",
      "\n",
      "╒═══════════╤═════════╤════════╤════════╤════════════╤════════╕\n",
      "│     f     │    v    │   Re   │  ε/D   │  Moody f'  │  f=f'  │\n",
      "╞═══════════╪═════════╪════════╪════════╪════════════╪════════╡\n",
      "│ 0.0197589 │ 3.63308 │ 165140 │ 0.0006 │ 0.0197587  │   NO   │\n",
      "╘═══════════╧═════════╧════════╧════════╧════════════╧════════╛\n",
      "\n",
      "Error: 0.0008939940796019578 % > 0.00001%\n",
      "Se han realizado 5 iteraciones\n",
      "\n",
      "\n",
      "-------\n",
      "\n",
      "Con un valor de f de 0.019758687936563192 se obtiene un valor de v de 3.633095386672741 m/s\n",
      "\n",
      "Como Re>=4000 es un flujo turbulento y depende de la rugosidad de la tubería. Se trata de una tubería semirrugosa.\n",
      "Según la expresión aproximada de PSAK se obtiene f= 0.019758681208831137\n",
      "\n",
      "╒═══════════╤════════╤════════╤════════╤════════════╤════════╕\n",
      "│     f     │   v    │   Re   │  ε/D   │  Moody f'  │  f=f'  │\n",
      "╞═══════════╪════════╪════════╪════════╪════════════╪════════╡\n",
      "│ 0.0197587 │ 3.6331 │ 165141 │ 0.0006 │ 0.0197587  │   NO   │\n",
      "╘═══════════╧════════╧════════╧════════╧════════════╧════════╛\n",
      "\n",
      "Error: 3.4049487886461e-05 % > 0.00001%\n",
      "Se han realizado 6 iteraciones\n",
      "\n",
      "\n",
      "-------\n",
      "\n",
      "Con un valor de f de 0.019758681208831137 se obtiene un valor de v de 3.6330959010634674 m/s\n",
      "\n",
      "Como Re>=4000 es un flujo turbulento y depende de la rugosidad de la tubería. Se trata de una tubería semirrugosa.\n",
      "Según la expresión aproximada de PSAK se obtiene f= 0.01975868095259412\n",
      "\n",
      "╒═══════════╤════════╤════════╤════════╤════════════╤════════╕\n",
      "│     f     │   v    │   Re   │  ε/D   │  Moody f'  │  f=f'  │\n",
      "╞═══════════╪════════╪════════╪════════╪════════════╪════════╡\n",
      "│ 0.0197587 │ 3.6331 │ 165141 │ 0.0006 │ 0.0197587  │   SI   │\n",
      "╘═══════════╧════════╧════════╧════════╧════════════╧════════╛\n",
      "\n",
      "Error: 1.2968325922507373e-06 % < 0.00001%\n",
      "Se han realizado 7 iteraciones\n",
      "\n",
      "\n"
     ]
    }
   ],
   "source": [
    "#El módulo tiene sólo una función, tabulate()\n",
    "#imprime tablas a partir de los datos de entrada de su primer argumento\n",
    "from tabulate import tabulate\n",
    "\n",
    "#Pedimos al usuario que ingrese la viscosidad cinemática del fluido \n",
    "\n",
    "viscosidad_cinematica= float(input(\"Ingresa la viscosidad cinemática característica del fluido [m2/s]: \"))\n",
    "\n",
    "#Iteración\n",
    "\n",
    "print(\"\\n\"+\"Procedemos a iterar:\"+\"\\n\")\n",
    "\n",
    "#Una vez el usuario ingrese la rugosidad, se calcula la rugosidad relativa que servirá para obtener el coeficiente de fricción f.\n",
    "\n",
    "rugosidad_relativa= rugosidad.result/(D.result*100)\n",
    "\n",
    "i=0\n",
    "f= float(input(\"Ingresa el valor de f: \"))\n",
    "print()\n",
    "\n",
    "#abs()--> valor absoluto\n",
    "#tablefmt='fancy_grid'--> formato de la tabla, cuadriculada\n",
    "#stralign='center' --> alineación en el centro\n",
    "\n",
    "while i<9: \n",
    "    \n",
    "    v= sqrt((z_a.result+P_A.result+((v_a.result**2)/2*g)-z_b.result-P_B.result)/(((L.result*f)/(D.result*2*g))+(1/(2*g))))\n",
    "\n",
    "    print(\"Con un valor de f de\", f,\"se obtiene un valor de v de\", v, \"m/s\")\n",
    "    print()\n",
    "    \n",
    "    #Se calcula Reynolds\n",
    "    \n",
    "    Re= (v*D.result)/viscosidad_cinematica\n",
    "    \n",
    "    #Ábaco de Moody. Se obtiene el coeficiente de fricción f.\n",
    "    \n",
    "    moody_f= abaco_de_moody(Re, rugosidad_relativa)\n",
    "        \n",
    "    #error en %\n",
    "    error= abs(((f-moody_f)*100)/f)\n",
    "    \n",
    "    #Dependiendo del error se finaliza la iteración\n",
    "    if error>0.00001:\n",
    "        iguales=(\"NO\")\n",
    "        \n",
    "        #Formato de la tabla\n",
    "        iteracion= [['f', 'v', 'Re','ε/D', \"Moody f'\", \"f=f'\"],\n",
    "                    [f, v, Re, rugosidad_relativa, moody_f, iguales]]\n",
    "        i=i+1\n",
    "        f=moody_f\n",
    "        \n",
    "        print()\n",
    "        #Se imprime la tabla\n",
    "        print(tabulate(iteracion, headers='firstrow', tablefmt='fancy_grid',stralign='center',numalign='center')) \n",
    "        print()\n",
    "        print(\"Error:\", error, '% > 0.00001%')\n",
    "        print(\"Se han realizado\",i, \"iteraciones\"+'\\n')\n",
    "        print()\n",
    "        print(\"-------\")\n",
    "        print()\n",
    "    else: \n",
    "        iguales=(\"SI\")\n",
    "        \n",
    "        #Formato de la tabla\n",
    "        iteracion= [['f', 'v', 'Re','ε/D', \"Moody f'\", \"f=f'\"],\n",
    "                    [f, v, Re, rugosidad_relativa, moody_f, iguales]]\n",
    "        f=moody_f\n",
    "        i=i+1\n",
    "        \n",
    "        print()\n",
    "        #Se imprime la tabla\n",
    "        print(tabulate(iteracion, headers='firstrow', tablefmt='fancy_grid',stralign='center',numalign='center'))\n",
    "        print()\n",
    "        print(\"Error:\", error, '% < 0.00001%')\n",
    "        print(\"Se han realizado\",i, \"iteraciones\"+'\\n')\n",
    "        print()\n",
    "        break\n",
    "        \n",
    "if (i==9) and (error>0.00001):\n",
    "    \n",
    "    v= sqrt((z_a.result+P_A.result+((v_a.result**2)/2*g)-z_b.result-P_B.result)/(((L.result*f)/(D.result*2*g))+(1/(2*g))))\n",
    "\n",
    "    print(\"Con un valor de f de\", f,\"se obtiene un valor de v de\", v, \"m/s\")\n",
    "    print()\n",
    "    \n",
    "    Re= (v*D.result)/viscosidad_cinematica\n",
    "    \n",
    "    moody_f= abaco_de_moody(Re, rugosidad_relativa)\n",
    "                \n",
    "    iguales=(\"SI\")\n",
    "    \n",
    "    #Formato de la tabla\n",
    "    iteracion= [['f', 'v', 'Re','ε/D', \"Moody f'\", \"f=f'\"],\n",
    "            [f, v, Re, rugosidad_relativa, moody_f, iguales]]\n",
    "    error= abs(((f-moody_f)*100)/f)\n",
    "    f=moody_f\n",
    "    i=i+1\n",
    "    \n",
    "    print()\n",
    "    #Se imprime la tabla\n",
    "    print(tabulate(iteracion, headers='firstrow', tablefmt='fancy_grid',stralign='center',numalign='center'))\n",
    "    print()\n",
    "    print(\"Error:\", error, '% > 0.00001%')\n",
    "    print(\"Se han realizado\",i, \"iteraciones\"+'\\n')\n",
    "    print()"
   ]
  },
  {
   "cell_type": "code",
   "execution_count": 4,
   "metadata": {},
   "outputs": [
    {
     "name": "stdout",
     "output_type": "stream",
     "text": [
      "Con una velocidad de 3.6330959010634674 m/s se obtiene un caudal circulante de 28.53426848142045 l/s\n"
     ]
    }
   ],
   "source": [
    "#Calculamos el caudal circulante\n",
    "\n",
    "A= ((pi)*D.result**2)/4\n",
    "Q=A*v*1000\n",
    "\n",
    "print(\"Con una velocidad de\", v, \"m/s se obtiene un caudal circulante de\", Q, \"l/s\")"
   ]
  },
  {
   "cell_type": "code",
   "execution_count": 5,
   "metadata": {},
   "outputs": [
    {
     "name": "stdout",
     "output_type": "stream",
     "text": [
      "RESULTADO: 28.53426848142045 l/s\n"
     ]
    }
   ],
   "source": [
    "print(\"RESULTADO:\", Q, \"l/s\")"
   ]
  },
  {
   "cell_type": "markdown",
   "metadata": {},
   "source": [
    "<div style=\"background-color:#EAEAE9;padding:10px 40px;text-align:center; vertical-align: middle;font-family:didot;\">\n",
    "\n",
    "<p style=\"font-size: 15px;text-align: justify;\">Representación gráfica del caudal circulante en función de la presión en A.</p>\n",
    "\n",
    "</div>"
   ]
  },
  {
   "cell_type": "code",
   "execution_count": 6,
   "metadata": {},
   "outputs": [],
   "source": [
    "#Importar el módulo pyplot\n",
    "\n",
    "import matplotlib.pyplot as plt"
   ]
  },
  {
   "cell_type": "code",
   "execution_count": 7,
   "metadata": {},
   "outputs": [
    {
     "name": "stdout",
     "output_type": "stream",
     "text": [
      "[28.53426848142045, 32.03859865436018, 35.211188238618014, 38.131750826203024, 40.85238584036958, 43.409369929149136, 45.829166582147074, 48.13179110248889, 50.33281074820297, 52.444621722875546, 54.477285426829965, 56.43910162567052, 58.33701242134448, 60.17689435360686, 61.96377432360187, 63.7019923045046, 65.39532604358807, 67.04708807720054, 68.66020222214438, 70.23726461411239]\n",
      "\n",
      "[0.0, 1.0, 2.0, 3.0, 4.0, 5.0, 6.0, 7.0, 8.0, 9.0, 10.0, 11.0, 12.0, 13.0, 14.0, 15.0, 16.0, 17.0, 18.0, 19.0]\n"
     ]
    }
   ],
   "source": [
    "#Declaración de una lista vacía\n",
    "presion= []\n",
    "caudal=[]\n",
    "\n",
    "P_A= P_A.result\n",
    "#For para rellenar una lista con un determinado número de elementos\n",
    "for elemento in range(20):\n",
    "    \n",
    "    if elemento==0:\n",
    "        P_A = P_A\n",
    "    else:\n",
    "        P_A= P_A + 1\n",
    "        \n",
    "    presion_valor= P_A\n",
    "    \n",
    "    #####\n",
    "    \n",
    "    i=0\n",
    "    f= 0.3\n",
    "\n",
    "    while i<9: \n",
    "    \n",
    "        v= sqrt((z_a.result+P_A+((v_a.result**2)/2*g)-z_b.result-P_B.result)/(((L.result*f)/(D.result*2*g))+(1/(2*g))))\n",
    "    \n",
    "        #Se calcula Reynolds\n",
    "    \n",
    "        Re= (v*D.result)/viscosidad_cinematica\n",
    "    \n",
    "        #Ábaco de Moody. Se obtiene el coeficiente de fricción f.\n",
    "    \n",
    "        moody_f= abaco_de_moody_sin_texto(Re, rugosidad_relativa)\n",
    "    \n",
    "        #error en %\n",
    "        error= abs(((f-moody_f)*100)/f)\n",
    "    \n",
    "        #Dependiendo del error se finaliza la iteración\n",
    "        if error>0.00001:\n",
    "        \n",
    "            i=i+1\n",
    "            f=moody_f\n",
    "        else: \n",
    "        \n",
    "            f=moody_f\n",
    "            i=i+1\n",
    "            break \n",
    "        \n",
    "    if (i==9) and (error>0.00001):\n",
    "    \n",
    "        v= sqrt((z_a.result+P_A+((v_a.result**2)/2*g)-z_b.result-P_B.result)/(((L.result*f)/(D.result*2*g))+(1/(2*g))))\n",
    "\n",
    "        Re= (v*D.result)/viscosidad_cinematica\n",
    "    \n",
    "        moody_f= abaco_de_moody_sin_texto(Re, rugosidad_relativa)\n",
    "        \n",
    "        error= abs(((f-moody_f)*100)/f)\n",
    "        f=moody_f\n",
    "        i=i+1\n",
    "    \n",
    "    #Calculamos el caudal circulante\n",
    "\n",
    "    A= ((pi)*D.result**2)/4\n",
    "    Q=A*v*1000\n",
    "    \n",
    "    \n",
    "    presion.append(presion_valor)\n",
    "    \n",
    "    caudal.append(Q)\n",
    "\n",
    "print(caudal)\n",
    "print()\n",
    "print(presion)"
   ]
  },
  {
   "cell_type": "code",
   "execution_count": 9,
   "metadata": {},
   "outputs": [
    {
     "data": {
      "image/png": "[encoded data removed]",
      "text/plain": [
       "<Figure size 936x720 with 1 Axes>"
      ]
     },
     "metadata": {
      "needs_background": "light"
     },
     "output_type": "display_data"
    }
   ],
   "source": [
    "plt.plot(presion, caudal, 'o-') #pinta 20 puntos como o y los une con una linea continua\n",
    "\n",
    "#Personalización del gráfico\n",
    "plt.xlabel(\"Presión, m.c.l.\") #etiqueta horizontal, del eje x\n",
    "plt.ylabel(\"Caudal, Q(l/s)\") #etiqueta vertical, del eje y \n",
    "plt.title(\"Caudal circulante en función de la presión en A\") #Título del gráfico\n",
    "plt.rcParams['figure.figsize'] = [13, 10]  #tamaño del grafico en pulgadas, [width, height]\n",
    "\n",
    "\n",
    "plt.show() #muestra el gráfico"
   ]
  },
  {
   "cell_type": "code",
   "execution_count": null,
   "metadata": {},
   "outputs": [],
   "source": []
  }
 ],
 "metadata": {
  "kernelspec": {
   "display_name": "Python 3",
   "language": "python",
   "name": "python3"
  },
  "language_info": {
   "codemirror_mode": {
    "name": "ipython",
    "version": 3
   },
   "file_extension": ".py",
   "mimetype": "text/x-python",
   "name": "python",
   "nbconvert_exporter": "python",
   "pygments_lexer": "ipython3",
   "version": "3.8.3"
  }
 },
 "nbformat": 4,
 "nbformat_minor": 4
}

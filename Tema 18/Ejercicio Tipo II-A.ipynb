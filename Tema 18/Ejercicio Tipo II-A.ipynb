{
 "cells": [
  {
   "cell_type": "markdown",
   "metadata": {},
   "source": [
    "<div style=\"background-color:#282423; text-align:center; vertical-align: middle; padding:10px 40px;\">\n",
    "    <div align=\"left\" style=\"font-size:1em; color:#8c8c8c;font-family:didot;\">Pérdidas de carga en flujos internos</div>\n",
    "<!-- 1em son 16px -->\n",
    "    <div align=\"right\" style=\"font-size:1em; color:#8c8c8c;font-family:didot;\" >Bloque 5</div>\n",
    "    <br/>\n",
    "    <br/>\n",
    "    <br/>\n",
    "    <h1 style=\"margin: 10px;color:white;font-family:didot;\">UTILIZACIÓN DEL ÁBACO DE MOODY</h1>\n",
    "    <hr>\n",
    "    <h1 style=\"margin: 10px;color:white;font-family:didot;\">TIPOS DE PROBLEMAS</h1>\n",
    "    <h1 style=\"margin: 10px;color:#BFAE5F;font-family:didot;\"><em>~ Tipo II-A ~</em></h1>\n",
    "    <br/>\n",
    "    <div style=\"padding:10px 15px;\">\n",
    "<p style=\"font-size: 20px;color:white;font-family:didot;\">\n",
    "<b>Datos:</b> L, D, $\\upsilon$, $\\varepsilon$, $h_f$  <br/>\n",
    "    <br/>\n",
    "<b>Incógnita:</b> Q</p> \n",
    "        </div>\n",
    "</div>\n",
    "<br/>\n",
    "<div style=\"background-color:#EAEAE9;padding:10px 40px;text-align:center; vertical-align: middle;font-family:didot;\">\n",
    "    <h1><b style=\"font-size: 17px;\">Ejercicio 6.2 de la colección de problemas</b></h1>\n",
    "    <hr>\n",
    "<p style=\"font-size: 15px;text-align: justify;\">Mediante una tubería de 150 m de longitud y 200 mm de diámetro de fundición, se transporta petróleo crudo a 20ºC (s=0,86) desde el depósito de almacenamiento A hasta el de servicio B, presurizado. Se quiere conocer el caudal circulante. Despreciar las pérdidas menores.</p>\n",
    "<img src=\"../img/ejercicio_6.2.png\" style=\"height:200px\">\n",
    "<br>\n",
    "</div>"
   ]
  },
  {
   "cell_type": "markdown",
   "metadata": {},
   "source": [
    "<div style=\"background-color:#EAEAE9;padding:10px 40px;text-align:center; vertical-align: middle;font-family:didot;\">\n",
    "    <h1><b style=\"font-size: 18px;\">Resolución del problema</b></h1>\n",
    "<br>\n",
    "<hr>  \n",
    "<p style=\"font-size: 15px;text-align: justify;\">Aplicando Bernoulli entre A y B: </p>\n",
    "\n",
    "<p style=\"font-size: 15px;text-align: justify;\">\n",
    "\\begin{equation}\n",
    "    B_{_{A}} - h_{f} = B_{_{B}} \\rightarrow \\frac{P_{_{A}}}{\\gamma} + z_{_{A}} + \\frac{{v_{_{A}}}^{^2}}{2 \\cdot g} - h_{f} = \\frac{P_{_{B}}}{\\gamma} + z_{_{B}} + \\frac{{v_{_{B}}}^{^2}}{2 \\cdot g}\n",
    "\\end{equation}\n",
    "</p>\n",
    "<br>\n",
    "</div>"
   ]
  },
  {
   "cell_type": "code",
   "execution_count": 1,
   "metadata": {},
   "outputs": [],
   "source": [
    "#Antes que nada, se deben importar los módulos necesarios para usarlos al resolver los problemas. \n",
    "#Son unos ficheros que guardan definiciones y declaraciones de Python.\n",
    "\n",
    "from math import pi\n",
    "\n",
    "#Crea una lista de los módulos instalados --> help(\"modules\")\n",
    "#Esta función crea una lista de las funciones o variables del módulo --> dir(math)"
   ]
  },
  {
   "cell_type": "code",
   "execution_count": 2,
   "metadata": {},
   "outputs": [
    {
     "name": "stdout",
     "output_type": "stream",
     "text": [
      "Ingresa el diámetro de la tubería [m]: 0.2\n",
      "Ingresa la longitud de la tubería [m]: 150\n",
      "Ingresa la cota del depósito A: 80\n",
      "Ingresa la cota del depósito B: 30\n",
      "Ingresa la presión del depósito A [mcl]: 0\n",
      "Ingresa la presión del depósito B [bar]: 2\n",
      "Ingresa la densidad relativa del fluido: 0.86\n",
      "Ingresa la velocidad A [m/s]: 0\n",
      "Ingresa la velocidad B [m/s]: 0\n"
     ]
    }
   ],
   "source": [
    "#Pedimos al usuario que ingrese los datos del problema\n",
    "\n",
    "D= float(input(\"Ingresa el diámetro de la tubería [m]: \"))\n",
    "L= float(input(\"Ingresa la longitud de la tubería [m]: \"))\n",
    "z_a= float(input(\"Ingresa la cota del depósito A: \"))\n",
    "z_b= float(input(\"Ingresa la cota del depósito B: \"))\n",
    "P_A= float(input(\"Ingresa la presión del depósito A [mcl]: \"))\n",
    "P_B= float(input(\"Ingresa la presión del depósito B [bar]: \"))\n",
    "s= float(input(\"Ingresa la densidad relativa del fluido: \"))\n",
    "v_a= float(input(\"Ingresa la velocidad A [m/s]: \"))\n",
    "v_b= float(input(\"Ingresa la velocidad B [m/s]: \"))\n",
    "\n",
    "#Constantes\n",
    "\n",
    "g=9.8\n",
    "\n",
    "#Cambio de unidades\n",
    "\n",
    "P_B_mcl= (P_B * (10**5)) / (s*9800)"
   ]
  },
  {
   "cell_type": "code",
   "execution_count": 3,
   "metadata": {},
   "outputs": [
    {
     "name": "stdout",
     "output_type": "stream",
     "text": [
      "Sustituyendo en la ecuación de Bernoulli, hf: 26.26957759848125 m.c.l.\n"
     ]
    }
   ],
   "source": [
    "#Calculamos las pérdidas de carga en la tubería\n",
    "\n",
    "hf= P_A + z_a + ((v_a**2)/(2*g)) - P_B_mcl - z_b - ((v_b**2)/(2*g))\n",
    "\n",
    "print(\"Sustituyendo en la ecuación de Bernoulli, hf:\", hf, \"m.c.l.\")"
   ]
  },
  {
   "cell_type": "markdown",
   "metadata": {},
   "source": [
    "<div style=\"background-color:#EAEAE9;padding:10px 40px;text-align:center; vertical-align: middle;font-family:didot;\">\n",
    "\n",
    "<p style=\"font-size: 15px;text-align: justify;\">Como hf es un valor constante, se puede resolver directamente sin necesidad de iterar, calculando $f^{\\frac{1}{2}}\\cdot Re$ </p>\n",
    "\n",
    "<p style=\"font-size: 15px;text-align: justify;\">\n",
    "\\begin{equation}\n",
    "    h_{f} = f \\cdot \\frac{L}{D} \\cdot \\frac{v^{^2}}{2 \\cdot g} \\rightarrow \n",
    "    f= h_{f} \\cdot \\frac{D}{L} \\cdot \\frac{2 \\cdot g}{v^{^2}} \\rightarrow\n",
    "    f^{\\frac{1}{2}} = \\frac{1}{v} \\cdot \\left(h_{f} \\cdot D \\cdot \\frac{2 \\cdot g}{L} \\right)^{\\frac{1}{2}}\n",
    "\\end{equation}\n",
    "</p>\n",
    "    \n",
    "<br>\n",
    "    \n",
    "<p style=\"font-size: 15px;text-align: justify;\">Con $f^{\\frac{1}{2}}\\cdot Re$ y $\\frac{\\varepsilon}{D}$ se puede obtener f utilizando el ábaco de Moody.</p>\n",
    "    \n",
    "</div>"
   ]
  },
  {
   "cell_type": "code",
   "execution_count": 4,
   "metadata": {
    "scrolled": true
   },
   "outputs": [],
   "source": [
    "#Calculamos f^1/2 (sin la v ya que al multiplicar con Re se simplifica)\n",
    "\n",
    "f_1_2= (hf*D*((2*g)/L))**(1/2)"
   ]
  },
  {
   "cell_type": "markdown",
   "metadata": {},
   "source": [
    "<div style=\"background-color:#EAEAE9;padding:10px 40px;text-align:center; vertical-align: middle;font-family:didot;\">\n",
    "\n",
    "<p style=\"font-size: 15px;text-align: justify;\">Por otro lado, $Re= \\frac{v \\cdot D}{\\upsilon}$</p>\n",
    "\n",
    "<p style=\"font-size: 15px;text-align: justify;\">Del ábaco de viscosidades se obtiene la viscosidad cinemática del fluido.</p>\n",
    "    \n",
    "</div>"
   ]
  },
  {
   "cell_type": "code",
   "execution_count": 5,
   "metadata": {},
   "outputs": [
    {
     "name": "stdout",
     "output_type": "stream",
     "text": [
      "Ingresa la viscosidad cinemática característica del fluido [m2/s]: 0.0000084\n",
      "\n",
      "Realizando el producto de los dos se simplifica la velocidad f^1/2*Re: 19727.61839110103\n"
     ]
    }
   ],
   "source": [
    "#Pedimos al usuario que ingrese la viscosidad cinemática del fluido.\n",
    "\n",
    "viscosidad_cinematica= float(input(\"Ingresa la viscosidad cinemática característica del fluido [m2/s]: \"))\n",
    "print()\n",
    "\n",
    "#Calculamos Re (sin la v ya que se simplifica al multiplicar con f^1/2)\n",
    "\n",
    "Re= D / viscosidad_cinematica\n",
    "\n",
    "print(\"Realizando el producto de los dos se simplifica la velocidad f^1/2*Re:\",Re*f_1_2)"
   ]
  },
  {
   "cell_type": "code",
   "execution_count": 6,
   "metadata": {},
   "outputs": [
    {
     "name": "stdout",
     "output_type": "stream",
     "text": [
      "Ingresa la rugosidad de la tubería: 0.026\n"
     ]
    }
   ],
   "source": [
    "#Pedimos al usuario que ingrese la rugosidad de la tubería.\n",
    "\n",
    "rugosidad= float(input(\"Ingresa la rugosidad de la tubería: \"))\n",
    "\n",
    "#Calculamos la rugosidad relativa, así con este valor y f^1/2*Re se puede obtener f en el ábaco de Moody.\n",
    "\n",
    "rugosidad_relativa= rugosidad/(D*100)"
   ]
  },
  {
   "cell_type": "markdown",
   "metadata": {},
   "source": [
    "<div style=\"background-color:#EAEAE9;padding:10px 40px;text-align:center; vertical-align: middle;font-family:didot;\">\n",
    "\n",
    "<p style=\"font-size: 15px;text-align: justify;\">Del cuadro de rugosidades nº20 se obtiene la rugosidad de la tubería</p>\n",
    "\n",
    "<p style=\"font-size: 15px;text-align: justify;\">Utilizando el Ábaco de Moody se observa el comportamiento de la tubería y se obtiene el coeficiente f.</p>\n",
    "    \n",
    "<p style=\"font-size: 15px;text-align: justify;\">Puede utilizarse también la expresión de Colebrook-White:</p>\n",
    "    \n",
    "<p style=\"font-size: 15px;text-align: justify;\">\n",
    "\\begin{equation}  \n",
    "    \\frac{1}{f^{\\frac{1}{2}}} = -2 \\cdot \\log_{10} \\left( \\left(\\frac{\\frac{\\varepsilon}{D}}{3.71} \\right)+\\left(\\frac{2.51}{f^{\\frac{1}{2}}} \\cdot Re \\right)\\right)\n",
    "\\end{equation}</p>    \n",
    "    \n",
    "</div>"
   ]
  },
  {
   "cell_type": "code",
   "execution_count": 9,
   "metadata": {
    "scrolled": false
   },
   "outputs": [
    {
     "name": "stdout",
     "output_type": "stream",
     "text": [
      "Sustituyendo todos los valores y operando se obtiene el valor exacto de f:  0.0226687673085892\n"
     ]
    }
   ],
   "source": [
    "import sympy\n",
    "from sympy.solvers import nsolve\n",
    "from sympy import Symbol\n",
    "x = Symbol('x')\n",
    "\n",
    "#Expresión Colebrook-White para calcular f.\n",
    "\n",
    "f=nsolve(((-2) * (sympy.log(((rugosidad_relativa)/3.71)+(2.51/(Re*f_1_2)),10)) * sympy.sqrt(x)) - 1,x,0.01)\n",
    "\n",
    "print(\"Sustituyendo todos los valores y operando se obtiene el valor exacto de f: \", f)"
   ]
  },
  {
   "cell_type": "markdown",
   "metadata": {},
   "source": [
    "<div style=\"background-color:#EAEAE9;padding:10px 40px;text-align:center; vertical-align: middle;font-family:didot;\">\n",
    "\n",
    "<p style=\"font-size: 15px;text-align: justify;\">Sabiendo f podemos calcular v y el caudal.</p>\n",
    "    \n",
    "</div>"
   ]
  },
  {
   "cell_type": "code",
   "execution_count": 10,
   "metadata": {},
   "outputs": [
    {
     "name": "stdout",
     "output_type": "stream",
     "text": [
      "Se obtiene un caudal circulante de 0.172886017082263 m3/s\n"
     ]
    }
   ],
   "source": [
    "#Calculamos v\n",
    "\n",
    "v= f_1_2/(f**(1/2))\n",
    "\n",
    "#Calculamos el caudal \n",
    "\n",
    "Q= v*pi*((D**2)/4)\n",
    "\n",
    "print(\"Se obtiene un caudal circulante de\", Q, \"m3/s\")"
   ]
  },
  {
   "cell_type": "code",
   "execution_count": 11,
   "metadata": {},
   "outputs": [
    {
     "name": "stdout",
     "output_type": "stream",
     "text": [
      "RESULTADO: 172.886017082263 l/s\n"
     ]
    }
   ],
   "source": [
    "print(\"RESULTADO:\", Q*1000, \"l/s\")"
   ]
  },
  {
   "cell_type": "code",
   "execution_count": null,
   "metadata": {},
   "outputs": [],
   "source": []
  }
 ],
 "metadata": {
  "kernelspec": {
   "display_name": "Python 3",
   "language": "python",
   "name": "python3"
  },
  "language_info": {
   "codemirror_mode": {
    "name": "ipython",
    "version": 3
   },
   "file_extension": ".py",
   "mimetype": "text/x-python",
   "name": "python",
   "nbconvert_exporter": "python",
   "pygments_lexer": "ipython3",
   "version": "3.8.3"
  }
 },
 "nbformat": 4,
 "nbformat_minor": 4
}

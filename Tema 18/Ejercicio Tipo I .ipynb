{
 "cells": [
  {
   "cell_type": "markdown",
   "metadata": {},
   "source": [
    "<div style=\"background-color:#282423; text-align:center; vertical-align: middle; padding:10px 40px;\">\n",
    "    <div align=\"left\" style=\"font-size:1em; color:#8c8c8c;font-family:didot;\">Pérdidas de carga en flujos internos</div>\n",
    "<!-- 1em son 16px -->\n",
    "    <div align=\"right\" style=\"font-size:1em; color:#8c8c8c;font-family:didot;\" >Bloque 5</div>\n",
    "    <br/>\n",
    "    <br/>\n",
    "    <br/>\n",
    "    <h1 style=\"margin: 10px;color:white;font-family:didot;\">UTILIZACIÓN DEL ÁBACO DE MOODY</h1>\n",
    "    <hr>\n",
    "    <h1 style=\"margin: 10px;color:white;font-family:didot;\">TIPOS DE PROBLEMAS</h1>\n",
    "    <h1 style=\"margin: 10px;color:#BFAE5F;font-family:didot;\"><em>~ Tipo I ~</em></h1>\n",
    "    <br/>\n",
    "    <div style=\"padding:10px 15px;\">\n",
    "<p style=\"font-size: 20px;color:white;font-family:didot;\">\n",
    "<b>Datos:</b> Q, L, D, $\\upsilon$, $\\varepsilon$  <br/>\n",
    "    <br/>\n",
    "<b>Incógnita:</b> $h_f$</p> \n",
    "        </div>\n",
    "</div>\n",
    "<br/>\n",
    "<div style=\"background-color:#EAEAE9;padding:10px 40px;text-align:center; vertical-align: middle;font-family:didot;\">\n",
    "    <h1><b style=\"font-size: 17px;\">Ejercicio 6.1 de la colección de problemas</b></h1>\n",
    "    <hr>\n",
    "<p style=\"font-size: 15px;text-align: justify;\">Por una tubería horizontal de cobre de 100 m de longitud y 100 mm de diámetro, circula un caudal de 12 l/s de glicerina a 30ºC (s= 1,547). Determinar la potencia consumida en pérdidas de carga.</p>\n",
    "<br>\n",
    "</div>"
   ]
  },
  {
   "cell_type": "markdown",
   "metadata": {},
   "source": [
    "<div style=\"background-color:#EAEAE9;padding:10px 40px;text-align:center; vertical-align: middle;font-family:didot;\">\n",
    "    <h1><b style=\"font-size: 18px;\">Resolución del problema</b></h1>\n",
    "<br>\n",
    "<hr>  \n",
    "<p style=\"font-size: 15px;text-align: justify;\">Para calcular la potencia consumida en pérdidas de carga, es necesario determinar previamente las pérdidas de carga:</p>\n",
    "\n",
    "<p style=\"font-size: 15px;text-align: justify;\">\n",
    "\\begin{equation}\n",
    "    Potencia = h_{f} \\cdot Q \\cdot \\gamma \n",
    "\\end{equation}  \n",
    "<br>\n",
    "Las pérdidas de carga se calculan con la ecuación de Darcy-Weisbach:\n",
    "<br>\n",
    "<br>\n",
    "\\begin{equation}\n",
    "    h_{f} = f \\cdot \\frac{L}{D} \\cdot \\frac{v^{^2}}{2 \\cdot g} \n",
    "\\end{equation}\n",
    "</p>\n",
    "<br>\n",
    "</div>"
   ]
  },
  {
   "cell_type": "code",
   "execution_count": 1,
   "metadata": {},
   "outputs": [],
   "source": [
    "#Antes que nada, se deben importar los módulos necesarios para usarlos al resolver los problemas. \n",
    "#Son unos ficheros que guardan definiciones y declaraciones de Python.\n",
    "\n",
    "from math import pi, log10\n",
    "from ipynb.fs.full.abaco_de_moody import abaco_de_moody\n",
    "\n",
    "#Crea una lista de los módulos instalados --> help(\"modules\")\n",
    "#Esta función crea una lista de las funciones o variables del módulo --> dir(math)"
   ]
  },
  {
   "cell_type": "code",
   "execution_count": 2,
   "metadata": {},
   "outputs": [
    {
     "name": "stdout",
     "output_type": "stream",
     "text": [
      "Ingresa el caudal que circula por la tubería [m3/s]: 0.012\n",
      "Ingresa la longitud de la tubería [m]: 100\n",
      "Ingresa el diámetro de la tubería [m]: 0.1\n",
      "Ingresa el peso específico relativo del fluido: 1.547\n"
     ]
    }
   ],
   "source": [
    "#Pedimos al usuario que ingrese los datos del problema\n",
    "\n",
    "Q= float(input(\"Ingresa el caudal que circula por la tubería [m3/s]: \"))\n",
    "L= float(input(\"Ingresa la longitud de la tubería [m]: \"))\n",
    "D= float(input(\"Ingresa el diámetro de la tubería [m]: \"))\n",
    "s= float(input(\"Ingresa el peso específico relativo del fluido: \"))\n",
    "\n",
    "#Constantes\n",
    "\n",
    "g=9.8"
   ]
  },
  {
   "cell_type": "code",
   "execution_count": 3,
   "metadata": {},
   "outputs": [
    {
     "name": "stdout",
     "output_type": "stream",
     "text": [
      "El área es 0.007853981633974483 m2\n",
      "La velocidad es 1.5278874536821951 m/s\n"
     ]
    }
   ],
   "source": [
    "#Calculamos la velocidad en la tubería horizontal\n",
    "\n",
    "A= pi * (D**2 /4)\n",
    "v= Q/A  \n",
    "print(\"El área es\", A ,\"m2\")\n",
    "print(\"La velocidad es\", v , \"m/s\")"
   ]
  },
  {
   "cell_type": "markdown",
   "metadata": {},
   "source": [
    "<div style=\"background-color:#EAEAE9;padding:10px 40px;text-align:center; vertical-align: middle;font-family:didot;\">\n",
    "\n",
    "<p style=\"font-size: 15px;text-align: justify;\">Hay que calcular el coeficiente de fricción f, que depende del nº de Reynolds y de la rugosidad relativa.</p>\n",
    "\n",
    "<p style=\"font-size: 15px;text-align: justify;\">\n",
    "\\begin{equation}\n",
    "Re = \\frac{v \\cdot D}{\\upsilon}\\\\ \n",
    "Rugosidad~relativa: \\frac{\\varepsilon}{D}\n",
    "\\end{equation}   \n",
    "<br>\n",
    "Del ábaco nº5 se obtiene la viscosidad cinemática característica del fluido.\n",
    "<br>\n",
    "Del cuadro de rugosidades nº20 se obtiene la rugosidad de la tubería.\n",
    "</p>\n",
    "</div>"
   ]
  },
  {
   "cell_type": "code",
   "execution_count": 4,
   "metadata": {
    "scrolled": true
   },
   "outputs": [
    {
     "name": "stdout",
     "output_type": "stream",
     "text": [
      "Ingresa la viscosidad cinemática característica del fluido [m2/s]: 0.00019\n",
      "Ingresa la rugosidad de la tubería [cm]: 0.00015\n",
      "\n",
      "Se obtiene una rugosidad relativa de 1.4999999999999999e-05\n",
      "Sustituyendo en la expresión se calcula el Reynolds, Re= 804.1512914116817\n",
      "\n",
      "Como Re<2000 es un flujo laminar y no depende de la rugosidad de la tubería.\n",
      "Según la expresión de Hagen-Poiseuille se obtiene f= 0.07958701389094143\n"
     ]
    }
   ],
   "source": [
    "#Pedimos al usuario que ingrese la viscosidad cinemática del fluido y la rugosidad de la tubería.\n",
    "\n",
    "viscosidad_cinematica= float(input(\"Ingresa la viscosidad cinemática característica del fluido [m2/s]: \"))\n",
    "rugosidad= float(input(\"Ingresa la rugosidad de la tubería [cm]: \"))\n",
    "print()\n",
    "\n",
    "#Una vez el usuario ingrese la rugosidad, se calcula la rugosidad relativa que servirá para obtener el coeficiente de fricción f.\n",
    "\n",
    "rugosidad_relativa= rugosidad/(D*100)\n",
    "print(\"Se obtiene una rugosidad relativa de\",rugosidad_relativa)\n",
    "\n",
    "#Se calcula Reynolds\n",
    "\n",
    "Re= (v*D)/viscosidad_cinematica\n",
    "print(\"Sustituyendo en la expresión se calcula el Reynolds, Re=\",Re)\n",
    "print()\n",
    "\n",
    "#Ábaco de Moody. Se obtiene el coeficiente de fricción f. \n",
    "\n",
    "f= abaco_de_moody(Re, rugosidad_relativa)       "
   ]
  },
  {
   "cell_type": "markdown",
   "metadata": {},
   "source": [
    "<div style=\"background-color:#EAEAE9;padding:10px 40px;text-align:center; vertical-align: middle;font-family:didot;\">\n",
    "\n",
    "<p style=\"font-size: 15px;text-align: justify;\">Utilizando la ecuación de Darcy-Weisbach:</p>\n",
    "\n",
    "<p style=\"font-size: 15px;text-align: justify;\">\n",
    "\\begin{equation}\n",
    "    h_{f} = f \\cdot \\frac{L}{D} \\cdot \\frac{v^{^2}}{2 \\cdot g}\n",
    "\\end{equation}   \n",
    "<br>\n",
    "</p>\n",
    "</div>"
   ]
  },
  {
   "cell_type": "code",
   "execution_count": 5,
   "metadata": {},
   "outputs": [
    {
     "name": "stdout",
     "output_type": "stream",
     "text": [
      "Las pérdidas de carga son de 9.479138488150761 mcl\n",
      "La potencia consumida es de 1724.5131235615013 W\n"
     ]
    }
   ],
   "source": [
    "hf= f*(L/D)*((v**2)/(2*g))\n",
    "print(\"Las pérdidas de carga son de\", hf, \"mcl\")\n",
    "\n",
    "pot= hf*Q*s*9800\n",
    "print(\"La potencia consumida es de\",pot, \"W\")"
   ]
  },
  {
   "cell_type": "code",
   "execution_count": 6,
   "metadata": {},
   "outputs": [
    {
     "name": "stdout",
     "output_type": "stream",
     "text": [
      "RESULTADO: 1724.5131235615013 W\n"
     ]
    }
   ],
   "source": [
    "print(\"RESULTADO:\", pot, \"W\")"
   ]
  },
  {
   "cell_type": "markdown",
   "metadata": {},
   "source": [
    "<div style=\"background-color:#EAEAE9;padding:10px 40px;text-align:center; vertical-align: middle;font-family:didot;\">\n",
    "\n",
    "<p style=\"font-size: 15px;text-align: justify;\">Representación gráfica de la potencia consumida en función del caudal que circula por la tubería.</p>\n",
    "\n",
    "</div>"
   ]
  },
  {
   "cell_type": "code",
   "execution_count": 7,
   "metadata": {},
   "outputs": [],
   "source": [
    "# importar el módulo pyplot\n",
    "\n",
    "import matplotlib.pyplot as plt"
   ]
  },
  {
   "cell_type": "code",
   "execution_count": 8,
   "metadata": {},
   "outputs": [
    {
     "name": "stdout",
     "output_type": "stream",
     "text": [
      "Potencia consumida: [1724.5131235615013, 3161.607393196085, 4598.701662830669, 6035.795932465254, 7472.890202099839, 8909.984471734422, 10347.07874136901]\n",
      "\n",
      "Caudal que circula por la tubería: [0.012, 0.022, 0.032, 0.042, 0.052000000000000005, 0.062000000000000006, 0.07200000000000001]\n"
     ]
    }
   ],
   "source": [
    "#Declaración de una lista vacía\n",
    "pot= [pot]\n",
    "caudal=[Q]\n",
    "\n",
    "#Bucle For para rellenar una lista con un determinado número de elementos\n",
    "for elemento in range(6):\n",
    "    \n",
    "    Q= Q + 0.01\n",
    "    caudal_valor= Q\n",
    "    potencia= hf*Q*s*9800\n",
    "    \n",
    "    pot.append(potencia)\n",
    "    \n",
    "    caudal.append(caudal_valor)\n",
    "\n",
    "print(\"Potencia consumida:\", pot)\n",
    "print()\n",
    "print(\"Caudal que circula por la tubería:\", caudal)"
   ]
  },
  {
   "cell_type": "code",
   "execution_count": 10,
   "metadata": {},
   "outputs": [
    {
     "data": {
      "image/png": "[encoded data removed]",
      "text/plain": [
       "<Figure size 1080x720 with 1 Axes>"
      ]
     },
     "metadata": {
      "needs_background": "light"
     },
     "output_type": "display_data"
    }
   ],
   "source": [
    "plt.plot(caudal, pot, 'o-') #pinta 10 puntos como o y los une con una linea continua \n",
    "\n",
    "#Personalización del gráfico\n",
    "plt.xlabel(\"Caudal, Q(m3/s)\") #etiqueta horizontal, del eje x\n",
    "plt.ylabel(\"Potencia, W\") #etiqueta vertical, del eje y \n",
    "plt.title(\"Potencia consumida en pérdidas de carga\") #Título del gráfico\n",
    "plt.rcParams['figure.figsize'] = [15, 10]  #tamaño del grafico en pulgadas, [width, height]\n",
    "\n",
    "\n",
    "plt.show() #muestra el gráfico"
   ]
  },
  {
   "cell_type": "code",
   "execution_count": null,
   "metadata": {},
   "outputs": [],
   "source": []
  }
 ],
 "metadata": {
  "kernelspec": {
   "display_name": "Python 3",
   "language": "python",
   "name": "python3"
  },
  "language_info": {
   "codemirror_mode": {
    "name": "ipython",
    "version": 3
   },
   "file_extension": ".py",
   "mimetype": "text/x-python",
   "name": "python",
   "nbconvert_exporter": "python",
   "pygments_lexer": "ipython3",
   "version": "3.8.3"
  }
 },
 "nbformat": 4,
 "nbformat_minor": 4
}

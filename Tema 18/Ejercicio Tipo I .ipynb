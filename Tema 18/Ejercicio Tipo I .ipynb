{
 "cells": [
  {
   "cell_type": "markdown",
   "metadata": {},
   "source": [
    "<div style=\"background-color:#282423; text-align:center; vertical-align: middle; padding:10px 40px;\">\n",
    "    <div align=\"left\" style=\"font-size:1em; color:#8c8c8c;font-family:didot;\">Pérdidas de carga en flujos internos</div>\n",
    "<!-- 1em son 16px -->\n",
    "    <div align=\"right\" style=\"font-size:1em; color:#8c8c8c;font-family:didot;\" >Bloque 5</div>\n",
    "    <br/>\n",
    "    <br/>\n",
    "    <br/>\n",
    "    <h1 style=\"margin: 10px;color:white;font-family:didot;\">UTILIZACIÓN DEL ÁBACO DE MOODY</h1>\n",
    "    <hr>\n",
    "    <h1 style=\"margin: 10px;color:white;font-family:didot;\">TIPOS DE PROBLEMAS</h1>\n",
    "    <h1 style=\"margin: 10px;color:#BFAE5F;font-family:didot;\"><em>~ Tipo I ~</em></h1>\n",
    "    <br/>\n",
    "    <div style=\"padding:10px 15px;\">\n",
    "<p style=\"font-size: 20px;color:white;font-family:didot;\">\n",
    "<b>Datos:</b> Q, L, D, $\\upsilon$, $\\varepsilon$  <br/>\n",
    "    <br/>\n",
    "<b>Incógnita:</b> $h_f$</p> \n",
    "        </div>\n",
    "</div>\n",
    "<br/>\n",
    "<div style=\"background-color:#EAEAE9;padding:10px 40px;text-align:center; vertical-align: middle;font-family:didot;\">\n",
    "    <h1><b style=\"font-size: 17px;\">Ejercicio 6.1 de la colección de problemas</b></h1>\n",
    "    <hr>\n",
    "<p style=\"font-size: 15px;text-align: justify;\">Por una tubería horizontal de cobre de 100 m de longitud y 100 mm de diámetro, circula un caudal de 12 l/s de glicerina a 30ºC (s= 1,547). Determinar la potencia consumida en pérdidas de carga.</p>\n",
    "<br>\n",
    "</div>"
   ]
  },
  {
   "cell_type": "markdown",
   "metadata": {},
   "source": [
    "<div style=\"background-color:#EAEAE9;padding:10px 40px;text-align:center; vertical-align: middle;font-family:didot;\">\n",
    "    <h1><b style=\"font-size: 18px;\">Resolución del problema</b></h1>\n",
    "<br>\n",
    "<hr>  \n",
    "<p style=\"font-size: 15px;text-align: justify;\">Para calcular la potencia consumida en pérdidas de carga, es necesario determinar previamente las pérdidas de carga:</p>\n",
    "\n",
    "<p style=\"font-size: 15px;text-align: justify;\">\n",
    "\\begin{equation}\n",
    "    Potencia = h_{f} \\cdot Q \\cdot \\gamma \n",
    "\\end{equation}  \n",
    "<br>\n",
    "Las pérdidas de carga se calculan con la ecuación de Darcy-Weisbach:\n",
    "<br>\n",
    "<br>\n",
    "\\begin{equation}\n",
    "    h_{f} = f \\cdot \\frac{L}{D} \\cdot \\frac{v^{^2}}{2 \\cdot g} \n",
    "\\end{equation}\n",
    "</p>\n",
    "<br>\n",
    "</div>"
   ]
  },
  {
   "cell_type": "code",
   "execution_count": null,
   "metadata": {},
   "outputs": [],
   "source": [
    "pip install -r requirements.txt"
   ]
  },
  {
   "cell_type": "code",
   "execution_count": 2,
   "metadata": {},
   "outputs": [],
   "source": [
    "#Antes que nada, se deben importar los módulos necesarios para usarlos al resolver los problemas. \n",
    "#Son unos ficheros que guardan definiciones y declaraciones de Python.\n",
    "\n",
    "from math import pi, log10\n",
    "from ipynb.fs.full.abaco_de_moody import abaco_de_moody, abaco_de_moody_sin_texto\n",
    "from ipywidgets import widgets, interactive, interact\n",
    "from ipynb.fs.full.funciones_variables import Q,L,D,s, rugosidad\n",
    "\n",
    "#Crea una lista de los módulos instalados --> help(\"modules\")\n",
    "#Esta función crea una lista de las funciones o variables del módulo --> dir(math)"
   ]
  },
  {
   "cell_type": "code",
   "execution_count": 3,
   "metadata": {},
   "outputs": [
    {
     "name": "stdout",
     "output_type": "stream",
     "text": [
      "Ingresa el caudal que circula por la tubería [m3/s]: \n"
     ]
    },
    {
     "data": {
      "application/vnd.jupyter.widget-view+json": {
       "model_id": "ccb733bf314f4637ad70361f2041e5e0",
       "version_major": 2,
       "version_minor": 0
      },
      "text/plain": [
       "interactive(children=(FloatText(value=0.0, description='Q', step=0.01), Output()), _dom_classes=('widget-inter…"
      ]
     },
     "metadata": {},
     "output_type": "display_data"
    },
    {
     "name": "stdout",
     "output_type": "stream",
     "text": [
      "Ingresa la longitud de la tubería [m]: \n"
     ]
    },
    {
     "data": {
      "application/vnd.jupyter.widget-view+json": {
       "model_id": "cbcc7f77f44142aabe6c005e381e8484",
       "version_major": 2,
       "version_minor": 0
      },
      "text/plain": [
       "interactive(children=(FloatText(value=0.0, description='L', step=1.0), Output()), _dom_classes=('widget-intera…"
      ]
     },
     "metadata": {},
     "output_type": "display_data"
    },
    {
     "name": "stdout",
     "output_type": "stream",
     "text": [
      "Ingresa el diámetro de la tubería [m]: \n"
     ]
    },
    {
     "data": {
      "application/vnd.jupyter.widget-view+json": {
       "model_id": "74cfd770f12245f59b9498747eacfb39",
       "version_major": 2,
       "version_minor": 0
      },
      "text/plain": [
       "interactive(children=(FloatText(value=0.0, description='D', step=0.01), Output()), _dom_classes=('widget-inter…"
      ]
     },
     "metadata": {},
     "output_type": "display_data"
    },
    {
     "name": "stdout",
     "output_type": "stream",
     "text": [
      "Ingresa el peso específico relativo del fluido: \n"
     ]
    },
    {
     "data": {
      "application/vnd.jupyter.widget-view+json": {
       "model_id": "5d3eea62877e4d1598034cde561ac594",
       "version_major": 2,
       "version_minor": 0
      },
      "text/plain": [
       "interactive(children=(FloatText(value=0.0, description='s', step=0.001), Output()), _dom_classes=('widget-inte…"
      ]
     },
     "metadata": {},
     "output_type": "display_data"
    },
    {
     "name": "stdout",
     "output_type": "stream",
     "text": [
      "Ingresa la rugosidad de la tubería [cm]: \n"
     ]
    },
    {
     "data": {
      "application/vnd.jupyter.widget-view+json": {
       "model_id": "d89ad2d688e749578aed89d6b5136e17",
       "version_major": 2,
       "version_minor": 0
      },
      "text/plain": [
       "interactive(children=(Dropdown(description='Tubería:', options=(('Acero roblonado', 0.18), ('Hormigón', 0.12),…"
      ]
     },
     "metadata": {},
     "output_type": "display_data"
    }
   ],
   "source": [
    "#Pedimos al usuario que ingrese los datos del problema\n",
    "\n",
    "print(\"Ingresa el caudal que circula por la tubería [m3/s]: \")\n",
    "Q= interactive(Q, Q=widgets.FloatText(min=-10, max=100, step=0.01, value=0));\n",
    "display(Q)\n",
    "\n",
    "print(\"Ingresa la longitud de la tubería [m]: \")\n",
    "L= interactive(L, L=widgets.FloatText(min=-10, max=1000, step=1, value=0));\n",
    "display(L)\n",
    "\n",
    "print(\"Ingresa el diámetro de la tubería [m]: \")\n",
    "D= interactive(D, D=widgets.FloatText(min=-10, max=100, step=0.01, value=0));\n",
    "display(D)\n",
    "\n",
    "print(\"Ingresa el peso específico relativo del fluido: \")\n",
    "s= interactive(s, s=widgets.FloatText(min=-10, max=100, step=0.001, value=0));\n",
    "display(s)\n",
    "\n",
    "print(\"Ingresa la rugosidad de la tubería [cm]: \")\n",
    "\n",
    "rugosidad= interactive(rugosidad, rugosidad=widgets.Dropdown(\n",
    "    options=[('Acero roblonado', 0.18), \n",
    "             ('Hormigón', 0.12), \n",
    "             ('Hierro fundido (Fundición)', 0.026), \n",
    "             ('Madera', 0.06), \n",
    "             ('Hierro galvanizado', 0.015), \n",
    "             ('Fundición asfaltada', 0.012), \n",
    "             ('Acero comercial y soldado', 0.006), \n",
    "             ('Hierro forjado', 0.006), \n",
    "             ('Tubo estirado', 0.00024), \n",
    "             ('Latón y cobre', 0.00015), \n",
    "             ('Fibrocemento', 0.01), \n",
    "             ('PVC y PE', 0.0007)],\n",
    "    description='Tubería:',\n",
    "));\n",
    "display(rugosidad)\n",
    "\n",
    "#Constantes\n",
    "\n",
    "g=9.8"
   ]
  },
  {
   "cell_type": "code",
   "execution_count": 5,
   "metadata": {},
   "outputs": [
    {
     "name": "stdout",
     "output_type": "stream",
     "text": [
      "Datos:\n",
      "\n",
      "Caudal:  0.012 [m3/s]\n",
      "Longitud:  100.0 [m]\n",
      "Diametro:  0.1 [m]\n",
      "Peso específico:  1.547\n"
     ]
    }
   ],
   "source": [
    "print(\"Datos:\")\n",
    "print(\"\")\n",
    "\n",
    "print(\"Caudal: \", Q.result ,\"[m3/s]\")\n",
    "print(\"Longitud: \", L.result ,\"[m]\")\n",
    "print(\"Diametro: \", D.result ,\"[m]\")\n",
    "print(\"Peso específico: \", s.result)"
   ]
  },
  {
   "cell_type": "code",
   "execution_count": 4,
   "metadata": {},
   "outputs": [
    {
     "name": "stdout",
     "output_type": "stream",
     "text": [
      "El área es 0.007853981633974483 m2\n",
      "La velocidad es 1.5278874536821951 m/s\n"
     ]
    }
   ],
   "source": [
    "#Calculamos la velocidad en la tubería horizontal\n",
    "\n",
    "A= pi * (D.result**2 /4)\n",
    "v= Q.result/A  \n",
    "print(\"El área es\", A ,\"m2\")\n",
    "print(\"La velocidad es\", v , \"m/s\")"
   ]
  },
  {
   "cell_type": "markdown",
   "metadata": {},
   "source": [
    "<div style=\"background-color:#EAEAE9;padding:10px 40px;text-align:center; vertical-align: middle;font-family:didot;\">\n",
    "\n",
    "<p style=\"font-size: 15px;text-align: justify;\">Hay que calcular el coeficiente de fricción f, que depende del nº de Reynolds y de la rugosidad relativa.</p>\n",
    "\n",
    "<p style=\"font-size: 15px;text-align: justify;\">\n",
    "\\begin{equation}\n",
    "Re = \\frac{v \\cdot D}{\\upsilon}\\\\ \n",
    "Rugosidad~relativa: \\frac{\\varepsilon}{D}\n",
    "\\end{equation}   \n",
    "<br>\n",
    "Del ábaco nº5 se obtiene la viscosidad cinemática característica del fluido.\n",
    "<br>\n",
    "Del cuadro de rugosidades nº20 se obtiene la rugosidad de la tubería.\n",
    "</p>\n",
    "</div>"
   ]
  },
  {
   "cell_type": "code",
   "execution_count": 6,
   "metadata": {
    "scrolled": true
   },
   "outputs": [
    {
     "name": "stdout",
     "output_type": "stream",
     "text": [
      "Ingresa la viscosidad cinemática característica del fluido [m2/s]: 0.00019\n",
      "\n",
      "Se obtiene una rugosidad relativa de 1.4999999999999999e-05\n",
      "Sustituyendo en la expresión se calcula el Reynolds, Re= 804.1512914116817\n",
      "\n",
      "Como Re<2000 es un flujo laminar y no depende de la rugosidad de la tubería.\n",
      "Según la expresión de Hagen-Poiseuille se obtiene f= 0.07958701389094143\n"
     ]
    }
   ],
   "source": [
    "#Pedimos al usuario que ingrese la viscosidad cinemática del fluido\n",
    "\n",
    "viscosidad_cinematica= float(input(\"Ingresa la viscosidad cinemática característica del fluido [m2/s]: \"))\n",
    "print()\n",
    "\n",
    "#Una vez el usuario ingrese la rugosidad, se calcula la rugosidad relativa que servirá para obtener el coeficiente de fricción f.\n",
    "\n",
    "rugosidad_relativa= rugosidad.result/(D.result*100)\n",
    "print(\"Se obtiene una rugosidad relativa de\",rugosidad_relativa)\n",
    "\n",
    "#Se calcula Reynolds\n",
    "\n",
    "Re= (v*D.result)/viscosidad_cinematica\n",
    "print(\"Sustituyendo en la expresión se calcula el Reynolds, Re=\",Re)\n",
    "print()\n",
    "\n",
    "#Ábaco de Moody. Se obtiene el coeficiente de fricción f. \n",
    "\n",
    "f= abaco_de_moody(Re, rugosidad_relativa)      "
   ]
  },
  {
   "cell_type": "markdown",
   "metadata": {},
   "source": [
    "<div style=\"background-color:#EAEAE9;padding:10px 40px;text-align:center; vertical-align: middle;font-family:didot;\">\n",
    "\n",
    "<p style=\"font-size: 15px;text-align: justify;\">Utilizando la ecuación de Darcy-Weisbach:</p>\n",
    "\n",
    "<p style=\"font-size: 15px;text-align: justify;\">\n",
    "\\begin{equation}\n",
    "    h_{f} = f \\cdot \\frac{L}{D} \\cdot \\frac{v^{^2}}{2 \\cdot g}\n",
    "\\end{equation}   \n",
    "<br>\n",
    "</p>\n",
    "</div>"
   ]
  },
  {
   "cell_type": "code",
   "execution_count": 7,
   "metadata": {},
   "outputs": [
    {
     "name": "stdout",
     "output_type": "stream",
     "text": [
      "Las pérdidas de carga son de 9.479138488150761 mcl\n",
      "La potencia consumida es de 1724.5131235615013 W\n"
     ]
    }
   ],
   "source": [
    "hf= f*(L.result/D.result)*((v**2)/(2*g))\n",
    "print(\"Las pérdidas de carga son de\", hf, \"mcl\")\n",
    "\n",
    "pot_consumida= hf*Q.result*s.result*9800\n",
    "print(\"La potencia consumida es de\",pot_consumida, \"W\")"
   ]
  },
  {
   "cell_type": "code",
   "execution_count": 8,
   "metadata": {},
   "outputs": [
    {
     "name": "stdout",
     "output_type": "stream",
     "text": [
      "RESULTADO: 1724.5131235615013 W\n"
     ]
    }
   ],
   "source": [
    "print(\"RESULTADO:\", pot_consumida, \"W\")"
   ]
  },
  {
   "cell_type": "markdown",
   "metadata": {},
   "source": [
    "<div style=\"background-color:#EAEAE9;padding:10px 40px;text-align:center; vertical-align: middle;font-family:didot;\">\n",
    "\n",
    "<p style=\"font-size: 15px;text-align: justify;\">Representación gráfica de la potencia consumida en función del caudal que circula por la tubería.</p>\n",
    "\n",
    "</div>"
   ]
  },
  {
   "cell_type": "code",
   "execution_count": 9,
   "metadata": {},
   "outputs": [],
   "source": [
    "# importar el módulo pyplot\n",
    "\n",
    "import matplotlib.pyplot as plt"
   ]
  },
  {
   "cell_type": "code",
   "execution_count": 10,
   "metadata": {},
   "outputs": [
    {
     "name": "stdout",
     "output_type": "stream",
     "text": [
      "Potencia consumida: [1724.5131235615013, 3161.607393196085, 4598.701662830669, 6035.795932465254, 7472.890202099839, 8909.984471734422, 10347.07874136901]\n",
      "\n",
      "Caudal que circula por la tubería: [0.012, 0.022, 0.032, 0.042, 0.052000000000000005, 0.062000000000000006, 0.07200000000000001]\n"
     ]
    }
   ],
   "source": [
    "#Declaración de una lista vacía\n",
    "q= Q.result\n",
    "pot= [pot_consumida]\n",
    "caudal=[q]\n",
    "\n",
    "#Bucle For para rellenar una lista con un determinado número de elementos\n",
    "for elemento in range(6):\n",
    "\n",
    "    q= q + 0.01\n",
    "    caudal_valor= q\n",
    "    potencia= hf*q*s.result*9800\n",
    "    \n",
    "    pot.append(potencia)\n",
    "    \n",
    "    caudal.append(caudal_valor)\n",
    "\n",
    "print(\"Potencia consumida:\", pot)\n",
    "print()\n",
    "print(\"Caudal que circula por la tubería:\", caudal)"
   ]
  },
  {
   "cell_type": "code",
   "execution_count": 11,
   "metadata": {},
   "outputs": [
    {
     "name": "stdout",
     "output_type": "stream",
     "text": [
      "Potencia consumida: [1724.5131235615013, 12703.498274407359, 15770.58183412439, 19821.752596581002, 25261.422708420443, 32701.87849124036, 43094.871892415744]\n",
      "\n",
      "Diametro: [0.1, 0.095, 0.09, 0.08499999999999999, 0.07999999999999999, 0.07499999999999998, 0.06999999999999998]\n"
     ]
    }
   ],
   "source": [
    "#Declaración de una lista vacía\n",
    "d= D.result\n",
    "diametro=[d]\n",
    "pot_diametro= [pot_consumida]\n",
    "\n",
    "#Bucle For para rellenar una lista con un determinado número de elementos\n",
    "for elemento in range(6):\n",
    "\n",
    "    d= d - 0.005\n",
    "    diametro_valor= d\n",
    "    A= pi * (d**2 /4)\n",
    "    v= Q.result/A \n",
    "    rugosidad_relativa= rugosidad.result/(d*100)\n",
    "    Re= (v*d)/viscosidad_cinematica\n",
    "    f= abaco_de_moody_sin_texto(Re, rugosidad_relativa)\n",
    "    hf= f*(L.result/d)*((v**2)/(2*g))\n",
    "    potencia_di= hf*q*s.result*9800\n",
    "    \n",
    "    pot_diametro.append(potencia_di)\n",
    "    \n",
    "    diametro.append(diametro_valor)\n",
    "\n",
    "print(\"Potencia consumida:\", pot_diametro)\n",
    "print()\n",
    "print(\"Diametro:\", diametro)"
   ]
  },
  {
   "cell_type": "code",
   "execution_count": 15,
   "metadata": {},
   "outputs": [],
   "source": [
    "def plot_function(color='blue', ejex= caudal):\n",
    "    \n",
    "    if ejex==caudal:\n",
    "        ejey=pot\n",
    "    else:\n",
    "        ejey=pot_diametro\n",
    "        \n",
    "    plt.plot(ejex, ejey, color) \n",
    "\n",
    "    #Personalización del gráfico\n",
    "    if ejex==caudal:\n",
    "        plt.xlabel(\"Caudal, Q(m3/s)\") #etiqueta horizontal, del eje x\n",
    "        plt.ylabel(\"Potencia, W\") #etiqueta vertical, del eje y\n",
    "    else:\n",
    "        plt.xlabel(\"Diámetro, m\") #etiqueta horizontal, del eje x\n",
    "        plt.ylabel(\"Potencia, W\") #etiqueta vertical, del eje y    \n",
    "        \n",
    "    plt.title(\"Potencia consumida en pérdidas de carga\") #Título del gráfico\n",
    "    plt.rcParams['figure.figsize'] = [10, 7]  #tamaño del grafico en pulgadas, [width, height]\n",
    "\n",
    "\n",
    "    plt.show() #muestra el gráfico"
   ]
  },
  {
   "cell_type": "code",
   "execution_count": 16,
   "metadata": {},
   "outputs": [
    {
     "data": {
      "application/vnd.jupyter.widget-view+json": {
       "model_id": "74ba8458602d4ba9b17368631e930159",
       "version_major": 2,
       "version_minor": 0
      },
      "text/plain": [
       "interactive(children=(Dropdown(description='color', index=2, options=('red', 'yellow', 'blue'), value='blue'),…"
      ]
     },
     "metadata": {},
     "output_type": "display_data"
    },
    {
     "data": {
      "text/plain": [
       "<function __main__.plot_function(color='blue', ejex=[0.012, 0.022, 0.032, 0.042, 0.052000000000000005, 0.062000000000000006, 0.07200000000000001])>"
      ]
     },
     "execution_count": 16,
     "metadata": {},
     "output_type": "execute_result"
    }
   ],
   "source": [
    "interact(plot_function,\n",
    "         ejex= [caudal, diametro],\n",
    "         color=['red', 'yellow', 'blue'])"
   ]
  },
  {
   "cell_type": "code",
   "execution_count": null,
   "metadata": {},
   "outputs": [],
   "source": []
  }
 ],
 "metadata": {
  "kernelspec": {
   "display_name": "Python 3",
   "language": "python",
   "name": "python3"
  },
  "language_info": {
   "codemirror_mode": {
    "name": "ipython",
    "version": 3
   },
   "file_extension": ".py",
   "mimetype": "text/x-python",
   "name": "python",
   "nbconvert_exporter": "python",
   "pygments_lexer": "ipython3",
   "version": "3.8.3"
  }
 },
 "nbformat": 4,
 "nbformat_minor": 4
}

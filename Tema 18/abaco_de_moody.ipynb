{
 "cells": [
  {
   "cell_type": "code",
   "execution_count": 1,
   "metadata": {},
   "outputs": [],
   "source": [
    "import math\n",
    "\n",
    "def abaco_de_moody(Re, rugosidad_relativa):\n",
    "    if Re <= 2000: \n",
    "        f=64/Re\n",
    "        print(\"Como Re<2000 es un flujo laminar y no depende de la rugosidad de la tubería.\")\n",
    "        print(\"Según la expresión de Hagen-Poiseuille se obtiene f=\", f)\n",
    "    elif 2000<Re<4000:\n",
    "        print(\"Como 2000<Re<4000 es un flujo indeterminado. Se trata de una zona crítica y no se debe trabajar.\")\n",
    "    else:\n",
    "        if Re<=10**5 and Re< 23/rugosidad_relativa:\n",
    "            f= 0.316/Re**0.25\n",
    "            print(\"Como Re>=4000 es un flujo turbulento y depende de la rugosidad de la tubería. Se trata de una tubería lisa.\")\n",
    "            print(\"Según la expresión de Blasius se obtiene f=\", f)\n",
    "        elif Re>10**5 and Re< 23/rugosidad_relativa:\n",
    "            f= 0.25/(math.log10(5.74/(Re**0.9)))**2\n",
    "            print(\"Como Re>=4000 es un flujo turbulento y depende de la rugosidad de la tubería. Se trata de una tubería lisa.\")\n",
    "            print(\"Según la expresión aproximada de PSAK se obtiene f=\", f)\n",
    "        else:\n",
    "            if (23/rugosidad_relativa)<=Re<=(560/rugosidad_relativa):\n",
    "                  f=0.25/(math.log10((rugosidad_relativa/3.71)+(5.74/Re**0.9)))**2\n",
    "                  print(\"Como Re>=4000 es un flujo turbulento y depende de la rugosidad de la tubería. Se trata de una tubería semirrugosa.\")\n",
    "                  print(\"Según la expresión aproximada de PSAK se obtiene f=\", f)\n",
    "            elif Re > 560/rugosidad_relativa:\n",
    "                  f=0.25/(math.log10(3.71/rugosidad_relativa))**2\n",
    "                  print(\"Como Re>=4000 es un flujo turbulento y depende de la rugosidad de la tubería. Se trata de una tubería rugosa.\")\n",
    "                  print(\"Según la expresión de Karman-Prandtl se obtiene f=\", f) \n",
    "    return f\n",
    "\n",
    "def abaco_de_moody_sin_texto(Re, rugosidad_relativa):\n",
    "    if Re <= 2000: \n",
    "        f=64/Re\n",
    "            \n",
    "    elif 2000<Re<4000:\n",
    "        print()\n",
    "    else:\n",
    "        if Re<=10**5 and Re< 23/rugosidad_relativa:\n",
    "            f= 0.316/Re**0.25\n",
    "                \n",
    "        elif Re>10**5 and Re< 23/rugosidad_relativa:\n",
    "            f= 0.25/(math.log10(5.74/(Re**0.9)))**2\n",
    "                \n",
    "        else:\n",
    "            if (23/rugosidad_relativa)<=Re<=(560/rugosidad_relativa):\n",
    "                f=0.25/(math.log10((rugosidad_relativa/3.71)+(5.74/Re**0.9)))**2\n",
    "                    \n",
    "            elif Re > 560/rugosidad_relativa:\n",
    "                f=0.25/(math.log10(3.71/rugosidad_relativa))**2\n",
    "    return f"
   ]
  },
  {
   "cell_type": "code",
   "execution_count": null,
   "metadata": {},
   "outputs": [],
   "source": []
  }
 ],
 "metadata": {
  "kernelspec": {
   "display_name": "Python 3",
   "language": "python",
   "name": "python3"
  },
  "language_info": {
   "codemirror_mode": {
    "name": "ipython",
    "version": 3
   },
   "file_extension": ".py",
   "mimetype": "text/x-python",
   "name": "python",
   "nbconvert_exporter": "python",
   "pygments_lexer": "ipython3",
   "version": "3.8.3"
  }
 },
 "nbformat": 4,
 "nbformat_minor": 4
}

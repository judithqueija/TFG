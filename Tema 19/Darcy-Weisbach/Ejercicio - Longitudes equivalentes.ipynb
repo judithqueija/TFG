{
 "cells": [
  {
   "cell_type": "markdown",
   "metadata": {},
   "source": [
    "<div style=\"background-color:#282423; text-align:center; vertical-align: middle; padding:10px 40px;\">\n",
    "    <div align=\"left\" style=\"font-size:1em; color:#8c8c8c;font-family:didot;\">Pérdidas de carga en flujos internos</div>\n",
    "<!-- 1em son 16px -->\n",
    "    <div align=\"right\" style=\"font-size:1em; color:#8c8c8c;font-family:didot;\" >Bloque 5</div>\n",
    "    <br/>\n",
    "    <br/>\n",
    "    <br/>\n",
    "    <h1 style=\"margin: 10px;color:white;font-family:didot;\">FLUJO PERMANENTE EN CONDUCTOS CERRADOS</h1>\n",
    "    <hr>\n",
    "     <h1 style=\"margin: 10px;color:white;font-family:didot;\">PÉRDIDAS MENORES</h1>\n",
    "    <h1 style=\"margin: 10px;color:#BFAE5F;font-family:didot;\"><em>~ Longitudes equivalentes ~</em></h1>\n",
    "    <br/>\n",
    "\n",
    "</div>\n",
    "<br/>\n",
    "<div style=\"background-color:#EAEAE9;padding:10px 40px;text-align:center; vertical-align: middle;font-family:didot;\">\n",
    "    <h1><b style=\"font-size: 17px;\">Ejercicio 3 del 23 de Mayo de 2019</b></h1>\n",
    "    <hr>\n",
    "<p style=\"font-size: 15px;text-align: justify;\">Por el sistema de la figura circula mercurio (s=13,6) a 0°C, desde el depósito presurizado superior hasta la cubeta inferior. En el nudo N, hay una pequeña fuga. Inicialmente la válvula $V_{_3}$ está cerrada. La válvula $V_{_1}$ está totalmente abierta y no genera ninguna pérdida de carga. La lectura del manómetro A es 6000 mbar y la altura H=125 m.</p>\n",
    "\n",
    "<p style=\"font-size: 15px;text-align: justify;\"> Se pide el diámetro del conducto 4, si el caudal de fuga es $Q_{_a}$= 3 l/s y la velocidad a la salida de la boquilla es de 45 m/s.<br>   \n",
    "</p><br>\n",
    "    \n",
    "<table>\n",
    "  <tr>\n",
    "    <th></th>\n",
    "    <th style=\"text-align:center;\">Tubería 1</th>\n",
    "    <th style=\"text-align:center;\">Tubería 2</th>\n",
    "    <th style=\"text-align:center;\">Tubería 3</th>\n",
    "    <th style=\"text-align:center;\">Tubería 4</th>\n",
    "  </tr>\n",
    "  <tr>\n",
    "    <th style=\"text-align:center;\">L(m)</th>\n",
    "    <td style=\"text-align:center;\">300</td>\n",
    "    <td style=\"text-align:center;\">150</td>\n",
    "    <td style=\"text-align:center;\">250</td>\n",
    "    <td style=\"text-align:center;\">100</td>\n",
    "  </tr>\n",
    "  <tr>\n",
    "    <th style=\"text-align:center;\">Leq(m)</th>\n",
    "    <td style=\"text-align:center;\">25</td>\n",
    "    <td style=\"text-align:center;\">5</td>\n",
    "    <td style=\"text-align:center;\">15</td>\n",
    "    <td style=\"text-align:center;\">10</td>\n",
    "  </tr>\n",
    "  <tr>\n",
    "    <th style=\"text-align:center;\">D(mm)</th>\n",
    "    <td style=\"text-align:center;\">250</td>\n",
    "    <td style=\"text-align:center;\">125</td>\n",
    "    <td style=\"text-align:center;\">150</td>\n",
    "    <td style=\"text-align:center;\">?</td>\n",
    "  </tr>\n",
    "  <tr>\n",
    "    <th style=\"text-align:center;\">Material</th>\n",
    "    <td style=\"text-align:center;\">Fundición</td>\n",
    "    <td style=\"text-align:center;\">Hormigón</td>\n",
    "    <td style=\"text-align:center;\">Acero roblonado</td>\n",
    "    <td style=\"text-align:center;\">Fundición</td>\n",
    "  </tr>\n",
    "</table>\n",
    "\n",
    "<br>\n",
    "    \n",
    "<img src=\"../../img/mayo_2019.png\" style=\"height:300px\">\n",
    "\n",
    "<br>\n",
    "    \n",
    "<p style=\"font-size: 15px;text-align: justify;\"> <b>Datos:</b> $k_{_{boq}}$=0,05; $D_{_{boq}}$=25 mm. En la tabla se adjuntan las longitudes equivalentes de las piezas especiales de la instalación.</p>\n",
    "    \n",
    "<br>\n",
    "</div>"
   ]
  },
  {
   "cell_type": "markdown",
   "metadata": {},
   "source": [
    "<div style=\"background-color:#EAEAE9;padding:10px 40px;text-align:center; vertical-align: middle;font-family:didot;\">\n",
    "    <h1><b style=\"font-size: 18px;\">Resolución del problema</b></h1>\n",
    "<br>\n",
    "<hr>  \n",
    "    \n",
    "</div>"
   ]
  },
  {
   "cell_type": "code",
   "execution_count": 1,
   "metadata": {},
   "outputs": [],
   "source": [
    "#Antes que nada, se deben importar los módulos necesarios para usarlos al resolver los problemas. \n",
    "#Son unos ficheros que guardan definiciones y declaraciones de Python.\n",
    "\n",
    "from math import pi\n",
    "from ipynb.fs.full.abaco_de_moody import abaco_de_moody\n",
    "from ipywidgets import widgets, interactive\n",
    "from ipynb.fs.full.funciones_variables import D_1, D_2, D_3, L_1, L_2, L_3, L_4, L_1_eq, L_2_eq, L_3_eq, L_4_eq, v_boquilla, d_boquilla, k_boq, Q_a, P_A_mbar, H, s, rugosidad_1, rugosidad_2, rugosidad_4\n",
    "\n",
    "#Crea una lista de los módulos instalados --> help(\"modules\")\n",
    "#Esta función crea una lista de las funciones o variables del módulo --> dir(math)"
   ]
  },
  {
   "cell_type": "code",
   "execution_count": 2,
   "metadata": {},
   "outputs": [
    {
     "name": "stdout",
     "output_type": "stream",
     "text": [
      "Ingresa el diámetro de la tubería 1 [m]: \n"
     ]
    },
    {
     "data": {
      "application/vnd.jupyter.widget-view+json": {
       "model_id": "85383564b6c24ab9be6cffd6dbcdede3",
       "version_major": 2,
       "version_minor": 0
      },
      "text/plain": [
       "interactive(children=(FloatText(value=0.0, description='D_1', step=0.01), Output()), _dom_classes=('widget-int…"
      ]
     },
     "metadata": {},
     "output_type": "display_data"
    },
    {
     "name": "stdout",
     "output_type": "stream",
     "text": [
      "Ingresa el diámetro de la tubería 2 [m]: \n"
     ]
    },
    {
     "data": {
      "application/vnd.jupyter.widget-view+json": {
       "model_id": "b57e8a3f58d740f68d635dcffb360977",
       "version_major": 2,
       "version_minor": 0
      },
      "text/plain": [
       "interactive(children=(FloatText(value=0.0, description='D_2', step=0.001), Output()), _dom_classes=('widget-in…"
      ]
     },
     "metadata": {},
     "output_type": "display_data"
    },
    {
     "name": "stdout",
     "output_type": "stream",
     "text": [
      "Ingresa el diámetro de la tubería 3 [m]: \n"
     ]
    },
    {
     "data": {
      "application/vnd.jupyter.widget-view+json": {
       "model_id": "26567f72b4b04b99a2f79b5ce4bf3b98",
       "version_major": 2,
       "version_minor": 0
      },
      "text/plain": [
       "interactive(children=(FloatText(value=0.0, description='D_3', step=0.01), Output()), _dom_classes=('widget-int…"
      ]
     },
     "metadata": {},
     "output_type": "display_data"
    },
    {
     "name": "stdout",
     "output_type": "stream",
     "text": [
      "Ingresa la longitud de la tubería 1 [m]: \n"
     ]
    },
    {
     "data": {
      "application/vnd.jupyter.widget-view+json": {
       "model_id": "f7424e2cb7e748ab8058f10c0eaf7c83",
       "version_major": 2,
       "version_minor": 0
      },
      "text/plain": [
       "interactive(children=(FloatText(value=0.0, description='L_1', step=1.0), Output()), _dom_classes=('widget-inte…"
      ]
     },
     "metadata": {},
     "output_type": "display_data"
    },
    {
     "name": "stdout",
     "output_type": "stream",
     "text": [
      "Ingresa la longitud de la tubería 2 [m]: \n"
     ]
    },
    {
     "data": {
      "application/vnd.jupyter.widget-view+json": {
       "model_id": "7f7857ef6c1a461d88b0d62a086e5d13",
       "version_major": 2,
       "version_minor": 0
      },
      "text/plain": [
       "interactive(children=(FloatText(value=0.0, description='L_2', step=1.0), Output()), _dom_classes=('widget-inte…"
      ]
     },
     "metadata": {},
     "output_type": "display_data"
    },
    {
     "name": "stdout",
     "output_type": "stream",
     "text": [
      "Ingresa la longitud de la tubería 3 [m]: \n"
     ]
    },
    {
     "data": {
      "application/vnd.jupyter.widget-view+json": {
       "model_id": "9d48dbf7508549c1995477ef2ef58776",
       "version_major": 2,
       "version_minor": 0
      },
      "text/plain": [
       "interactive(children=(FloatText(value=0.0, description='L_3', step=1.0), Output()), _dom_classes=('widget-inte…"
      ]
     },
     "metadata": {},
     "output_type": "display_data"
    },
    {
     "name": "stdout",
     "output_type": "stream",
     "text": [
      "Ingresa la longitud de la tubería 4 [m]: \n"
     ]
    },
    {
     "data": {
      "application/vnd.jupyter.widget-view+json": {
       "model_id": "fc2440240275479c8e5494934f53bb4d",
       "version_major": 2,
       "version_minor": 0
      },
      "text/plain": [
       "interactive(children=(FloatText(value=0.0, description='L_4', step=1.0), Output()), _dom_classes=('widget-inte…"
      ]
     },
     "metadata": {},
     "output_type": "display_data"
    },
    {
     "name": "stdout",
     "output_type": "stream",
     "text": [
      "Ingresa la longitud equivalente de la tubería 1 [m]: \n"
     ]
    },
    {
     "data": {
      "application/vnd.jupyter.widget-view+json": {
       "model_id": "98f1815a3c984e238e8432e9c86d2c24",
       "version_major": 2,
       "version_minor": 0
      },
      "text/plain": [
       "interactive(children=(FloatText(value=0.0, description='L_1_eq', step=1.0), Output()), _dom_classes=('widget-i…"
      ]
     },
     "metadata": {},
     "output_type": "display_data"
    },
    {
     "name": "stdout",
     "output_type": "stream",
     "text": [
      "Ingresa la longitud equivalente de la tubería 2 [m]: \n"
     ]
    },
    {
     "data": {
      "application/vnd.jupyter.widget-view+json": {
       "model_id": "e9bf29ed414346239ef06a86e76d663d",
       "version_major": 2,
       "version_minor": 0
      },
      "text/plain": [
       "interactive(children=(FloatText(value=0.0, description='L_2_eq', step=1.0), Output()), _dom_classes=('widget-i…"
      ]
     },
     "metadata": {},
     "output_type": "display_data"
    },
    {
     "name": "stdout",
     "output_type": "stream",
     "text": [
      "Ingresa la longitud equivalente de la tubería 3 [m]: \n"
     ]
    },
    {
     "data": {
      "application/vnd.jupyter.widget-view+json": {
       "model_id": "164386f511a34593831201690ae1fd6a",
       "version_major": 2,
       "version_minor": 0
      },
      "text/plain": [
       "interactive(children=(FloatText(value=0.0, description='L_3_eq', step=1.0), Output()), _dom_classes=('widget-i…"
      ]
     },
     "metadata": {},
     "output_type": "display_data"
    },
    {
     "name": "stdout",
     "output_type": "stream",
     "text": [
      "Ingresa la longitud equivalente de la tubería 4 [m]: \n"
     ]
    },
    {
     "data": {
      "application/vnd.jupyter.widget-view+json": {
       "model_id": "be854f9a2210414cb55b519a75e36ce0",
       "version_major": 2,
       "version_minor": 0
      },
      "text/plain": [
       "interactive(children=(FloatText(value=0.0, description='L_4_eq', step=1.0), Output()), _dom_classes=('widget-i…"
      ]
     },
     "metadata": {},
     "output_type": "display_data"
    },
    {
     "name": "stdout",
     "output_type": "stream",
     "text": [
      "Ingresa la velocidad en la boquilla [m2/s]: \n"
     ]
    },
    {
     "data": {
      "application/vnd.jupyter.widget-view+json": {
       "model_id": "6e2337b4e75845febf23d6abd86ddeef",
       "version_major": 2,
       "version_minor": 0
      },
      "text/plain": [
       "interactive(children=(FloatText(value=0.0, description='v_boquilla', step=0.1), Output()), _dom_classes=('widg…"
      ]
     },
     "metadata": {},
     "output_type": "display_data"
    },
    {
     "name": "stdout",
     "output_type": "stream",
     "text": [
      "Ingresa el diámetro de la boquilla [m]: \n"
     ]
    },
    {
     "data": {
      "application/vnd.jupyter.widget-view+json": {
       "model_id": "26b8cfc4ceeb4c35aef0da6f742a4b56",
       "version_major": 2,
       "version_minor": 0
      },
      "text/plain": [
       "interactive(children=(FloatText(value=0.0, description='d_boquilla', step=0.001), Output()), _dom_classes=('wi…"
      ]
     },
     "metadata": {},
     "output_type": "display_data"
    },
    {
     "name": "stdout",
     "output_type": "stream",
     "text": [
      "Ingresa el factor de paso de la boquilla: \n"
     ]
    },
    {
     "data": {
      "application/vnd.jupyter.widget-view+json": {
       "model_id": "8ff896657a2a43a3873301da83f53977",
       "version_major": 2,
       "version_minor": 0
      },
      "text/plain": [
       "interactive(children=(FloatText(value=0.0, description='k_boq', step=0.01), Output()), _dom_classes=('widget-i…"
      ]
     },
     "metadata": {},
     "output_type": "display_data"
    },
    {
     "name": "stdout",
     "output_type": "stream",
     "text": [
      "Ingresa el caudal de fuga [m3/s]: \n"
     ]
    },
    {
     "data": {
      "application/vnd.jupyter.widget-view+json": {
       "model_id": "1a7e54e313204750b9d6f84d73ed9fd5",
       "version_major": 2,
       "version_minor": 0
      },
      "text/plain": [
       "interactive(children=(FloatText(value=0.0, description='Q_a', step=0.001), Output()), _dom_classes=('widget-in…"
      ]
     },
     "metadata": {},
     "output_type": "display_data"
    },
    {
     "name": "stdout",
     "output_type": "stream",
     "text": [
      "Ingresa la presión en A [mbar]: \n"
     ]
    },
    {
     "data": {
      "application/vnd.jupyter.widget-view+json": {
       "model_id": "5b9a36c3c4654bec81e34796645096d6",
       "version_major": 2,
       "version_minor": 0
      },
      "text/plain": [
       "interactive(children=(FloatText(value=0.0, description='P_A_mbar', step=1.0), Output()), _dom_classes=('widget…"
      ]
     },
     "metadata": {},
     "output_type": "display_data"
    },
    {
     "name": "stdout",
     "output_type": "stream",
     "text": [
      "Ingresa la altura H [m]: \n"
     ]
    },
    {
     "data": {
      "application/vnd.jupyter.widget-view+json": {
       "model_id": "4124b323be7347ffb9bd03b9d26eb7cb",
       "version_major": 2,
       "version_minor": 0
      },
      "text/plain": [
       "interactive(children=(FloatText(value=0.0, description='H', step=1.0), Output()), _dom_classes=('widget-intera…"
      ]
     },
     "metadata": {},
     "output_type": "display_data"
    },
    {
     "name": "stdout",
     "output_type": "stream",
     "text": [
      "Ingresa la densidad relativa del fluido: \n"
     ]
    },
    {
     "data": {
      "application/vnd.jupyter.widget-view+json": {
       "model_id": "895f974127aa4e8abe5457a3f0a0bc67",
       "version_major": 2,
       "version_minor": 0
      },
      "text/plain": [
       "interactive(children=(FloatText(value=0.0, description='s', step=0.1), Output()), _dom_classes=('widget-intera…"
      ]
     },
     "metadata": {},
     "output_type": "display_data"
    },
    {
     "name": "stdout",
     "output_type": "stream",
     "text": [
      "Ingresa la rugosidad de la tubería 1 [cm]: \n"
     ]
    },
    {
     "data": {
      "application/vnd.jupyter.widget-view+json": {
       "model_id": "bf53d2af14344b428474ec6ee4d0f85e",
       "version_major": 2,
       "version_minor": 0
      },
      "text/plain": [
       "interactive(children=(Dropdown(description='Tubería:', options=(('Acero roblonado', 0.18), ('Hormigón', 0.12),…"
      ]
     },
     "metadata": {},
     "output_type": "display_data"
    },
    {
     "name": "stdout",
     "output_type": "stream",
     "text": [
      "Ingresa la rugosidad de la tubería 2 [cm]: \n"
     ]
    },
    {
     "data": {
      "application/vnd.jupyter.widget-view+json": {
       "model_id": "4b3d8fcdea11408bad33e46a876d5de0",
       "version_major": 2,
       "version_minor": 0
      },
      "text/plain": [
       "interactive(children=(Dropdown(description='Tubería:', options=(('Acero roblonado', 0.18), ('Hormigón', 0.12),…"
      ]
     },
     "metadata": {},
     "output_type": "display_data"
    },
    {
     "name": "stdout",
     "output_type": "stream",
     "text": [
      "Ingresa la rugosidad de la tubería 4 [cm]: \n"
     ]
    },
    {
     "data": {
      "application/vnd.jupyter.widget-view+json": {
       "model_id": "76ac9e99445441c2892e53773c5adff9",
       "version_major": 2,
       "version_minor": 0
      },
      "text/plain": [
       "interactive(children=(Dropdown(description='Tubería:', options=(('Acero roblonado', 0.18), ('Hormigón', 0.12),…"
      ]
     },
     "metadata": {},
     "output_type": "display_data"
    }
   ],
   "source": [
    "#Solicitar datos de entrada\n",
    "\n",
    "print(\"Ingresa el diámetro de la tubería 1 [m]: \")\n",
    "D_1= interactive(D_1, D_1=widgets.FloatText(min=-10, max=100, step=0.01, value=0));\n",
    "display(D_1)\n",
    "\n",
    "print(\"Ingresa el diámetro de la tubería 2 [m]: \")\n",
    "D_2= interactive(D_2, D_2=widgets.FloatText(min=-10, max=100, step=0.001, value=0));\n",
    "display(D_2)\n",
    "\n",
    "print(\"Ingresa el diámetro de la tubería 3 [m]: \")\n",
    "D_3= interactive(D_3, D_3=widgets.FloatText(min=-10, max=100, step=0.01, value=0));\n",
    "display(D_3)\n",
    "\n",
    "print(\"Ingresa la longitud de la tubería 1 [m]: \")\n",
    "L_1= interactive(L_1, L_1=widgets.FloatText(min=-10, max=1000, step=1, value=0));\n",
    "display(L_1)\n",
    "\n",
    "print(\"Ingresa la longitud de la tubería 2 [m]: \")\n",
    "L_2= interactive(L_2, L_2=widgets.FloatText(min=-10, max=1000, step=1, value=0));\n",
    "display(L_2)\n",
    "\n",
    "print(\"Ingresa la longitud de la tubería 3 [m]: \")\n",
    "L_3= interactive(L_3, L_3=widgets.FloatText(min=-10, max=1000, step=1, value=0));\n",
    "display(L_3)\n",
    "\n",
    "print(\"Ingresa la longitud de la tubería 4 [m]: \")\n",
    "L_4= interactive(L_4, L_4=widgets.FloatText(min=-10, max=1000, step=1, value=0));\n",
    "display(L_4)\n",
    "\n",
    "print(\"Ingresa la longitud equivalente de la tubería 1 [m]: \")\n",
    "L_1_eq= interactive(L_1_eq, L_1_eq=widgets.FloatText(min=-10, max=100, step=1, value=0));\n",
    "display(L_1_eq)\n",
    "\n",
    "print(\"Ingresa la longitud equivalente de la tubería 2 [m]: \")\n",
    "L_2_eq= interactive(L_2_eq, L_2_eq=widgets.FloatText(min=-10, max=100, step=1, value=0));\n",
    "display(L_2_eq)\n",
    "\n",
    "print(\"Ingresa la longitud equivalente de la tubería 3 [m]: \")\n",
    "L_3_eq= interactive(L_3_eq, L_3_eq=widgets.FloatText(min=-10, max=100, step=1, value=0));\n",
    "display(L_3_eq)\n",
    "\n",
    "print(\"Ingresa la longitud equivalente de la tubería 4 [m]: \")\n",
    "L_4_eq= interactive(L_4_eq, L_4_eq=widgets.FloatText(min=-10, max=100, step=1, value=0));\n",
    "display(L_4_eq)\n",
    "\n",
    "print(\"Ingresa la velocidad en la boquilla [m2/s]: \")\n",
    "v_boquilla= interactive(v_boquilla, v_boquilla=widgets.FloatText(min=-10, max=1000, step=0.1, value=0));\n",
    "display(v_boquilla)\n",
    "\n",
    "print(\"Ingresa el diámetro de la boquilla [m]: \")\n",
    "d_boquilla= interactive(d_boquilla, d_boquilla=widgets.FloatText(min=-10, max=100, step=0.001, value=0));\n",
    "display(d_boquilla)\n",
    "\n",
    "print(\"Ingresa el factor de paso de la boquilla: \")\n",
    "k_boq= interactive(k_boq, k_boq=widgets.FloatText(min=-10, max=100, step=0.01, value=0));\n",
    "display(k_boq)\n",
    "\n",
    "print(\"Ingresa el caudal de fuga [m3/s]: \")\n",
    "Q_a= interactive(Q_a, Q_a=widgets.FloatText(min=-10, max=100, step=0.001, value=0));\n",
    "display(Q_a)\n",
    "\n",
    "print(\"Ingresa la presión en A [mbar]: \")\n",
    "P_A_mbar= interactive(P_A_mbar, P_A_mbar=widgets.FloatText(min=-10, max=10000, step=1, value=0));\n",
    "display(P_A_mbar)\n",
    "\n",
    "print(\"Ingresa la altura H [m]: \")\n",
    "H= interactive(H, H=widgets.FloatText(min=-10, max=1000, step=1, value=0));\n",
    "display(H)\n",
    "\n",
    "print(\"Ingresa la densidad relativa del fluido: \")\n",
    "s= interactive(s, s=widgets.FloatText(min=-10, max=100, step=0.1, value=0));\n",
    "display(s)\n",
    "\n",
    "print(\"Ingresa la rugosidad de la tubería 1 [cm]: \")\n",
    "\n",
    "rugosidad_1= interactive(rugosidad_1, rugosidad_1=widgets.Dropdown(\n",
    "    options=[('Acero roblonado', 0.18), \n",
    "             ('Hormigón', 0.12), \n",
    "             ('Hierro fundido (Fundición)', 0.026), \n",
    "             ('Madera', 0.06), \n",
    "             ('Hierro galvanizado', 0.015), \n",
    "             ('Fundición asfaltada', 0.012), \n",
    "             ('Acero comercial y soldado', 0.006), \n",
    "             ('Hierro forjado', 0.006), \n",
    "             ('Tubo estirado', 0.00024), \n",
    "             ('Latón y cobre', 0.00015), \n",
    "             ('Fibrocemento', 0.01), \n",
    "             ('PVC y PE', 0.0007)],\n",
    "    description='Tubería:',\n",
    "));\n",
    "display(rugosidad_1)\n",
    "\n",
    "print(\"Ingresa la rugosidad de la tubería 2 [cm]: \")\n",
    "\n",
    "rugosidad_2= interactive(rugosidad_2, rugosidad_2=widgets.Dropdown(\n",
    "    options=[('Acero roblonado', 0.18), \n",
    "             ('Hormigón', 0.12), \n",
    "             ('Hierro fundido (Fundición)', 0.026), \n",
    "             ('Madera', 0.06), \n",
    "             ('Hierro galvanizado', 0.015), \n",
    "             ('Fundición asfaltada', 0.012), \n",
    "             ('Acero comercial y soldado', 0.006), \n",
    "             ('Hierro forjado', 0.006), \n",
    "             ('Tubo estirado', 0.00024), \n",
    "             ('Latón y cobre', 0.00015), \n",
    "             ('Fibrocemento', 0.01), \n",
    "             ('PVC y PE', 0.0007)],\n",
    "    description='Tubería:',\n",
    "));\n",
    "display(rugosidad_2)\n",
    "\n",
    "print(\"Ingresa la rugosidad de la tubería 4 [cm]: \")\n",
    "\n",
    "rugosidad_4= interactive(rugosidad_4, rugosidad_4=widgets.Dropdown(\n",
    "    options=[('Acero roblonado', 0.18), \n",
    "             ('Hormigón', 0.12), \n",
    "             ('Hierro fundido (Fundición)', 0.026), \n",
    "             ('Madera', 0.06), \n",
    "             ('Hierro galvanizado', 0.015), \n",
    "             ('Fundición asfaltada', 0.012), \n",
    "             ('Acero comercial y soldado', 0.006), \n",
    "             ('Hierro forjado', 0.006), \n",
    "             ('Tubo estirado', 0.00024), \n",
    "             ('Latón y cobre', 0.00015), \n",
    "             ('Fibrocemento', 0.01), \n",
    "             ('PVC y PE', 0.0007)],\n",
    "    description='Tubería:',\n",
    "));\n",
    "display(rugosidad_4)\n",
    "\n",
    "#Constantes\n",
    "\n",
    "g= 9.8\n"
   ]
  },
  {
   "cell_type": "code",
   "execution_count": 3,
   "metadata": {},
   "outputs": [],
   "source": [
    "P_A= ((P_A_mbar.result/1000)*10**5)/(9800*s.result) #Pasar de mbar a m.c.l."
   ]
  },
  {
   "cell_type": "markdown",
   "metadata": {},
   "source": [
    "<div style=\"background-color:#EAEAE9;padding:10px 40px;text-align:center; vertical-align: middle;font-family:didot;\">\n",
    "    \n",
    "<p style=\"font-size: 15px;text-align: justify;\">Con los datos del enunciado se pueden calcular los caudales circulantes.</p>\n",
    "\n",
    "<p style=\"font-size: 15px;text-align: justify;\">\n",
    "\\begin{equation}\n",
    "    Q_{_{boquilla}}= Q_{_{4}} = Q_{_{2}}\n",
    "\\end{equation}</p>\n",
    "</div>"
   ]
  },
  {
   "cell_type": "code",
   "execution_count": 4,
   "metadata": {},
   "outputs": [],
   "source": [
    "#Calculo del caudal en la boquilla y en la tubería 1\n",
    "\n",
    "Q_boquilla= Q_4= Q_2= v_boquilla.result * ((pi*d_boquilla.result**2)/4)\n",
    "Q_1= Q_boquilla + Q_a.result\n",
    "\n",
    "#Cálculo de la velocidad \n",
    "\n",
    "A_1= pi * (D_1.result**2 /4)\n",
    "v_1= Q_1/A_1 \n",
    "\n",
    "A_2= pi * (D_2.result**2 /4)\n",
    "v_2= Q_2/A_2 "
   ]
  },
  {
   "cell_type": "markdown",
   "metadata": {},
   "source": [
    "<div style=\"background-color:#EAEAE9;padding:10px 40px;text-align:center; vertical-align: middle;font-family:didot;\">\n",
    "    \n",
    "<p style=\"font-size: 15px;text-align: justify;\">Para calcular el diámetro $Q_{_{4}}$, se deben determinar las pérdidas de carga en la tubería 4.</p>\n",
    "\n",
    "<p style=\"font-size: 15px;text-align: justify;\">Se aplica Bernoulli entre el punto A y la boquilla:</p>\n",
    "    \n",
    "<p style=\"font-size: 15px;text-align: justify;\">\n",
    "\\begin{equation}\n",
    "    B_{_{A}} - h_{f_{1}} - h_{f_{2}} - h_{f_{4}} - h_{f_{boq}}= B_{_{boq}}\n",
    "\\end{equation}</p>\n",
    "    \n",
    "<p style=\"font-size: 15px;text-align: justify;\">Con los datos del enunciado se pueden calcular todos los términos de la ecuación excepto $h_{f_{4}}$.</p>\n",
    "    \n",
    "<p style=\"font-size: 15px;text-align: justify;\">Para el cálculo de las pérdidas de carga se utilizará la ecuación de Darcy-Weisbach.</p>\n",
    "\n",
    "<p style=\"font-size: 15px;text-align: justify;\">\n",
    "\\begin{equation}\n",
    "    {h_{_{f}} = f \\cdot \\frac{v^{^{2}}}{2 \\cdot g} \\cdot \\frac{L + L_{_{eq}}}{D}}\n",
    "\\end{equation}</p>\n",
    "    \n",
    "<p style=\"font-size: 15px;text-align: justify;\">En las tuberías 1 y 2 se conocen todos los datos para determinar las pérdidas de carga.</p>\n",
    "</div>"
   ]
  },
  {
   "cell_type": "code",
   "execution_count": 5,
   "metadata": {},
   "outputs": [
    {
     "name": "stdout",
     "output_type": "stream",
     "text": [
      "Ingresa la viscosidad cinemática característica del fluido [m2/s]: 0.00000013\n",
      "\n",
      "Se obtiene una rugosidad relativa de la tubería 1 de 0.00104\n",
      "Se obtiene una rugosidad relativa de la tubería 2 de 0.0096\n",
      "\n",
      "Sustituyendo en la expresión se calcula el Reynolds en la tubería 1, Re= 982914.4195140151\n",
      "Sustituyendo en la expresión se calcula el Reynolds en la tubería 2, Re= 1730769.230769231\n",
      "\n",
      "Como Re>=4000 es un flujo turbulento y depende de la rugosidad de la tubería. Se trata de una tubería rugosa.\n",
      "Según la expresión de Karman-Prandtl se obtiene f= 0.019811201582653263\n",
      "\n",
      "Como Re>=4000 es un flujo turbulento y depende de la rugosidad de la tubería. Se trata de una tubería rugosa.\n",
      "Según la expresión de Karman-Prandtl se obtiene f= 0.037351898271425744\n"
     ]
    }
   ],
   "source": [
    "#Pedimos al usuario que ingrese la viscosidad cinemática del fluido.\n",
    "\n",
    "viscosidad_cinematica= float(input(\"Ingresa la viscosidad cinemática característica del fluido [m2/s]: \"))\n",
    "print()\n",
    "\n",
    "#Una vez el usuario ingrese la rugosidad, se calcula la rugosidad relativa que servirá para obtener el coeficiente de fricción f.\n",
    "\n",
    "rugosidad_relativa_1= rugosidad_1.result/(D_1.result*100)\n",
    "print(\"Se obtiene una rugosidad relativa de la tubería 1 de\",rugosidad_relativa_1)\n",
    "rugosidad_relativa_2= rugosidad_2.result/(D_2.result*100)\n",
    "print(\"Se obtiene una rugosidad relativa de la tubería 2 de\",rugosidad_relativa_2)\n",
    "print()\n",
    "\n",
    "#Se calcula Reynolds\n",
    "\n",
    "Re_1= (v_1*D_1.result)/viscosidad_cinematica\n",
    "print(\"Sustituyendo en la expresión se calcula el Reynolds en la tubería 1, Re=\",Re_1)\n",
    "\n",
    "Re_2= (v_2*D_2.result)/viscosidad_cinematica\n",
    "print(\"Sustituyendo en la expresión se calcula el Reynolds en la tubería 2, Re=\",Re_2)\n",
    "print()\n",
    "\n",
    "#Ábaco de Moody. Se obtiene el coeficiente de fricción f. \n",
    "\n",
    "f_1= abaco_de_moody(Re_1, rugosidad_relativa_1)  \n",
    "print()\n",
    "f_2= abaco_de_moody(Re_2, rugosidad_relativa_2) "
   ]
  },
  {
   "cell_type": "code",
   "execution_count": 6,
   "metadata": {},
   "outputs": [
    {
     "name": "stdout",
     "output_type": "stream",
     "text": [
      "Sustituyendo en la expresión de Darcy-Weisbach se calculan las pérdidas de carga en la tubería 1 y 2, hf1= 0.3432702749009573 m.c.Hg, y hf2= 7.656376862004087 m.c.l.\n",
      "\n",
      "Las pérdidas de carga en la boquilla son de 5.165816326530613 m.c.l.\n"
     ]
    }
   ],
   "source": [
    "#Cálculo de las pérdidas de carga en las tuberías 1 y 2\n",
    "\n",
    "hf_1= f_1*((L_1.result + L_1_eq.result)/D_1.result)*((v_1**2)/(2*g))\n",
    "hf_2= f_2*((L_2.result + L_2_eq.result)/D_2.result)*((v_2**2)/(2*g))\n",
    "\n",
    "print(\"Sustituyendo en la expresión de Darcy-Weisbach se calculan las pérdidas de carga en la tubería 1 y 2, hf1=\",hf_1, \"m.c.Hg, y hf2=\",hf_2, \"m.c.l.\")\n",
    "\n",
    "#Cálculo de las pérdidas de carga en la boquilla\n",
    "hf_boq= k_boq.result*(v_boquilla.result**2/(2*g))\n",
    "print()\n",
    "print(\"Las pérdidas de carga en la boquilla son de\", hf_boq, \"m.c.l.\")\n"
   ]
  },
  {
   "cell_type": "code",
   "execution_count": 7,
   "metadata": {},
   "outputs": [],
   "source": [
    "#Cálculo de Bernoulli en A\n",
    "B_A= P_A + H.result\n",
    "\n",
    "#Cálculo de Bernoulli en la boquilla\n",
    "B_boq= (v_boquilla.result**2)/(2*g)"
   ]
  },
  {
   "cell_type": "code",
   "execution_count": 8,
   "metadata": {},
   "outputs": [
    {
     "name": "stdout",
     "output_type": "stream",
     "text": [
      "Se obtienen unas pérdidas de carga en la tubería 4 de 13.020010726240216 m.c.l.\n"
     ]
    }
   ],
   "source": [
    "#Cálculo de las pérdidas de carga en la tubería 4\n",
    "hf_4= B_A - hf_1 - hf_2 - hf_boq - B_boq\n",
    "print(\"Se obtienen unas pérdidas de carga en la tubería 4 de\", hf_4, \"m.c.l.\")"
   ]
  },
  {
   "cell_type": "markdown",
   "metadata": {},
   "source": [
    "<div style=\"background-color:#EAEAE9;padding:10px 40px;text-align:center; vertical-align: middle;font-family:didot;\">\n",
    "\n",
    "<p style=\"font-size: 15px;text-align: justify;\">\n",
    "\\begin{equation}\n",
    "    h_{f_{4}}= f_{_{4}} \\cdot \\frac{{v_{_4}}^{^2}}{2 \\cdot g} \\cdot \\frac{L_{_{4}} + L_{_{eq}}}{D_{_4}} \\\\\n",
    "    v_{_4}= \\frac{4 \\cdot Q_{_{4}}}{\\pi \\cdot {D_{_4}}^{^2}}\n",
    "\\end{equation} </p>\n",
    "\n",
    "<p style=\"font-size: 15px;text-align: justify;\">Con las dos ecuaciones se obtiene:</p>\n",
    "    \n",
    "<p style=\"font-size: 15px;text-align: justify;\">\n",
    "\\begin{equation}\n",
    "    h_{f_{4}}= \\frac{8 \\cdot f_{_{4}} \\cdot L_{_{4}} \\cdot {Q_{_4}}^{^2}}{{\\pi}^{^2} \\cdot g \\cdot {D_{_4}}^{^5}}\n",
    "\\end{equation} </p>    \n",
    "    \n",
    "<p style=\"font-size: 15px;text-align: justify;\">Estamos ante un problema de Tipo III. Se obtiene una ecuación con dos incógnitas: D y $f_{_{4}}$, donde no se tiene datos para entrar en el Ábaco de Moody o las expresiones para conocer f y calcular D.</p>\n",
    "</div>"
   ]
  },
  {
   "cell_type": "code",
   "execution_count": 9,
   "metadata": {
    "scrolled": false
   },
   "outputs": [
    {
     "name": "stdout",
     "output_type": "stream",
     "text": [
      "\n",
      "Procedemos a iterar:\n",
      "\n",
      "Ingresa el valor de f4: 0.018\n",
      "\n",
      "Con un valor de f4 de 0.018 se obtiene un diámetro D4 de 0.0889852512057824 m y un valor de v4 de 3.55186515427370 m/s\n",
      "\n",
      "Como Re>=4000 es un flujo turbulento y depende de la rugosidad de la tubería. Se trata de una tubería rugosa.\n",
      "Según la expresión de Karman-Prandtl se obtiene f= 0.025952268937097584\n",
      "\n",
      "╒═══════╤═══════════╤═════════╤═════════════╤════════════╤════════════╤══════════╕\n",
      "│  f4   │    D4     │   v4    │     Re      │    ε/D4    │  Moody f'  │  f4=f4'  │\n",
      "╞═══════╪═══════════╪═════════╪═════════════╪════════════╪════════════╪══════════╡\n",
      "│ 0.018 │ 0.0889853 │ 3.55187 │ 2.43126e+06 │ 0.00292183 │ 0.0259523  │    NO    │\n",
      "╘═══════╧═══════════╧═════════╧═════════════╧════════════╧════════════╧══════════╛\n",
      "\n",
      "Error: 44.17927187276437 % > 0.00001%\n",
      "Se han realizado 1 iteraciones\n",
      "\n",
      "\n",
      "-------\n",
      "\n",
      "Con un valor de f4 de 0.025952268937097584 se obtiene un diámetro D4 de 0.0957411404440651 m y un valor de v4 de 3.06828246670674 m/s\n",
      "\n",
      "Como Re>=4000 es un flujo turbulento y depende de la rugosidad de la tubería. Se trata de una tubería rugosa.\n",
      "Según la expresión de Karman-Prandtl se obtiene f= 0.025428844829965387\n",
      "\n",
      "╒═══════════╤═══════════╤═════════╤════════════╤════════════╤════════════╤══════════╕\n",
      "│    f4     │    D4     │   v4    │     Re     │    ε/D4    │  Moody f'  │  f4=f4'  │\n",
      "╞═══════════╪═══════════╪═════════╪════════════╪════════════╪════════════╪══════════╡\n",
      "│ 0.0259523 │ 0.0957411 │ 3.06828 │ 2.2597e+06 │ 0.00271566 │ 0.0254288  │    NO    │\n",
      "╘═══════════╧═══════════╧═════════╧════════════╧════════════╧════════════╧══════════╛\n",
      "\n",
      "Error: 2.0168722372631787 % > 0.00001%\n",
      "Se han realizado 2 iteraciones\n",
      "\n",
      "\n",
      "-------\n",
      "\n",
      "Con un valor de f4 de 0.025428844829965387 se obtiene un diámetro D4 de 0.0953517912780216 m y un valor de v4 de 3.09339100890473 m/s\n",
      "\n",
      "Como Re>=4000 es un flujo turbulento y depende de la rugosidad de la tubería. Se trata de una tubería rugosa.\n",
      "Según la expresión de Karman-Prandtl se obtiene f= 0.02545757427788692\n",
      "\n",
      "╒═══════════╤═══════════╤═════════╤═════════════╤════════════╤════════════╤══════════╕\n",
      "│    f4     │    D4     │   v4    │     Re      │    ε/D4    │  Moody f'  │  f4=f4'  │\n",
      "╞═══════════╪═══════════╪═════════╪═════════════╪════════════╪════════════╪══════════╡\n",
      "│ 0.0254288 │ 0.0953518 │ 3.09339 │ 2.26893e+06 │ 0.00272674 │ 0.0254576  │    NO    │\n",
      "╘═══════════╧═══════════╧═════════╧═════════════╧════════════╧════════════╧══════════╛\n",
      "\n",
      "Error: 0.11297976024328305 % > 0.00001%\n",
      "Se han realizado 3 iteraciones\n",
      "\n",
      "\n",
      "-------\n",
      "\n",
      "Con un valor de f4 de 0.02545757427788692 se obtiene un diámetro D4 de 0.0953733271927643 m y un valor de v4 de 3.09199415119843 m/s\n",
      "\n",
      "Como Re>=4000 es un flujo turbulento y depende de la rugosidad de la tubería. Se trata de una tubería rugosa.\n",
      "Según la expresión de Karman-Prandtl se obtiene f= 0.025455980840982315\n",
      "\n",
      "╒═══════════╤═══════════╤═════════╤═════════════╤════════════╤════════════╤══════════╕\n",
      "│    f4     │    D4     │   v4    │     Re      │    ε/D4    │  Moody f'  │  f4=f4'  │\n",
      "╞═══════════╪═══════════╪═════════╪═════════════╪════════════╪════════════╪══════════╡\n",
      "│ 0.0254576 │ 0.0953733 │ 3.09199 │ 2.26841e+06 │ 0.00272613 │  0.025456  │    NO    │\n",
      "╘═══════════╧═══════════╧═════════╧═════════════╧════════════╧════════════╧══════════╛\n",
      "\n",
      "Error: 0.006259185919327727 % > 0.00001%\n",
      "Se han realizado 4 iteraciones\n",
      "\n",
      "\n",
      "-------\n",
      "\n",
      "Con un valor de f4 de 0.025455980840982315 se obtiene un diámetro D4 de 0.0953721332440980 m y un valor de v4 de 3.09207156805544 m/s\n",
      "\n",
      "Como Re>=4000 es un flujo turbulento y depende de la rugosidad de la tubería. Se trata de una tubería rugosa.\n",
      "Según la expresión de Karman-Prandtl se obtiene f= 0.02545606916760513\n",
      "\n",
      "╒══════════╤═══════════╤═════════╤═════════════╤════════════╤════════════╤══════════╕\n",
      "│    f4    │    D4     │   v4    │     Re      │    ε/D4    │  Moody f'  │  f4=f4'  │\n",
      "╞══════════╪═══════════╪═════════╪═════════════╪════════════╪════════════╪══════════╡\n",
      "│ 0.025456 │ 0.0953721 │ 3.09207 │ 2.26844e+06 │ 0.00272616 │ 0.0254561  │    NO    │\n",
      "╘══════════╧═══════════╧═════════╧═════════════╧════════════╧════════════╧══════════╛\n",
      "\n",
      "Error: 0.00034697788062514377 % > 0.00001%\n",
      "Se han realizado 5 iteraciones\n",
      "\n",
      "\n",
      "-------\n",
      "\n",
      "Con un valor de f4 de 0.02545606916760513 se obtiene un diámetro D4 de 0.0953721994280475 m y un valor de v4 de 3.09206727654410 m/s\n",
      "\n",
      "Como Re>=4000 es un flujo turbulento y depende de la rugosidad de la tubería. Se trata de una tubería rugosa.\n",
      "Según la expresión de Karman-Prandtl se obtiene f= 0.025456064271369767\n",
      "\n",
      "╒═══════════╤═══════════╤═════════╤═════════════╤════════════╤════════════╤══════════╕\n",
      "│    f4     │    D4     │   v4    │     Re      │    ε/D4    │  Moody f'  │  f4=f4'  │\n",
      "╞═══════════╪═══════════╪═════════╪═════════════╪════════════╪════════════╪══════════╡\n",
      "│ 0.0254561 │ 0.0953722 │ 3.09207 │ 2.26844e+06 │ 0.00272616 │ 0.0254561  │    NO    │\n",
      "╘═══════════╧═══════════╧═════════╧═════════════╧════════════╧════════════╧══════════╛\n",
      "\n",
      "Error: 1.923405899535505e-05 % > 0.00001%\n",
      "Se han realizado 6 iteraciones\n",
      "\n",
      "\n",
      "-------\n",
      "\n",
      "Con un valor de f4 de 0.025456064271369767 se obtiene un diámetro D4 de 0.0953721957592582 m y un valor de v4 de 3.09206751443615 m/s\n",
      "\n",
      "Como Re>=4000 es un flujo turbulento y depende de la rugosidad de la tubería. Se trata de una tubería rugosa.\n",
      "Según la expresión de Karman-Prandtl se obtiene f= 0.025456064542783725\n",
      "\n",
      "╒═══════════╤═══════════╤═════════╤═════════════╤════════════╤════════════╤══════════╕\n",
      "│    f4     │    D4     │   v4    │     Re      │    ε/D4    │  Moody f'  │  f4=f4'  │\n",
      "╞═══════════╪═══════════╪═════════╪═════════════╪════════════╪════════════╪══════════╡\n",
      "│ 0.0254561 │ 0.0953722 │ 3.09207 │ 2.26844e+06 │ 0.00272616 │ 0.0254561  │    SI    │\n",
      "╘═══════════╧═══════════╧═════════╧═════════════╧════════════╧════════════╧══════════╛\n",
      "\n",
      "Error: 1.0662054997500517e-06 % < 0.00001%\n",
      "Se han realizado 7 iteraciones\n",
      "\n",
      "\n"
     ]
    }
   ],
   "source": [
    "from sympy.solvers import nsolve\n",
    "from sympy import Symbol\n",
    "x = Symbol('x')\n",
    "\n",
    "#Iteración\n",
    "\n",
    "from tabulate import tabulate\n",
    "\n",
    "print(\"\\n\"+\"Procedemos a iterar:\"+\"\\n\")\n",
    "\n",
    "i=0\n",
    "f_4= float(input(\"Ingresa el valor de f4: \"))\n",
    "print()\n",
    "\n",
    "#abs()--> valor absoluto\n",
    "#tablefmt='fancy_grid'--> formato de la tabla, cuadriculada\n",
    "#stralign='center' --> alineación en el centro\n",
    "\n",
    "while i<9: \n",
    "    \n",
    "    #Calculamos el diámetro de la tubería.\n",
    "    \n",
    "    D_4=nsolve((8*f_4*L_4.result*(Q_4)**2)-((pi**2)*g*hf_4*x**5),x,0.1)\n",
    "    \n",
    "    #Se calcula la rugosidad relativa que servirá para obtener el coeficiente de fricción f4.\n",
    "    \n",
    "    rugosidad_relativa_4= rugosidad_4.result/(D_4*100)\n",
    "\n",
    "    #Con el diámetro calculado anteriormente, calculamos la velocidad en la tubería.\n",
    "    \n",
    "    v_4= (Q_4*4)/(pi*D_4**2)\n",
    "\n",
    "    print(\"Con un valor de f4 de\", f_4,\"se obtiene un diámetro D4 de\", D_4, \"m y un valor de v4 de\", v_4, \"m/s\")\n",
    "    print()\n",
    "    \n",
    "    #Se calcula Reynolds\n",
    "    \n",
    "    Re_4= (v_4*D_4)/viscosidad_cinematica\n",
    "    \n",
    "    #Ábaco de Moody. Se obtiene el coeficiente de fricción f4.\n",
    "    \n",
    "    moody_f= abaco_de_moody(Re_4, rugosidad_relativa_4)\n",
    "    \n",
    "    #error en %\n",
    "    error= abs(((f_4-moody_f)*100)/f_4)\n",
    "    \n",
    "    #Dependiendo del error se finaliza la iteración\n",
    "    if error>0.00001:\n",
    "        iguales=(\"NO\")\n",
    "        \n",
    "        #Formato de la tabla\n",
    "        iteracion= [['f4','D4', 'v4','Re', 'ε/D4', \"Moody f'\", \"f4=f4'\"],\n",
    "                    [f_4, D_4, v_4, Re_4, rugosidad_relativa_4, moody_f, iguales]]\n",
    "        i=i+1\n",
    "        f_4=moody_f\n",
    "        \n",
    "        print()\n",
    "        #Se imprime la tabla\n",
    "        print(tabulate(iteracion, headers='firstrow', tablefmt='fancy_grid',stralign='center',numalign='center'))\n",
    "        print()\n",
    "        print(\"Error:\", error, '% > 0.00001%')\n",
    "        print(\"Se han realizado\",i, \"iteraciones\"+'\\n')\n",
    "        print()\n",
    "        print(\"-------\")\n",
    "        print()\n",
    "    else: \n",
    "        iguales=(\"SI\")\n",
    "        \n",
    "        #Formato de la tabla\n",
    "        iteracion= [['f4','D4', 'v4','Re', 'ε/D4', \"Moody f'\", \"f4=f4'\"],\n",
    "                    [f_4, D_4, v_4, Re_4, rugosidad_relativa_4, moody_f, iguales]]\n",
    "        f_4=moody_f\n",
    "        i=i+1\n",
    "        \n",
    "        print()\n",
    "        #Se imprime la tabla\n",
    "        print(tabulate(iteracion, headers='firstrow', tablefmt='fancy_grid',stralign='center',numalign='center'))\n",
    "        print()\n",
    "        print(\"Error:\", error, '% < 0.00001%')\n",
    "        print(\"Se han realizado\",i, \"iteraciones\"+'\\n')\n",
    "        print()\n",
    "        break\n",
    "        \n",
    "if (i==9) and (error>0.00001):\n",
    "    \n",
    "    #Calculamos el diámetro de la tubería.\n",
    "    \n",
    "    D_4=nsolve((8*f_4*L_4.result*(Q_4)**2)-((pi**2)*g*hf_4*x**5),x,0.1)\n",
    "    \n",
    "    #Se calcula la rugosidad relativa que servirá para obtener el coeficiente de fricción f4.\n",
    "    \n",
    "    rugosidad_relativa_4= rugosidad_4.result/(D_4*100)\n",
    "\n",
    "    #Con el diámetro calculado anteriormente, calculamos la velocidad en la tubería.\n",
    "    \n",
    "    v_4= (Q_4*4)/(pi*D_4**2)\n",
    "\n",
    "    print(\"Con un valor de f4 de\", f_4,\"se obtiene un diámetro D4 de\", D_4, \"m y un valor de v4 de\", v_4, \"m/s\")\n",
    "    print()\n",
    "    \n",
    "    #Se calcula Reynolds\n",
    "    \n",
    "    Re_4= (v_4*D_4)/viscosidad_cinematica\n",
    "    \n",
    "    #Ábaco de Moody. Se obtiene el coeficiente de fricción f4.\n",
    "    \n",
    "    moody_f= abaco_de_moody(Re_4, rugosidad_relativa_4)\n",
    "                \n",
    "    iguales=(\"SI\")\n",
    "    \n",
    "    #Formato de la tabla\n",
    "    iteracion= [['f4','D4', 'v4','Re', 'ε/D4', \"Moody f'\", \"f4=f4'\"],\n",
    "                [f_4, D_4, v_4, Re_4, rugosidad_relativa_4, moody_f, iguales]]\n",
    "    error= abs(((f_4-moody_f)*100)/f_4)\n",
    "    f_4=moody_f\n",
    "    i=i+1\n",
    "    \n",
    "    print()\n",
    "    #Se imprime la tabla\n",
    "    print(tabulate(iteracion, headers='firstrow', tablefmt='fancy_grid',stralign='center',numalign='center'))\n",
    "    print()\n",
    "    print(\"Error:\", error, '% > 0.00001%')\n",
    "    print(\"Se han realizado\",i, \"iteraciones\"+'\\n')\n",
    "    print()"
   ]
  },
  {
   "cell_type": "code",
   "execution_count": 10,
   "metadata": {},
   "outputs": [
    {
     "name": "stdout",
     "output_type": "stream",
     "text": [
      "RESULTADO: 95.3721957592582 mm\n"
     ]
    }
   ],
   "source": [
    "print(\"RESULTADO:\", D_4*1000, \"mm\")"
   ]
  },
  {
   "cell_type": "code",
   "execution_count": null,
   "metadata": {},
   "outputs": [],
   "source": []
  }
 ],
 "metadata": {
  "kernelspec": {
   "display_name": "Python 3",
   "language": "python",
   "name": "python3"
  },
  "language_info": {
   "codemirror_mode": {
    "name": "ipython",
    "version": 3
   },
   "file_extension": ".py",
   "mimetype": "text/x-python",
   "name": "python",
   "nbconvert_exporter": "python",
   "pygments_lexer": "ipython3",
   "version": "3.8.3"
  }
 },
 "nbformat": 4,
 "nbformat_minor": 4
}

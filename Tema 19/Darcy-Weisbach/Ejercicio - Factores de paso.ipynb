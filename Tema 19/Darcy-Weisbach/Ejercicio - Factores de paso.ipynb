{
 "cells": [
  {
   "cell_type": "markdown",
   "metadata": {},
   "source": [
    "<div style=\"background-color:#282423; text-align:center; vertical-align: middle; padding:10px 40px;\">\n",
    "    <div align=\"left\" style=\"font-size:1em; color:#8c8c8c;font-family:didot;\">Pérdidas de carga en flujos internos</div>\n",
    "<!-- 1em son 16px -->\n",
    "    <div align=\"right\" style=\"font-size:1em; color:#8c8c8c;font-family:didot;\" >Bloque 5</div>\n",
    "    <br/>\n",
    "    <br/>\n",
    "    <br/>\n",
    "    <h1 style=\"margin: 10px;color:white;font-family:didot;\">FLUJO PERMANENTE EN CONDUCTOS CERRADOS</h1>\n",
    "    <hr>\n",
    "     <h1 style=\"margin: 10px;color:white;font-family:didot;\">PÉRDIDAS MENORES</h1>\n",
    "    <h1 style=\"margin: 10px;color:#BFAE5F;font-family:didot;\"><em>~ Factores de paso ~</em></h1>\n",
    "    <br/>\n",
    "\n",
    "</div>\n",
    "<br/>\n",
    "<div style=\"background-color:#EAEAE9;padding:10px 40px;text-align:center; vertical-align: middle;font-family:didot;\">\n",
    "    <h1><b style=\"font-size: 17px;\">Ejercicio 6.21 de la colección de problemas</b></h1>\n",
    "    <hr>\n",
    "<p style=\"font-size: 15px;text-align: justify;\">Se tiene una instalación de llenado de camiones de reparto de keroseno a partir de un depósito de almacenamiento, mediante el sistema de tuberías indicado en la figura. Se pide:</p>\n",
    "    \n",
    "<p style=\"font-size: 15px;\"> a) Caudal circulante en la posición de la figura. </p><br>\n",
    "\n",
    "<p style=\"font-size: 15px;\"> <b>Datos: </b><br>\n",
    "- Temperatura del keroseno= 20 ºC <br>\n",
    "- Peso específico relativo del keroseno= 0,77 <br>\n",
    "- Longitud de la tubería= 25 m <br>\n",
    "- Diámetro= 100 mm <br>\n",
    "- Tubería de acero comercial. </p><br>\n",
    "   \n",
    "<img src=\"../../img/ejercicio_6.21.png\" style=\"height:300px\">\n",
    "<br>\n",
    "    \n",
    "<p style=\"font-size: 15px;text-align: justify;\"> <b>Nota:</b> Se ha de utilizar el método de los factores de paso para calcular la pérdida de carga de las piezas especiales. Solo se tendrán en cuenta las piezas especiales resaltadas.</p>\n",
    "    <br>\n",
    "</div>"
   ]
  },
  {
   "cell_type": "markdown",
   "metadata": {},
   "source": [
    "<div style=\"background-color:#EAEAE9;padding:10px 40px;text-align:center; vertical-align: middle;font-family:didot;\">\n",
    "    <h1><b style=\"font-size: 18px;\">Resolución del problema</b></h1>\n",
    "<br>\n",
    "<hr>  \n",
    "\n",
    "<p style=\"font-size: 15px;text-align: justify;\">\n",
    "Del ábaco nº5 se obtiene la viscosidad cinemática característica del fluido.\n",
    "<br>\n",
    "Del cuadro de rugosidades nº20 se obtiene la rugosidad de la tubería.\n",
    "</p>\n",
    "</div>"
   ]
  },
  {
   "cell_type": "code",
   "execution_count": 1,
   "metadata": {},
   "outputs": [],
   "source": [
    "#Antes que nada, se deben importar los módulos necesarios para usarlos al resolver los problemas. \n",
    "#Son unos ficheros que guardan definiciones y declaraciones de Python.\n",
    "\n",
    "from math import pi, sqrt, log10\n",
    "from ipynb.fs.full.abaco_de_moody import abaco_de_moody, abaco_de_moody_sin_texto\n",
    "from ipywidgets import widgets, interactive\n",
    "from ipynb.fs.full.funciones_variables import D, L, z_a, z_b, P_A, P_B, s, v_a, K_borda, K_valvula_compuerta, K_valvula_esferica, K_codos_radio_medio, rugosidad\n",
    "\n",
    "#Crea una lista de los módulos instalados --> help(\"modules\")\n",
    "#Esta función crea una lista de las funciones o variables del módulo --> dir(math)"
   ]
  },
  {
   "cell_type": "code",
   "execution_count": 2,
   "metadata": {},
   "outputs": [
    {
     "name": "stdout",
     "output_type": "stream",
     "text": [
      "Ingresa el diámetro de la tubería [m]: \n"
     ]
    },
    {
     "data": {
      "application/vnd.jupyter.widget-view+json": {
       "model_id": "722a4b3901924349a3d2059737fd646e",
       "version_major": 2,
       "version_minor": 0
      },
      "text/plain": [
       "interactive(children=(FloatText(value=0.0, description='D', step=0.1), Output()), _dom_classes=('widget-intera…"
      ]
     },
     "metadata": {},
     "output_type": "display_data"
    },
    {
     "name": "stdout",
     "output_type": "stream",
     "text": [
      "Ingresa la longitud de la tubería: [m] \n"
     ]
    },
    {
     "data": {
      "application/vnd.jupyter.widget-view+json": {
       "model_id": "b8f0ddd8f7434161b5c147c683431e63",
       "version_major": 2,
       "version_minor": 0
      },
      "text/plain": [
       "interactive(children=(FloatText(value=0.0, description='L', step=1.0), Output()), _dom_classes=('widget-intera…"
      ]
     },
     "metadata": {},
     "output_type": "display_data"
    },
    {
     "name": "stdout",
     "output_type": "stream",
     "text": [
      "Ingresa la cota de A: \n"
     ]
    },
    {
     "data": {
      "application/vnd.jupyter.widget-view+json": {
       "model_id": "8c0c4cb3eb824596bcf17e9a663266c6",
       "version_major": 2,
       "version_minor": 0
      },
      "text/plain": [
       "interactive(children=(FloatText(value=0.0, description='z_a', step=1.0), Output()), _dom_classes=('widget-inte…"
      ]
     },
     "metadata": {},
     "output_type": "display_data"
    },
    {
     "name": "stdout",
     "output_type": "stream",
     "text": [
      "Ingresa la cota de B: \n"
     ]
    },
    {
     "data": {
      "application/vnd.jupyter.widget-view+json": {
       "model_id": "2e3f3f53ffc5453b86bb0bc458eb6f55",
       "version_major": 2,
       "version_minor": 0
      },
      "text/plain": [
       "interactive(children=(FloatText(value=0.0, description='z_b', step=1.0), Output()), _dom_classes=('widget-inte…"
      ]
     },
     "metadata": {},
     "output_type": "display_data"
    },
    {
     "name": "stdout",
     "output_type": "stream",
     "text": [
      "Ingresa la presión de A [m.c.l.]: \n"
     ]
    },
    {
     "data": {
      "application/vnd.jupyter.widget-view+json": {
       "model_id": "7b0f4785c466424f95c23660625eaca1",
       "version_major": 2,
       "version_minor": 0
      },
      "text/plain": [
       "interactive(children=(FloatText(value=0.0, description='P_A', step=1.0), Output()), _dom_classes=('widget-inte…"
      ]
     },
     "metadata": {},
     "output_type": "display_data"
    },
    {
     "name": "stdout",
     "output_type": "stream",
     "text": [
      "Ingresa la presión de B [m.c.l.]: \n"
     ]
    },
    {
     "data": {
      "application/vnd.jupyter.widget-view+json": {
       "model_id": "0e44a20216994850a90269e2034ce476",
       "version_major": 2,
       "version_minor": 0
      },
      "text/plain": [
       "interactive(children=(FloatText(value=0.0, description='P_B', step=1.0), Output()), _dom_classes=('widget-inte…"
      ]
     },
     "metadata": {},
     "output_type": "display_data"
    },
    {
     "name": "stdout",
     "output_type": "stream",
     "text": [
      "Ingresa la densidad relativa del fluido: \n"
     ]
    },
    {
     "data": {
      "application/vnd.jupyter.widget-view+json": {
       "model_id": "df4783fc0a1148b59fa31f790fb8994a",
       "version_major": 2,
       "version_minor": 0
      },
      "text/plain": [
       "interactive(children=(FloatText(value=0.0, description='s', step=0.01), Output()), _dom_classes=('widget-inter…"
      ]
     },
     "metadata": {},
     "output_type": "display_data"
    },
    {
     "name": "stdout",
     "output_type": "stream",
     "text": [
      "Ingresa la velocidad A [m/s]: \n"
     ]
    },
    {
     "data": {
      "application/vnd.jupyter.widget-view+json": {
       "model_id": "020f431c1de54cf1b17c624813d230f1",
       "version_major": 2,
       "version_minor": 0
      },
      "text/plain": [
       "interactive(children=(FloatText(value=0.0, description='v_a', step=0.1), Output()), _dom_classes=('widget-inte…"
      ]
     },
     "metadata": {},
     "output_type": "display_data"
    },
    {
     "name": "stdout",
     "output_type": "stream",
     "text": [
      "Ingresa el factor de paso del orificio borda: \n"
     ]
    },
    {
     "data": {
      "application/vnd.jupyter.widget-view+json": {
       "model_id": "e56d4c6b04ef48b78606a7622512cb5b",
       "version_major": 2,
       "version_minor": 0
      },
      "text/plain": [
       "interactive(children=(FloatText(value=0.0, description='K_borda', step=0.01), Output()), _dom_classes=('widget…"
      ]
     },
     "metadata": {},
     "output_type": "display_data"
    },
    {
     "name": "stdout",
     "output_type": "stream",
     "text": [
      "Ingresa el factor de paso de la válvula de compuerta abierta: \n"
     ]
    },
    {
     "data": {
      "application/vnd.jupyter.widget-view+json": {
       "model_id": "d3091f4efdea4c6f98d294897e402fcb",
       "version_major": 2,
       "version_minor": 0
      },
      "text/plain": [
       "interactive(children=(FloatText(value=0.0, description='K_valvula_compuerta', step=0.01), Output()), _dom_clas…"
      ]
     },
     "metadata": {},
     "output_type": "display_data"
    },
    {
     "name": "stdout",
     "output_type": "stream",
     "text": [
      "Ingresa el factor de paso de la válvula esférica: \n"
     ]
    },
    {
     "data": {
      "application/vnd.jupyter.widget-view+json": {
       "model_id": "29841b0d069748abbd48d7300baa4841",
       "version_major": 2,
       "version_minor": 0
      },
      "text/plain": [
       "interactive(children=(FloatText(value=0.0, description='K_valvula_esferica', step=0.01), Output()), _dom_class…"
      ]
     },
     "metadata": {},
     "output_type": "display_data"
    },
    {
     "name": "stdout",
     "output_type": "stream",
     "text": [
      "Ingresa el factor de paso de los codos comerciales de radio medio: \n"
     ]
    },
    {
     "data": {
      "application/vnd.jupyter.widget-view+json": {
       "model_id": "029d685eedbe4473bedd03f044d837cb",
       "version_major": 2,
       "version_minor": 0
      },
      "text/plain": [
       "interactive(children=(FloatText(value=0.0, description='K_codos_radio_medio', step=0.01), Output()), _dom_clas…"
      ]
     },
     "metadata": {},
     "output_type": "display_data"
    },
    {
     "name": "stdout",
     "output_type": "stream",
     "text": [
      "Ingresa la rugosidad de la tubería [cm]: \n"
     ]
    },
    {
     "data": {
      "application/vnd.jupyter.widget-view+json": {
       "model_id": "fa2cbc7da1424b7e821b3fca9b8ee0f8",
       "version_major": 2,
       "version_minor": 0
      },
      "text/plain": [
       "interactive(children=(Dropdown(description='Tubería:', options=(('Acero roblonado', 0.18), ('Hormigón', 0.12),…"
      ]
     },
     "metadata": {},
     "output_type": "display_data"
    }
   ],
   "source": [
    "#Solicitar datos de entrada\n",
    "\n",
    "print(\"Ingresa el diámetro de la tubería [m]: \")\n",
    "D= interactive(D, D=widgets.FloatText(min=-10, max=100, step=0.1, value=0));\n",
    "display(D)\n",
    "\n",
    "print(\"Ingresa la longitud de la tubería: [m] \")\n",
    "L= interactive(L, L=widgets.FloatText(min=-10, max=1000, step=1, value=0));\n",
    "display(L)\n",
    "\n",
    "print(\"Ingresa la cota de A: \")\n",
    "z_a= interactive(z_a, z_a=widgets.FloatText(min=-50, max=1000, step=1, value=0));\n",
    "display(z_a)\n",
    "\n",
    "print(\"Ingresa la cota de B: \")\n",
    "z_b= interactive(z_b, z_b=widgets.FloatText(min=-50, max=1000, step=1, value=0));\n",
    "display(z_b)\n",
    "\n",
    "print(\"Ingresa la presión de A [m.c.l.]: \")\n",
    "P_A= interactive(P_A, P_A=widgets.FloatText(min=-50, max=1000, step=1, value=0));\n",
    "display(P_A)\n",
    "\n",
    "print(\"Ingresa la presión de B [m.c.l.]: \")\n",
    "P_B= interactive(P_B, P_B=widgets.FloatText(min=-50, max=1000, step=1, value=0));\n",
    "display(P_B)\n",
    "\n",
    "print(\"Ingresa la densidad relativa del fluido: \")\n",
    "s= interactive(s, s=widgets.FloatText(min=-10, max=100, step=0.01, value=0));\n",
    "display(s)\n",
    "\n",
    "print(\"Ingresa la velocidad A [m/s]: \")\n",
    "v_a= interactive(v_a, v_a=widgets.FloatText(min=-50, max=100, step=0.1, value=0));\n",
    "display(v_a)\n",
    "\n",
    "\n",
    "#Solicitar factores de paso (cuadro nº24)\n",
    "\n",
    "print(\"Ingresa el factor de paso del orificio borda: \")\n",
    "K_borda= interactive(K_borda, K_borda=widgets.FloatText(min=-10, max=100, step=0.01, value=0));\n",
    "display(K_borda)\n",
    "\n",
    "print(\"Ingresa el factor de paso de la válvula de compuerta abierta: \")\n",
    "K_valvula_compuerta= interactive(K_valvula_compuerta, K_valvula_compuerta=widgets.FloatText(min=-10, max=100, step=0.01, value=0));\n",
    "display(K_valvula_compuerta)\n",
    "\n",
    "print(\"Ingresa el factor de paso de la válvula esférica: \")\n",
    "K_valvula_esferica= interactive(K_valvula_esferica, K_valvula_esferica=widgets.FloatText(min=-10, max=100, step=0.01, value=0));\n",
    "display(K_valvula_esferica)\n",
    "\n",
    "print(\"Ingresa el factor de paso de los codos comerciales de radio medio: \")\n",
    "K_codos_radio_medio= interactive(K_codos_radio_medio, K_codos_radio_medio=widgets.FloatText(min=-10, max=100, step=0.01, value=0));\n",
    "display(K_codos_radio_medio)\n",
    "\n",
    "print(\"Ingresa la rugosidad de la tubería [cm]: \")\n",
    "\n",
    "rugosidad= interactive(rugosidad, rugosidad=widgets.Dropdown(\n",
    "    options=[('Acero roblonado', 0.18), \n",
    "             ('Hormigón', 0.12), \n",
    "             ('Hierro fundido (Fundición)', 0.026), \n",
    "             ('Madera', 0.06), \n",
    "             ('Hierro galvanizado', 0.015), \n",
    "             ('Fundición asfaltada', 0.012), \n",
    "             ('Acero comercial y soldado', 0.006), \n",
    "             ('Hierro forjado', 0.006), \n",
    "             ('Tubo estirado', 0.00024), \n",
    "             ('Latón y cobre', 0.00015), \n",
    "             ('Fibrocemento', 0.01), \n",
    "             ('PVC y PE', 0.0007)],\n",
    "    description='Tubería:',\n",
    "));\n",
    "display(rugosidad)\n",
    "\n",
    "#Constantes\n",
    "\n",
    "g=9.8"
   ]
  },
  {
   "cell_type": "markdown",
   "metadata": {},
   "source": [
    "<div style=\"background-color:#EAEAE9;padding:10px 40px;text-align:center; vertical-align: middle;font-family:didot;\">\n",
    "\n",
    "<p style=\"font-size: 15px;text-align: justify;\">Se aplica la ecuación de Bernoulli entre A y B: </p>\n",
    "\n",
    "<p style=\"font-size: 15px;text-align: justify;\">\n",
    "\\begin{equation}\n",
    "v_{_{B}}=v  \\\\\n",
    "    B_{_{A}} - h_{f_{tubería}} - h_{f_{p.e.}}= B_{_{B}} \\rightarrow \\frac{P_{_{A}}}{\\gamma} + z_{_{A}} + \\frac{{v_{_A}}^{^2}}{2 \\cdot g} - f \\cdot \\frac{L}{D} \\cdot \\frac{{v}^{^2}}{2 \\cdot g} - \\sum \\left( K \\cdot \\frac{{v}^{^2}}{2 \\cdot g}\\right)= \\frac{P_{_{B}}}{\\gamma} + z_{_{B}} + \\frac{{v_{_{B}}}^{^2}}{2 \\cdot g}\n",
    "\\end{equation}  \n",
    "<br>\n",
    "</p>\n",
    "    \n",
    "<p style=\"font-size: 15px;text-align: justify;\">Sustituyendo los datos se obtiene una ecuación con dos incógnitas: v y f, donde no se tiene datos para entrar en el ábaco de Moody o las expresiones para conocer f y calcular v. Por ello, hay que recurrir a la iteración. </p>\n",
    "</div>"
   ]
  },
  {
   "cell_type": "code",
   "execution_count": 3,
   "metadata": {},
   "outputs": [],
   "source": [
    "#Suma de los factores de paso\n",
    "\n",
    "k=K_borda.result + K_valvula_compuerta.result + K_valvula_esferica.result + (3*K_codos_radio_medio.result)"
   ]
  },
  {
   "cell_type": "code",
   "execution_count": 4,
   "metadata": {},
   "outputs": [
    {
     "name": "stdout",
     "output_type": "stream",
     "text": [
      "Ingresa la viscosidad cinemática característica del fluido [m2/s]: 0.0000022\n",
      "\n",
      "Procedemos a iterar:\n",
      "\n",
      "Ingresa el valor de f: 0.03\n",
      "\n",
      "Con un valor de f de 0.03 se obtiene un valor de v de 1.009679565159376 m/s\n",
      "\n",
      "Como Re>=4000 es un flujo turbulento y depende de la rugosidad de la tubería. Se trata de una tubería semirrugosa.\n",
      "Según la expresión aproximada de PSAK se obtiene f= 0.023270293082176013\n",
      "\n",
      "╒══════╤═════════╤═════════╤════════╤════════════╤════════╕\n",
      "│  f   │    v    │   Re    │  ε/D   │  Moody f'  │  f=f'  │\n",
      "╞══════╪═════════╪═════════╪════════╪════════════╪════════╡\n",
      "│ 0.03 │ 1.00968 │ 45894.5 │ 0.0006 │ 0.0232703  │   NO   │\n",
      "╘══════╧═════════╧═════════╧════════╧════════════╧════════╛\n",
      "\n",
      "Error: 22.43235639274662 % > 0.00001%\n",
      "Se han realizado 1 iteraciones\n",
      "\n",
      "\n",
      "-------\n",
      "\n",
      "Con un valor de f de 0.023270293082176013 se obtiene un valor de v de 1.0209085125850519 m/s\n",
      "\n",
      "Como Re>=4000 es un flujo turbulento y depende de la rugosidad de la tubería. Se trata de una tubería semirrugosa.\n",
      "Según la expresión aproximada de PSAK se obtiene f= 0.02322784980678395\n",
      "\n",
      "╒═══════════╤═════════╤═════════╤════════╤════════════╤════════╕\n",
      "│     f     │    v    │   Re    │  ε/D   │  Moody f'  │  f=f'  │\n",
      "╞═══════════╪═════════╪═════════╪════════╪════════════╪════════╡\n",
      "│ 0.0232703 │ 1.02091 │ 46404.9 │ 0.0006 │ 0.0232278  │   NO   │\n",
      "╘═══════════╧═════════╧═════════╧════════╧════════════╧════════╛\n",
      "\n",
      "Error: 0.1823925261369939 % > 0.00001%\n",
      "Se han realizado 2 iteraciones\n",
      "\n",
      "\n",
      "-------\n",
      "\n",
      "Con un valor de f de 0.02322784980678395 se obtiene un valor de v de 1.0209805253135877 m/s\n",
      "\n",
      "Como Re>=4000 es un flujo turbulento y depende de la rugosidad de la tubería. Se trata de una tubería semirrugosa.\n",
      "Según la expresión aproximada de PSAK se obtiene f= 0.023227579911138923\n",
      "\n",
      "╒═══════════╤═════════╤═════════╤════════╤════════════╤════════╕\n",
      "│     f     │    v    │   Re    │  ε/D   │  Moody f'  │  f=f'  │\n",
      "╞═══════════╪═════════╪═════════╪════════╪════════════╪════════╡\n",
      "│ 0.0232278 │ 1.02098 │ 46408.2 │ 0.0006 │ 0.0232276  │   NO   │\n",
      "╘═══════════╧═════════╧═════════╧════════╧════════════╧════════╛\n",
      "\n",
      "Error: 0.0011619484682078725 % > 0.00001%\n",
      "Se han realizado 3 iteraciones\n",
      "\n",
      "\n",
      "-------\n",
      "\n",
      "Con un valor de f de 0.023227579911138923 se obtiene un valor de v de 1.02098098328935 m/s\n",
      "\n",
      "Como Re>=4000 es un flujo turbulento y depende de la rugosidad de la tubería. Se trata de una tubería semirrugosa.\n",
      "Según la expresión aproximada de PSAK se obtiene f= 0.023227578194789926\n",
      "\n",
      "╒═══════════╤═════════╤═════════╤════════╤════════════╤════════╕\n",
      "│     f     │    v    │   Re    │  ε/D   │  Moody f'  │  f=f'  │\n",
      "╞═══════════╪═════════╪═════════╪════════╪════════════╪════════╡\n",
      "│ 0.0232276 │ 1.02098 │ 46408.2 │ 0.0006 │ 0.0232276  │   SI   │\n",
      "╘═══════════╧═════════╧═════════╧════════╧════════════╧════════╛\n",
      "\n",
      "Error: 7.389271734383652e-06 % < 0.00001%\n",
      "Se han realizado 4 iteraciones\n",
      "\n",
      "\n"
     ]
    }
   ],
   "source": [
    "#El módulo tiene sólo una función, tabulate()\n",
    "#imprime tablas a partir de los datos de entrada de su primer argumento\n",
    "from tabulate import tabulate\n",
    "\n",
    "#Pedimos al usuario que ingrese la viscosidad cinemática del fluido.\n",
    "\n",
    "viscosidad_cinematica= float(input(\"Ingresa la viscosidad cinemática característica del fluido [m2/s]: \"))\n",
    "\n",
    "#Iteración\n",
    "\n",
    "print(\"\\n\"+\"Procedemos a iterar:\"+\"\\n\")\n",
    "\n",
    "#Una vez el usuario ingrese la rugosidad, se calcula la rugosidad relativa que servirá para obtener el coeficiente de fricción f.\n",
    "\n",
    "rugosidad_relativa= rugosidad.result/(D.result*100)\n",
    "\n",
    "i=0\n",
    "f= float(input(\"Ingresa el valor de f: \"))\n",
    "print()\n",
    "\n",
    "#abs()--> valor absoluto\n",
    "#tablefmt='fancy_grid'--> formato de la tabla, cuadriculada\n",
    "#stralign='center' --> alineación en el centro\n",
    "\n",
    "while i<9: \n",
    "    \n",
    "    v= sqrt((z_a.result+P_A.result+((v_a.result**2)/(2*g))-z_b.result-P_B.result)/(((L.result*f)/(D.result*2*g))+(1/(2*g))+k))\n",
    "\n",
    "    print(\"Con un valor de f de\", f,\"se obtiene un valor de v de\", v, \"m/s\")\n",
    "    print()\n",
    "    \n",
    "    #Se calcula Reynolds\n",
    "    \n",
    "    Re= (v*D.result)/viscosidad_cinematica\n",
    "    \n",
    "    #Ábaco de Moody. Se obtiene el coeficiente de fricción f.\n",
    "    \n",
    "    moody_f= abaco_de_moody(Re, rugosidad_relativa)\n",
    "    \n",
    "    #error en %\n",
    "    error= abs(((f-moody_f)*100)/f)\n",
    "    \n",
    "    #Dependiendo del error se finaliza la iteración\n",
    "    if error>0.00001:\n",
    "        iguales=(\"NO\")\n",
    "        \n",
    "        #Formato de la tabla\n",
    "        iteracion= [['f', 'v', 'Re','ε/D', \"Moody f'\", \"f=f'\"],\n",
    "                    [f, v, Re, rugosidad_relativa, moody_f, iguales]]\n",
    "        i=i+1\n",
    "        f=moody_f\n",
    "        \n",
    "        print()\n",
    "        #Se imprime la tabla\n",
    "        print(tabulate(iteracion, headers='firstrow', tablefmt='fancy_grid',stralign='center',numalign='center')) \n",
    "        print()\n",
    "        print(\"Error:\", error, '% > 0.00001%')\n",
    "        print(\"Se han realizado\",i, \"iteraciones\"+'\\n')\n",
    "        print()\n",
    "        print(\"-------\")\n",
    "        print()\n",
    "    else: \n",
    "        iguales=(\"SI\")\n",
    "        \n",
    "        #Formato de la tabla\n",
    "        iteracion= [['f', 'v', 'Re','ε/D', \"Moody f'\", \"f=f'\"],\n",
    "                    [f, v, Re, rugosidad_relativa, moody_f, iguales]]\n",
    "        f=moody_f\n",
    "        i=i+1\n",
    "        \n",
    "        print()\n",
    "        #Se imprime la tabla\n",
    "        print(tabulate(iteracion, headers='firstrow', tablefmt='fancy_grid',stralign='center',numalign='center'))\n",
    "        print()\n",
    "        print(\"Error:\", error, '% < 0.00001%')\n",
    "        print(\"Se han realizado\",i, \"iteraciones\"+'\\n')\n",
    "        print()\n",
    "        break\n",
    "        \n",
    "if (i==9) and (error>0.00001):\n",
    "    \n",
    "    v= sqrt((z_a.result+P_A.result+((v_a.result**2)/(2*g))-z_b.result-P_B.result)/(((L.result*f)/(D.result*2*g))+(1/(2*g))+k))\n",
    "\n",
    "    print(\"Con un valor de f de\", f,\"se obtiene un valor de v de\", v, \"m/s\")\n",
    "    print()\n",
    "    \n",
    "    Re= (v*D.result)/viscosidad_cinematica\n",
    "    \n",
    "    moody_f= abaco_de_moody(Re, rugosidad_relativa)\n",
    "                \n",
    "    iguales=(\"SI\")\n",
    "    \n",
    "    #Formato de la tabla\n",
    "    iteracion= [['f', 'v', 'Re','ε/D', \"Moody f'\", \"f=f'\"],\n",
    "            [f, v, Re, rugosidad_relativa, moody_f, iguales]]\n",
    "    error= abs(((f-moody_f)*100)/f)\n",
    "    f=moody_f\n",
    "    i=i+1\n",
    "    \n",
    "    print()\n",
    "    #Se imprime la tabla\n",
    "    print(tabulate(iteracion, headers='firstrow', tablefmt='fancy_grid',stralign='center',numalign='center'))\n",
    "    print()\n",
    "    print(\"Error:\", error, '% > 0.00001%')\n",
    "    print(\"Se han realizado\",i, \"iteraciones\"+'\\n')\n",
    "    print()"
   ]
  },
  {
   "cell_type": "code",
   "execution_count": 5,
   "metadata": {},
   "outputs": [
    {
     "name": "stdout",
     "output_type": "stream",
     "text": [
      "Con una velocidad de 1.02098098328935 m/s se obtiene un caudal circulante de 8.018765891391762 l/s\n"
     ]
    }
   ],
   "source": [
    "#Calculamos el caudal circulante\n",
    "\n",
    "A= ((pi)*D.result**2)/4\n",
    "Q=A*v*1000\n",
    "\n",
    "print(\"Con una velocidad de\", v, \"m/s se obtiene un caudal circulante de\", Q, \"l/s\")"
   ]
  },
  {
   "cell_type": "code",
   "execution_count": 6,
   "metadata": {},
   "outputs": [
    {
     "name": "stdout",
     "output_type": "stream",
     "text": [
      "RESULTADO: 8.018765891391762 l/s\n"
     ]
    }
   ],
   "source": [
    "print(\"RESULTADO:\", Q, \"l/s\")"
   ]
  },
  {
   "cell_type": "markdown",
   "metadata": {},
   "source": [
    "<div style=\"background-color:#EAEAE9;padding:10px 40px;text-align:center; vertical-align: middle;font-family:didot;\">\n",
    "\n",
    "<p style=\"font-size: 15px;text-align: justify;\">Representación gráfica del caudal circulante en función del sumatorio de los factores de paso.</p>\n",
    "\n",
    "</div>"
   ]
  },
  {
   "cell_type": "code",
   "execution_count": 7,
   "metadata": {},
   "outputs": [],
   "source": [
    "#Importar el módulo pyplot\n",
    "\n",
    "import matplotlib.pyplot as plt"
   ]
  },
  {
   "cell_type": "code",
   "execution_count": 8,
   "metadata": {},
   "outputs": [
    {
     "name": "stdout",
     "output_type": "stream",
     "text": [
      "[8.018765913962472, 7.9156428308203175, 7.81641017509066, 7.720828992880419, 7.6286804023954735, 7.539763475704497, 7.453893387576045, 7.370899770342316, 7.290625378725719, 7.212924686540066, 7.137662873642829, 7.064714811871829, 6.9939641867927556, 6.92530271483436, 6.8586294438008775, 6.7938501264634255, 6.730876658372759, 6.669626572252204, 6.620641880906595, 6.56224092132301]\n",
      "\n",
      "[3.49, 3.5900000000000003, 3.6900000000000004, 3.7900000000000005, 3.8900000000000006, 3.9900000000000007, 4.090000000000001, 4.19, 4.29, 4.39, 4.489999999999999, 4.589999999999999, 4.689999999999999, 4.789999999999998, 4.889999999999998, 4.9899999999999975, 5.089999999999997, 5.189999999999997, 5.2899999999999965, 5.389999999999996]\n"
     ]
    }
   ],
   "source": [
    "#Declaración de una lista vacía\n",
    "factor_de_paso= []\n",
    "caudal=[]\n",
    "\n",
    "\n",
    "#For para rellenar una lista con un determinado número de elementos\n",
    "for elemento in range(20):\n",
    "    \n",
    "    if elemento==0:\n",
    "        k = k\n",
    "    else:\n",
    "        k= k + 0.1\n",
    "        \n",
    "    factor_paso_valor= k\n",
    "    \n",
    "    i=0\n",
    "    f= 0.3\n",
    "\n",
    "    while i<9: \n",
    "    \n",
    "        v= sqrt((z_a.result+P_A.result+((v_a.result**2)/(2*g))-z_b.result-P_B.result)/(((L.result*f)/(D.result*2*g))+(1/(2*g))+k))\n",
    "    \n",
    "        #Se calcula Reynolds\n",
    "    \n",
    "        Re= (v*D.result)/viscosidad_cinematica\n",
    "    \n",
    "        #Ábaco de Moody. Se obtiene el coeficiente de fricción f.\n",
    "    \n",
    "        moody_f= abaco_de_moody_sin_texto(Re, rugosidad_relativa)\n",
    "                    \n",
    "        #error en %\n",
    "        error= abs(((f-moody_f)*100)/f)\n",
    "    \n",
    "        #Dependiendo del error se finaliza la iteración\n",
    "        if error>0.00001:\n",
    "        \n",
    "            i=i+1\n",
    "            f=moody_f\n",
    "        else: \n",
    "        \n",
    "            f=moody_f\n",
    "            i=i+1\n",
    "            break \n",
    "        \n",
    "    if (i==9) and (error>0.00001):\n",
    "    \n",
    "        v= sqrt((z_a.result+P_A.result+((v_a.result**2)/(2*g))-z_b.result-P_B.result)/(((L.result*f)/(D.result*2*g))+(1/(2*g))+k))\n",
    "\n",
    "        Re= (v*D.result)/viscosidad_cinematica\n",
    "    \n",
    "        moody_f= abaco_de_moody_sin_texto(Re, rugosidad_relativa)\n",
    "                    \n",
    "        error= abs(((f-moody_f)*100)/f)\n",
    "        f=moody_f\n",
    "        i=i+1\n",
    "    \n",
    "    #Calculamos el caudal circulante\n",
    "\n",
    "    A= ((pi)*D.result**2)/4\n",
    "    Q=A*v*1000\n",
    "    \n",
    "    \n",
    "    factor_de_paso.append(factor_paso_valor)\n",
    "    \n",
    "    caudal.append(Q)\n",
    "\n",
    "print(caudal)\n",
    "print()\n",
    "print(factor_de_paso)"
   ]
  },
  {
   "cell_type": "code",
   "execution_count": 10,
   "metadata": {},
   "outputs": [
    {
     "data": {
      "image/png": "[encoded data removed]",
      "text/plain": [
       "<Figure size 936x720 with 1 Axes>"
      ]
     },
     "metadata": {
      "needs_background": "light"
     },
     "output_type": "display_data"
    }
   ],
   "source": [
    "plt.plot(factor_de_paso, caudal, 'o-') #pinta 10 puntos como o y los une con una linea continua\n",
    "\n",
    "#Personalización del gráfico\n",
    "plt.xlabel(\"Factor de paso\") #etiqueta horizontal, del eje x\n",
    "plt.ylabel(\"Caudal, Q(l/s)\") #etiqueta vertical, del eje y \n",
    "plt.title(\"Variación del caudal en función del factor de paso\") #Título del gráfico\n",
    "plt.rcParams['figure.figsize'] = [13, 10]  #tamaño del grafico en pulgadas, [width, height]\n",
    "\n",
    "\n",
    "plt.show() #muestra el gráfico"
   ]
  },
  {
   "cell_type": "code",
   "execution_count": null,
   "metadata": {},
   "outputs": [],
   "source": []
  }
 ],
 "metadata": {
  "kernelspec": {
   "display_name": "Python 3",
   "language": "python",
   "name": "python3"
  },
  "language_info": {
   "codemirror_mode": {
    "name": "ipython",
    "version": 3
   },
   "file_extension": ".py",
   "mimetype": "text/x-python",
   "name": "python",
   "nbconvert_exporter": "python",
   "pygments_lexer": "ipython3",
   "version": "3.8.3"
  }
 },
 "nbformat": 4,
 "nbformat_minor": 4
}

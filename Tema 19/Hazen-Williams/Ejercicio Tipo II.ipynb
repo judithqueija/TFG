{
 "cells": [
  {
   "cell_type": "markdown",
   "metadata": {},
   "source": [
    "<div style=\"background-color:#282423; text-align:center; vertical-align: middle; padding:10px 40px;\">\n",
    "    <div align=\"left\" style=\"font-size:1em; color:#8c8c8c;font-family:didot;\">Pérdidas de carga en flujos internos</div>\n",
    "<!-- 1em son 16px -->\n",
    "    <div align=\"right\" style=\"font-size:1em; color:#8c8c8c;font-family:didot;\" >Bloque 5</div>\n",
    "    <br/>\n",
    "    <br/>\n",
    "    <br/>\n",
    "    <h1 style=\"margin: 10px;color:white;font-family:didot;\">ECUACIÓN DE HAZEN-WILLIAMS</h1>\n",
    "    <hr>\n",
    "    <h1 style=\"margin: 10px;color:white;font-family:didot;\">TIPOS DE PROBLEMAS</h1>\n",
    "    <h1 style=\"margin: 10px;color:#BFAE5F;font-family:didot;\"><em>~ Tipo II ~</em></h1>\n",
    "    <br/>\n",
    "    <div style=\"padding:10px 15px;\">\n",
    "<p style=\"font-size: 20px;color:white;font-family:didot;\">\n",
    "<b>Datos:</b> L, D, $\\varepsilon$, $h_f$    <br/>\n",
    "    <br/>\n",
    "<b>Incógnita:</b> Q</p> \n",
    "        </div>\n",
    "</div>\n",
    "<br/>\n",
    "<div style=\"background-color:#EAEAE9;padding:10px 40px;text-align:center; vertical-align: middle;font-family:didot;\">\n",
    "    <h1><b style=\"font-size: 17px;\">Ejercicio 6.31 de la colección de problemas</b></h1>\n",
    "    <hr>\n",
    "<p style=\"font-size: 15px;text-align: justify;\">Dos depósitos, cuyos niveles pueden considerarse constantes, están separados por una distancia de 1250 m, siendo la diferencia de cotas de 12 m de altura. Se desea hacer circular un caudal de agua de 98 l/s, como mínimo. Se dispone para ello solamente de tramos de tubería de 5 m de longitud, de 300 mm de diámetro y de fibrocemento. Es preciso considerar además las pérdidas de carga de las juntas entre cada tubo, y las correspondientes a la entrada y a la salida de los depósitos. El factor de paso de cada junta es 0,15 y la entrada y salida a depósitos es con ángulo vivos. Se pide:<br>\n",
    "<br>\n",
    "a) Deducir si se podrá resolver el problema con una sola tubería. <br> \n",
    "b) Pérdidas de carga en tuberías y en piezas especiales independientemente. <br> \n",
    "c) Diferencia de niveles que tendría que haber entre los depósitos para que el caudal fuese de 98 l/s. <br> \n",
    "d) Presión a que habría que presurizar el depósito superior o el inferior para que el caudal circulante fuese de 98 l/s.\n",
    "</p><br>\n",
    "\n",
    "</div>"
   ]
  },
  {
   "cell_type": "markdown",
   "metadata": {},
   "source": [
    "<div style=\"background-color:#EAEAE9;padding:10px 40px;text-align:center; vertical-align: middle;font-family:didot;\">\n",
    "    <h1><b style=\"font-size: 18px;\">Resolución del problema</b></h1>\n",
    "<br>\n",
    "<hr>  \n",
    "<p style=\"font-size: 15px;text-align: justify;\"><b>a) Deducir si se podrá resolver el problema con una sola tubería.</b></p>\n",
    "\n",
    "<br>\n",
    "</div>"
   ]
  },
  {
   "cell_type": "code",
   "execution_count": null,
   "metadata": {},
   "outputs": [],
   "source": [
    "pip install -r requirements.txt"
   ]
  },
  {
   "cell_type": "code",
   "execution_count": 1,
   "metadata": {},
   "outputs": [],
   "source": [
    "#Antes que nada, se deben importar los módulos necesarios para usarlos al resolver los problemas. \n",
    "#Son unos ficheros que guardan definiciones y declaraciones de Python.\n",
    "\n",
    "from math import pi\n",
    "from ipynb.fs.full.funciones_hw import rugosidad_relativa, coeficiente_hw, coeficiente_J1\n",
    "from ipywidgets import widgets, interactive\n",
    "from ipynb.fs.full.funciones_variables import Q, L, D, z_a, z_b, K_junta, K_entrada, K_salida, rugosidad\n",
    "\n",
    "#Crea una lista de los módulos instalados --> help(\"modules\")\n",
    "#Esta función crea una lista de las funciones o variables del módulo --> dir(math)"
   ]
  },
  {
   "cell_type": "code",
   "execution_count": 2,
   "metadata": {},
   "outputs": [
    {
     "name": "stdout",
     "output_type": "stream",
     "text": [
      "Ingresa el caudal mínimo que circula por la tubería [m3/s]: \n"
     ]
    },
    {
     "data": {
      "application/vnd.jupyter.widget-view+json": {
       "model_id": "1d9c60ce093d45e9aad4556cbb6ba4f9",
       "version_major": 2,
       "version_minor": 0
      },
      "text/plain": [
       "interactive(children=(FloatText(value=0.0, description='Q', step=0.001), Output()), _dom_classes=('widget-inte…"
      ]
     },
     "metadata": {},
     "output_type": "display_data"
    },
    {
     "name": "stdout",
     "output_type": "stream",
     "text": [
      "Ingresa la longitud de la tubería [m]: \n"
     ]
    },
    {
     "data": {
      "application/vnd.jupyter.widget-view+json": {
       "model_id": "c3cee495b2cc445facb1f0bd110234b7",
       "version_major": 2,
       "version_minor": 0
      },
      "text/plain": [
       "interactive(children=(FloatText(value=0.0, description='L', step=1.0), Output()), _dom_classes=('widget-intera…"
      ]
     },
     "metadata": {},
     "output_type": "display_data"
    },
    {
     "name": "stdout",
     "output_type": "stream",
     "text": [
      "Ingresa el diámetro de la tubería [m]: \n"
     ]
    },
    {
     "data": {
      "application/vnd.jupyter.widget-view+json": {
       "model_id": "37f0c31b303f4ed0956f2652335b0631",
       "version_major": 2,
       "version_minor": 0
      },
      "text/plain": [
       "interactive(children=(FloatText(value=0.0, description='D', step=0.01), Output()), _dom_classes=('widget-inter…"
      ]
     },
     "metadata": {},
     "output_type": "display_data"
    },
    {
     "name": "stdout",
     "output_type": "stream",
     "text": [
      "Ingresa la cota del depósito superior: \n"
     ]
    },
    {
     "data": {
      "application/vnd.jupyter.widget-view+json": {
       "model_id": "ea3488bbab8342a08575380b3379d9e9",
       "version_major": 2,
       "version_minor": 0
      },
      "text/plain": [
       "interactive(children=(FloatText(value=0.0, description='z_a', step=1.0), Output()), _dom_classes=('widget-inte…"
      ]
     },
     "metadata": {},
     "output_type": "display_data"
    },
    {
     "name": "stdout",
     "output_type": "stream",
     "text": [
      "Ingresa la cota del depósito inferior: \n"
     ]
    },
    {
     "data": {
      "application/vnd.jupyter.widget-view+json": {
       "model_id": "96deeb438a594411a270cb37a33ad09e",
       "version_major": 2,
       "version_minor": 0
      },
      "text/plain": [
       "interactive(children=(FloatText(value=0.0, description='z_b', step=1.0), Output()), _dom_classes=('widget-inte…"
      ]
     },
     "metadata": {},
     "output_type": "display_data"
    },
    {
     "name": "stdout",
     "output_type": "stream",
     "text": [
      "Ingresa el factor de paso de cada junta: \n"
     ]
    },
    {
     "data": {
      "application/vnd.jupyter.widget-view+json": {
       "model_id": "36a12cff6a144f90857b6eb14124eaad",
       "version_major": 2,
       "version_minor": 0
      },
      "text/plain": [
       "interactive(children=(FloatText(value=0.0, description='K_junta', step=0.01), Output()), _dom_classes=('widget…"
      ]
     },
     "metadata": {},
     "output_type": "display_data"
    },
    {
     "name": "stdout",
     "output_type": "stream",
     "text": [
      "Ingresa el factor de paso de la entrada a depósito: \n"
     ]
    },
    {
     "data": {
      "application/vnd.jupyter.widget-view+json": {
       "model_id": "fe12e4debd764bb898380ec0d5a1c687",
       "version_major": 2,
       "version_minor": 0
      },
      "text/plain": [
       "interactive(children=(FloatText(value=0.0, description='K_entrada', step=0.01), Output()), _dom_classes=('widg…"
      ]
     },
     "metadata": {},
     "output_type": "display_data"
    },
    {
     "name": "stdout",
     "output_type": "stream",
     "text": [
      "Ingresa el factor de paso de la salida a depósito: \n"
     ]
    },
    {
     "data": {
      "application/vnd.jupyter.widget-view+json": {
       "model_id": "30d8477a4ecd46b0b22129f7973edeed",
       "version_major": 2,
       "version_minor": 0
      },
      "text/plain": [
       "interactive(children=(FloatText(value=0.0, description='K_salida', step=0.01), Output()), _dom_classes=('widge…"
      ]
     },
     "metadata": {},
     "output_type": "display_data"
    },
    {
     "name": "stdout",
     "output_type": "stream",
     "text": [
      "Ingresa la rugosidad de la tubería [cm]: \n"
     ]
    },
    {
     "data": {
      "application/vnd.jupyter.widget-view+json": {
       "model_id": "968d785a682147a2b82cb44c964bc308",
       "version_major": 2,
       "version_minor": 0
      },
      "text/plain": [
       "interactive(children=(Dropdown(description='Tubería:', options=(('Acero roblonado', 0.18), ('Hormigón', 0.12),…"
      ]
     },
     "metadata": {},
     "output_type": "display_data"
    }
   ],
   "source": [
    "#Pedimos al usuario que ingrese los datos del problema\n",
    "\n",
    "print(\"Ingresa el caudal mínimo que circula por la tubería [m3/s]: \")\n",
    "Q= interactive(Q, Q=widgets.FloatText(min=-10, max=100, step=0.001, value=0));\n",
    "display(Q)\n",
    "\n",
    "print(\"Ingresa la longitud de la tubería [m]: \")\n",
    "L= interactive(L, L=widgets.FloatText(min=-10, max=1000, step=1, value=0));\n",
    "display(L)\n",
    "\n",
    "print(\"Ingresa el diámetro de la tubería [m]: \")\n",
    "D= interactive(D, D=widgets.FloatText(min=-10, max=100, step=0.01, value=0));\n",
    "display(D)\n",
    "\n",
    "print(\"Ingresa la cota del depósito superior: \")\n",
    "z_a= interactive(z_a, z_a=widgets.FloatText(min=-50, max=1000, step=1, value=0));\n",
    "display(z_a)\n",
    "\n",
    "print(\"Ingresa la cota del depósito inferior: \")\n",
    "z_b= interactive(z_b, z_b=widgets.FloatText(min=-50, max=1000, step=1, value=0));\n",
    "display(z_b)\n",
    "\n",
    "print(\"Ingresa el factor de paso de cada junta: \")\n",
    "K_junta= interactive(K_junta, K_junta=widgets.FloatText(min=-10, max=100, step=0.01, value=0));\n",
    "display(K_junta)\n",
    "\n",
    "print(\"Ingresa el factor de paso de la entrada a depósito: \")\n",
    "K_entrada= interactive(K_entrada, K_entrada=widgets.FloatText(min=-10, max=100, step=0.01, value=0));\n",
    "display(K_entrada)\n",
    "\n",
    "print(\"Ingresa el factor de paso de la salida a depósito: \")\n",
    "K_salida= interactive(K_salida, K_salida=widgets.FloatText(min=-10, max=100, step=0.01, value=0));\n",
    "display(K_salida)\n",
    "\n",
    "print(\"Ingresa la rugosidad de la tubería [cm]: \")\n",
    "\n",
    "rugosidad= interactive(rugosidad, rugosidad=widgets.Dropdown(\n",
    "    options=[('Acero roblonado', 0.18), \n",
    "             ('Hormigón', 0.12), \n",
    "             ('Hierro fundido (Fundición)', 0.026), \n",
    "             ('Madera', 0.06), \n",
    "             ('Hierro galvanizado', 0.015), \n",
    "             ('Fundición asfaltada', 0.012), \n",
    "             ('Acero comercial y soldado', 0.006), \n",
    "             ('Hierro forjado', 0.006), \n",
    "             ('Tubo estirado', 0.00024), \n",
    "             ('Latón y cobre', 0.00015), \n",
    "             ('Fibrocemento', 0.01), \n",
    "             ('PVC y PE', 0.0007)],\n",
    "    description='Tubería:',\n",
    "));\n",
    "display(rugosidad)\n",
    "\n",
    "#Constantes\n",
    "\n",
    "g=9.8\n",
    "viscosidad_cinematica= 10**(-6)"
   ]
  },
  {
   "cell_type": "code",
   "execution_count": 3,
   "metadata": {},
   "outputs": [],
   "source": [
    "#Calculamos el número de juntas en la tubería\n",
    "\n",
    "juntas= 1250/5 - 1 "
   ]
  },
  {
   "cell_type": "markdown",
   "metadata": {},
   "source": [
    "<div style=\"background-color:#EAEAE9;padding:10px 40px;text-align:center; vertical-align: middle;font-family:didot;\">\n",
    "\n",
    "<p style=\"font-size: 15px;text-align: justify;\">Aplicamos la ecuación de Bernoulli entre el depósito superior (A) y el depósito inferior (B).</p>\n",
    "\n",
    "<p style=\"font-size: 15px;text-align: justify;\">\n",
    "\\begin{equation}\n",
    "    B_{_{A}} - h_{f_{tubería}} - h_{f_{juntas}} - h_{f_{entrada}} - h_{f_{salida}}= B_{_{B}} \\\\ \n",
    "    B_{_{A}} - J_{_{1}} \\cdot L \\cdot Q^{^{1.852}} - juntas \\cdot K_{juntas} \\cdot \\frac{{v}^{^2}}{2 \\cdot g} - K_{entrada} \\cdot \\frac{{v}^{^2}}{2 \\cdot g} - K_{entrada} \\cdot \\frac{{v}^{^2}}{2 \\cdot g} = B_{_B} \\\\\n",
    "    B_{_{A}} - B_{_{B}} =  J_{_{1}} \\cdot L \\cdot Q^{^{1.852}} + (juntas \\cdot K_{juntas} + K_{entrada} + K_{entrada}) \\cdot \\frac{{v}^{^2}}{2 \\cdot g} ~ ~ ~ ~(1)\n",
    "\\end{equation}</p>\n",
    "    \n",
    "</div>"
   ]
  },
  {
   "cell_type": "code",
   "execution_count": 4,
   "metadata": {},
   "outputs": [],
   "source": [
    "#pip install ipynb"
   ]
  },
  {
   "cell_type": "code",
   "execution_count": 5,
   "metadata": {},
   "outputs": [
    {
     "name": "stdout",
     "output_type": "stream",
     "text": [
      "Con una rugosidad relativa de la tubería de 0.0003333333333333333 se obtiene un coeficiente de Hazen-Williams de 130\n",
      "\n",
      "Se obtiene un coeficiente J1 de la tubería de 1.27289185912583e-06 mca/m(l/s)^1.852\n",
      "\n"
     ]
    }
   ],
   "source": [
    "#Cálculo de la rugosidad relativa\n",
    "\n",
    "rugosidad_relativa= rugosidad_relativa(rugosidad.result,D.result)\n",
    "\n",
    "#Cálculo del coeficiente de Hazen-Williams CHW \n",
    "\n",
    "C_HW= coeficiente_hw(rugosidad_relativa, 0)\n",
    "\n",
    "#Cálculo del coeficiente J1\n",
    "\n",
    "J_1= coeficiente_J1(C_HW,D.result,0)"
   ]
  },
  {
   "cell_type": "markdown",
   "metadata": {},
   "source": [
    "<div style=\"background-color:#EAEAE9;padding:10px 40px;text-align:center; vertical-align: middle;font-family:didot;\">\n",
    "\n",
    "<p style=\"font-size: 15px;text-align: justify;\">Conviene expresar v en función del caudal expresado en l/s.</p>\n",
    "\n",
    "<p style=\"font-size: 15px;text-align: justify;\">\n",
    "\\begin{equation}\n",
    "    v= \\frac{Q \\left( \\frac{m^{3}}{s} \\right)}{A} = \\frac{Q \\left( \\frac{l}{s} \\right)}{1000} \\cdot \\frac{1}{\\pi \\cdot \\frac{D^{2}}{4}}\n",
    "\\end{equation}</p>\n",
    "\n",
    "<p style=\"font-size: 15px;text-align: justify;\">Sustituyendo en (1):</p>\n",
    "\n",
    "<p style=\"font-size: 15px;text-align: justify;\">\n",
    "\\begin{equation}\n",
    "    B_{_A} - B_{_B} =  J_{_1} \\cdot L \\cdot Q^{^{1.852}} + (juntas \\cdot K_{juntas} + K_{entrada} + K_{salida}) \\cdot \\left(\\frac{Q(l/s) \\cdot 4}{1000 \\cdot \\pi \\cdot D^{^{2}}}\\right)^{2} \\cdot \\frac{1}{2 \\cdot g}\n",
    "\\end{equation}</p>\n",
    "</div>"
   ]
  },
  {
   "cell_type": "code",
   "execution_count": 6,
   "metadata": {},
   "outputs": [
    {
     "name": "stdout",
     "output_type": "stream",
     "text": [
      "Se obtiene un caudal de 99.9328854774173 l/s\n",
      "Con una tubería es suficiente para resolver el problema\n"
     ]
    }
   ],
   "source": [
    "from sympy.solvers import nsolve\n",
    "from sympy import Symbol\n",
    "x = Symbol('x')\n",
    "\n",
    "#Calculamos el caudal en l/s\n",
    "\n",
    "q= nsolve(z_b.result - z_a.result + (J_1 * 1250 * (x**1.852)) + ((juntas*K_junta.result + K_entrada.result + K_salida.result)*((x*4)/(1000*pi*D.result**2))**2 * (1/(2*g))),x,100)\n",
    "\n",
    "print(\"Se obtiene un caudal de\", q, \"l/s\")\n",
    "\n",
    "if q > Q.result*1000:\n",
    "    print(\"Con una tubería es suficiente para resolver el problema\")\n",
    "else:\n",
    "    print(\"No se podrá resolver el problema con una sola tubería\")"
   ]
  },
  {
   "cell_type": "code",
   "execution_count": 7,
   "metadata": {},
   "outputs": [
    {
     "name": "stdout",
     "output_type": "stream",
     "text": [
      "RESULTADO: 99.9328854774173 l/s\n"
     ]
    }
   ],
   "source": [
    "print(\"RESULTADO:\", q, \"l/s\")"
   ]
  },
  {
   "cell_type": "markdown",
   "metadata": {},
   "source": [
    "<div style=\"background-color:#EAEAE9;padding:10px 40px;text-align:center; vertical-align: middle;font-family:didot;\">\n",
    "\n",
    "<p style=\"font-size: 15px;text-align: justify;\"><b>b) Pérdidas de carga en tuberías y en piezas especiales independientemente.</b></p>\n",
    "\n",
    "</div>"
   ]
  },
  {
   "cell_type": "code",
   "execution_count": 8,
   "metadata": {},
   "outputs": [
    {
     "name": "stdout",
     "output_type": "stream",
     "text": [
      "Se obtienen unas pérdidas de carga en tuberías de 8.03825037833194 m.c.a. y unas pérdidas de carga en piezas especiales de 3.96174962166806 m.c.a.\n"
     ]
    }
   ],
   "source": [
    "#Calculamos las pérdidas de carga en la tubería y en las piezas especiales\n",
    "\n",
    "hf_tuberia= J_1*1250*q**1.852\n",
    "hf_piezas_especiales= (juntas* K_junta.result + K_entrada.result + K_salida.result)*(((q*4)/(1000*pi*D.result**2))**2)*((1)/(2*g))\n",
    "\n",
    "print(\"Se obtienen unas pérdidas de carga en tuberías de\", hf_tuberia, \"m.c.a. y unas pérdidas de carga en piezas especiales de\",hf_piezas_especiales, \"m.c.a.\")"
   ]
  },
  {
   "cell_type": "code",
   "execution_count": 9,
   "metadata": {},
   "outputs": [
    {
     "name": "stdout",
     "output_type": "stream",
     "text": [
      "RESULTADO: 8.03825037833194 m.c.a. y 3.96174962166806 m.c.a.\n"
     ]
    }
   ],
   "source": [
    "print(\"RESULTADO:\", hf_tuberia, \"m.c.a. y\", hf_piezas_especiales, \"m.c.a.\")"
   ]
  },
  {
   "cell_type": "markdown",
   "metadata": {},
   "source": [
    "<div style=\"background-color:#EAEAE9;padding:10px 40px;text-align:center; vertical-align: middle;font-family:didot;\">\n",
    "\n",
    "<p style=\"font-size: 15px;text-align: justify;\"><b>c) Diferencia de niveles que tendría que haber entre los depósitos para que el caudal fuese de 98 l/s.</b></p>\n",
    "\n",
    "<p style=\"font-size: 15px;text-align: justify;\">\n",
    "\\begin{equation}\n",
    "    B_{_A} - B_{_B} = h_{f_{total}}  \\\\ \n",
    "    z_{_A} - z_{_B} =  J_{_1} \\cdot L \\cdot Q^{^{1.852}} + (juntas \\cdot K_{juntas} + K_{entrada} + K_{salida}) \\cdot \\left(\\frac{Q(l/s) \\cdot 4}{1000 \\cdot \\pi \\cdot D^{^{2}}}\\right)^{2} \\cdot \\frac{1}{2 \\cdot g}\n",
    "\\end{equation}</p>\n",
    "</div>"
   ]
  },
  {
   "cell_type": "code",
   "execution_count": 10,
   "metadata": {},
   "outputs": [
    {
     "name": "stdout",
     "output_type": "stream",
     "text": [
      "Ingresa el caudal que circula por la tubería [m3/s]: 0.098\n",
      "\n",
      "Se obtiene una diferencia de niveles de 11.562663066329566 mca\n"
     ]
    }
   ],
   "source": [
    "#Pedimos al usuario que ingrese el nuevo caudal\n",
    "\n",
    "q_c= float(input(\"Ingresa el caudal que circula por la tubería [m3/s]: \"))\n",
    "\n",
    "#Calculamos la diferencia de niveles\n",
    "\n",
    "diferencia= (J_1*1250*(q_c*1000)**1.852) + (juntas* K_junta.result + K_entrada.result + K_salida.result)*((((q_c*1000)*4)/(1000*pi*D.result**2))**2)*((1)/(2*g))\n",
    "\n",
    "print()\n",
    "print(\"Se obtiene una diferencia de niveles de\", diferencia, \"mca\")"
   ]
  },
  {
   "cell_type": "code",
   "execution_count": 11,
   "metadata": {},
   "outputs": [
    {
     "name": "stdout",
     "output_type": "stream",
     "text": [
      "RESULTADO: 11.562663066329566 m\n"
     ]
    }
   ],
   "source": [
    "print(\"RESULTADO:\", diferencia, \"m\")"
   ]
  },
  {
   "cell_type": "markdown",
   "metadata": {},
   "source": [
    "<div style=\"background-color:#EAEAE9;padding:10px 40px;text-align:center; vertical-align: middle;font-family:didot;\">\n",
    "\n",
    "<p style=\"font-size: 15px;text-align: justify;\"><b>d) Presión a que habría que presurizar el depósito superior o el inferior para que el caudal circulante fuese de 98 l/s.</b></p>\n",
    "\n",
    "</div>"
   ]
  },
  {
   "cell_type": "code",
   "execution_count": 12,
   "metadata": {},
   "outputs": [
    {
     "name": "stdout",
     "output_type": "stream",
     "text": [
      "Habría que presurizar a una presión de 0.4373369336704336 m.c.a.\n"
     ]
    }
   ],
   "source": [
    "#Calculamos la presión\n",
    "\n",
    "P= abs(diferencia - (z_a.result-z_b.result))\n",
    "\n",
    "print(\"Habría que presurizar a una presión de\", P, \"m.c.a.\")"
   ]
  },
  {
   "cell_type": "code",
   "execution_count": 13,
   "metadata": {},
   "outputs": [
    {
     "name": "stdout",
     "output_type": "stream",
     "text": [
      "RESULTADO: 0.4373369336704336 m.c.a\n"
     ]
    }
   ],
   "source": [
    "print(\"RESULTADO:\", P, \"m.c.a\")"
   ]
  },
  {
   "cell_type": "code",
   "execution_count": null,
   "metadata": {},
   "outputs": [],
   "source": []
  }
 ],
 "metadata": {
  "kernelspec": {
   "display_name": "Python 3",
   "language": "python",
   "name": "python3"
  },
  "language_info": {
   "codemirror_mode": {
    "name": "ipython",
    "version": 3
   },
   "file_extension": ".py",
   "mimetype": "text/x-python",
   "name": "python",
   "nbconvert_exporter": "python",
   "pygments_lexer": "ipython3",
   "version": "3.8.3"
  }
 },
 "nbformat": 4,
 "nbformat_minor": 4
}

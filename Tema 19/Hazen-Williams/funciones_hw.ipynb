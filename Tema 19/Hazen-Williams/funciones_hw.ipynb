{
 "cells": [
  {
   "cell_type": "code",
   "execution_count": 2,
   "metadata": {},
   "outputs": [],
   "source": [
    "def rugosidad_relativa(rugosidad,D):\n",
    "    rugosidad_relativa=rugosidad/(D*100)\n",
    "    return rugosidad_relativa\n",
    "\n",
    "def coeficiente_hw(rugosidad_relativa, n):\n",
    "    if rugosidad_relativa <= 1.5*10**(-5):\n",
    "        C_HW=150\n",
    "    elif 1.5*10**(-5) < rugosidad_relativa <= 2*10**(-4):\n",
    "        C_HW=140\n",
    "    elif 2*10**(-4) < rugosidad_relativa <= 1*10**(-3):\n",
    "        C_HW=130\n",
    "    elif 1*10**(-3) < rugosidad_relativa <= 4*10**(-3):\n",
    "        C_HW=120\n",
    "    elif 4*10**(-3) < rugosidad_relativa <= 1.5*10**(-2):\n",
    "        C_HW=110\n",
    "    elif rugosidad_relativa > 1.5*10**(-2):\n",
    "        C_HW=100   \n",
    "    if n== 0:\n",
    "        print(\"Con una rugosidad relativa de la tubería de\", rugosidad_relativa, \"se obtiene un coeficiente de Hazen-Williams de\",C_HW)\n",
    "    else:\n",
    "        print(\"Con una rugosidad relativa de la tubería\",n, \"de\", rugosidad_relativa, \"se obtiene un coeficiente de Hazen-Williams de\",C_HW)\n",
    "    print()\n",
    "    return C_HW\n",
    "\n",
    "def coeficiente_J1(C_HW,D,n):\n",
    "    J1= (1.2117*(10**10))/((C_HW**(1.852))*((D*1000)**(4.87)))\n",
    "    if n==0:\n",
    "        print(\"Se obtiene un coeficiente J1 de la tubería de\", J1, \"mca/m(l/s)^1.852\")\n",
    "    else:\n",
    "        print(\"Se obtiene un coeficiente J1 de la tubería\",n, \"de\", J1, \"mca/m(l/s)^1.852\")\n",
    "    print()\n",
    "    return J1\n"
   ]
  },
  {
   "cell_type": "code",
   "execution_count": null,
   "metadata": {},
   "outputs": [],
   "source": []
  }
 ],
 "metadata": {
  "kernelspec": {
   "display_name": "Python 3",
   "language": "python",
   "name": "python3"
  },
  "language_info": {
   "codemirror_mode": {
    "name": "ipython",
    "version": 3
   },
   "file_extension": ".py",
   "mimetype": "text/x-python",
   "name": "python",
   "nbconvert_exporter": "python",
   "pygments_lexer": "ipython3",
   "version": "3.8.3"
  }
 },
 "nbformat": 4,
 "nbformat_minor": 4
}

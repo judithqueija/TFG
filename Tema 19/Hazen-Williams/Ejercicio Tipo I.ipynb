{
 "cells": [
  {
   "cell_type": "markdown",
   "metadata": {},
   "source": [
    "<div style=\"background-color:#282423; text-align:center; vertical-align: middle; padding:10px 40px;\">\n",
    "    <div align=\"left\" style=\"font-size:1em; color:#8c8c8c;font-family:didot;\">Pérdidas de carga en flujos internos</div>\n",
    "<!-- 1em son 16px -->\n",
    "    <div align=\"right\" style=\"font-size:1em; color:#8c8c8c;font-family:didot;\" >Bloque 5</div>\n",
    "    <br/>\n",
    "    <br/>\n",
    "    <br/>\n",
    "    <h1 style=\"margin: 10px;color:white;font-family:didot;\">ECUACIÓN DE HAZEN-WILLIAMS</h1>\n",
    "    <hr>\n",
    "    <h1 style=\"margin: 10px;color:white;font-family:didot;\">TIPOS DE PROBLEMAS</h1>\n",
    "    <h1 style=\"margin: 10px;color:#BFAE5F;font-family:didot;\"><em>~ Tipo I ~</em></h1>\n",
    "    <br/>\n",
    "    <div style=\"padding:10px 15px;\">\n",
    "<p style=\"font-size: 20px;color:white;font-family:didot;\">\n",
    "<b>Datos:</b> Q, L, D, $\\varepsilon$   <br/>\n",
    "    <br/>\n",
    "<b>Incógnita:</b> $h_f$</p> \n",
    "        </div>\n",
    "</div>\n",
    "<br/>\n",
    "<div style=\"background-color:#EAEAE9;padding:10px 40px;text-align:center; vertical-align: middle;font-family:didot;\">\n",
    "    <h1><b style=\"font-size: 17px;\">Ejercicio 5 del 20 de Junio de 2015</b></h1>\n",
    "    <hr>\n",
    "<p style=\"font-size: 15px;text-align: justify;\">En la instalación de la figura se puede ver un depósito presurizado ($P_{_{A}}=-0.75 ~ \\frac{kg}{cm^2}$). Cuando la válvula $V_{_{3}}$ está completamente cerrada, el chorro de agua que sale por la boquilla B alcanza una altura de 3 m.<br>\n",
    "<br>\n",
    "Se pide, mediante Hazen-Williams, calcular la longitud de la tubería 2.</p>\n",
    "    <p style=\"font-size: 15px;\"> <b>Datos: </b><br>\n",
    "- Diámetro de la boquilla= 40 mm <br>        \n",
    "- Todas las tuberías son de PVC</p>\n",
    "    <br>\n",
    "<img src=\"../../img/junio_2015.png\" style=\"height:300px\">\n",
    "    <br>\n",
    "</div>\n"
   ]
  },
  {
   "cell_type": "markdown",
   "metadata": {},
   "source": [
    "<div style=\"background-color:#EAEAE9;padding:10px 40px;text-align:center; vertical-align: middle;font-family:didot;\">\n",
    "    <h1><b style=\"font-size: 18px;\">Resolución del problema</b></h1>\n",
    "<br>\n",
    "<hr>  \n",
    "<p style=\"font-size: 15px;text-align: justify;\">Aplicamos Bernoulli entre el chorro (D) y la boquilla (B), así obtenemos la velocidad en la boquilla y podremos calcular el caudal que circula por ella. Dicho caudal será el mismo que las tuberías 1 y 2.</p>\n",
    "\n",
    "<p style=\"font-size: 15px;text-align: justify;\">\n",
    "\\begin{equation}\n",
    "    B_{_{B}}  = B_{_{D}} \\rightarrow \\frac{P_{_{B}}}{\\gamma} + z_{_{B}} + \\frac{{v_{_B}}^{^2}}{2 \\cdot g} = \\frac{P_{_{D}}}{\\gamma} + z_{_{D}} + \\frac{{v_{_{D}}}^{^2}}{2 \\cdot g}\n",
    "\\end{equation}</p>\n",
    "<br>\n",
    "</div>"
   ]
  },
  {
   "cell_type": "code",
   "execution_count": 2,
   "metadata": {},
   "outputs": [],
   "source": [
    "#Antes que nada, se deben importar los módulos necesarios para usarlos al resolver los problemas. \n",
    "#Son unos ficheros que guardan definiciones y declaraciones de Python.\n",
    "\n",
    "from math import pi, sqrt \n",
    "from ipynb.fs.full.funciones_hw import rugosidad_relativa, coeficiente_hw, coeficiente_J1\n",
    "from ipywidgets import widgets, interactive\n",
    "from ipynb.fs.full.funciones_variables import L_1, D_1, D_2, D_boquilla, P_A, P_B, P_D, z_a, z_d, z_b, v_d, v_a, rugosidad_1, rugosidad_2, rugosidad\n",
    "\n",
    "# importar el módulo pyplot\n",
    "import matplotlib.pyplot as plt\n",
    "\n",
    "#Crea una lista de los módulos instalados --> help(\"modules\")\n",
    "#Esta función crea una lista de las funciones o variables del módulo --> dir(math)"
   ]
  },
  {
   "cell_type": "code",
   "execution_count": 3,
   "metadata": {},
   "outputs": [
    {
     "name": "stdout",
     "output_type": "stream",
     "text": [
      "Ingresa la longitud de la tubería 1 [m]: \n"
     ]
    },
    {
     "data": {
      "application/vnd.jupyter.widget-view+json": {
       "model_id": "8f6d3c274b7343b59f642e9fa0c4e5d9",
       "version_major": 2,
       "version_minor": 0
      },
      "text/plain": [
       "interactive(children=(FloatText(value=0.0, description='L_1', step=1.0), Output()), _dom_classes=('widget-inte…"
      ]
     },
     "metadata": {},
     "output_type": "display_data"
    },
    {
     "name": "stdout",
     "output_type": "stream",
     "text": [
      "Ingresa el diámetro de la tubería 1 [m]: \n"
     ]
    },
    {
     "data": {
      "application/vnd.jupyter.widget-view+json": {
       "model_id": "016d2086ff8f44b083f8c09b6affe38d",
       "version_major": 2,
       "version_minor": 0
      },
      "text/plain": [
       "interactive(children=(FloatText(value=0.0, description='D_1', step=0.01), Output()), _dom_classes=('widget-int…"
      ]
     },
     "metadata": {},
     "output_type": "display_data"
    },
    {
     "name": "stdout",
     "output_type": "stream",
     "text": [
      "Ingresa el diámetro de la tubería 2 [m]: \n"
     ]
    },
    {
     "data": {
      "application/vnd.jupyter.widget-view+json": {
       "model_id": "318e6270247f456e823da31666311a12",
       "version_major": 2,
       "version_minor": 0
      },
      "text/plain": [
       "interactive(children=(FloatText(value=0.0, description='D_2', step=0.01), Output()), _dom_classes=('widget-int…"
      ]
     },
     "metadata": {},
     "output_type": "display_data"
    },
    {
     "name": "stdout",
     "output_type": "stream",
     "text": [
      "Ingresa el diámetro de la boquilla [m]: \n"
     ]
    },
    {
     "data": {
      "application/vnd.jupyter.widget-view+json": {
       "model_id": "8c7748ebc1b04437bcde69579eb4bfa2",
       "version_major": 2,
       "version_minor": 0
      },
      "text/plain": [
       "interactive(children=(FloatText(value=0.0, description='D_boquilla', step=0.01), Output()), _dom_classes=('wid…"
      ]
     },
     "metadata": {},
     "output_type": "display_data"
    },
    {
     "name": "stdout",
     "output_type": "stream",
     "text": [
      "Ingresa la presión del depósito A [kg/cm2]: \n"
     ]
    },
    {
     "data": {
      "application/vnd.jupyter.widget-view+json": {
       "model_id": "d5095f13fdcf4eaca86d5a0dd54a4d1b",
       "version_major": 2,
       "version_minor": 0
      },
      "text/plain": [
       "interactive(children=(FloatText(value=0.0, description='P_A', step=0.1), Output()), _dom_classes=('widget-inte…"
      ]
     },
     "metadata": {},
     "output_type": "display_data"
    },
    {
     "name": "stdout",
     "output_type": "stream",
     "text": [
      "Ingresa la presión en B [m.c.a.]: \n"
     ]
    },
    {
     "data": {
      "application/vnd.jupyter.widget-view+json": {
       "model_id": "7761cf4618214b67a7adefb37553a3c1",
       "version_major": 2,
       "version_minor": 0
      },
      "text/plain": [
       "interactive(children=(FloatText(value=0.0, description='P_B', step=0.1), Output()), _dom_classes=('widget-inte…"
      ]
     },
     "metadata": {},
     "output_type": "display_data"
    },
    {
     "name": "stdout",
     "output_type": "stream",
     "text": [
      "Ingresa la presión en D [m.c.a.]: \n"
     ]
    },
    {
     "data": {
      "application/vnd.jupyter.widget-view+json": {
       "model_id": "db0512565cc447d78645fddc2de7240d",
       "version_major": 2,
       "version_minor": 0
      },
      "text/plain": [
       "interactive(children=(FloatText(value=0.0, description='P_D', step=0.1), Output()), _dom_classes=('widget-inte…"
      ]
     },
     "metadata": {},
     "output_type": "display_data"
    },
    {
     "name": "stdout",
     "output_type": "stream",
     "text": [
      "Ingresa la cota del depósito A: \n"
     ]
    },
    {
     "data": {
      "application/vnd.jupyter.widget-view+json": {
       "model_id": "755060275c6c41969db1871482d340d1",
       "version_major": 2,
       "version_minor": 0
      },
      "text/plain": [
       "interactive(children=(FloatText(value=0.0, description='z_a', step=1.0), Output()), _dom_classes=('widget-inte…"
      ]
     },
     "metadata": {},
     "output_type": "display_data"
    },
    {
     "name": "stdout",
     "output_type": "stream",
     "text": [
      "Ingresa la cota del chorro D: \n"
     ]
    },
    {
     "data": {
      "application/vnd.jupyter.widget-view+json": {
       "model_id": "2579f715c42447aead5804877178c1e6",
       "version_major": 2,
       "version_minor": 0
      },
      "text/plain": [
       "interactive(children=(FloatText(value=0.0, description='z_d', step=1.0), Output()), _dom_classes=('widget-inte…"
      ]
     },
     "metadata": {},
     "output_type": "display_data"
    },
    {
     "name": "stdout",
     "output_type": "stream",
     "text": [
      "Ingresa la cota de la boquilla B: \n"
     ]
    },
    {
     "data": {
      "application/vnd.jupyter.widget-view+json": {
       "model_id": "9ceb1e9229a34934a916fac0ddb1f8d5",
       "version_major": 2,
       "version_minor": 0
      },
      "text/plain": [
       "interactive(children=(FloatText(value=0.0, description='z_b', step=1.0), Output()), _dom_classes=('widget-inte…"
      ]
     },
     "metadata": {},
     "output_type": "display_data"
    },
    {
     "name": "stdout",
     "output_type": "stream",
     "text": [
      "Ingresa la velocidad D [m/s]: \n"
     ]
    },
    {
     "data": {
      "application/vnd.jupyter.widget-view+json": {
       "model_id": "78ae77b470834b8194145afab1738908",
       "version_major": 2,
       "version_minor": 0
      },
      "text/plain": [
       "interactive(children=(FloatText(value=0.0, description='v_d', step=0.01), Output()), _dom_classes=('widget-int…"
      ]
     },
     "metadata": {},
     "output_type": "display_data"
    },
    {
     "name": "stdout",
     "output_type": "stream",
     "text": [
      "Ingresa la velocidad A [m/s]: \n"
     ]
    },
    {
     "data": {
      "application/vnd.jupyter.widget-view+json": {
       "model_id": "8bf68723e5f84de3999ef419cbdaeb56",
       "version_major": 2,
       "version_minor": 0
      },
      "text/plain": [
       "interactive(children=(FloatText(value=0.0, description='v_a', step=0.01), Output()), _dom_classes=('widget-int…"
      ]
     },
     "metadata": {},
     "output_type": "display_data"
    },
    {
     "name": "stdout",
     "output_type": "stream",
     "text": [
      "Ingresa la rugosidad de la tubería 1 [cm]: \n"
     ]
    },
    {
     "data": {
      "application/vnd.jupyter.widget-view+json": {
       "model_id": "621042539c8b4fbfb0637fae2fdafd34",
       "version_major": 2,
       "version_minor": 0
      },
      "text/plain": [
       "interactive(children=(Dropdown(description='Tubería 1:', options=(('Acero roblonado', 0.18), ('Hormigón', 0.12…"
      ]
     },
     "metadata": {},
     "output_type": "display_data"
    },
    {
     "name": "stdout",
     "output_type": "stream",
     "text": [
      "Ingresa la rugosidad de la tubería 2 [cm]: \n"
     ]
    },
    {
     "data": {
      "application/vnd.jupyter.widget-view+json": {
       "model_id": "0156e186058a4512b6ef8fa9a4fc1f04",
       "version_major": 2,
       "version_minor": 0
      },
      "text/plain": [
       "interactive(children=(Dropdown(description='Tubería 2:', options=(('Acero roblonado', 0.18), ('Hormigón', 0.12…"
      ]
     },
     "metadata": {},
     "output_type": "display_data"
    }
   ],
   "source": [
    "#Pedimos al usuario que ingrese los datos del problema\n",
    "\n",
    "print(\"Ingresa la longitud de la tubería 1 [m]: \")\n",
    "L_1= interactive(L_1, L_1=widgets.FloatText(min=-10, max=1000, step=1, value=0));\n",
    "display(L_1)\n",
    "\n",
    "print(\"Ingresa el diámetro de la tubería 1 [m]: \")\n",
    "D_1= interactive(D_1, D_1=widgets.FloatText(min=-10, max=100, step=0.01, value=0));\n",
    "display(D_1)\n",
    "\n",
    "print(\"Ingresa el diámetro de la tubería 2 [m]: \")\n",
    "D_2= interactive(D_2, D_2=widgets.FloatText(min=-10, max=100, step=0.01, value=0));\n",
    "display(D_2)\n",
    "\n",
    "print(\"Ingresa el diámetro de la boquilla [m]: \")\n",
    "D_boquilla= interactive(D_boquilla, D_boquilla=widgets.FloatText(min=-10, max=100, step=0.01, value=0));\n",
    "display(D_boquilla)\n",
    "\n",
    "print(\"Ingresa la presión del depósito A [kg/cm2]: \")\n",
    "P_A= interactive(P_A, P_A=widgets.FloatText(min=-50, max=1000, step=0.1, value=0));\n",
    "display(P_A)\n",
    "\n",
    "print(\"Ingresa la presión en B [m.c.a.]: \")\n",
    "P_B= interactive(P_B, P_B=widgets.FloatText(min=-50, max=100, step=0.1, value=0));\n",
    "display(P_B)\n",
    "\n",
    "print(\"Ingresa la presión en D [m.c.a.]: \")\n",
    "P_D= interactive(P_D, P_D=widgets.FloatText(min=-50, max=100, step=0.1, value=0));\n",
    "display(P_D)\n",
    "\n",
    "print(\"Ingresa la cota del depósito A: \")\n",
    "z_a= interactive(z_a, z_a=widgets.FloatText(min=-50, max=1000, step=1, value=0));\n",
    "display(z_a)\n",
    "\n",
    "print(\"Ingresa la cota del chorro D: \")\n",
    "z_d= interactive(z_d, z_d=widgets.FloatText(min=-50, max=1000, step=1, value=0));\n",
    "display(z_d)\n",
    "\n",
    "print(\"Ingresa la cota de la boquilla B: \")\n",
    "z_b= interactive(z_b, z_b=widgets.FloatText(min=-50, max=1000, step=1, value=0));\n",
    "display(z_b)\n",
    "\n",
    "print(\"Ingresa la velocidad D [m/s]: \")\n",
    "v_d= interactive(v_d, v_d=widgets.FloatText(min=-50, max=100, step=0.01, value=0));\n",
    "display(v_d)\n",
    "\n",
    "print(\"Ingresa la velocidad A [m/s]: \")\n",
    "v_a= interactive(v_a, v_a=widgets.FloatText(min=-50, max=100, step=0.01, value=0));\n",
    "display(v_a)\n",
    "\n",
    "print(\"Ingresa la rugosidad de la tubería 1 [cm]: \")\n",
    "\n",
    "rugosidad_1= interactive(rugosidad_1, rugosidad_1=widgets.Dropdown(\n",
    "    options=[('Acero roblonado', 0.18), \n",
    "             ('Hormigón', 0.12), \n",
    "             ('Hierro fundido (Fundición)', 0.026), \n",
    "             ('Madera', 0.06), \n",
    "             ('Hierro galvanizado', 0.015), \n",
    "             ('Fundición asfaltada', 0.012), \n",
    "             ('Acero comercial y soldado', 0.006), \n",
    "             ('Hierro forjado', 0.006), \n",
    "             ('Tubo estirado', 0.00024), \n",
    "             ('Latón y cobre', 0.00015), \n",
    "             ('Fibrocemento', 0.01), \n",
    "             ('PVC y PE', 0.0007)],\n",
    "    description='Tubería 1:',\n",
    "));\n",
    "display(rugosidad_1)\n",
    "\n",
    "print(\"Ingresa la rugosidad de la tubería 2 [cm]: \")\n",
    "\n",
    "rugosidad_2= interactive(rugosidad_2, rugosidad_2=widgets.Dropdown(\n",
    "    options=[('Acero roblonado', 0.18), \n",
    "             ('Hormigón', 0.12), \n",
    "             ('Hierro fundido (Fundición)', 0.026), \n",
    "             ('Madera', 0.06), \n",
    "             ('Hierro galvanizado', 0.015), \n",
    "             ('Fundición asfaltada', 0.012), \n",
    "             ('Acero comercial y soldado', 0.006), \n",
    "             ('Hierro forjado', 0.006), \n",
    "             ('Tubo estirado', 0.00024), \n",
    "             ('Latón y cobre', 0.00015), \n",
    "             ('Fibrocemento', 0.01), \n",
    "             ('PVC y PE', 0.0007)],\n",
    "    description='Tubería 2:',\n",
    "));\n",
    "display(rugosidad_2)\n",
    "\n",
    "#Constantes\n",
    "\n",
    "g=9.8\n"
   ]
  },
  {
   "cell_type": "code",
   "execution_count": 4,
   "metadata": {},
   "outputs": [
    {
     "name": "stdout",
     "output_type": "stream",
     "text": [
      "La velocidad en la boquilla es 7.6681158050723255 m/s\n",
      "El caudal que circula por las tuberías es 0.0096360385120364 m3/s o 9.6360385120364 l/s\n"
     ]
    }
   ],
   "source": [
    "#Calculamos el caudal que circula por las tuberías previamente sacando la velocidad y el área\n",
    "\n",
    "v_b=sqrt((2*g)*(P_D.result+((v_d.result**2)/2*g)+z_d.result-P_B.result-z_b.result))\n",
    "print(\"La velocidad en la boquilla es\",v_b, \"m/s\" )\n",
    "\n",
    "A= (pi*D_boquilla.result**2)/4\n",
    "Q= A*v_b\n",
    "\n",
    "print(\"El caudal que circula por las tuberías es\", Q, \"m3/s o\", Q*1000, \"l/s\")"
   ]
  },
  {
   "cell_type": "markdown",
   "metadata": {},
   "source": [
    "<div style=\"background-color:#EAEAE9;padding:10px 40px;text-align:center; vertical-align: middle;font-family:didot;\">\n",
    "  \n",
    "<p style=\"font-size: 15px;text-align: justify;\">Aplicamos Bernoulli entre el depósito A y la boquilla B.</p>\n",
    "\n",
    "<p style=\"font-size: 15px;text-align: justify;\">El fluido circulante es agua. Por tanto para el cálculo de las pérdidas de carga se va a utilizar la expresión de Hazen-Williams. El cálculo no es tan exacto como con la expresión de Darcy-Weisbach, pero es bastante aproximado y más rápido.</p>\n",
    "    \n",
    "<p style=\"font-size: 15px;text-align: justify;\">\n",
    "\\begin{equation}\n",
    "    B_{_A} - h_{f_{1}} - h_{f_{2}} = B_{_B} \\rightarrow \\frac{P_{_A}}{\\gamma} + z_{_A} + \\frac{{v_{_A}}^{^2}}{2 \\cdot g} - (J_{_1})_{_1} \\cdot L_{_1} \\cdot Q^{^{1.852}} - (J_{_1})_{_2} \\cdot L_{_2} \\cdot Q^{^{1.852}}= \\frac{P_{_B}}{\\gamma} + z_{_B} + \\frac{{v_{_B}}^{^2}}{2 \\cdot g} ~ ~ ~ ~ ~(1)\n",
    "\\end{equation}</p>\n",
    "    \n",
    "<p style=\"font-size: 15px;text-align: justify;\">Primero se calcula el coeficiente $J_{_1}$ para cada tubería. Para ello, se calcula la rugosidad relativa. A continuación, el coeficiente de Hazen-Williams $C_{_{HW}}$, que depende de dicha rugosidad (Cuadro nº25 del libro de Cuadros y ábacos). Y por último con el coeficiente $C_{_{HW}}$ y el diámetro se calcula $J_{_1}$ (Cuadro nº25).</p>\n",
    "<br>\n",
    "</div>"
   ]
  },
  {
   "cell_type": "code",
   "execution_count": 5,
   "metadata": {},
   "outputs": [],
   "source": [
    "#pip install ipynb"
   ]
  },
  {
   "cell_type": "code",
   "execution_count": 6,
   "metadata": {},
   "outputs": [
    {
     "name": "stdout",
     "output_type": "stream",
     "text": [
      "Con una rugosidad relativa de la tubería 1 de 4.6666666666666665e-05 se obtiene un coeficiente de Hazen-Williams de 140\n",
      "\n",
      "Con una rugosidad relativa de la tubería 2 de 0.00014 se obtiene un coeficiente de Hazen-Williams de 140\n",
      "\n",
      "Se obtiene un coeficiente J1 de la tubería 1 de 3.244901769134896e-05 mca/m(l/s)^1.852\n",
      "\n",
      "Se obtiene un coeficiente J1 de la tubería 2 de 0.006835685365418524 mca/m(l/s)^1.852\n",
      "\n"
     ]
    }
   ],
   "source": [
    "#Cálculo de la rugosidad relativa\n",
    "\n",
    "rugosidad_relativa_1= rugosidad_relativa(rugosidad_1.result, D_1.result)\n",
    "rugosidad_relativa_2= rugosidad_relativa(rugosidad_2.result, D_2.result)\n",
    "\n",
    "#Cálculo del coeficiente de Hazen-Williams CHW \n",
    "\n",
    "C_HW_1= coeficiente_hw(rugosidad_relativa_1, 1)\n",
    "C_HW_2= coeficiente_hw(rugosidad_relativa_2, 2)\n",
    "    \n",
    "#Cálculo del coeficiente J1\n",
    "\n",
    "J_1= coeficiente_J1(C_HW_1, D_1.result, 1)\n",
    "J_2= coeficiente_J1(C_HW_2, D_2.result, 2)"
   ]
  },
  {
   "cell_type": "markdown",
   "metadata": {},
   "source": [
    "<div style=\"background-color:#EAEAE9;padding:10px 40px;text-align:center; vertical-align: middle;font-family:didot;\">\n",
    "\n",
    "<p style=\"font-size: 15px;text-align: justify;\">A continuación, sustituimos los datos en la ecuación 1 y obtenemos la longitud de la tubería 2.</p>    \n",
    "\n",
    "</div>"
   ]
  },
  {
   "cell_type": "code",
   "execution_count": 7,
   "metadata": {},
   "outputs": [
    {
     "name": "stdout",
     "output_type": "stream",
     "text": [
      "La longitud de la tubería 2 es de 14.08292030169356 m\n"
     ]
    }
   ],
   "source": [
    "#Calculamos la longitud de la tubería 2\n",
    "\n",
    "L_2= (- P_B.result - ((v_b**2)/(2*g)) - z_b.result + P_A.result + ((v_a.result**2)/(2*g)) + z_a.result - (J_1*L_1.result*(Q*1000)**1.852))/(J_2*(Q*1000)**1.852)\n",
    "\n",
    "print(\"La longitud de la tubería 2 es de\", L_2, \"m\")"
   ]
  },
  {
   "cell_type": "code",
   "execution_count": 8,
   "metadata": {},
   "outputs": [
    {
     "name": "stdout",
     "output_type": "stream",
     "text": [
      "RESULTADO: 14.08292030169356 m\n"
     ]
    }
   ],
   "source": [
    "print(\"RESULTADO:\", L_2, \"m\")"
   ]
  },
  {
   "cell_type": "markdown",
   "metadata": {},
   "source": [
    "<div style=\"background-color:#EAEAE9;padding:10px 40px;text-align:center; vertical-align: middle;font-family:didot;\">\n",
    "\n",
    "<p style=\"font-size: 15px;text-align: justify;\">Representación gráfica de la longitud de la tubería en función del caudal circulante.</p>\n",
    "\n",
    "</div>"
   ]
  },
  {
   "cell_type": "code",
   "execution_count": 9,
   "metadata": {},
   "outputs": [
    {
     "name": "stdout",
     "output_type": "stream",
     "text": [
      "Longitud de la tubería 2: [14.08292030169356, 11.689751353490603, 9.861226230132877, 8.431227222719599, 7.290807593677723, 6.366038969934379, 5.605282562937366]\n",
      "\n",
      "Caudal que circula por la tubería 2: [0.0096360385120364, 0.0106360385120364, 0.0116360385120364, 0.012636038512036402, 0.013636038512036402, 0.014636038512036403, 0.015636038512036404]\n"
     ]
    }
   ],
   "source": [
    "#Declaración de una lista vacía\n",
    "longitud= [L_2]\n",
    "caudal=[Q]\n",
    "\n",
    "#Bucle For para rellenar una lista con un determinado número de elementos\n",
    "for elemento in range(6):\n",
    "    \n",
    "    Q= Q + 0.001\n",
    "    caudal_valor= Q\n",
    "    \n",
    "    L_2= (- P_B.result - ((v_b**2)/(2*g)) - z_b.result + P_A.result + ((v_a.result**2)/(2*g)) + z_a.result - (J_1*L_1.result*(Q*1000)**1.852))/(J_2*(Q*1000)**1.852)\n",
    "    \n",
    "    longitud.append(L_2)\n",
    "    \n",
    "    caudal.append(caudal_valor)\n",
    "\n",
    "print(\"Longitud de la tubería 2:\", longitud)\n",
    "print()\n",
    "print(\"Caudal que circula por la tubería 2:\", caudal)"
   ]
  },
  {
   "cell_type": "code",
   "execution_count": 11,
   "metadata": {},
   "outputs": [
    {
     "data": {
      "image/png": "[encoded data removed]",
      "text/plain": [
       "<Figure size 1080x720 with 1 Axes>"
      ]
     },
     "metadata": {
      "needs_background": "light"
     },
     "output_type": "display_data"
    }
   ],
   "source": [
    "plt.plot(caudal, longitud, 'o-') #pinta 10 puntos como o y los une con una linea continua \n",
    "\n",
    "#Personalización del gráfico\n",
    "plt.xlabel(\"Caudal, Q(m3/s)\") #etiqueta horizontal, del eje x\n",
    "plt.ylabel(\"Longitud, m\") #etiqueta vertical, del eje y \n",
    "plt.title(\"Longitud de la tubería 2 en función del caudal circulante\") #Título del gráfico\n",
    "plt.rcParams['figure.figsize'] = [15, 10]  #tamaño del grafico en pulgadas, [width, height]\n",
    "\n",
    "\n",
    "plt.show() #muestra el gráfico"
   ]
  },
  {
   "cell_type": "code",
   "execution_count": null,
   "metadata": {},
   "outputs": [],
   "source": []
  }
 ],
 "metadata": {
  "kernelspec": {
   "display_name": "Python 3",
   "language": "python",
   "name": "python3"
  },
  "language_info": {
   "codemirror_mode": {
    "name": "ipython",
    "version": 3
   },
   "file_extension": ".py",
   "mimetype": "text/x-python",
   "name": "python",
   "nbconvert_exporter": "python",
   "pygments_lexer": "ipython3",
   "version": "3.8.3"
  }
 },
 "nbformat": 4,
 "nbformat_minor": 4
}

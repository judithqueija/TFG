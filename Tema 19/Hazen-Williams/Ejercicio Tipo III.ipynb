{
 "cells": [
  {
   "cell_type": "markdown",
   "metadata": {},
   "source": [
    "<div style=\"background-color:#282423; text-align:center; vertical-align: middle; padding:10px 40px;\">\n",
    "    <div align=\"left\" style=\"font-size:1em; color:#8c8c8c;font-family:didot;\">Pérdidas de carga en flujos internos</div>\n",
    "<!-- 1em son 16px -->\n",
    "    <div align=\"right\" style=\"font-size:1em; color:#8c8c8c;font-family:didot;\" >Bloque 5</div>\n",
    "    <br/>\n",
    "    <br/>\n",
    "    <br/>\n",
    "    <h1 style=\"margin: 10px;color:white;font-family:didot;\">ECUACIÓN DE HAZEN-WILLIAMS</h1>\n",
    "    <hr>\n",
    "    <h1 style=\"margin: 10px;color:white;font-family:didot;\">TIPOS DE PROBLEMAS</h1>\n",
    "    <h1 style=\"margin: 10px;color:#BFAE5F;font-family:didot;\"><em>~ Tipo III ~</em></h1>\n",
    "    <br/>\n",
    "    <div style=\"padding:10px 15px;\">\n",
    "<p style=\"font-size: 20px;color:white;font-family:didot;\">\n",
    "<b>Datos:</b> Q, L, $\\varepsilon$, $h_f$    <br/>\n",
    "    <br/>\n",
    "<b>Incógnita:</b> D</p> \n",
    "        </div>\n",
    "</div>"
   ]
  },
  {
   "cell_type": "markdown",
   "metadata": {},
   "source": [
    "<div style=\"background-color:#EAEAE9;padding:10px 40px;text-align:center; vertical-align: middle;font-family:didot;\">\n",
    "    <h1><b style=\"font-size: 17px;\">Ejercicio 6.26 de la colección de problemas</b></h1>\n",
    "    <hr>\n",
    "<p style=\"font-size: 15px;text-align: justify;\">Los depósitos A y C están conectados por el siguiente sistema de tuberías de fibrocemento en serie: la tubería (A-B) de 50 cm de diámetro y 1800 m de longitud y la (B-C) de diámetro desconocido y 600 m de longitud. La diferencia de altura entre las superficies libres de los depósitos es de 25 m. Se pide:<br>\n",
    "<br>\n",
    "a) Diámetro de la tubería BC para que el caudal de agua que circula entre A y C sea mayor de 180 l/s. <br>\n",
    "b) Caudal que circularía entre A y C si la tubería BC fuese de 350 mm de diámetro.\n",
    "</p><br>\n",
    "\n",
    "</div>"
   ]
  },
  {
   "cell_type": "code",
   "execution_count": null,
   "metadata": {},
   "outputs": [],
   "source": [
    "pip install -r requirements.txt"
   ]
  },
  {
   "cell_type": "markdown",
   "metadata": {},
   "source": [
    "<div style=\"background-color:#EAEAE9;padding:10px 40px;text-align:center; vertical-align: middle;font-family:didot;\">\n",
    "    <h1><b style=\"font-size: 18px;\">Resolución del problema</b></h1>\n",
    "<br>\n",
    "<hr>  \n",
    "<p style=\"font-size: 15px;text-align: justify;\"><b>a) Diámetro de la tubería BC para que el caudal de agua que circula entre A y C sea mayor de 180 l/s. </b></p>\n",
    "\n",
    "<p style=\"font-size: 15px;text-align: justify;\">Se va a resolver utilizando la expresión de Hazen-Williams ya que se trata de agua.</p>\n",
    "<br>\n",
    "</div>"
   ]
  },
  {
   "cell_type": "code",
   "execution_count": 3,
   "metadata": {},
   "outputs": [],
   "source": [
    "#Antes que nada, se deben importar los módulos necesarios para usarlos al resolver los problemas. \n",
    "#Son unos ficheros que guardan definiciones y declaraciones de Python.\n",
    "\n",
    "import math \n",
    "from ipynb.fs.full.funciones_hw import rugosidad_relativa, coeficiente_hw, coeficiente_J1\n",
    "from ipywidgets import widgets, interactive\n",
    "from ipynb.fs.full.funciones_variables import Q, D_AB, L_AB, L_BC, z_a, z_c, rugosidad\n",
    "\n",
    "#Crea una lista de los módulos instalados --> help(\"modules\")\n",
    "#Esta función crea una lista de las funciones o variables del módulo --> dir(math)"
   ]
  },
  {
   "cell_type": "code",
   "execution_count": 5,
   "metadata": {},
   "outputs": [
    {
     "name": "stdout",
     "output_type": "stream",
     "text": [
      "Ingresa el caudal mínimo que circula por la tubería A-C [m3/s]: \n"
     ]
    },
    {
     "data": {
      "application/vnd.jupyter.widget-view+json": {
       "model_id": "fcbbcfda589f40a69b000dd8b7a2cf4b",
       "version_major": 2,
       "version_minor": 0
      },
      "text/plain": [
       "interactive(children=(FloatText(value=0.0, description='Q', step=0.01), Output()), _dom_classes=('widget-inter…"
      ]
     },
     "metadata": {},
     "output_type": "display_data"
    },
    {
     "name": "stdout",
     "output_type": "stream",
     "text": [
      "Ingresa el diámetro de la tubería A-B [m]: \n"
     ]
    },
    {
     "data": {
      "application/vnd.jupyter.widget-view+json": {
       "model_id": "34fe9ba4b5304aa2a1a7fd59b95db612",
       "version_major": 2,
       "version_minor": 0
      },
      "text/plain": [
       "interactive(children=(FloatText(value=0.0, description='D_AB', step=0.1), Output()), _dom_classes=('widget-int…"
      ]
     },
     "metadata": {},
     "output_type": "display_data"
    },
    {
     "name": "stdout",
     "output_type": "stream",
     "text": [
      "Ingresa la longitud de la tubería A-B [m]: \n"
     ]
    },
    {
     "data": {
      "application/vnd.jupyter.widget-view+json": {
       "model_id": "84abcad3138c401d8d2e6ace90918681",
       "version_major": 2,
       "version_minor": 0
      },
      "text/plain": [
       "interactive(children=(FloatText(value=0.0, description='L_AB', step=1.0), Output()), _dom_classes=('widget-int…"
      ]
     },
     "metadata": {},
     "output_type": "display_data"
    },
    {
     "name": "stdout",
     "output_type": "stream",
     "text": [
      "Ingresa la longitud de la tubería B-C [m]: \n"
     ]
    },
    {
     "data": {
      "application/vnd.jupyter.widget-view+json": {
       "model_id": "1a08337bb585439eb6cbcaf39d190b83",
       "version_major": 2,
       "version_minor": 0
      },
      "text/plain": [
       "interactive(children=(FloatText(value=0.0, description='L_BC', step=1.0), Output()), _dom_classes=('widget-int…"
      ]
     },
     "metadata": {},
     "output_type": "display_data"
    },
    {
     "name": "stdout",
     "output_type": "stream",
     "text": [
      "Ingresa la cota del depósito superior: \n"
     ]
    },
    {
     "data": {
      "application/vnd.jupyter.widget-view+json": {
       "model_id": "7df9771d189a4ea5964115a60dff2377",
       "version_major": 2,
       "version_minor": 0
      },
      "text/plain": [
       "interactive(children=(FloatText(value=0.0, description='z_a', step=1.0), Output()), _dom_classes=('widget-inte…"
      ]
     },
     "metadata": {},
     "output_type": "display_data"
    },
    {
     "name": "stdout",
     "output_type": "stream",
     "text": [
      "Ingresa la cota del depósito inferior: \n"
     ]
    },
    {
     "data": {
      "application/vnd.jupyter.widget-view+json": {
       "model_id": "76b28f157d7f48339df6b53572d00c63",
       "version_major": 2,
       "version_minor": 0
      },
      "text/plain": [
       "interactive(children=(FloatText(value=0.0, description='z_c', step=1.0), Output()), _dom_classes=('widget-inte…"
      ]
     },
     "metadata": {},
     "output_type": "display_data"
    },
    {
     "name": "stdout",
     "output_type": "stream",
     "text": [
      "Ingresa la rugosidad de la tubería [cm]: \n"
     ]
    },
    {
     "data": {
      "application/vnd.jupyter.widget-view+json": {
       "model_id": "5d594fd4989d4c5cbaef22a2d3eece54",
       "version_major": 2,
       "version_minor": 0
      },
      "text/plain": [
       "interactive(children=(Dropdown(description='Tubería:', options=(('Acero roblonado', 0.18), ('Hormigón', 0.12),…"
      ]
     },
     "metadata": {},
     "output_type": "display_data"
    }
   ],
   "source": [
    "#Pedimos al usuario que ingrese los datos del problema\n",
    "\n",
    "print(\"Ingresa el caudal mínimo que circula por la tubería A-C [m3/s]: \")\n",
    "Q= interactive(Q, Q=widgets.FloatText(min=-10, max=1000, step=0.01, value=0));\n",
    "display(Q)\n",
    "\n",
    "print(\"Ingresa el diámetro de la tubería A-B [m]: \")\n",
    "D_AB= interactive(D_AB, D_AB=widgets.FloatText(min=-10, max=1000, step=0.1, value=0));\n",
    "display(D_AB)\n",
    "\n",
    "print(\"Ingresa la longitud de la tubería A-B [m]: \")\n",
    "L_AB= interactive(L_AB, L_AB=widgets.FloatText(min=-10, max=10000, step=1, value=0));\n",
    "display(L_AB)\n",
    "\n",
    "print(\"Ingresa la longitud de la tubería B-C [m]: \")\n",
    "L_BC= interactive(L_BC, L_BC=widgets.FloatText(min=-10, max=10000, step=1, value=0));\n",
    "display(L_BC)\n",
    "\n",
    "print(\"Ingresa la cota del depósito superior: \")\n",
    "z_a= interactive(z_a, z_a=widgets.FloatText(min=-10, max=1000, step=1, value=0));\n",
    "display(z_a)\n",
    "\n",
    "print(\"Ingresa la cota del depósito inferior: \")\n",
    "z_c= interactive(z_c, z_c=widgets.FloatText(min=-10, max=1000, step=1, value=0));\n",
    "display(z_c)\n",
    "\n",
    "print(\"Ingresa la rugosidad de la tubería [cm]: \")\n",
    "\n",
    "rugosidad= interactive(rugosidad, rugosidad=widgets.Dropdown(\n",
    "    options=[('Acero roblonado', 0.18), \n",
    "             ('Hormigón', 0.12), \n",
    "             ('Hierro fundido (Fundición)', 0.026), \n",
    "             ('Madera', 0.06), \n",
    "             ('Hierro galvanizado', 0.015), \n",
    "             ('Fundición asfaltada', 0.012), \n",
    "             ('Acero comercial y soldado', 0.006), \n",
    "             ('Hierro forjado', 0.006), \n",
    "             ('Tubo estirado', 0.00024), \n",
    "             ('Latón y cobre', 0.00015), \n",
    "             ('Fibrocemento', 0.01), \n",
    "             ('PVC y PE', 0.0007)],\n",
    "    description='Tubería:',\n",
    "));\n",
    "display(rugosidad)\n",
    "\n",
    "#Constantes\n",
    "\n",
    "viscosidad_cinematica= 10**(-6)\n",
    "g= 9.8"
   ]
  },
  {
   "cell_type": "markdown",
   "metadata": {},
   "source": [
    "<div style=\"background-color:#EAEAE9;padding:10px 40px;text-align:center; vertical-align: middle;font-family:didot;\">\n",
    "\n",
    "<p style=\"font-size: 15px;text-align: justify;\">Aplicamos Bernoulli entre el punto A y el punto C.</p>\n",
    "\n",
    "<p style=\"font-size: 15px;text-align: justify;\">\n",
    "\\begin{equation}\n",
    "    B_{_A} - h_{f_{AB}} - h_{f_{BC}} = B_{_C} \\\\ \n",
    "    B_{_A} - (J_{_{1}})_{_{AB}} \\cdot L_{_{AB}} \\cdot Q^{^{1.852}} - (J_{_{1}})_{_{BC}} \\cdot L_{_{BC}} \\cdot Q^{^{1.852}} = B_{_B} ~ ~ ~ ~(1)\n",
    "\\end{equation}</p>\n",
    "    \n",
    "<p style=\"font-size: 15px;text-align: justify;\">Previamente hay que calcular $J_{_{1}}$ para la tubería AB.</p>\n",
    "</div>"
   ]
  },
  {
   "cell_type": "code",
   "execution_count": 6,
   "metadata": {},
   "outputs": [
    {
     "name": "stdout",
     "output_type": "stream",
     "text": [
      "Con una rugosidad relativa de la tubería AB de 0.0002 se obtiene un coeficiente de Hazen-Williams de 140\n",
      "\n",
      "Se obtiene un coeficiente J1 de la tubería AB de 9.22108583502455e-08 mca/m(l/s)^1.852\n",
      "\n"
     ]
    }
   ],
   "source": [
    "#Cálculo de la rugosidad relativa\n",
    "\n",
    "rugosidad_relativa_AB= rugosidad_relativa(rugosidad.result,D_AB.result)\n",
    "\n",
    "#Cálculo del coeficiente de Hazen-Williams CHW\n",
    "\n",
    "C_HW_AB= coeficiente_hw(rugosidad_relativa_AB, \"AB\")\n",
    "\n",
    "#Cálculo del coeficiente J1\n",
    "\n",
    "J_1_AB= coeficiente_J1(C_HW_AB,D_AB.result,\"AB\")"
   ]
  },
  {
   "cell_type": "markdown",
   "metadata": {},
   "source": [
    "<div style=\"background-color:#EAEAE9;padding:10px 40px;text-align:center; vertical-align: middle;font-family:didot;\">\n",
    "\n",
    "<p style=\"font-size: 15px;text-align: justify;\">Estamos ante un problema de tipo III, $D_{_{BC}}$ es incógnita. Despejamos (1) y obtenemos ${\\left(J_{_{1}}\\right)}_{_{BC ~ max}}$</p>\n",
    "\n",
    "</div>"
   ]
  },
  {
   "cell_type": "code",
   "execution_count": 7,
   "metadata": {},
   "outputs": [
    {
     "name": "stdout",
     "output_type": "stream",
     "text": [
      "Al despejar obtenemos un J1(BC)max de 2.4968412966347113e-06 mca/m(l/s)^1.852\n"
     ]
    }
   ],
   "source": [
    "#Calculamos J1 max\n",
    "\n",
    "J1_BC_max= ((25-J_1_AB*L_AB.result*(Q.result*1000)**1.852)/(L_BC.result*(Q.result*1000)**1.852))\n",
    "\n",
    "print(\"Al despejar obtenemos un J1(BC)max de\", J1_BC_max, \"mca/m(l/s)^1.852\")"
   ]
  },
  {
   "cell_type": "markdown",
   "metadata": {},
   "source": [
    "<div style=\"background-color:#EAEAE9;padding:10px 40px;text-align:center; vertical-align: middle;font-family:didot;\">\n",
    "\n",
    "<p style=\"font-size: 15px;text-align: justify;\">Al conocer la pérdida de carga que admite la tubería, se puede determinar la $J_{_{1}}$ de la tubería que se ajusta a dicha pérdida de carga. Como el diámetro tiene que ser comercial, logicamente no existirá un diámetro cuya $J_{_{1}}$ coincida exactamente con el obtenido matemáticamente. Por ello, habrá que tomar siempre un diámetro por exceso (el más próximo por exceso).</p>\n",
    "\n",
    "<p style=\"font-size: 15px;text-align: justify;\">A continuación se comprueba si las opciones son válidas.</p>\n",
    "    \n",
    "</div>"
   ]
  },
  {
   "cell_type": "code",
   "execution_count": 8,
   "metadata": {},
   "outputs": [
    {
     "name": "stdout",
     "output_type": "stream",
     "text": [
      "Opciones posibles:\n",
      "\n",
      "--> Opción 1 :\n",
      "\n",
      "Chw= 150\n",
      "D= 250 mm\n",
      "\n",
      "Comprobación NO válida\n",
      "\n",
      "--> Opción 2 :\n",
      "\n",
      "Chw= 140\n",
      "D= 300 mm\n",
      "\n",
      "Comprobación NO válida\n",
      "\n",
      "--> Opción 3 :\n",
      "\n",
      "Chw= 130\n",
      "D= 300 mm\n",
      "\n",
      "Comprobación válida\n",
      "\n",
      "Se obtiene un coeficiente J1 de 1.27289185912583e-06 mca/m(l/s)^1.852\n",
      "\n",
      "--> Opción 4 :\n",
      "\n",
      "Chw= 120\n",
      "D= 300 mm\n",
      "\n",
      "Comprobación NO válida\n",
      "\n",
      "--> Opción 5 :\n",
      "\n",
      "Chw= 110\n",
      "D= 300 mm\n",
      "\n",
      "Comprobación NO válida\n",
      "\n",
      "--> Opción 6 :\n",
      "\n",
      "Chw= 100\n",
      "D= 300 mm\n",
      "\n",
      "Comprobación NO válida\n",
      "\n",
      "--> Opción 7 :\n",
      "\n",
      "Chw= 80\n",
      "D= 350 mm\n",
      "\n",
      "Comprobación NO válida\n",
      "\n",
      "\n",
      "OPCIÓN VÁLIDA:\n",
      "\n",
      "D= 300 mm\n",
      "\n"
     ]
    }
   ],
   "source": [
    "#Datos cuadro nº25\n",
    "\n",
    "diametros= [50, 60, 70, 80, 100, 125, 150, 175, 200, 250, 300, 350, 400, 450, 500, 600, 700, 800, 1000]\n",
    "C_HW= [150, 140, 130, 120, 110, 100, 80]\n",
    "\n",
    "print(\"Opciones posibles:\" + '\\n')\n",
    "i=1\n",
    "for coeficiente in C_HW:\n",
    "    for diametro in diametros:\n",
    "        J1_BC= (1.2117*(10**10))/((coeficiente**(1.852))*((diametro)**(4.87)))\n",
    "        if J1_BC < J1_BC_max:\n",
    "            print(\"--> Opción\", i, \":\" + '\\n')\n",
    "            i=i+1\n",
    "            print(\"Chw=\", coeficiente)\n",
    "            print(\"D=\", diametro,\"mm\"+'\\n')\n",
    "            \n",
    "            #Cálculo de la rugosidad relativa\n",
    "            \n",
    "            rugosidad_relativa_BC= rugosidad.result/(diametro*0.1)\n",
    "\n",
    "            #Cálculo del coeficiente de Hazen-Williams CHW\n",
    "            \n",
    "            if rugosidad_relativa_BC <= 1.5*10**(-5):\n",
    "                C_hm=150\n",
    "            elif 1.5*10**(-5) < rugosidad_relativa_BC <= 2*10**(-4):\n",
    "                C_hm=140\n",
    "            elif 2*10**(-4) < rugosidad_relativa_BC <= 1*10**(-3):\n",
    "                C_hm=130\n",
    "            elif 1*10**(-3) < rugosidad_relativa_BC <= 4*10**(-3):\n",
    "                C_hm=120\n",
    "            elif 4*10**(-3) < rugosidad_relativa_BC <= 1.5*10**(-2):\n",
    "                C_hm=110\n",
    "            elif rugosidad_relativa_BC > 1.5*10**(-2):\n",
    "                C_hm=100\n",
    "            \n",
    "            #Comprobación\n",
    "            \n",
    "            if coeficiente == C_hm:\n",
    "                print(\"Comprobación válida\" + '\\n')\n",
    "                D_valido= diametro\n",
    "                J_1_BC= (1.2117*(10**10))/((coeficiente**(1.852))*((diametro)**(4.87)))\n",
    "                print(\"Se obtiene un coeficiente J1 de\", J_1_BC, \"mca/m(l/s)^1.852\"+ '\\n')\n",
    "            else:\n",
    "                print(\"Comprobación NO válida\" + '\\n')\n",
    "            break\n",
    "\n",
    "print()\n",
    "print(\"OPCIÓN VÁLIDA:\")\n",
    "print()\n",
    "print(\"D=\", D_valido,\"mm\"+'\\n')"
   ]
  },
  {
   "cell_type": "code",
   "execution_count": 9,
   "metadata": {},
   "outputs": [
    {
     "name": "stdout",
     "output_type": "stream",
     "text": [
      "RESULTADO: 300 m\n"
     ]
    }
   ],
   "source": [
    "print(\"RESULTADO:\", D_valido, \"m\")"
   ]
  },
  {
   "cell_type": "markdown",
   "metadata": {},
   "source": [
    "<div style=\"background-color:#EAEAE9;padding:10px 40px;text-align:center; vertical-align: middle;font-family:didot;\">\n",
    "\n",
    "<p style=\"font-size: 15px;text-align: justify;\"><b>b) Caudal que circularía entre A y C si la tubería BC fuese de 350 mm de diámetro.</b></p>\n",
    "\n",
    "<p style=\"font-size: 15px;text-align: justify;\">Aplicamos Bernoulli entre el punto A y el punto C.</p>\n",
    "\n",
    "<p style=\"font-size: 15px;text-align: justify;\">\n",
    "\\begin{equation}\n",
    "    B_{_A} - h_{f_{AB}} - h_{f_{BC}} = B_{_C} \\\\ \n",
    "    B_{_A} - (J_{_{1}})_{_{AB}} \\cdot L_{_{AB}} \\cdot Q^{^{1.852}} - (J_{_{1}})_{_{BC}} \\cdot L_{_{BC}} \\cdot Q^{^{1.852}} = B_{_B}~ ~ ~ ~(2)\n",
    "\\end{equation}</p>\n",
    "    \n",
    "<br>\n",
    "    \n",
    "</div>"
   ]
  },
  {
   "cell_type": "code",
   "execution_count": 10,
   "metadata": {},
   "outputs": [
    {
     "name": "stdout",
     "output_type": "stream",
     "text": [
      "Ingresa el diámetro de la tubería B-C: 0.35\n",
      "\n",
      "Con una rugosidad relativa de la tubería BC de 0.00028571428571428574 se obtiene un coeficiente de Hazen-Williams de 130\n",
      "\n",
      "Se obtiene un coeficiente J1 de la tubería BC de 6.0084249855878e-07 mca/m(l/s)^1.852\n",
      "\n"
     ]
    }
   ],
   "source": [
    "D_BC= float(input(\"Ingresa el diámetro de la tubería B-C: \"))\n",
    "\n",
    "print()\n",
    "\n",
    "#Cálculo de la rugosidad relativa\n",
    "\n",
    "rugosidad_relativa_BC= rugosidad_relativa(rugosidad.result, D_BC)\n",
    "\n",
    "#Cálculo del coeficiente de Hazen-Williams CHW \n",
    "   \n",
    "C_HW_BC= coeficiente_hw(rugosidad_relativa_BC, \"BC\")\n",
    "\n",
    "#Cálculo del coeficiente J1\n",
    "\n",
    "J_1_BC= coeficiente_J1(C_HW_BC, D_BC, \"BC\")"
   ]
  },
  {
   "cell_type": "code",
   "execution_count": 11,
   "metadata": {},
   "outputs": [
    {
     "name": "stdout",
     "output_type": "stream",
     "text": [
      "El caudal es de 335.071224530371 l/s\n"
     ]
    }
   ],
   "source": [
    "from sympy.solvers import nsolve\n",
    "from sympy import Symbol\n",
    "x = Symbol('x')\n",
    "\n",
    "#Problema TIPO II\n",
    "\n",
    "Q_b=nsolve(25- (J_1_AB * L_AB.result * (x**1.852))- (J_1_BC*L_BC.result*(x**1.852)),x,100)\n",
    "print(\"El caudal es de\", Q_b, \"l/s\")"
   ]
  },
  {
   "cell_type": "code",
   "execution_count": 12,
   "metadata": {},
   "outputs": [
    {
     "name": "stdout",
     "output_type": "stream",
     "text": [
      "RESULTADO: 335.071224530371 l/s\n"
     ]
    }
   ],
   "source": [
    "print(\"RESULTADO:\", Q_b, \"l/s\")"
   ]
  },
  {
   "cell_type": "code",
   "execution_count": null,
   "metadata": {},
   "outputs": [],
   "source": []
  }
 ],
 "metadata": {
  "kernelspec": {
   "display_name": "Python 3",
   "language": "python",
   "name": "python3"
  },
  "language_info": {
   "codemirror_mode": {
    "name": "ipython",
    "version": 3
   },
   "file_extension": ".py",
   "mimetype": "text/x-python",
   "name": "python",
   "nbconvert_exporter": "python",
   "pygments_lexer": "ipython3",
   "version": "3.8.3"
  }
 },
 "nbformat": 4,
 "nbformat_minor": 4
}

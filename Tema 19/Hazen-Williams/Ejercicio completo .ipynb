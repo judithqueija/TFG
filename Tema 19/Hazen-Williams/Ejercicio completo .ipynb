{
 "cells": [
  {
   "cell_type": "markdown",
   "metadata": {},
   "source": [
    "<div style=\"background-color:#282423; text-align:center; vertical-align: middle; padding:10px 40px;\">\n",
    "    <div align=\"left\" style=\"font-size:1em; color:#8c8c8c;font-family:didot;\">Pérdidas de carga en flujos internos</div>\n",
    "<!-- 1em son 16px -->\n",
    "    <div align=\"right\" style=\"font-size:1em; color:#8c8c8c;font-family:didot;\" >Bloque 5</div>\n",
    "    <br/>\n",
    "    <br/>\n",
    "    <br/>\n",
    "    <h1 style=\"margin: 10px;color:white;font-family:didot;\">ECUACIÓN DE HAZEN-WILLIAMS</h1>\n",
    "    <hr>\n",
    "    <h1 style=\"margin: 10px;color:white;font-family:didot;\">TIPOS DE PROBLEMAS</h1>\n",
    "    <h1 style=\"margin: 10px;color:#BFAE5F;font-family:didot;\"><em>~ Tipo I, Tipo II y Tipo III ~</em></h1>\n",
    "    <br/>\n",
    "\n",
    "</div>\n",
    "<br/>\n",
    "<div style=\"background-color:#EAEAE9;padding:10px 40px;text-align:center; vertical-align: middle;font-family:didot;\">\n",
    "    <h1><b style=\"font-size: 17px;\">Ejercicio 6.29 de la colección de problemas</b></h1>\n",
    "    <hr>\n",
    "<p style=\"font-size: 15px;text-align: justify;\">En la figura se representa una red abierta. Se desea que el caudal de agua que llegue al depósito C sea de 25 l/s. Para ello se dispone de una bomba de 4,5 kW con un rendimiento del 73 %. Calcular:<br>\n",
    "<br>\n",
    "a) Caudales circulantes con su sentido.<br>\n",
    "b) Cotas piezométricas de E y F. <br>\n",
    "c) Altura manométrica de la bomba.  <br>\n",
    "d) Diámetro de la tubería 1. </p>\n",
    "    \n",
    "<br>\n",
    "    \n",
    "  <table>\n",
    "  <tr>\n",
    "    <th></th>\n",
    "    <th style=\"text-align:center;\">Tubería 1</th>\n",
    "    <th style=\"text-align:center;\">Tubería 2</th>\n",
    "    <th style=\"text-align:center;\">Tubería 3</th>\n",
    "    <th style=\"text-align:center;\">Tubería 4</th>\n",
    "    <th style=\"text-align:center;\">Tubería 5</th>\n",
    "  </tr>\n",
    "  <tr>\n",
    "    <th style=\"text-align:center;\">L(m)</th>\n",
    "    <td style=\"text-align:center;\">2850</td>\n",
    "    <td style=\"text-align:center;\">500</td>\n",
    "    <td style=\"text-align:center;\">1970</td>\n",
    "    <td style=\"text-align:center;\">400</td>\n",
    "    <td style=\"text-align:center;\">600</td>\n",
    "  </tr>\n",
    "  <tr>\n",
    "    <th style=\"text-align:center;\">D(mm)</th>\n",
    "    <td style=\"text-align:center;\">?</td>\n",
    "    <td style=\"text-align:center;\">100</td>\n",
    "    <td style=\"text-align:center;\">250</td>\n",
    "    <td style=\"text-align:center;\">200</td>\n",
    "    <td style=\"text-align:center;\">200</td>\n",
    "  </tr>\n",
    "  <tr>\n",
    "</table>\n",
    "<br>\n",
    "<img src=\"../../img/Ejercicio_6.29.png\" style=\"height:300px\">\n",
    "<br>\n",
    "    \n",
    "<p style=\"font-size: 15px;text-align: justify;\"> <b>Nota:</b> Las tuberías son de fibrocemento.</p>\n",
    "<br>\n",
    "</div>"
   ]
  },
  {
   "cell_type": "markdown",
   "metadata": {},
   "source": [
    "<div style=\"background-color:#EAEAE9;padding:10px 40px;text-align:center; vertical-align: middle;font-family:didot;\">\n",
    "    <h1><b style=\"font-size: 18px;\">Resolución del problema</b></h1>\n",
    "<br>\n",
    "<hr>  \n",
    "<p style=\"font-size: 15px;text-align: justify;\">El fluido circulante es agua. Por tanto para el cálculo de las pérdidas de carga se va a utilizar la expresión de Hazen-Williams. El cálculo no es tan exacto como con la expresión de Darcy-Weisbach, pero es bastante aproximado y más rápido. No es necesario iterar para calcular el diámetro o el caudal.</p>\n",
    "\n",
    "<p style=\"font-size: 15px;text-align: justify;\">Primero se calcula el coeficiente $J_{_1}$ para cada tubería. Para ello se calcula la rugosidad relativa. A continuación, el coeficiente de Hazen-Williams $C_{_{HW}}$, que depende de dicha rugosidad (Cuadro nº25 del libro de Cuadros y ábacos). Y por último con el coeficiente $C_{_{HW}}$ y el diámetro se calcula $J_{_1}$ (Cuadro nº25).</p>\n",
    "<br>\n",
    "</div>"
   ]
  },
  {
   "cell_type": "code",
   "execution_count": null,
   "metadata": {},
   "outputs": [],
   "source": [
    "pip install -r requirements.txt"
   ]
  },
  {
   "cell_type": "code",
   "execution_count": 1,
   "metadata": {},
   "outputs": [],
   "source": [
    "#Antes que nada, se deben importar los módulos necesarios para usarlos al resolver los problemas. \n",
    "#Son unos ficheros que guardan definiciones y declaraciones de Python.\n",
    "\n",
    "import math \n",
    "from ipynb.fs.full.funciones_hw import rugosidad_relativa, coeficiente_hw, coeficiente_J1\n",
    "from ipywidgets import widgets, interactive\n",
    "from ipynb.fs.full.funciones_variables import L_1, L_2, L_3, L_4, L_5, D_2, D_3, D_4, D_5, Q_5, P_bruta, rendimiento, rugosidad, P_A, z_a, v_a, P_B, z_b, v_b, P_C, z_c, v_c, P_D, z_d, v_d\n",
    "\n",
    "#Crea una lista de los módulos instalados --> help(\"modules\")\n",
    "#Esta función crea una lista de las funciones o variables del módulo --> dir(math)"
   ]
  },
  {
   "cell_type": "code",
   "execution_count": 2,
   "metadata": {},
   "outputs": [
    {
     "name": "stdout",
     "output_type": "stream",
     "text": [
      "Ingresa la longitud de la tubería 1 [m]: \n"
     ]
    },
    {
     "data": {
      "application/vnd.jupyter.widget-view+json": {
       "model_id": "d9af7c10fa39403f96b4667e86c3c313",
       "version_major": 2,
       "version_minor": 0
      },
      "text/plain": [
       "interactive(children=(FloatText(value=0.0, description='L_1', step=1.0), Output()), _dom_classes=('widget-inte…"
      ]
     },
     "metadata": {},
     "output_type": "display_data"
    },
    {
     "name": "stdout",
     "output_type": "stream",
     "text": [
      "Ingresa la longitud de la tubería 2 [m]: \n"
     ]
    },
    {
     "data": {
      "application/vnd.jupyter.widget-view+json": {
       "model_id": "048183673c234106b5e6bb6740363af1",
       "version_major": 2,
       "version_minor": 0
      },
      "text/plain": [
       "interactive(children=(FloatText(value=0.0, description='L_2', step=1.0), Output()), _dom_classes=('widget-inte…"
      ]
     },
     "metadata": {},
     "output_type": "display_data"
    },
    {
     "name": "stdout",
     "output_type": "stream",
     "text": [
      "Ingresa la longitud de la tubería 3 [m]: \n"
     ]
    },
    {
     "data": {
      "application/vnd.jupyter.widget-view+json": {
       "model_id": "50544e97673245eea50e0a9f17463f9a",
       "version_major": 2,
       "version_minor": 0
      },
      "text/plain": [
       "interactive(children=(FloatText(value=0.0, description='L_3', step=1.0), Output()), _dom_classes=('widget-inte…"
      ]
     },
     "metadata": {},
     "output_type": "display_data"
    },
    {
     "name": "stdout",
     "output_type": "stream",
     "text": [
      "Ingresa la longitud de la tubería 4 [m]: \n"
     ]
    },
    {
     "data": {
      "application/vnd.jupyter.widget-view+json": {
       "model_id": "c0e6b9fa56d542a18b56e0db6fbd41c6",
       "version_major": 2,
       "version_minor": 0
      },
      "text/plain": [
       "interactive(children=(FloatText(value=0.0, description='L_4', step=1.0), Output()), _dom_classes=('widget-inte…"
      ]
     },
     "metadata": {},
     "output_type": "display_data"
    },
    {
     "name": "stdout",
     "output_type": "stream",
     "text": [
      "Ingresa la longitud de la tubería 5 [m]: \n"
     ]
    },
    {
     "data": {
      "application/vnd.jupyter.widget-view+json": {
       "model_id": "6d4e9c37d15e49de8b1c58200e1aa3d3",
       "version_major": 2,
       "version_minor": 0
      },
      "text/plain": [
       "interactive(children=(FloatText(value=0.0, description='L_5', step=1.0), Output()), _dom_classes=('widget-inte…"
      ]
     },
     "metadata": {},
     "output_type": "display_data"
    },
    {
     "name": "stdout",
     "output_type": "stream",
     "text": [
      "Ingresa el diámetro de la tubería 2 [m]: \n"
     ]
    },
    {
     "data": {
      "application/vnd.jupyter.widget-view+json": {
       "model_id": "1559cb474fce4006be9e1d156db65f31",
       "version_major": 2,
       "version_minor": 0
      },
      "text/plain": [
       "interactive(children=(FloatText(value=0.0, description='D_2', step=0.01), Output()), _dom_classes=('widget-int…"
      ]
     },
     "metadata": {},
     "output_type": "display_data"
    },
    {
     "name": "stdout",
     "output_type": "stream",
     "text": [
      "Ingresa el diámetro de la tubería 3 [m]: \n"
     ]
    },
    {
     "data": {
      "application/vnd.jupyter.widget-view+json": {
       "model_id": "6ee7643ed16d4e0587d0a7918802888a",
       "version_major": 2,
       "version_minor": 0
      },
      "text/plain": [
       "interactive(children=(FloatText(value=0.0, description='D_3', step=0.01), Output()), _dom_classes=('widget-int…"
      ]
     },
     "metadata": {},
     "output_type": "display_data"
    },
    {
     "name": "stdout",
     "output_type": "stream",
     "text": [
      "Ingresa el diámetro de la tubería 4 [m]: \n"
     ]
    },
    {
     "data": {
      "application/vnd.jupyter.widget-view+json": {
       "model_id": "e10535623c6e4a3195f0e6d410e62828",
       "version_major": 2,
       "version_minor": 0
      },
      "text/plain": [
       "interactive(children=(FloatText(value=0.0, description='D_4', step=0.01), Output()), _dom_classes=('widget-int…"
      ]
     },
     "metadata": {},
     "output_type": "display_data"
    },
    {
     "name": "stdout",
     "output_type": "stream",
     "text": [
      "Ingresa el diámetro de la tubería 5 [m]: \n"
     ]
    },
    {
     "data": {
      "application/vnd.jupyter.widget-view+json": {
       "model_id": "69f35fb5f95b4760a040047046044bab",
       "version_major": 2,
       "version_minor": 0
      },
      "text/plain": [
       "interactive(children=(FloatText(value=0.0, description='D_5', step=0.01), Output()), _dom_classes=('widget-int…"
      ]
     },
     "metadata": {},
     "output_type": "display_data"
    },
    {
     "name": "stdout",
     "output_type": "stream",
     "text": [
      "Ingresa el caudal que circula por la tubería 5 [m3/s]: \n"
     ]
    },
    {
     "data": {
      "application/vnd.jupyter.widget-view+json": {
       "model_id": "492227735acc4630bbfe67e4e5a73226",
       "version_major": 2,
       "version_minor": 0
      },
      "text/plain": [
       "interactive(children=(FloatText(value=0.0, description='Q_5', step=0.001), Output()), _dom_classes=('widget-in…"
      ]
     },
     "metadata": {},
     "output_type": "display_data"
    },
    {
     "name": "stdout",
     "output_type": "stream",
     "text": [
      "Ingresa la potencia bruta de la bomba [W]: \n"
     ]
    },
    {
     "data": {
      "application/vnd.jupyter.widget-view+json": {
       "model_id": "b472f5e898fe487e8de7f7da7e522690",
       "version_major": 2,
       "version_minor": 0
      },
      "text/plain": [
       "interactive(children=(FloatText(value=0.0, description='P_bruta', step=1.0), Output()), _dom_classes=('widget-…"
      ]
     },
     "metadata": {},
     "output_type": "display_data"
    },
    {
     "name": "stdout",
     "output_type": "stream",
     "text": [
      "Ingresa el rendimiento de la bomba [%]: \n"
     ]
    },
    {
     "data": {
      "application/vnd.jupyter.widget-view+json": {
       "model_id": "a289426f8a88433c97a1e73dedd4a52b",
       "version_major": 2,
       "version_minor": 0
      },
      "text/plain": [
       "interactive(children=(FloatText(value=0.0, description='rendimiento', step=0.1), Output()), _dom_classes=('wid…"
      ]
     },
     "metadata": {},
     "output_type": "display_data"
    },
    {
     "name": "stdout",
     "output_type": "stream",
     "text": [
      "Ingresa la rugosidad de la tubería [cm]: \n"
     ]
    },
    {
     "data": {
      "application/vnd.jupyter.widget-view+json": {
       "model_id": "fb04273dd06b4d37a1c36a2e634b0bdf",
       "version_major": 2,
       "version_minor": 0
      },
      "text/plain": [
       "interactive(children=(Dropdown(description='Tubería:', options=(('Acero roblonado', 0.18), ('Hormigón', 0.12),…"
      ]
     },
     "metadata": {},
     "output_type": "display_data"
    }
   ],
   "source": [
    "#Pedimos al usuario que ingrese los datos del problema\n",
    "\n",
    "print(\"Ingresa la longitud de la tubería 1 [m]: \")\n",
    "L_1= interactive(L_1, L_1=widgets.FloatText(min=-10, max=10000, step=1, value=0));\n",
    "display(L_1)\n",
    "\n",
    "print(\"Ingresa la longitud de la tubería 2 [m]: \")\n",
    "L_2= interactive(L_2, L_2=widgets.FloatText(min=-10, max=10000, step=1, value=0));\n",
    "display(L_2)\n",
    "\n",
    "print(\"Ingresa la longitud de la tubería 3 [m]: \")\n",
    "L_3= interactive(L_3, L_3=widgets.FloatText(min=-10, max=10000, step=1, value=0));\n",
    "display(L_3)\n",
    "\n",
    "print(\"Ingresa la longitud de la tubería 4 [m]: \")\n",
    "L_4= interactive(L_4, L_4=widgets.FloatText(min=-10, max=10000, step=1, value=0));\n",
    "display(L_4)\n",
    "\n",
    "print(\"Ingresa la longitud de la tubería 5 [m]: \")\n",
    "L_5= interactive(L_5, L_5=widgets.FloatText(min=-10, max=10000, step=1, value=0));\n",
    "display(L_5)\n",
    "\n",
    "print(\"Ingresa el diámetro de la tubería 2 [m]: \")\n",
    "D_2= interactive(D_2, D_2=widgets.FloatText(min=-10, max=1000, step=0.01, value=0));\n",
    "display(D_2)\n",
    "\n",
    "print(\"Ingresa el diámetro de la tubería 3 [m]: \")\n",
    "D_3= interactive(D_3, D_3=widgets.FloatText(min=-10, max=1000, step=0.01, value=0));\n",
    "display(D_3)\n",
    "\n",
    "print(\"Ingresa el diámetro de la tubería 4 [m]: \")\n",
    "D_4= interactive(D_4, D_4=widgets.FloatText(min=-10, max=1000, step=0.01, value=0));\n",
    "display(D_4)\n",
    "\n",
    "print(\"Ingresa el diámetro de la tubería 5 [m]: \")\n",
    "D_5= interactive(D_5, D_5=widgets.FloatText(min=-10, max=1000, step=0.01, value=0));\n",
    "display(D_5)\n",
    "\n",
    "print(\"Ingresa el caudal que circula por la tubería 5 [m3/s]: \")\n",
    "Q_5= interactive(Q_5, Q_5=widgets.FloatText(min=-10, max=1000, step=0.001, value=0));\n",
    "display(Q_5)\n",
    "\n",
    "print(\"Ingresa la potencia bruta de la bomba [W]: \")\n",
    "P_bruta= interactive(P_bruta, P_bruta=widgets.FloatText(min=-10, max=10000, step=1, value=0));\n",
    "display(P_bruta)\n",
    "\n",
    "print(\"Ingresa el rendimiento de la bomba [%]: \")\n",
    "rendimiento= interactive(rendimiento, rendimiento=widgets.FloatText(min=-10, max=100, step=0.1, value=0));\n",
    "display(rendimiento)\n",
    "\n",
    "print(\"Ingresa la rugosidad de la tubería [cm]: \")\n",
    "\n",
    "rugosidad= interactive(rugosidad, rugosidad=widgets.Dropdown(\n",
    "    options=[('Acero roblonado', 0.18), \n",
    "             ('Hormigón', 0.12), \n",
    "             ('Hierro fundido (Fundición)', 0.026), \n",
    "             ('Madera', 0.06), \n",
    "             ('Hierro galvanizado', 0.015), \n",
    "             ('Fundición asfaltada', 0.012), \n",
    "             ('Acero comercial y soldado', 0.006), \n",
    "             ('Hierro forjado', 0.006), \n",
    "             ('Tubo estirado', 0.00024), \n",
    "             ('Latón y cobre', 0.00015), \n",
    "             ('Fibrocemento', 0.01), \n",
    "             ('PVC y PE', 0.0007)],\n",
    "    description='Tubería:',\n",
    "));\n",
    "display(rugosidad)\n",
    "\n",
    "#Constantes\n",
    "\n",
    "g=9.8"
   ]
  },
  {
   "cell_type": "code",
   "execution_count": 3,
   "metadata": {},
   "outputs": [
    {
     "name": "stdout",
     "output_type": "stream",
     "text": [
      "TUBERÍA 2\n",
      "\n",
      "Con una rugosidad relativa de la tubería 2 de 0.001 se obtiene un coeficiente de Hazen-Williams de 130\n",
      "\n",
      "Se obtiene un coeficiente J1 de la tubería 2 de 0.0002681464300691777 mca/m(l/s)^1.852\n",
      "\n",
      "TUBERÍA 3\n",
      "\n",
      "Con una rugosidad relativa de la tubería 3 de 0.0004 se obtiene un coeficiente de Hazen-Williams de 130\n",
      "\n",
      "Se obtiene un coeficiente J1 de la tubería 3 de 3.0931727619403286e-06 mca/m(l/s)^1.852\n",
      "\n",
      "TUBERÍA 4\n",
      "\n",
      "Con una rugosidad relativa de la tubería 4 de 0.0005 se obtiene un coeficiente de Hazen-Williams de 130\n",
      "\n",
      "Se obtiene un coeficiente J1 de la tubería 4 de 9.169717170007952e-06 mca/m(l/s)^1.852\n",
      "\n",
      "TUBERÍA 5\n",
      "\n",
      "Con una rugosidad relativa de la tubería 5 de 0.0005 se obtiene un coeficiente de Hazen-Williams de 130\n",
      "\n",
      "Se obtiene un coeficiente J1 de la tubería 5 de 9.169717170007952e-06 mca/m(l/s)^1.852\n",
      "\n",
      "A continuación se muestra una tabla con todos los datos:\n",
      "\n",
      "╒══════╤════════╤═════════════╤═════════════╤═════════════╤═════════════╕\n",
      "│      │   1    │      2      │      3      │      4      │      5      │\n",
      "╞══════╪════════╪═════════════╪═════════════╪═════════════╪═════════════╡\n",
      "│ L(m) │ 2850.0 │     500     │    1970     │     400     │     600     │\n",
      "├──────┼────────┼─────────────┼─────────────┼─────────────┼─────────────┤\n",
      "│ D(m) │   ?    │     0.1     │    0.25     │     0.2     │     0.2     │\n",
      "├──────┼────────┼─────────────┼─────────────┼─────────────┼─────────────┤\n",
      "│ ε/D  │   -    │    0.001    │   0.0004    │   0.0005    │   0.0005    │\n",
      "├──────┼────────┼─────────────┼─────────────┼─────────────┼─────────────┤\n",
      "│ CHW  │   -    │     130     │     130     │     130     │     130     │\n",
      "├──────┼────────┼─────────────┼─────────────┼─────────────┼─────────────┤\n",
      "│  J1  │   -    │ 0.000268146 │ 3.09317e-06 │ 9.16972e-06 │ 9.16972e-06 │\n",
      "╘══════╧════════╧═════════════╧═════════════╧═════════════╧═════════════╛\n"
     ]
    }
   ],
   "source": [
    "#Cálculo de la rugosidad relativa, del coeficiente de Hazen-Williams CHW y del coeficiente J1\n",
    "\n",
    "print(\"TUBERÍA 2\"+\"\\n\")\n",
    "rugosidad_relativa_2= rugosidad_relativa(rugosidad.result,D_2.result)\n",
    "C_HW_2= coeficiente_hw(rugosidad_relativa_2, 2)\n",
    "J_2= coeficiente_J1(C_HW_2, D_2.result, 2)\n",
    "\n",
    "print(\"TUBERÍA 3\"+\"\\n\")\n",
    "rugosidad_relativa_3= rugosidad_relativa(rugosidad.result,D_3.result)\n",
    "C_HW_3= coeficiente_hw(rugosidad_relativa_3, 3)\n",
    "J_3= coeficiente_J1(C_HW_3, D_3.result, 3)\n",
    "\n",
    "print(\"TUBERÍA 4\"+\"\\n\")\n",
    "rugosidad_relativa_4= rugosidad_relativa(rugosidad.result,D_4.result)\n",
    "C_HW_4= coeficiente_hw(rugosidad_relativa_4, 4)\n",
    "J_4= coeficiente_J1(C_HW_4, D_4.result, 4)\n",
    "\n",
    "print(\"TUBERÍA 5\"+\"\\n\")\n",
    "rugosidad_relativa_5= rugosidad_relativa(rugosidad.result,D_5.result)\n",
    "C_HW_5= coeficiente_hw(rugosidad_relativa_5, 5)\n",
    "J_5= coeficiente_J1(C_HW_5, D_5.result, 5)\n",
    "\n",
    "print(\"A continuación se muestra una tabla con todos los datos:\"+\"\\n\")\n",
    "from tabulate import tabulate\n",
    "\n",
    "#Formato de la tabla\n",
    "\n",
    "tabla= [['','1', '2', '3', \"4\", \"5\"],\n",
    "        ['L(m)', L_1.result, L_2.result, L_3.result, L_4.result, L_5.result],\n",
    "        ['D(m)','?', D_2.result, D_3.result, D_4.result, D_5.result],\n",
    "        ['ε/D', '-',rugosidad_relativa_2, rugosidad_relativa_3, rugosidad_relativa_4, rugosidad_relativa_5],\n",
    "        ['CHW', '-',C_HW_2, C_HW_3, C_HW_4, C_HW_5],\n",
    "        ['J1','-', J_2, J_3, J_4, J_5]]\n",
    "\n",
    "#Impresión de la tabla\n",
    "\n",
    "print(tabulate(tabla, headers='firstrow', tablefmt='fancy_grid',stralign='center',numalign='center')) "
   ]
  },
  {
   "cell_type": "markdown",
   "metadata": {},
   "source": [
    "<div style=\"background-color:#EAEAE9;padding:10px 40px;text-align:center; vertical-align: middle;font-family:didot;\">\n",
    "  \n",
    "<p style=\"font-size: 15px;text-align: justify;\"><b>a) Caudales circulantes con su sentido.</b></p>\n",
    "\n",
    "<p style=\"font-size: 15px;text-align: justify;\">Con los datos del enunciado, vamos a comenzar la resolución por la tubería 5. Se conoce el caudal circulante $Q_{_{5}}$ y el sentido del flujo. Por tanto se pueden calcular las pérdidas de carga $h_{f_{5}}$ y el Bernoulli en el nudo F.</p>\n",
    "    \n",
    "<p style=\"font-size: 15px;text-align: justify;\">Tubería 5:</p>\n",
    "    \n",
    "<p style=\"font-size: 15px;text-align: justify;\">\n",
    "\\begin{equation}\n",
    "    h_{f_{5}} = (J_{_{1}})_{_{5}} \\cdot L_{_{5}} \\cdot {Q_{_{5}}}^{^{1.852}}\\\\\n",
    "    B_{_{F}} - h_{f_{5}} = B_{_{C}}\n",
    "\\end{equation}</p>\n",
    "    \n",
    "<br>\n",
    "</div>"
   ]
  },
  {
   "cell_type": "code",
   "execution_count": 4,
   "metadata": {},
   "outputs": [
    {
     "name": "stdout",
     "output_type": "stream",
     "text": [
      "Ingresa la presión en A [m.c.a.]: \n"
     ]
    },
    {
     "data": {
      "application/vnd.jupyter.widget-view+json": {
       "model_id": "7e6753ad00884fa1a540fa12e1f8c0e7",
       "version_major": 2,
       "version_minor": 0
      },
      "text/plain": [
       "interactive(children=(FloatText(value=0.0, description='P_A', step=1.0), Output()), _dom_classes=('widget-inte…"
      ]
     },
     "metadata": {},
     "output_type": "display_data"
    },
    {
     "name": "stdout",
     "output_type": "stream",
     "text": [
      "Ingresa la cota A: \n"
     ]
    },
    {
     "data": {
      "application/vnd.jupyter.widget-view+json": {
       "model_id": "6d066077b21246a497b10278dad3b7c4",
       "version_major": 2,
       "version_minor": 0
      },
      "text/plain": [
       "interactive(children=(FloatText(value=0.0, description='z_a', step=1.0), Output()), _dom_classes=('widget-inte…"
      ]
     },
     "metadata": {},
     "output_type": "display_data"
    },
    {
     "name": "stdout",
     "output_type": "stream",
     "text": [
      "Ingresa la velocidad en A [m/s]: \n"
     ]
    },
    {
     "data": {
      "application/vnd.jupyter.widget-view+json": {
       "model_id": "38ffd05538484c9d9b7801a1552d163f",
       "version_major": 2,
       "version_minor": 0
      },
      "text/plain": [
       "interactive(children=(FloatText(value=0.0, description='v_a', step=1.0), Output()), _dom_classes=('widget-inte…"
      ]
     },
     "metadata": {},
     "output_type": "display_data"
    },
    {
     "name": "stdout",
     "output_type": "stream",
     "text": [
      "Ingresa la presión en B [m.c.a.]: \n"
     ]
    },
    {
     "data": {
      "application/vnd.jupyter.widget-view+json": {
       "model_id": "521bc583a30743d08a46bd7b9ce02f85",
       "version_major": 2,
       "version_minor": 0
      },
      "text/plain": [
       "interactive(children=(FloatText(value=0.0, description='P_B', step=1.0), Output()), _dom_classes=('widget-inte…"
      ]
     },
     "metadata": {},
     "output_type": "display_data"
    },
    {
     "name": "stdout",
     "output_type": "stream",
     "text": [
      "Ingresa la cota B: \n"
     ]
    },
    {
     "data": {
      "application/vnd.jupyter.widget-view+json": {
       "model_id": "8250e8c3bb1a4593a0bf55a7b98d02d5",
       "version_major": 2,
       "version_minor": 0
      },
      "text/plain": [
       "interactive(children=(FloatText(value=0.0, description='z_b', step=1.0), Output()), _dom_classes=('widget-inte…"
      ]
     },
     "metadata": {},
     "output_type": "display_data"
    },
    {
     "name": "stdout",
     "output_type": "stream",
     "text": [
      "Ingresa la velocidad en B [m/s]: \n"
     ]
    },
    {
     "data": {
      "application/vnd.jupyter.widget-view+json": {
       "model_id": "35f7556751004d2a9bd0e96ca0be28b4",
       "version_major": 2,
       "version_minor": 0
      },
      "text/plain": [
       "interactive(children=(FloatText(value=0.0, description='v_b', step=1.0), Output()), _dom_classes=('widget-inte…"
      ]
     },
     "metadata": {},
     "output_type": "display_data"
    },
    {
     "name": "stdout",
     "output_type": "stream",
     "text": [
      "Ingresa la presión en C [m.c.a.]: \n"
     ]
    },
    {
     "data": {
      "application/vnd.jupyter.widget-view+json": {
       "model_id": "dc6e33d88cae4d65a87da0e37f56e541",
       "version_major": 2,
       "version_minor": 0
      },
      "text/plain": [
       "interactive(children=(FloatText(value=0.0, description='P_C', step=1.0), Output()), _dom_classes=('widget-inte…"
      ]
     },
     "metadata": {},
     "output_type": "display_data"
    },
    {
     "name": "stdout",
     "output_type": "stream",
     "text": [
      "Ingresa la cota C: \n"
     ]
    },
    {
     "data": {
      "application/vnd.jupyter.widget-view+json": {
       "model_id": "4fb81b6de20e4e97ad3e9f055dc32e4a",
       "version_major": 2,
       "version_minor": 0
      },
      "text/plain": [
       "interactive(children=(FloatText(value=0.0, description='z_c', step=1.0), Output()), _dom_classes=('widget-inte…"
      ]
     },
     "metadata": {},
     "output_type": "display_data"
    },
    {
     "name": "stdout",
     "output_type": "stream",
     "text": [
      "Ingresa la velocidad en C [m/s]: \n"
     ]
    },
    {
     "data": {
      "application/vnd.jupyter.widget-view+json": {
       "model_id": "201e0983c43d410687481077a80d47fb",
       "version_major": 2,
       "version_minor": 0
      },
      "text/plain": [
       "interactive(children=(FloatText(value=0.0, description='v_c', step=1.0), Output()), _dom_classes=('widget-inte…"
      ]
     },
     "metadata": {},
     "output_type": "display_data"
    },
    {
     "name": "stdout",
     "output_type": "stream",
     "text": [
      "Ingresa la presión en D [m.c.a.]: \n"
     ]
    },
    {
     "data": {
      "application/vnd.jupyter.widget-view+json": {
       "model_id": "3d077de713ff41f6a480b543ab0b8f3d",
       "version_major": 2,
       "version_minor": 0
      },
      "text/plain": [
       "interactive(children=(FloatText(value=0.0, description='P_D', step=1.0), Output()), _dom_classes=('widget-inte…"
      ]
     },
     "metadata": {},
     "output_type": "display_data"
    },
    {
     "name": "stdout",
     "output_type": "stream",
     "text": [
      "Ingresa la cota D: \n"
     ]
    },
    {
     "data": {
      "application/vnd.jupyter.widget-view+json": {
       "model_id": "d3a7d8d097444a9193ff5212792ea5bd",
       "version_major": 2,
       "version_minor": 0
      },
      "text/plain": [
       "interactive(children=(FloatText(value=0.0, description='z_d', step=1.0), Output()), _dom_classes=('widget-inte…"
      ]
     },
     "metadata": {},
     "output_type": "display_data"
    },
    {
     "name": "stdout",
     "output_type": "stream",
     "text": [
      "Ingresa la velocidad en D [m/s]: \n"
     ]
    },
    {
     "data": {
      "application/vnd.jupyter.widget-view+json": {
       "model_id": "42e282f0d2344df4bac42d9e3d78df39",
       "version_major": 2,
       "version_minor": 0
      },
      "text/plain": [
       "interactive(children=(FloatText(value=0.0, description='v_d', step=1.0), Output()), _dom_classes=('widget-inte…"
      ]
     },
     "metadata": {},
     "output_type": "display_data"
    }
   ],
   "source": [
    "#Pedimos al usuario que ingrese los datos del problema para calcular los Bernoullis.\n",
    "\n",
    "print(\"Ingresa la presión en A [m.c.a.]: \")\n",
    "P_A= interactive(P_A, P_A=widgets.FloatText(min=-50, max=1000, step=1, value=0));\n",
    "display(P_A)\n",
    "\n",
    "print(\"Ingresa la cota A: \")\n",
    "z_a= interactive(z_a, z_a=widgets.FloatText(min=-50, max=1000, step=1, value=0));\n",
    "display(z_a)\n",
    "\n",
    "print(\"Ingresa la velocidad en A [m/s]: \")\n",
    "v_a= interactive(v_a, v_a=widgets.FloatText(min=-50, max=1000, step=1, value=0));\n",
    "display(v_a)\n",
    "\n",
    "print(\"Ingresa la presión en B [m.c.a.]: \")\n",
    "P_B= interactive(P_B, P_B=widgets.FloatText(min=-50, max=1000, step=1, value=0));\n",
    "display(P_B)\n",
    "\n",
    "print(\"Ingresa la cota B: \")\n",
    "z_b= interactive(z_b, z_b=widgets.FloatText(min=-50, max=1000, step=1, value=0));\n",
    "display(z_b)\n",
    "\n",
    "print(\"Ingresa la velocidad en B [m/s]: \")\n",
    "v_b= interactive(v_b, v_b=widgets.FloatText(min=-50, max=1000, step=1, value=0));\n",
    "display(v_b)\n",
    "\n",
    "print(\"Ingresa la presión en C [m.c.a.]: \")\n",
    "P_C= interactive(P_C, P_C=widgets.FloatText(min=-50, max=1000, step=1, value=0));\n",
    "display(P_C)\n",
    "\n",
    "print(\"Ingresa la cota C: \")\n",
    "z_c= interactive(z_c, z_c=widgets.FloatText(min=-50, max=1000, step=1, value=0));\n",
    "display(z_c)\n",
    "\n",
    "print(\"Ingresa la velocidad en C [m/s]: \")\n",
    "v_c= interactive(v_c, v_c=widgets.FloatText(min=-50, max=1000, step=1, value=0));\n",
    "display(v_c)\n",
    "\n",
    "print(\"Ingresa la presión en D [m.c.a.]: \")\n",
    "P_D= interactive(P_D, P_D=widgets.FloatText(min=-50, max=1000, step=1, value=0));\n",
    "display(P_D)\n",
    "\n",
    "print(\"Ingresa la cota D: \")\n",
    "z_d= interactive(z_d, z_d=widgets.FloatText(min=-50, max=1000, step=1, value=0));\n",
    "display(z_d)\n",
    "\n",
    "print(\"Ingresa la velocidad en D [m/s]: \")\n",
    "v_d= interactive(v_d, v_d=widgets.FloatText(min=-50, max=1000, step=1, value=0));\n",
    "display(v_d)\n"
   ]
  },
  {
   "cell_type": "code",
   "execution_count": 5,
   "metadata": {},
   "outputs": [],
   "source": [
    "B_A= P_A.result + z_a.result + v_a.result\n",
    "B_B= P_B.result + z_b.result + v_b.result\n",
    "B_C= P_C.result + z_c.result + v_c.result\n",
    "B_D= P_D.result + z_d.result + v_d.result"
   ]
  },
  {
   "cell_type": "code",
   "execution_count": 6,
   "metadata": {},
   "outputs": [
    {
     "name": "stdout",
     "output_type": "stream",
     "text": [
      "Se obtienen unas perdidas de carga de 2.1354631766861103 m.c.a.\n",
      "\n",
      "El Bernoulli en F es 17.13546317668611 m.c.a.\n",
      "\n",
      "Analizando los Bernoulli podemos saber el sentido del flujo:\n",
      "\n",
      "El flujo va de F a C\n"
     ]
    }
   ],
   "source": [
    "#Calculamos las pérdidas de carga en la tubería 5\n",
    "\n",
    "hf_5= J_5*L_5.result*((Q_5.result*1000)**1.852)\n",
    "print(\"Se obtienen unas perdidas de carga de\", hf_5, \"m.c.a.\")\n",
    "print()\n",
    "\n",
    "#Calculamos el Bernoulli en F\n",
    "\n",
    "B_F= P_C.result + z_c.result + (v_c.result**2)/(2*g) + hf_5\n",
    "print(\"El Bernoulli en F es\", B_F, \"m.c.a.\"+ \"\\n\")\n",
    "\n",
    "#Analizamos el sentido del flujo\n",
    "\n",
    "print(\"Analizando los Bernoulli podemos saber el sentido del flujo:\" + \"\\n\")\n",
    "if B_F > B_C:\n",
    "    print(\"El flujo va de F a C\")\n",
    "else:\n",
    "    print(\"El flujo va de C a F\")"
   ]
  },
  {
   "cell_type": "markdown",
   "metadata": {},
   "source": [
    "<div style=\"background-color:#EAEAE9;padding:10px 40px;text-align:center; vertical-align: middle;font-family:didot;\">\n",
    "\n",
    "<p style=\"font-size: 15px;text-align: justify;\">Ahora podemos ir a la tubería 4 porque sabemos cuánto es $B_{_{F}}$.</p>\n",
    "\n",
    "<p style=\"font-size: 15px;text-align: justify;\">Tubería 4:</p>\n",
    "\n",
    "</div>"
   ]
  },
  {
   "cell_type": "code",
   "execution_count": 7,
   "metadata": {},
   "outputs": [
    {
     "name": "stdout",
     "output_type": "stream",
     "text": [
      "El Bernoulli en F es mayor que el Bernoulli en D, por tanto el sentido del flujo en la tubería 4 será de F a D.\n",
      "\n",
      "Se pueden calcular las pérdidas de carga en la tubería y a continuación el caudal circulante.\n",
      "\n",
      "Se obtienen unas perdidas de carga de 2.135463176686109 mca\n"
     ]
    }
   ],
   "source": [
    "#Comparamos los Bernoulli en F y D y analizamos el sentido del flujo.\n",
    "#Sabiendo el flujo calculamos las pérdidas de carga de la tubería.\n",
    "\n",
    "if B_F > B_D:\n",
    "    print(\"El Bernoulli en F es mayor que el Bernoulli en D, por tanto el sentido del flujo en la tubería 4 será de F a D.\")\n",
    "    print()\n",
    "    print(\"Se pueden calcular las pérdidas de carga en la tubería y a continuación el caudal circulante.\")\n",
    "    print()\n",
    "    hf_4= B_F - B_D \n",
    "    print(\"Se obtienen unas perdidas de carga de\", hf_4, \"mca\")\n",
    "else:\n",
    "    print(\"El Bernoulli en D es mayor que el Bernoulli en F, por tanto el sentido del flujo en la tubería 4 será de D a F.\")\n",
    "    print()\n",
    "    print(\"Se pueden calcular las pérdidas de carga en la tubería y a continuación el caudal circulante.\")\n",
    "    print()\n",
    "    hf_4= B_D + B_F \n",
    "    print(\"Se obtienen unas perdidas de carga de\", hf_4, \"m.c.a.\")"
   ]
  },
  {
   "cell_type": "markdown",
   "metadata": {},
   "source": [
    "<div style=\"background-color:#EAEAE9;padding:10px 40px;text-align:center; vertical-align: middle;font-family:didot;\">\n",
    "\n",
    "<p style=\"font-size: 15px;text-align: justify;\">Sabemos que:</p>\n",
    "\n",
    "<p style=\"font-size: 15px;text-align: justify;\">\n",
    "\\begin{equation}\n",
    "    h_{f_{4}} = (J_{_{1}})_{_{4}} \\cdot L_{_{4}} \\cdot {Q_{_{4}}}^{^{1.852}}\n",
    "\\end{equation}</p>\n",
    "\n",
    "</div>"
   ]
  },
  {
   "cell_type": "code",
   "execution_count": 8,
   "metadata": {},
   "outputs": [
    {
     "name": "stdout",
     "output_type": "stream",
     "text": [
      "Se obtiene un caudal en la tubería 4 de 31.1187169253533 l/s\n"
     ]
    }
   ],
   "source": [
    "from sympy.solvers import nsolve\n",
    "from sympy import Symbol\n",
    "x = Symbol('x')\n",
    "\n",
    "#Despejamos y calculamos el caudal en la tubería 4 \n",
    "\n",
    "Q_4=nsolve(J_4*L_4.result*(x**1.852)-hf_4,x,100)\n",
    "\n",
    "\n",
    "print(\"Se obtiene un caudal en la tubería 4 de\", Q_4, \"l/s\")"
   ]
  },
  {
   "cell_type": "markdown",
   "metadata": {},
   "source": [
    "<div style=\"background-color:#EAEAE9;padding:10px 40px;text-align:center; vertical-align: middle;font-family:didot;\">\n",
    "\n",
    "<p style=\"font-size: 15px;text-align: justify;\">Aplicando la Ecuación de la Continuidad en el nudo F se determina el caudal $Q_{_{3}}$.</p>\n",
    "\n",
    "<p style=\"font-size: 15px;text-align: justify;\">Nudo F:</p>\n",
    "\n",
    "<p style=\"font-size: 15px;text-align: justify;\">\n",
    "\\begin{equation}\n",
    "    Q_{_{3}} = Q_{_{4}} + Q_{_{5}}\n",
    "\\end{equation}</p>\n",
    "<br>\n",
    "\n",
    "</div>"
   ]
  },
  {
   "cell_type": "code",
   "execution_count": 9,
   "metadata": {},
   "outputs": [
    {
     "name": "stdout",
     "output_type": "stream",
     "text": [
      "Se obtiene un caudal en la tubería 3 de 56.1187169253533 l/s\n"
     ]
    }
   ],
   "source": [
    "#Calculamos el caudal mediante la Ecuación de la Continuidad\n",
    "\n",
    "Q_3= Q_4 + Q_5.result*1000\n",
    "print(\"Se obtiene un caudal en la tubería 3 de\", Q_3, \"l/s\")"
   ]
  },
  {
   "cell_type": "markdown",
   "metadata": {},
   "source": [
    "<div style=\"background-color:#EAEAE9;padding:10px 40px;text-align:center; vertical-align: middle;font-family:didot;\">\n",
    "\n",
    "<p style=\"font-size: 15px;text-align: justify;\">Tubería 3:</p>\n",
    "\n",
    "<p style=\"font-size: 15px;text-align: justify;\">Se conoce el caudal circulante $Q_{_{3}}$ y el sentido del flujo. Por tanto se pueden calcular las pérdidas de carga $h_{f_{3}}$ y el Bernoulli en el nudo E.</p>\n",
    "\n",
    "<p style=\"font-size: 15px;text-align: justify;\">\n",
    "\\begin{equation}\n",
    "    h_{f_{3}} = (J_{_{1}})_{_{3}} \\cdot L_{_{3}} \\cdot  {Q_{_{3}}}^{^{1.852}}\\\\\n",
    "    B_{_{E}} - h_{f_{3}} = B_{_{F}}\n",
    "\\end{equation}</p>\n",
    "<br>\n",
    "\n",
    "</div>"
   ]
  },
  {
   "cell_type": "code",
   "execution_count": 10,
   "metadata": {},
   "outputs": [
    {
     "name": "stdout",
     "output_type": "stream",
     "text": [
      "Se obtienen unas perdidas de carga de 10.5734794306185 m.c.a.\n",
      "\n",
      "El Bernoulli en F es 27.7089426073046 m.c.a.\n",
      "\n",
      "Se observa que Bernoulli en A es mayor que bernoulli en E. Por tanto el sentido del flujo en la tubería 1 será de A a E.\n"
     ]
    }
   ],
   "source": [
    "#Calculamos las pérdidas de carga en la tubería 3\n",
    "\n",
    "hf_3= J_3*L_3.result*((Q_3)**1.852)\n",
    "print(\"Se obtienen unas perdidas de carga de\", hf_3, \"m.c.a.\")\n",
    "print()\n",
    "\n",
    "#Calculamos el Bernoulli en E\n",
    "\n",
    "B_E= B_F + hf_3\n",
    "print(\"El Bernoulli en F es\", B_E, \"m.c.a.\"+ \"\\n\")\n",
    "\n",
    "#Comparamos los Bernoulli en A y E y analizamos el sentido del flujo\n",
    "if B_A > B_E:\n",
    "    print(\"Se observa que Bernoulli en A es mayor que bernoulli en E. Por tanto el sentido del flujo en la tubería 1 será de A a E.\")\n",
    "else:\n",
    "    print(\"Se observa que Bernoulli en E es mayor que Bernoulli en A. Por tanto el sentido del flujo en la tubería 1 será de E a A.\")\n"
   ]
  },
  {
   "cell_type": "markdown",
   "metadata": {},
   "source": [
    "<div style=\"background-color:#EAEAE9;padding:10px 40px;text-align:center; vertical-align: middle;font-family:didot;\">\n",
    "\n",
    "<p style=\"font-size: 15px;text-align: justify;\">Tubería 1:</p>\n",
    "\n",
    "<p style=\"font-size: 15px;text-align: justify;\">Se pueden determinar las pérdidas de carga en la tubería 1, pero como se desconoce el diámetro $D_{_{1}}$ no se puede calcular el caudal $Q_{_{1}}$.</p>\n",
    "\n",
    "<p style=\"font-size: 15px;text-align: justify;\">\n",
    "\\begin{equation}\n",
    "    h_{f_{1}} = (J_{_{1}})_{_{1}} \\cdot L_{_{1}} \\cdot  {Q_{_{1}}}^{^{1.852}}\n",
    "\\end{equation}</p>\n",
    "    \n",
    "<p style=\"font-size: 15px;text-align: justify;\">En esta ecuación hay dos incógnitas: $(J_{_{1}})_{_{1}}$ y el caudal $Q_{_{1}}$</p>\n",
    "    \n",
    "<p style=\"font-size: 15px;text-align: justify;\">Por tanto se debe estudiar la tubería 2.</p>\n",
    "    \n",
    "<p style=\"font-size: 15px;text-align: justify;\">Tubería 2:</p>\n",
    "    \n",
    "<p style=\"font-size: 15px;text-align: justify;\">Aplicamos Bernoulli:</p>\n",
    "    \n",
    "<p style=\"font-size: 15px;text-align: justify;\">\n",
    "\\begin{equation}\n",
    "    B_{_{B}} - h_{f_{2}} + H_{m}= B_{_{E}} \\rightarrow \n",
    "    B_{_{B}} - (J_{_{1}})_{_{2}} \\cdot L_{_{2}} \\cdot  {Q_{_{2}}}^{^{1.852}} + H_{m}= B_{_{E}} ~ ~ ~ ~(1)\n",
    "\\end{equation}</p>\n",
    "    \n",
    "<p style=\"font-size: 15px;text-align: justify;\">Para determinar la altura manométrica de la bomba $H_{m}$ en el enunciado nos dan la potencia bruta y el rendimiento.</p>\n",
    "    \n",
    "<p style=\"font-size: 15px;text-align: justify;\">\n",
    "\\begin{equation}\n",
    "    \\eta _b = \\frac{Pot. útil}{Pot. bruta}\n",
    "\\end{equation}</p>\n",
    "\n",
    "<p style=\"font-size: 15px;text-align: justify;\">\n",
    "\\begin{equation}\n",
    "    {Pot. útil} = H_{m} \\cdot Q_{_{2}} \\cdot \\gamma\n",
    "\\end{equation}</p>\n",
    "    \n",
    "<p style=\"font-size: 15px;text-align: justify;\">Por lo tanto:</p>\n",
    "    \n",
    "<p style=\"font-size: 15px;text-align: justify;\">\n",
    "\\begin{equation}\n",
    "    H_{m} = \\frac{Pot. útil}{Q_{_{2}} \\cdot \\gamma}\n",
    "\\end{equation} </p>\n",
    "    \n",
    "<p style=\"font-size: 15px;text-align: justify;\">En esta expresión el caudal está expresado en $\\frac{m^{3}}{s}$. En la ecuación de Hazen-Williams el caudal se expresa en $\\frac{l}{s}$. Por tanto es necesario realizar el cambio de unidades. </p>\n",
    "    \n",
    "<p style=\"font-size: 15px;text-align: justify;\">\n",
    "\\begin{equation}\n",
    "    H_{m} = \\frac{Pot. útil}{Q_{_{2}}\\left(\\frac{m^{3}}{s}\\right) \\cdot \\gamma} = \\frac{Pot. útil}{\\left(Q_{_{2}}\\left(\\frac{l}{s}\\right)\\cdot 10^{^{-3}}\\right)\\left(\\frac{m^{3}}{s}\\right) \\cdot \\gamma}\n",
    "\\end{equation} </p>\n",
    "\n",
    "<br>\n",
    "    \n",
    "<p style=\"font-size: 15px;text-align: justify;\">Sustituyendo en la ecuación (1):</p>\n",
    "    \n",
    "<p style=\"font-size: 15px;text-align: justify;\">\n",
    "\\begin{equation}\n",
    "    B_{_{B}} - (J_{_{1}})_{_{2}} \\cdot L_{_{2}} \\cdot {Q_{_{2}}}^{^{1.852}} + \\frac{Pot. útil}{\\left(Q_{_{2}}\\left(\\frac{l}{s}\\right)\\cdot 10^{^{-3}}\\right)\\left(\\frac{m^{3}}{s}\\right) \\cdot \\gamma}= B_{_{E}}\n",
    "\\end{equation}</p>\n",
    "<br>\n",
    "\n",
    "</div>"
   ]
  },
  {
   "cell_type": "code",
   "execution_count": 11,
   "metadata": {},
   "outputs": [
    {
     "name": "stdout",
     "output_type": "stream",
     "text": [
      "Se obtiene un caudal en la tubería 2 de 9.29967920456384 l/s\n"
     ]
    }
   ],
   "source": [
    "from sympy.solvers import nsolve\n",
    "from sympy import Symbol\n",
    "x = Symbol('x')\n",
    "\n",
    "#Calculamos el caudal que circula por la tubería 2\n",
    "\n",
    "Q_2=nsolve(B_B - (J_2 * L_2.result * (x**1.852)) + ((P_bruta.result*rendimiento.result*0.01)/(x*10**(-3)*9800)) - B_E,x,100)\n",
    "\n",
    "print(\"Se obtiene un caudal en la tubería 2 de\", Q_2, \"l/s\")"
   ]
  },
  {
   "cell_type": "markdown",
   "metadata": {},
   "source": [
    "<div style=\"background-color:#EAEAE9;padding:10px 40px;text-align:center; vertical-align: middle;font-family:didot;\">\n",
    "\n",
    "<p style=\"font-size: 15px;text-align: justify;\">Para determinar el caudal Q1, se aplica la Ecuación de la Continuidad en el nudo E.</p>\n",
    "\n",
    "<p style=\"font-size: 15px;text-align: justify;\">\n",
    "\\begin{equation}\n",
    "    Q_{_{3}} = Q_{_{1}} + Q_{_{2}}\n",
    "\\end{equation}</p>\n",
    "\n",
    "</div>"
   ]
  },
  {
   "cell_type": "code",
   "execution_count": 12,
   "metadata": {},
   "outputs": [
    {
     "name": "stdout",
     "output_type": "stream",
     "text": [
      "Se obtiene un caudal en la tubería 1 de 46.8190377207894 l/s\n"
     ]
    }
   ],
   "source": [
    "#Calculamos el caudal en la tubería 1\n",
    "\n",
    "Q_1= Q_3 - Q_2\n",
    "print(\"Se obtiene un caudal en la tubería 1 de\", Q_1, \"l/s\")"
   ]
  },
  {
   "cell_type": "code",
   "execution_count": 13,
   "metadata": {},
   "outputs": [
    {
     "name": "stdout",
     "output_type": "stream",
     "text": [
      "RESULTADOS: 46.8190377207894 l/s, 9.29967920456384 l/s, 56.1187169253533 l/s, 31.1187169253533 l/s y 25.0 l/s.\n"
     ]
    }
   ],
   "source": [
    "print(\"RESULTADOS:\", Q_1, \"l/s,\", Q_2, \"l/s,\", Q_3, \"l/s,\", Q_4, \"l/s y\", Q_5.result *1000, \"l/s.\" )"
   ]
  },
  {
   "cell_type": "markdown",
   "metadata": {},
   "source": [
    "<div style=\"background-color:#EAEAE9;padding:10px 40px;text-align:center; vertical-align: middle;font-family:didot;\">\n",
    "  \n",
    "<p style=\"font-size: 15px;text-align: justify;\"><b>b) Cotas piezométricas de E y F.</b></p>\n",
    "\n",
    "<p style=\"font-size: 15px;text-align: justify;\">La cota piezométrica es la suma de la energía de cota más la presión.</p>\n",
    "    \n",
    "<p style=\"font-size: 15px;text-align: justify;\">\n",
    "\\begin{equation}\n",
    "    E_p = z + \\frac{P}{\\gamma}\n",
    "\\end{equation}</p>\n",
    "    \n",
    "<p style=\"font-size: 15px;text-align: justify;\">En las tuberías el término de la energía cinética es despreciable frente a la energía de cota y presión. En las tuberías la cota piezométrica es practicamente la altura total o Bernoulli. </p>\n",
    "    \n",
    "<br>\n",
    "</div>"
   ]
  },
  {
   "cell_type": "code",
   "execution_count": 14,
   "metadata": {},
   "outputs": [
    {
     "name": "stdout",
     "output_type": "stream",
     "text": [
      "La cota piezométrica de E es 27.7089426073046 m.c.a.\n",
      "La cota piezométrica de F es 17.13546317668611 m.c.a.\n"
     ]
    }
   ],
   "source": [
    "#Calculamos las cotas piezométricas\n",
    "\n",
    "Ep_E= B_E\n",
    "Ep_F= B_F\n",
    "\n",
    "print(\"La cota piezométrica de E es\", Ep_E, \"m.c.a.\")\n",
    "print(\"La cota piezométrica de F es\", Ep_F, \"m.c.a.\")"
   ]
  },
  {
   "cell_type": "code",
   "execution_count": 15,
   "metadata": {},
   "outputs": [
    {
     "name": "stdout",
     "output_type": "stream",
     "text": [
      "RESULTADOS: 27.7089426073046 m.c.a y 17.13546317668611 m.c.a\n"
     ]
    }
   ],
   "source": [
    "print(\"RESULTADOS:\", Ep_E, \"m.c.a y\", Ep_F, \"m.c.a\" )"
   ]
  },
  {
   "cell_type": "markdown",
   "metadata": {},
   "source": [
    "<div style=\"background-color:#EAEAE9;padding:10px 40px;text-align:center; vertical-align: middle;font-family:didot;\">\n",
    "  \n",
    "<p style=\"font-size: 15px;text-align: justify;\"><b>c) Altura manométrica de la bomba.</b></p>\n",
    "\n",
    "</div>"
   ]
  },
  {
   "cell_type": "code",
   "execution_count": 16,
   "metadata": {},
   "outputs": [
    {
     "name": "stdout",
     "output_type": "stream",
     "text": [
      "La altura monométrica de la bomba es 36.0446929683500 m.c.a.\n"
     ]
    }
   ],
   "source": [
    "#Calculamos la altura manométrica de la bomba\n",
    "\n",
    "H_m= ((P_bruta.result*rendimiento.result*0.01)/(Q_2*10**(-3)*9800))\n",
    "\n",
    "print(\"La altura monométrica de la bomba es\", H_m, \"m.c.a.\")"
   ]
  },
  {
   "cell_type": "code",
   "execution_count": 17,
   "metadata": {},
   "outputs": [
    {
     "name": "stdout",
     "output_type": "stream",
     "text": [
      "RESULTADO: 36.0446929683500 m.c.a.\n"
     ]
    }
   ],
   "source": [
    "print(\"RESULTADO:\", H_m, \"m.c.a.\")"
   ]
  },
  {
   "cell_type": "markdown",
   "metadata": {},
   "source": [
    "<div style=\"background-color:#EAEAE9;padding:10px 40px;text-align:center; vertical-align: middle;font-family:didot;\">\n",
    "  \n",
    "<p style=\"font-size: 15px;text-align: justify;\"><b>d) Diámetro de la tubería 1.</b></p>\n",
    "    \n",
    "<p style=\"font-size: 15px;text-align: justify;\">Tubería 1:</p>\n",
    "\n",
    "</div>"
   ]
  },
  {
   "cell_type": "code",
   "execution_count": 18,
   "metadata": {},
   "outputs": [
    {
     "name": "stdout",
     "output_type": "stream",
     "text": [
      "Se obtienen unas perdidas de carga de 2.29105739269542 m.c.a.\n",
      "\n",
      "Al despejar obtenemos un J1(BC)max de 6.47990545868426e-7 mca/m(l/s)^1.852\n"
     ]
    }
   ],
   "source": [
    "#Calculamos las pérdidas de carga en la tubería 1\n",
    "\n",
    "if B_A > B_E:\n",
    "    hf_1= B_A - B_E\n",
    "    print(\"Se obtienen unas perdidas de carga de\", hf_1, \"m.c.a.\")\n",
    "else:\n",
    "    hf_1= B_E - B_A\n",
    "    print(\"Se obtienen unas perdidas de carga de\", hf_1, \"m.c.a.\")\n",
    "\n",
    "print()\n",
    "\n",
    "#Calculamos J1 max\n",
    "\n",
    "J_1_max= hf_1/(L_1.result*Q_1**1.852)\n",
    "print(\"Al despejar obtenemos un J1(BC)max de\", J_1_max, \"mca/m(l/s)^1.852\")"
   ]
  },
  {
   "cell_type": "code",
   "execution_count": 19,
   "metadata": {},
   "outputs": [
    {
     "name": "stdout",
     "output_type": "stream",
     "text": [
      "Opciones posibles:\n",
      "\n",
      "--> Opción 1 :\n",
      "\n",
      "Chw= 150\n",
      "D= 350 mm\n",
      "\n",
      "Comprobación NO válida\n",
      "\n",
      "--> Opción 2 :\n",
      "\n",
      "Chw= 140\n",
      "D= 350 mm\n",
      "\n",
      "Comprobación NO válida\n",
      "\n",
      "--> Opción 3 :\n",
      "\n",
      "Chw= 130\n",
      "D= 350 mm\n",
      "\n",
      "Comprobación válida\n",
      "\n",
      "Se obtiene un coeficiente J1 de 6.0084249855878e-07 mca/m(l/s)^1.852\n",
      "\n",
      "--> Opción 4 :\n",
      "\n",
      "Chw= 120\n",
      "D= 400 mm\n",
      "\n",
      "Comprobación NO válida\n",
      "\n",
      "--> Opción 5 :\n",
      "\n",
      "Chw= 110\n",
      "D= 400 mm\n",
      "\n",
      "Comprobación NO válida\n",
      "\n",
      "--> Opción 6 :\n",
      "\n",
      "Chw= 100\n",
      "D= 400 mm\n",
      "\n",
      "Comprobación NO válida\n",
      "\n",
      "--> Opción 7 :\n",
      "\n",
      "Chw= 80\n",
      "D= 450 mm\n",
      "\n",
      "Comprobación NO válida\n",
      "\n",
      "\n",
      "OPCIÓN VÁLIDA:\n",
      "\n",
      "D= 350 mm\n",
      "\n"
     ]
    }
   ],
   "source": [
    "#Datos cuadro nº25\n",
    "\n",
    "diametros= [50, 60, 70, 80, 100, 125, 150, 175, 200, 250, 300, 350, 400, 450, 500, 600, 700, 800, 1000]\n",
    "C_HW= [150, 140, 130, 120, 110, 100, 80]\n",
    "\n",
    "print(\"Opciones posibles:\" + '\\n')\n",
    "i=1\n",
    "for coeficiente in C_HW:\n",
    "    for diametro in diametros:\n",
    "        J_1= (1.2117*(10**10))/((coeficiente**(1.852))*((diametro)**(4.87)))\n",
    "        if J_1 < J_1_max:\n",
    "            print(\"--> Opción\", i, \":\" + '\\n')\n",
    "            i=i+1\n",
    "            print(\"Chw=\", coeficiente)\n",
    "            print(\"D=\", diametro,\"mm\"+'\\n')\n",
    "            \n",
    "            #Cálculo de la rugosidad relativa\n",
    "            \n",
    "            rugosidad_relativa= rugosidad.result/(diametro*0.1)\n",
    "            \n",
    "            #Cálculo del coeficiente de Hazen-Williams CHW\n",
    "\n",
    "            if rugosidad_relativa <= 1.5*10**(-5):\n",
    "                C_hm=150\n",
    "            elif 1.5*10**(-5) < rugosidad_relativa <= 2*10**(-4):\n",
    "                C_hm=140\n",
    "            elif 2*10**(-4) < rugosidad_relativa <= 1*10**(-3):\n",
    "                C_hm=130\n",
    "            elif 1*10**(-3) < rugosidad_relativa <= 4*10**(-3):\n",
    "                C_hm=120\n",
    "            elif 4*10**(-3) < rugosidad_relativa <= 1.5*10**(-2):\n",
    "                C_hm=110\n",
    "            elif rugosidad_relativa > 1.5*10**(-2):\n",
    "                C_hm=100\n",
    "                \n",
    "            ##Se debe comprobar si el diámetro es válido. Si no es válido habría que elegir el siguiente diámetro comercial.\n",
    "            if coeficiente == C_hm:\n",
    "                print(\"Comprobación válida\" + '\\n')\n",
    "                J_1= (1.2117*(10**10))/((coeficiente**(1.852))*((diametro)**(4.87)))\n",
    "                print(\"Se obtiene un coeficiente J1 de\", J_1, \"mca/m(l/s)^1.852\"+ '\\n')\n",
    "                D_1=diametro\n",
    "            else:\n",
    "                print(\"Comprobación NO válida\" + '\\n')\n",
    "            break\n",
    "            \n",
    "print()\n",
    "print(\"OPCIÓN VÁLIDA:\")\n",
    "print()\n",
    "print(\"D=\", D_1,\"mm\"+'\\n')"
   ]
  },
  {
   "cell_type": "code",
   "execution_count": 20,
   "metadata": {},
   "outputs": [
    {
     "name": "stdout",
     "output_type": "stream",
     "text": [
      "Se obtiene un diámetro de la tubería 1 de 350 mm\n"
     ]
    }
   ],
   "source": [
    "print(\"Se obtiene un diámetro de la tubería 1 de\", D_1, \"mm\")"
   ]
  },
  {
   "cell_type": "code",
   "execution_count": 21,
   "metadata": {},
   "outputs": [
    {
     "name": "stdout",
     "output_type": "stream",
     "text": [
      "RESULTADO: 350 mm\n"
     ]
    }
   ],
   "source": [
    "print(\"RESULTADO:\", D_1, \"mm\")"
   ]
  },
  {
   "cell_type": "code",
   "execution_count": null,
   "metadata": {},
   "outputs": [],
   "source": []
  }
 ],
 "metadata": {
  "kernelspec": {
   "display_name": "Python 3",
   "language": "python",
   "name": "python3"
  },
  "language_info": {
   "codemirror_mode": {
    "name": "ipython",
    "version": 3
   },
   "file_extension": ".py",
   "mimetype": "text/x-python",
   "name": "python",
   "nbconvert_exporter": "python",
   "pygments_lexer": "ipython3",
   "version": "3.8.3"
  }
 },
 "nbformat": 4,
 "nbformat_minor": 4
}
